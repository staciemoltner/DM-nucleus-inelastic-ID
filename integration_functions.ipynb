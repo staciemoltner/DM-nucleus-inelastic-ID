{
 "cells": [
  {
   "cell_type": "code",
   "execution_count": 1,
   "id": "7e7c0bf1-fcc7-4b3b-8d25-cf92d04f8322",
   "metadata": {},
   "outputs": [],
   "source": [
    "import os, sys\n",
    "import numpy as np\n",
    "import pandas as pd\n",
    "# use float_precision='round_trip' in pd.read_csv to make sure you're reading the actual number in the csv, without any pandas rounding\n",
    "import scipy.integrate\n",
    "from scipy.integrate import cumtrapz\n",
    "from scipy.integrate import dblquad\n",
    "from pathlib import Path\n",
    "from glob import glob\n",
    "import matplotlib\n",
    "import matplotlib.pyplot as plt\n",
    "from scipy.interpolate import interp1d\n",
    "import bisect\n",
    "from scipy.optimize import curve_fit\n"
   ]
  },
  {
   "cell_type": "code",
   "execution_count": 2,
   "id": "f03c6865-f9a0-422d-b0fa-819f522ad3b2",
   "metadata": {},
   "outputs": [],
   "source": [
    "path = 'data/'\n",
    "\n",
    "# ################ constants & data import ################\n",
    "\n",
    "# constants\n",
    "g_A = 1.27 # [unitless] axial form factor\n",
    "################\n",
    "R_odot = 8.5 # [kpc] Sun's distance from centre of MW, from Clemens 1985\n",
    "rho_s = 0.51 # [GeV/cm^3] DM radial scale for MW NFW profile; https://arxiv.org/abs/1906.08419\n",
    "r_s = 8.1 # [kpc] DM radial scale for MW NFW profile; https://arxiv.org/abs/1906.08419; also used as distance scale for creating unitless quantities\n",
    "\n",
    "R_max = 50.0 # [kpc]\n",
    "################\n",
    "energyScale = 10 # [MeV] energy scale for creating unitless quantities\n",
    "\n",
    "# importing C12 and O16 data: excitation energies [MeV] and GT strengths [unitless]\n",
    "C12_data = 'C12_dEs_GTs.txt'\n",
    "O16_data = 'O16_dEs_GTs.txt'\n",
    "C12df = pd.read_csv(C12_data, sep='\\t', names=['dE [MeV]', 'GT'], skiprows=1, float_precision='round_trip')\n",
    "O16df = pd.read_csv(O16_data, sep='\\t', names=['dE [MeV]', 'GT'], skiprows=1, float_precision='round_trip')\n",
    "\n",
    "# nuclear info dictionary\n",
    "nuc_dict = {'C12': {'mass [MeV]': 11274.78, 'mass [unitless]': 11274.78/energyScale, 'spin': 0.0, 'dEs [MeV]': C12df['dE [MeV]'], 'GTs': C12df['GT']}, \\\n",
    "            'O16': {'mass [MeV]': 15033.04, 'mass [unitless]': 15033.04/energyScale, 'spin': 0.0, 'dEs [MeV]': O16df['dE [MeV]'], 'GTs': O16df['GT']}}\n",
    "# 'He4': {'mass_MeV': 3758.26, 'mass [unitless]': 3758.26/energyScale, 'spin': 0.0}\n",
    "# 'N14': {'mass_MeV': 13153.91, 'mass [unitless]': 13153.91/energyScale, 'spin': 0.0}\n",
    "\n",
    "max_dict = {'C12': 33, 'O16': 38}\n"
   ]
  },
  {
   "cell_type": "markdown",
   "id": "0eda7cb1-e78a-4a52-a7c8-ab5f86d94b9b",
   "metadata": {},
   "source": [
    "# integrating over angular variables"
   ]
  },
  {
   "cell_type": "code",
   "execution_count": 3,
   "id": "070b8a80-89ed-4aea-96ab-4502d616a37a",
   "metadata": {},
   "outputs": [],
   "source": [
    "def integrate_over_b(m_chi, nucleus, dE, l):\n",
    "    \"\"\"\n",
    "    returns: [cm^-2 s^-1 MeV^-1 rad^-1] differential flux dPhi/dEdl integrated over galactic latitude b\n",
    "    ****************\n",
    "    \n",
    "    ****************\n",
    "    \"\"\"\n",
    "    filename = path + '{}/dE_{}MeV/m_chi_{}MeV/l_{}deg.txt'.format(nucleus, dE, m_chi, l)\n",
    "\n",
    "    # import differential flux data:\n",
    "    diff_flux_data = pd.read_csv(filename, sep='\\t', names = ['b [deg]', 'Differential flux [cm^-2 s^-1 MeV^-1 sr^-1]'], \\\n",
    "                                 comment = '#', float_precision='round_trip')\n",
    "    \n",
    "    diff_flux = diff_flux_data['Differential flux [cm^-2 s^-1 MeV^-1 sr^-1]'] # [cm^-2 s^-1 MeV^-1 sr^-1]\n",
    "    bees = diff_flux_data['b [deg]'] # [deg], from -5.0 to 5.0\n",
    "    # return bees\n",
    "\n",
    "    # integrate over degrees using array of b's from -5.0 to 5.0:\n",
    "    # test = np.linspace(-90,90,181)\n",
    "    # integral = cumtrapz(np.sin(test * np.pi/180 + np.pi/2), test, initial=0) # testing to make sure output is as expected\n",
    "    integral = cumtrapz(np.sin(bees * np.pi/180 + np.pi/2) * diff_flux, bees, initial=0) # [deg] * [cm^-2 s^-1 MeV^-1 sr^-1]\n",
    "    # shift b by + np.pi/2 so that it has the proper azimuthal range from 0 to 180, since in GALPROP b goes from -89.5 to 89.5\n",
    "    return integral[-1] * np.pi/180 # [cm^-2 s^-1 MeV^-1 rad^-1]; multiplied by np.pi/180 to get [deg] -> [rad]\n",
    "\n",
    "# integrate_over_b(9.842704376866553, 'C12', 9.845321000000006, 330.0)\n",
    "# integrate_over_b(25.657069658718825, 'O16', nuc_dict['O16']['dEs [MeV]'][29], 330.0)\n"
   ]
  },
  {
   "cell_type": "code",
   "execution_count": 4,
   "id": "e319e30e-8838-42f2-b0dd-c45ce81a27e3",
   "metadata": {},
   "outputs": [],
   "source": [
    "def integrate_over_l(g_chi, m_chi, nucleus, m_n, J_n, dE, GT, \\\n",
    "                     b_min, b_max, delta_b, l_min1, l_max1, l_min2, l_max2, delta_l, \\\n",
    "                     overwrite_b_integral_data):\n",
    "    \"\"\"\n",
    "    calculates differential flux dPhi/dE integrated over galactic longitude l in two integrals:\n",
    "    1. from l_min1 to l_max1 in steps of delta_l\n",
    "    2. from l_min2 to l_max2 in steps of delta_l\n",
    "    also writes to file the differential flux d^2Phi/dEdl integrated over galactic latitude b for each value of l\n",
    "    ****************\n",
    "    returns: ([cm^-2 s^-1 MeV^-1], [cm^-2 s^-1 MeV^-1]) \n",
    "             flux integrated over galactic latitude b, and over two regions of \n",
    "             galactic longitude l from [l_min1, l_max1] and [l_min2, l_max2]\n",
    "    ****************\n",
    "    \n",
    "    \"\"\"\n",
    "    bInt = []\n",
    "\n",
    "    def f(l): # l: [deg]\n",
    "        integrand = integrate_over_b(m_chi, nucleus, dE, l) # [cm^-2 s^-1 MeV^-1 rad^-1]\n",
    "        bInt.append(integrand) # [cm^-2 s^-1 MeV^-1 rad^-1]\n",
    "        return integrand\n",
    "\n",
    "    # integrated over degrees:\n",
    "    ells1 = np.arange(l_min1, l_max1 + delta_l, delta_l)\n",
    "    g1 = list(map(lambda ell1: f(ell1), ells1))\n",
    "    integral1 = cumtrapz(g1, ells1, initial=0) # [cm^-2 s^-1 MeV^-1 rad^-1] * [deg]\n",
    "\n",
    "    ells2 = np.arange(l_min2, l_max2 + delta_l, delta_l)\n",
    "    g2 = list(map(lambda ell2: f(ell2), ells2))\n",
    "    integral2 = cumtrapz(g2, ells2, initial=0) # [cm^-2 s^-1 MeV^-1 rad^-1] * [deg]\n",
    "\n",
    "    #### write differential flux (integrated over b) to file for each value of l ####\n",
    "    filename = path + '{}/dE_{}MeV/m_chi_{}MeV/m_chi_{}MeV_diff_flux_integrated_over_b.txt'.format(nucleus, dE, m_chi, m_chi)\n",
    "    if not overwrite_b_integral_data:\n",
    "        if os.path.isfile(filename):\n",
    "            # print(\"    **** b integral data has already been written for dE = {} MeV, m_chi = {} MeV. File will not be overwritten.\".format(dE, m_chi))\n",
    "            return (integral1[-1] * np.pi/180, integral2[-1] * np.pi/180) # ([cm^-2 s^-1 MeV^-1 rad^-1] * [deg] * [rad/deg], [cm^-2 s^-1 MeV^-1 rad^-1] * [deg] * [rad/deg])\n",
    "\n",
    "    metadata = \"# Differential flux integrated over galactic latitude b.\\n\\\n",
    "# m_chi [MeV] = {}\\n\\\n",
    "# nucleus = {}\\n\\\n",
    "# m_n [MeV] = {}\\n\\\n",
    "# J_n = {}\\n\\\n",
    "# dE [MeV] = {}\\n\\\n",
    "# GT = {}\\n\\\n",
    "# \\n\\\n",
    "# g_chi [MeV^-1] = {}\\n\\\n",
    "# g_A = {}\\n\\\n",
    "# \\n\\\n",
    "# galactic latitude bounds [deg]: [{}, {}]\\n\\\n",
    "# galactic latitude bins [deg]: {}\\n\\\n",
    "# \\n\\\n",
    "# R_odot [kpc] = {}\\n\\\n",
    "# R_max [kpc] = {}\\n\\\n",
    "# rho_s [GeV cm^-3] = {}\\n\\\n",
    "# r_s [kpc] = {}\\n#\\n\".format(m_chi, nucleus, m_n, J_n, dE, GT, g_chi, g_A, b_min, b_max, delta_b, R_odot, R_max, rho_s, r_s)\n",
    "    # print(metadata)\n",
    "    with open(filename, 'w') as fp:\n",
    "        fp.write(metadata)\n",
    "    dat = {'# l [deg]': [*ells1, *ells2], 'Differential flux integrated over b [cm^-2 s^-1 MeV^-1 rad^-1]': bInt}\n",
    "    df = pd.DataFrame(dat)\n",
    "    df.to_csv(filename, sep='\\t', index=False, mode='a')\n",
    "    ################\n",
    "\n",
    "    return (integral1[-1] * np.pi/180, integral2[-1] * np.pi/180) \n",
    "    # ([cm^-2 s^-1 MeV^-1 rad^-1] * [deg] * [rad/deg], [cm^-2 s^-1 MeV^-1 rad^-1] * [deg] * [rad/deg])\n",
    "    # = ([cm^-2 s^-1 MeV^-1], [cm^-2 s^-1 MeV^-1])\n",
    "\n",
    "# integrate_over_l(g_chi = 1, m_chi = 9.842704376866553, \\\n",
    "#                  nucleus = 'C12', m_n = nuc_dict['C12']['mass [MeV]'], J_n = nuc_dict['C12']['spin'], \\\n",
    "#                  dE = nuc_dict['C12']['dEs [MeV]'][0], GT = nuc_dict['C12']['GTs'][0], \\\n",
    "#                  b_min = -5, b_max = 5, delta_b = 0.25, \\\n",
    "#                  l_min1 = 330, l_max1 = 359.0, l_min2 = 0.5, l_max2 = 30.0, delta_l = 0.25, \\\n",
    "#                  overwrite_b_integral_data = True)\n",
    "# integrate_over_l(g_chi = 1, m_chi = 25.657069658718825, \\\n",
    "#                          nucleus = 'O16', m_n = nuc_dict['O16']['mass [MeV]'], J_n = nuc_dict['O16']['spin'], \\\n",
    "#                          dE = nuc_dict['O16']['dEs [MeV]'][29], GT = nuc_dict['O16']['GTs'][29], \\\n",
    "#                          b_min = -5, b_max = 5, delta_b = 0.25, \\\n",
    "#                          l_min1 = 330, l_max1 = 359.0, l_min2 = 0.5, l_max2 = 30.0, delta_l = 0.25, \\\n",
    "#                          overwrite_b_integral_data = False)\n",
    "# integrate_over_l(g_chi = 1, m_chi = 26.415772437998495, \\\n",
    "#                  nucleus = 'C12', m_n = nuc_dict['C12']['mass [MeV]'], J_n = nuc_dict['C12']['spin'], \\\n",
    "#                  dE = 26.416083000000008, GT = nuc_dict['C12']['GTs'][0], \\\n",
    "#                  b_min = -5, b_max = 5, delta_b = 0.25, \\\n",
    "#                  l_min1 = 330, l_max1 = 359.0, l_min2 = 0.5, l_max2 = 30.0, delta_l = 0.25, \\\n",
    "#                  overwrite_b_integral_data = False)"
   ]
  },
  {
   "cell_type": "code",
   "execution_count": 5,
   "id": "67f5f212-2baa-4c30-86c0-8de8ad52dd23",
   "metadata": {},
   "outputs": [],
   "source": [
    "def average_over_solid_angle(g_chi, m_chi, nucleus, m_n, J_n, dE, GT, \\\n",
    "                             b_min, b_max, delta_b, l_min1, l_max1, l_min2, l_max2, delta_l, \\\n",
    "                             integratedSolidAngle, \\\n",
    "                             overwrite_b_integral_data, overwrite_l_integral_data):\n",
    "    \"\"\"\n",
    "    calculates and writes to file the differential flux integrated and averaged over the specified solid angle range\n",
    "    ****************\n",
    "    returns:    averaged flux [cm^-2 s^-1 MeV^-1 sr^-1]\n",
    "                integrated flux [cm^-2 s^-1 MeV^-1]\n",
    "                integrated flux from first l integral (l_min1 to l_max1) [cm^-2 s^-1 MeV^-1]\n",
    "                integrated flux from second l integral (l_min2 to l_max2) [cm^-2 s^-1 MeV^-1]\n",
    "    \"\"\"\n",
    "    \n",
    "    filename = path + '{}/dE_{}MeV/m_chi_{}MeV/m_chi_{}MeV_diff_flux_integrated_and_averaged_over_solid_angle.txt'.format(nucleus, dE, m_chi, m_chi)\n",
    "    # if not overwrite_l_integral_data:\n",
    "    #     if os.path.isfile(filename):\n",
    "    #         print(\"    **** l integral data has already been written for dE = {} MeV, m_chi = {} MeV. File will not be overwritten.\".format(dE, m_chi))\n",
    "    #         return\n",
    "\n",
    "    # print(\"    running m_chi = {} MeV\".format(m_chi))\n",
    "    integratedFlux1, integratedFlux2 = [], []\n",
    "    integratedFlux = []    \n",
    "    intFlux1, intFlux2 = integrate_over_l(g_chi, m_chi, nucleus, m_n, J_n, dE, GT, b_min, b_max, delta_b, l_min1, l_max1, l_min2, l_max2, delta_l, overwrite_b_integral_data) # ([cm^-2 s^-1 MeV^-1], [cm^-2 s^-1 MeV^-1])\n",
    "    integratedFlux = intFlux1 + intFlux2 # [cm^-2 s^-1 MeV^-1]\n",
    "    \n",
    "    #### calculate solid-angle-averaged-flux ####\n",
    "    averagedFlux = integratedFlux / integratedSolidAngle # [cm^-2 s^-1 MeV^-1 sr^-1]\n",
    "    ################\n",
    "\n",
    "    #### write solid-angle-averaged flux to file ####\n",
    "    # Path(path + \"{}/dE_{}MeV/m_chi_{}MeV\".format(nucleus, dE, m_chi)).mkdir(parents=True, exist_ok=True)\n",
    "    # filename = path + '{}/dE_{}MeV/m_chi_{}MeV/m_chi_{}MeV_l_integral_data.txt'.format(nucleus, dE, m_chi, m_chi)\n",
    "    metadata = \"# Differential flux, integrated over galactic latitude b and galactic longitude l and averaged over solid angle (SA). \\n\\\n",
    "# m_chi [MeV] = {}\\n\\\n",
    "# nucleus = {}\\n\\\n",
    "# m_n [MeV] = {}\\n\\\n",
    "# J_n = {}\\n\\\n",
    "# dE [MeV] = {}\\n\\\n",
    "# GT = {}\\n\\\n",
    "# \\n\\\n",
    "# g_chi [MeV^-1] = {}\\n\\\n",
    "# g_A = {}\\n\\\n",
    "# \\n\\\n",
    "# galactic latitude bounds [deg]: [{}, {}]\\n\\\n",
    "# galactic latitude bins [deg]: {}\\n\\\n",
    "# galactic longitude bounds [deg]: [{}, {}], [{}, {}]\\n\\\n",
    "# galactic longitude bins [deg]: {}\\n\\\n",
    "# solid angle integrated over the above bounds [sr]: {}\\n\\\n",
    "# \\n\\\n",
    "# R_odot [kpc] = {}\\n\\\n",
    "# R_max [kpc] = {}\\n\\\n",
    "# rho_s [GeV cm^-3] = {}\\n\\\n",
    "# r_s [kpc] = {}\\n#\\n\".format(m_chi, nucleus, m_n, J_n, dE, GT, g_chi, g_A, \\\n",
    "                              b_min, b_max, delta_b, l_min1, l_max1, l_min2, l_max2, delta_l, integratedSolidAngle, \\\n",
    "                              R_odot, R_max, rho_s, r_s)\n",
    "    # print(metadata)\n",
    "    with open(filename, 'w') as fp:\n",
    "        fp.write(metadata)\n",
    "    dat = {'# SA integrated & averaged diff. flux [cm^-2 s^-1 MeV^-1 sr^-1]': [averagedFlux], 'SA integrated diff. flux [cm^-2 s^-1 MeV^-1]': [integratedFlux], \\\n",
    "           '[{}, {}] deg integral [cm^-2 s^-1 MeV^-1]'.format(l_min1, l_max1): [intFlux1], '[{}, {}] deg integral [cm^-2 s^-1 MeV^-1]'.format(l_min2, l_max2): [intFlux2]}\n",
    "    df = pd.DataFrame(dat)\n",
    "    df.to_csv(filename, sep='\\t', index=False, mode='a')\n",
    "    \n",
    "    ################\n",
    "    \n",
    "    return (averagedFlux, integratedFlux, intFlux1, intFlux2)\n",
    "\n",
    "# solid_angle_averaged_from_file(9.845281165618374, 'C12', 9.845321000000006)\n",
    "# average_over_solid_angle(g_chi = 1, m_chi = 9.842704376866553, \\\n",
    "#                          nucleus = 'C12', m_n = nuc_dict['C12']['mass [MeV]'], J_n = nuc_dict['C12']['spin'], \\\n",
    "#                          dE = nuc_dict['C12']['dEs [MeV]'][0], GT = nuc_dict['C12']['GTs'][0], \\\n",
    "#                          b_min = -5, b_max = 5, delta_b = 0.25, \\\n",
    "#                          l_min1 = 330, l_max1 = 359.0, l_min2 = 0.5, l_max2 = 30.0, delta_l = 0.25, \\\n",
    "#                          integratedSolidAngle = 0.1779750967372331, \\\n",
    "#                          overwrite_b_integral_data = False, overwrite_l_integral_data = True)\n",
    "# average_over_solid_angle(g_chi = 1, m_chi = 25.657069658718825, \\\n",
    "#                          nucleus = 'O16', m_n = nuc_dict['O16']['mass [MeV]'], J_n = nuc_dict['O16']['spin'], \\\n",
    "#                          dE = nuc_dict['O16']['dEs [MeV]'][29], GT = nuc_dict['O16']['GTs'][29], \\\n",
    "#                          b_min = -5, b_max = 5, delta_b = 0.25, \\\n",
    "#                          l_min1 = 330, l_max1 = 359.0, l_min2 = 0.5, l_max2 = 30.0, delta_l = 0.25, \\\n",
    "#                          integratedSolidAngle = 0.1779750967372331, \\\n",
    "#                          overwrite_b_integral_data = False, overwrite_l_integral_data = False)\n"
   ]
  },
  {
   "cell_type": "code",
   "execution_count": 6,
   "id": "477072c6-509d-4a0e-9cd4-9829cd878381",
   "metadata": {},
   "outputs": [],
   "source": [
    "def write_integrated_data(nucleus, overwrite_b_integral_data, overwrite_l_integral_data):\n",
    "    \"\"\"\n",
    "    writes integrated flux data to files:\n",
    "        - differential flux integrated over galactic latitude b\n",
    "        - solid-angle-averaged differential flux (i.e. differential flux integrated over galactic latitude b, galactic longitude l)\n",
    "    \"\"\"\n",
    "    # bounds taken to match https://arxiv.org/abs/astro-ph/9811211\n",
    "    l_min1, l_max1 = 330, 359 # [deg], [deg], [deg]; bounds for first galactic longitude integral\n",
    "    l_min2, l_max2 = 0.5, 30 # [deg], [deg]; bounds for second galactic longitude integral\n",
    "    delta_l = 0.25 # [deg] binning for galactic longitude integrals\n",
    "    b_min, b_max, delta_b = -5, 5, 0.25 # [deg], [deg], [deg]; bounds and binning for galactic latitude integral\n",
    "    \n",
    "    g_chi = 1 # [MeV^-1]\n",
    "    m_n, J_n = nuc_dict[nucleus]['mass [MeV]'], nuc_dict[nucleus]['spin']\n",
    "\n",
    "    #### integrate solid angle, for calculating solid-angle-averaged flux ####\n",
    "    def f(b, l):\n",
    "        integrand = np.sin(b * np.pi/180 + np.pi/2)\n",
    "        return integrand # [unitless]\n",
    "        \n",
    "    integratedSolidAngle1 = dblquad(f, l_min1, l_max1, b_min, b_max)[0] * np.pi/180 * np.pi/180 # [sr]\n",
    "    integratedSolidAngle2 = dblquad(f, l_min2, l_max2, b_min, b_max)[0] * np.pi/180 * np.pi/180 # [sr]\n",
    "    integratedSolidAngle = integratedSolidAngle1 + integratedSolidAngle2 # [sr]\n",
    "    print(\"integrated solid angle (flux denominator): {} sr\".format(integratedSolidAngle))\n",
    "    ################\n",
    "    \n",
    "    problem_dEs = []\n",
    "    for dE in nuc_dict[nucleus]['dEs [MeV]'][0:max_dict[nucleus]]:\n",
    "        try:\n",
    "            i = list(nuc_dict[nucleus]['dEs [MeV]']).index(dE)\n",
    "            GT = nuc_dict[nucleus]['GTs'][i] # [unitless]\n",
    "            print('i = {}:    dE = {} MeV, GT = {}'.format(i, dE, GT))\n",
    "\n",
    "            if not os.path.isdir(path + '{}/dE_{}MeV'.format(nucleus, dE)):\n",
    "                print(path + '{}/dE_{}MeV'.format(nucleus, dE))\n",
    "                print(\"path does not exist!\")\n",
    "                return\n",
    "\n",
    "            for m_chi_path in sorted(glob(path + '{}/dE_{}MeV/m_chi_*'.format(nucleus, dE))):\n",
    "                # print(m_chi_path)\n",
    "                m_chi_dir = m_chi_path.split('/')[-1]\n",
    "                m_chi = m_chi_dir.split('_')[2][:-3]\n",
    "                # print(m_chi)\n",
    "                average_over_solid_angle(g_chi, m_chi, nucleus, m_n, J_n, dE, GT, \\\n",
    "                                         b_min, b_max, delta_b, l_min1, l_max1, l_min2, l_max2, delta_l, \\\n",
    "                                         integratedSolidAngle, \\\n",
    "                                         overwrite_b_integral_data, overwrite_l_integral_data)\n",
    "        except: \n",
    "            problem_dEs.append(dE)\n",
    "        \n",
    "    print(\"done!\")\n",
    "    return problem_dEs\n",
    "\n",
    "# write_integrated_data('C12', True, True)\n",
    "# write_integrated_data('O16', True, True)\n",
    "# /Users/arm5765/Desktop/git/DM-nucleus-inelastic-ID/data/C12/dE_26.416083000000004MeV"
   ]
  },
  {
   "cell_type": "markdown",
   "id": "b01cf2c8-448e-464b-943b-63ce90821967",
   "metadata": {},
   "source": [
    "# reading in the solid angle averaged flux"
   ]
  },
  {
   "cell_type": "code",
   "execution_count": 7,
   "id": "942af52f-5fea-4c0b-a65a-9a6f4117fb50",
   "metadata": {},
   "outputs": [
    {
     "data": {
      "text/plain": [
       "6630884347.844192"
      ]
     },
     "execution_count": 7,
     "metadata": {},
     "output_type": "execute_result"
    }
   ],
   "source": [
    "def read_solid_angle_averaged_flux(m_chi, nucleus, dE):\n",
    "    \"\"\"\n",
    "    returns: [cm^-2 s^-1 MeV^-1 sr^-1] solid-angle-averaged flux read from file\n",
    "    ****************\n",
    "    \"\"\"\n",
    "    # print(file)\n",
    "    SA_avgd_flux_data = pd.read_csv(path + '{}/dE_{}MeV/m_chi_{}MeV/m_chi_{}MeV_diff_flux_integrated_and_averaged_over_solid_angle.txt'.format(nucleus, dE, m_chi, m_chi), \\\n",
    "                                    sep='\\t', \\\n",
    "                                    names=['SA integrated & averaged diff. flux [cm^-2 s^-1 MeV^-1 sr^-1]', 'SA integrated diff. flux [cm^-2 s^-1 MeV^-1]', \\\n",
    "                                           '[330, 359] deg integral [cm^-2 s^-1 MeV^-1]', '[0.5, 30] deg integral [cm^-2 s^-1 MeV^-1]'], \\\n",
    "                                    comment = '#', float_precision='round_trip') \n",
    "    SA_avgd_flux = SA_avgd_flux_data['SA integrated & averaged diff. flux [cm^-2 s^-1 MeV^-1 sr^-1]']\n",
    "    return SA_avgd_flux.values[0] # [cm^-2 s^-1 MeV^-1 sr^-1]\n",
    "\n",
    "read_solid_angle_averaged_flux(m_chi = 9.842704376866553, nucleus = 'C12', dE = nuc_dict['C12']['dEs [MeV]'][0])\n"
   ]
  },
  {
   "cell_type": "markdown",
   "id": "73f5de2b-096f-4f72-9bf6-02b7c26db670",
   "metadata": {},
   "source": [
    "# Gaussian convolution"
   ]
  },
  {
   "cell_type": "code",
   "execution_count": 10,
   "id": "db210484-c83a-4327-9a0a-4867883c579c",
   "metadata": {},
   "outputs": [],
   "source": [
    "def R(dE, E, epsilon):\n",
    "    \"\"\"\n",
    "    returns: [MeV^-1] gaussian convolution function with mean dE and variance (epsilon * dE)\n",
    "    ****************\n",
    "    dE: [MeV] nuclear deexcitation energy\n",
    "    E: [MeV] observed photon energy\n",
    "    epsilon: [unitless; percentage as a fraction of 1, i.e. epsilon = 0.05 for 5%]\n",
    "    \"\"\"\n",
    "    expTerm = np.exp(-(E - dE)**2 / (2 * epsilon**2 * dE**2)) # [unitless]\n",
    "    return (np.sqrt(2 * np.pi) * epsilon * dE)**(-1) * expTerm # [MeV^-1]"
   ]
  },
  {
   "cell_type": "markdown",
   "id": "05e1c72d-fd0f-42d9-8356-3d7b8d3f9103",
   "metadata": {},
   "source": [
    "## CONVOLUTION:\n",
    "\n",
    "Write differential flux as:\n",
    "$$\\frac{d^2\\Phi}{dE_\\gamma d\\Omega} \\equiv F \\times \\delta(\\Delta E - E_\\gamma) $$\n",
    "where $F$ is the numerical factor calculated by TACC; including the delta function, the units are: cm$^{-2}$ s$^{-1}$ MeV$^{-1}$ sr$^{-1}$\n",
    "\n",
    "Units of $F$: cm$^{-2}$ s$^{-1}$ sr$^{-1}$\n",
    "\n",
    "Multiply by Gaussian $\\rightarrow$ units: cm$^{-2}$ s$^{-1}$ MeV$^{-2}$ sr$^{-1}$.\n",
    "\n",
    "Convolve by integrating $\\rightarrow$ units: cm$^{-2}$ s$^{-1}$ MeV$^{-1}$ sr$^{-1}$:\n",
    "$$ \\begin{align} \n",
    "\\int dE_\\gamma~\\frac{d^2\\Phi}{dE_\\gamma d\\Omega} R_\\epsilon(E - E_\\gamma) &= F \\int dE_\\gamma~\\delta(\\Delta E - E_\\gamma) ~R_\\epsilon(E - E_\\gamma) \\\\\n",
    "&= F \\times R_\\epsilon(E - E_\\gamma) \\Bigg|_{E_\\gamma \\rightarrow \\Delta E} \\\\\n",
    "&= F \\times \\frac{1}{\\sqrt{2\\pi \\epsilon^2 (\\Delta E)^2}} \\exp \\left[ -\\frac{(E - \\Delta E)^2}{2 \\epsilon^2 (\\Delta E)^2} \\right]\n",
    "\\end{align}$$"
   ]
  },
  {
   "cell_type": "markdown",
   "id": "0bb2227d-291d-4ed9-b541-e0176e76f21e",
   "metadata": {},
   "source": [
    "## Multiply by $E^2$ and integrate over observed energy $E$:\n",
    "\n",
    "$$ F \\times \\int dE ~ E^2 \\times \\frac{1}{\\sqrt{2\\pi \\epsilon^2 (\\Delta E)^2}} \\exp \\left[ -\\frac{(E - \\Delta E)^2}{2 \\epsilon^2 (\\Delta E)^2} \\right] $$\n",
    "\n",
    "Units before integrating: cm$^{-2}$ s$^{-1}$ MeV$^{-1}$ sr$^{-1}$\n",
    "\n",
    "Units after integrating: MeV MeV$^2$ cm$^{-2}$ s$^{-1}$ MeV$^{-1}$ sr$^{-1} = $ cm$^{-2}$ s$^{-1}$ MeV$^{2}$ sr$^{-1}$\n",
    "\n",
    "This integral has an analytic result."
   ]
  },
  {
   "cell_type": "code",
   "execution_count": 11,
   "id": "9fb7248d-a549-45ce-9602-a1b042ed930b",
   "metadata": {},
   "outputs": [],
   "source": [
    "def integrate_E_sq_times_gaussian(epsilon, E_gamma, E):\n",
    "    \"\"\"\n",
    "    returns: analytical result for integration of E^2 * Gaussian wrt observed energy E\n",
    "    \"\"\"\n",
    "    int_E_sq_times_gauss = 1/np.sqrt(2 * np.pi * epsilon**2 * E_gamma**2) * \\\n",
    "    (1/2) * E_gamma**2 * epsilon * (-2 * epsilon * (E_gamma + E) * np.exp(-(E - E_gamma)**2 / (2 * epsilon**2 * E_gamma**2)) \\\n",
    "                                    - np.sqrt(2*np.pi) * E_gamma * (1+epsilon**2) * scipy.special.erf((E_gamma - E)/(np.sqrt(2) * E_gamma * epsilon)))\n",
    "    return int_E_sq_times_gauss # [MeV^2]\n",
    "\n",
    "# integrate_E_sq_times_gaussian(0.07, 10, 12) # checked with wolframalpha and mathematica; see gaussian_integration.nb\n"
   ]
  },
  {
   "cell_type": "markdown",
   "id": "ebe94168-16c9-4d23-84ab-cf06df8778ea",
   "metadata": {},
   "source": [
    "For deriving current constraints from existing COMPTEL data, we want to use COMPTEL binning: 3-10 MeV and 10-30 MeV:\n",
    "\n",
    "3-10 MeV:\n",
    "$$ F \\times \\int_3^{10} dE ~ E^2 \\times \\frac{1}{\\sqrt{2\\pi \\epsilon^2 (\\Delta E)^2}} \\exp \\left[ -\\frac{(E - \\Delta E)^2}{2 \\epsilon^2 (\\Delta E)^2} \\right] $$\n",
    "\n",
    "10-30 MeV:\n",
    "$$ F \\times \\int_{10}^{30} dE ~ E^2 \\times \\frac{1}{\\sqrt{2\\pi \\epsilon^2 (\\Delta E)^2}} \\exp \\left[ -\\frac{(E - \\Delta E)^2}{2 \\epsilon^2 (\\Delta E)^2} \\right] $$\n",
    "\n",
    "Units after integrating: cm$^{-2}$ s$^{-1}$ MeV$^{2}$ sr$^{-1}$"
   ]
  },
  {
   "cell_type": "code",
   "execution_count": 12,
   "id": "d9525a8c-1a34-44c6-a1b0-fb4e810900da",
   "metadata": {},
   "outputs": [
    {
     "data": {
      "text/plain": [
       "603959562643.522"
      ]
     },
     "execution_count": 12,
     "metadata": {},
     "output_type": "execute_result"
    }
   ],
   "source": [
    "def integrate_convolved_data_comptel_bins(m_chi, nucleus, dE, epsilon):\n",
    "    \"\"\"\n",
    "    USED FOR CURRENT CONSTRAINTS FROM COMPTEL DATA\n",
    "    calculates: theoretical SA averaged flux * analytically integrated (E^2 times convolution gaussian) over relevant energy bin: [3,10] or [10,30] MeV\n",
    "    returns: area under E^2 times intensity curve\n",
    "    \"\"\"\n",
    "    SA_avgd_flux = read_solid_angle_averaged_flux(m_chi, nucleus, dE) # [cm^-2 s^-1 MeV^-1 sr^-1]\n",
    "\n",
    "    # integrate over relevant COMPTEL bin:\n",
    "    # there are no energies that fall in the 1-3 MeV bin\n",
    "    if dE>3 and dE<10:\n",
    "        a = integrate_E_sq_times_gaussian(epsilon, dE, 3) # [MeV^2] * [MeV] from gaussian convolution\n",
    "        b = integrate_E_sq_times_gaussian(epsilon, dE, 10) # [MeV^2] * [MeV] from gaussian convolution\n",
    "        area = SA_avgd_flux * (b - a) # [cm^-2 s^-1 MeV^2 sr^-1]\n",
    "    elif dE>10 and dE<30:\n",
    "        a = integrate_E_sq_times_gaussian(epsilon, dE, 10) # [MeV^2] * [MeV] from gaussian convolution\n",
    "        b = integrate_E_sq_times_gaussian(epsilon, dE, 30) # [MeV^2] * [MeV] from gaussian convolution\n",
    "        area = SA_avgd_flux * (b - a) # [cm^-2 s^-1 MeV^2 sr^-1]\n",
    "\n",
    "    return area # [cm^-2 s^-1 MeV^2 sr^-1]\n",
    "    \n",
    "integrate_convolved_data_comptel_bins(m_chi = 9.842704376866553, nucleus = 'C12', dE = nuc_dict['C12']['dEs [MeV]'][0], epsilon=0.01)\n"
   ]
  },
  {
   "cell_type": "code",
   "execution_count": 13,
   "id": "a66ee0e7-5332-41a1-b422-20852be146df",
   "metadata": {},
   "outputs": [
    {
     "data": {
      "text/plain": [
       "438800461780.06464"
      ]
     },
     "execution_count": 13,
     "metadata": {},
     "output_type": "execute_result"
    }
   ],
   "source": [
    "def integrate_convolved_data_optimized_binning(m_chi, nucleus, dE, epsilon):\n",
    "    \"\"\"\n",
    "    USED FOR FUTURE PROJECTIONS\n",
    "    returns: theoretical SA averaged flux * analytically integrated (E^2 times convolution gaussian) over energy bins E-epsilonE, E+epsilonE\n",
    "    \"\"\"\n",
    "    SA_avgd_flux = read_solid_angle_averaged_flux(m_chi, nucleus, dE) # [cm^-2 s^-1 MeV^-1 sr^-1]\n",
    "    \n",
    "    a = integrate_E_sq_times_gaussian(epsilon, dE, dE - dE*epsilon) # [MeV^2] * [MeV] from gaussian convolution\n",
    "    b = integrate_E_sq_times_gaussian(epsilon, dE, dE + dE*epsilon) # [MeV^2] * [MeV] from gaussian convolution\n",
    "    integrated_E_sq_times_intensity = SA_avgd_flux * (b-a) # [cm^-2 s^-1 MeV^2 sr^-1]\n",
    "    \n",
    "    # return [integrated_E_sq_times_intensity_1_3, integrated_E_sq_times_intensity_3_10, integrated_E_sq_times_intensity_10_30]\n",
    "    return integrated_E_sq_times_intensity # [cm^-2 s^-1 MeV^2 sr^-1]\n",
    "\n",
    "integrate_convolved_data_optimized_binning(m_chi = 9.842704376866553, nucleus = 'C12', dE = nuc_dict['C12']['dEs [MeV]'][0], epsilon = 0.01)\n"
   ]
  },
  {
   "cell_type": "code",
   "execution_count": 14,
   "id": "9fb5683f-4306-4e93-acd7-ac69ea5dfd26",
   "metadata": {},
   "outputs": [
    {
     "name": "stdout",
     "output_type": "stream",
     "text": [
      "True\n"
     ]
    }
   ],
   "source": [
    "# sanity check to make sure the binned data integral is larger than the optimized binning:\n",
    "binned = integrate_convolved_data_comptel_bins(m_chi = 9.842704376866553, nucleus = 'C12', dE = nuc_dict['C12']['dEs [MeV]'][0], epsilon=0.01)\n",
    "optimized = integrate_convolved_data_optimized_binning(m_chi = 9.842704376866553, nucleus = 'C12', dE = nuc_dict['C12']['dEs [MeV]'][0], epsilon = 0.01)\n",
    "\n",
    "print(binned/optimized > 1)\n"
   ]
  },
  {
   "cell_type": "markdown",
   "id": "a9bb8f68-cfac-4f5f-b17a-9f5c705c9345",
   "metadata": {},
   "source": [
    "# some testing functions, not used for anything else"
   ]
  },
  {
   "cell_type": "code",
   "execution_count": 15,
   "id": "de844743-29c7-4f4d-abe2-5540704edd52",
   "metadata": {},
   "outputs": [],
   "source": [
    "def write_convolution_data(nucleus, epsilon, overwrite_conv_data):\n",
    "    \"\"\"\n",
    "    THIS FUNCTION IS ONLY USED FOR TESTING\n",
    "    ****************\n",
    "    writes convolution data for N energies from (dE - epsilon*dE) to (dE + epsilon*dE)\n",
    "    this discrete data is then integrated and returned by the function:\n",
    "        integrate_discrete_convolved_data(m_chi, nucleus, dE, epsilon)\n",
    "    for comparison to the output of function:\n",
    "        integrate_convolved_data_optimized_binning(m_chi = 9.842704376866553, nucleus = 'C12', dE = nuc_dict['C12']['dEs [MeV]'][0], epsilon = 0.01)\n",
    "    \"\"\"\n",
    "    N = 51 # number of observed photon energies\n",
    "    \n",
    "    g_chi = 1 # [MeV^-1]\n",
    "    m_n, J_n = nuc_dict[nucleus]['mass [MeV]'], nuc_dict[nucleus]['spin'] # [unitless, in units of energyScale], [unitless]\n",
    "\n",
    "    l_min1, l_max1 = 330, 359 # [deg], [deg], [deg]; bounds for first galactic longitude integral\n",
    "    l_min2, l_max2 = 0.5, 30 # [deg], [deg]; bounds for second galactic longitude integral\n",
    "    delta_l = 0.25 # [deg] binning for galactic longitude integrals\n",
    "    b_min, b_max, delta_b = -5, 5, 0.25 # [deg], [deg], [deg]; bounds and binning for galactic latitude integral\n",
    "\n",
    "    #### integrate solid angle, for calculating solid-angle-averaged flux ####\n",
    "    def f(b, l):\n",
    "        integrand = np.sin(b * np.pi/180 + np.pi/2)\n",
    "        return integrand # [unitless]\n",
    "        \n",
    "    integratedSolidAngle1 = dblquad(f, l_min1, l_max1, b_min, b_max)[0] * np.pi/180 * np.pi/180 # [sr]\n",
    "    integratedSolidAngle2 = dblquad(f, l_min2, l_max2, b_min, b_max)[0] * np.pi/180 * np.pi/180 # [sr]\n",
    "    integratedSolidAngle = integratedSolidAngle1 + integratedSolidAngle2 # [sr]\n",
    "    print(\"integrated solid angle (flux denominator): {} sr\".format(integratedSolidAngle))\n",
    "    ################\n",
    "    \n",
    "    for dE in nuc_dict[nucleus]['dEs [MeV]'][0:max_dict[nucleus]]:\n",
    "        obs_photon_energies = np.linspace((dE - 1 * epsilon * dE), (dE + 1 * epsilon * dE), N)\n",
    "        i = list(nuc_dict[nucleus]['dEs [MeV]']).index(dE)\n",
    "        GT = nuc_dict[nucleus]['GTs'][i] # [unitless]\n",
    "        # print('i = {}:    dE = {} MeV, GT = {}'.format(i, dE, GT))\n",
    "        if not os.path.isdir(path + '{}/dE_{}MeV'.format(nucleus, dE)):\n",
    "            print(path + '{}/dE_{}MeV'.format(nucleus, dE))\n",
    "            print(\"path does not exist!\")\n",
    "            return\n",
    "\n",
    "        for m_chi_path in glob(path + '{}/dE_{}MeV/m_chi_*'.format(nucleus, dE)):\n",
    "            m_chi_dir = m_chi_path.split('/')[-1]\n",
    "            m_chi = m_chi_dir.split('_')[2][:-3]\n",
    "            # print(m_chi)\n",
    "            SA_avgd_flux = read_solid_angle_averaged_flux(m_chi, nucleus, dE)\n",
    "            conv = [R(dE, E, epsilon) * SA_avgd_flux for E in obs_photon_energies]\n",
    "        \n",
    "            filename = path + '{}/dE_{}MeV/m_chi_{}MeV/m_chi_{}MeV_convolved_epsilon_{}.txt'.format(nucleus, dE, m_chi, m_chi, epsilon*100)\n",
    "            if not overwrite_conv_data:\n",
    "                if os.path.isfile(filename):\n",
    "                    # print(\"    **** convolution data has already been written for dE = {} MeV, m_chi = {} MeV. File will not be overwritten.\".format(dE, m_chi))\n",
    "                    continue\n",
    "                    \n",
    "            metadata = \"# Differential flux, integrated and averaged over solid angle (SA), multiplied by Gaussian with variance sigma = epsilon * dE. \\n\\\n",
    "# m_chi [MeV] = {}\\n\\\n",
    "# nucleus = {}\\n\\\n",
    "# m_n [MeV] = {}\\n\\\n",
    "# J_n = {}\\n\\\n",
    "# dE [MeV] = {}\\n\\\n",
    "# GT = {}\\n\\\n",
    "# \\n\\\n",
    "# g_chi [MeV^-1] = {}\\n\\\n",
    "# g_A = {}\\n\\\n",
    "# \\n\\\n",
    "# galactic latitude bounds [deg]: [{}, {}]\\n\\\n",
    "# galactic latitude bins [deg]: {}\\n\\\n",
    "# galactic longitude bounds [deg]: [{}, {}], [{}, {}]\\n\\\n",
    "# galactic longitude bins [deg]: {}\\n\\\n",
    "# solid angle integrated over the above bounds [sr]: {}\\n\\\n",
    "# \\n\\\n",
    "# solid angle averaged flux [cm^-2 s^-1 MeV^-1 sr^-1]: {}\\n\\\n",
    "# \\n\\\n",
    "# R_odot [kpc] = {}\\n\\\n",
    "# R_max [kpc] = {}\\n\\\n",
    "# rho_s [GeV cm^-3] = {}\\n\\\n",
    "# r_s [kpc] = {}\\n\\\n",
    "# \\n\\\n",
    "# energy resolution epsilon: {}\\n\\\n",
    "# observed photon energy range [MeV]: [dE - 1 * epsilon * dE, dE + 1 * epsilon * dE]\\n#\\n\".format(m_chi, nucleus, m_n, J_n, dE, GT, g_chi, g_A, \\\n",
    "                                                                                                  b_min, b_max, delta_b, l_min1, l_max1, l_min2, l_max2, delta_l, \\\n",
    "                                                                                                  integratedSolidAngle, SA_avgd_flux, \\\n",
    "                                                                                                  R_odot, R_max, rho_s, r_s, epsilon)\n",
    "            # print(metadata)\n",
    "            # return\n",
    "            with open(filename, 'w') as fp:\n",
    "                fp.write(metadata)\n",
    "            dat = {'# Observed photon energy [MeV]': obs_photon_energies, 'Gaussian * SA averaged diff. flux [cm^-2 s^-1 MeV^-1 sr^-1]': conv}\n",
    "            df = pd.DataFrame(dat)\n",
    "            df.to_csv(filename, sep='\\t', index=False, mode='a')        \n",
    "            ################\n",
    "    print(\"done!\")\n",
    "\n",
    "# write_convolution_data('C12', 0.01, overwrite_conv_data = True)\n",
    "# write_convolution_data('C12', 0.02, overwrite_conv_data = True)\n",
    "# write_convolution_data('C12', 0.03, overwrite_conv_data = True)\n",
    "# write_convolution_data('C12', 0.04, overwrite_conv_data = True)\n",
    "# write_convolution_data('O16', 0.01, overwrite_conv_data = True)\n",
    "# write_convolution_data('O16', 0.02, overwrite_conv_data = True)\n",
    "# write_convolution_data('O16', 0.03, overwrite_conv_data = True)\n",
    "# write_convolution_data('O16', 0.04, overwrite_conv_data = True)\n"
   ]
  },
  {
   "cell_type": "markdown",
   "id": "f6c19008-30fd-4e62-aaa3-147ca6a5a5a2",
   "metadata": {},
   "source": [
    "## integrate discrete data"
   ]
  },
  {
   "cell_type": "code",
   "execution_count": 16,
   "id": "a71fac0f-9ddb-4758-912c-3901c1a45f8a",
   "metadata": {},
   "outputs": [
    {
     "data": {
      "text/plain": [
       "438758990971.5903"
      ]
     },
     "execution_count": 16,
     "metadata": {},
     "output_type": "execute_result"
    }
   ],
   "source": [
    "def integrate_discrete_convolved_data(m_chi, nucleus, dE, epsilon):\n",
    "    \"\"\"\n",
    "    THIS FUNCTION IS ONLY USED FOR TESTING\n",
    "    ****************\n",
    "    integrates the discrete convolution data written to file by function\n",
    "        write_convolution_data(nucleus, epsilon, overwrite_conv_data)\n",
    "    for comparison to the output of function\n",
    "        integrate_convolved_data_optimized_binning(m_chi = 9.842704376866553, nucleus = 'C12', dE = nuc_dict['C12']['dEs [MeV]'][0], epsilon = 0.01)\n",
    "    \"\"\"\n",
    "    convolved_diff_flux_data = pd.read_csv(path + '{}/dE_{}MeV/m_chi_{}MeV/m_chi_{}MeV_convolved_epsilon_{}.txt'.format(nucleus, dE, m_chi, m_chi, epsilon*100), \\\n",
    "                                    sep='\\t', \\\n",
    "                                    names=['Observed photon energy [MeV]', 'Convolved SA averaged diff. flux [cm^-2 s^-1 MeV^-1 sr^-1]'], \\\n",
    "                                    comment = '#', float_precision='round_trip')\n",
    "\n",
    "    photon_energy = convolved_diff_flux_data['Observed photon energy [MeV]']\n",
    "    convolved_diff_flux = convolved_diff_flux_data['Convolved SA averaged diff. flux [cm^-2 s^-1 MeV^-1 sr^-1]']\n",
    "    \n",
    "    # calculate E^2 times convolved flux for comparison to COMPTEL:\n",
    "    E_sq_times_intensity = [E**2 * f for E, f in zip(photon_energy, convolved_diff_flux)] # [cm^-2 s^-1 sr^-1 MeV^2]\n",
    "    # return(E_sq_times_intensity)\n",
    "\n",
    "    # integrated E^2 * intensity over observed photon energy:\n",
    "    integral = cumtrapz(E_sq_times_intensity, photon_energy, initial=0) # [cm^-2 s^-1 sr^-1 MeV^2] * [MeV]\n",
    "    return integral[-1]\n",
    "\n",
    "integrate_discrete_convolved_data(m_chi = 9.842704376866553, \\\n",
    "                                  nucleus = 'C12', dE = nuc_dict['C12']['dEs [MeV]'][0], \\\n",
    "                                  epsilon = 0.01)\n"
   ]
  },
  {
   "cell_type": "code",
   "execution_count": 17,
   "id": "5c63a07d-9b3b-4ca6-8f36-c374413ded51",
   "metadata": {},
   "outputs": [
    {
     "data": {
      "text/plain": [
       "438800461780.06464"
      ]
     },
     "execution_count": 17,
     "metadata": {},
     "output_type": "execute_result"
    }
   ],
   "source": [
    "# SANITY CHECK: these numbers should be close to one another; one is an analytic integral, the other is numerically integrated over discrete energies\n",
    "integrate_convolved_data_optimized_binning(m_chi = 9.842704376866553, nucleus = 'C12', dE = nuc_dict['C12']['dEs [MeV]'][0], epsilon = 0.01)\n",
    "# integrate_discrete_convolved_data(m_chi = 9.842704376866553, nucleus = 'C12', dE = nuc_dict['C12']['dEs [MeV]'][0], epsilon = 0.01)"
   ]
  },
  {
   "cell_type": "markdown",
   "id": "c1c6a2c5-c5b0-4287-8a27-597847e2ba68",
   "metadata": {},
   "source": [
    "# COMPTEL data from https://arxiv.org/abs/astro-ph/9811211"
   ]
  },
  {
   "cell_type": "markdown",
   "id": "c7ea20ee-71e7-4bc7-bb03-baf28ba614f6",
   "metadata": {},
   "source": [
    "## COMPTEL data points"
   ]
  },
  {
   "cell_type": "code",
   "execution_count": 18,
   "id": "620839dc-069c-4067-b2f0-3198b0ee7a7b",
   "metadata": {},
   "outputs": [
    {
     "data": {
      "text/plain": [
       "[<matplotlib.lines.Line2D at 0x16ae18760>]"
      ]
     },
     "execution_count": 18,
     "metadata": {},
     "output_type": "execute_result"
    },
    {
     "data": {
      "image/png": "[encoded data removed]",
      "text/plain": [
       "<Figure size 576x432 with 1 Axes>"
      ]
     },
     "metadata": {
      "needs_background": "light"
     },
     "output_type": "display_data"
    }
   ],
   "source": [
    "# COMPTEL, see https://arxiv.org/abs/astro-ph/9811211\n",
    "comptel_dict_upper = {'E [MeV]': [1, 3, 3, 10, 10, 30], \n",
    "                    'E^2 * intensity [MeV cm^-2 s^-1 sr^-1]': [1.6e-2, 1.9e-2, 2.1e-2, 2.5e-2, 2.1e-2, 2.4e-2]}\n",
    "comptel_interp_upper = interp1d(comptel_dict_upper['E [MeV]'], comptel_dict_upper['E^2 * intensity [MeV cm^-2 s^-1 sr^-1]'], fill_value='extrapolate')\n",
    "\n",
    "comptel_dict_lower = {'E [MeV]': [1, 3, 3, 10, 10, 30], \n",
    "                       'E^2 * intensity [MeV cm^-2 s^-1 sr^-1]': [1.1e-2, 1.3e-2, 1.4e-2, 1.7e-2, 1.4e-2, 1.6e-2]}\n",
    "comptel_interp_lower = interp1d(comptel_dict_lower['E [MeV]'], comptel_dict_lower['E^2 * intensity [MeV cm^-2 s^-1 sr^-1]'], fill_value='extrapolate')\n",
    "\n",
    "fig, ax = plt.subplots(figsize = (8.0, 6.0))\n",
    "plt.grid(which = 'both', linestyle = 'dotted')\n",
    "plt.xscale('log')\n",
    "plt.yscale('log')\n",
    "plt.xticks(fontsize=14); plt.yticks(fontsize=14)\n",
    "plt.xlabel('Energy [MeV]', fontsize = 14)\n",
    "plt.ylabel(r'$E^2 \\times$ Intensity [cm$^{-2}$ s$^{-1}$ sr$^{-1}$ MeV$^{-1}$]', fontsize = 14)\n",
    "plt.plot(comptel_dict_upper['E [MeV]'], comptel_dict_upper['E^2 * intensity [MeV cm^-2 s^-1 sr^-1]'])\n",
    "plt.plot(comptel_dict_lower['E [MeV]'], comptel_dict_lower['E^2 * intensity [MeV cm^-2 s^-1 sr^-1]'])\n"
   ]
  },
  {
   "cell_type": "markdown",
   "id": "ddfd7d04-a7a2-4213-971e-e5562dc76fd9",
   "metadata": {},
   "source": [
    "## trying various functional fits to COMPTEL data, to estimate future data"
   ]
  },
  {
   "cell_type": "code",
   "execution_count": 19,
   "id": "36476cd8-29ee-4b3d-ad65-51031986b472",
   "metadata": {},
   "outputs": [
    {
     "name": "stdout",
     "output_type": "stream",
     "text": [
      "POWER FUNCTION FIT\n",
      "The value of A is 0.01183 with standard error of 0.00092, which is 7.75559659913792%.\n",
      "The value of B is 0.10263 with standard error of 0.03482, which is 33.92611467719238%.\n",
      "The magnitude of the standard error % is 34.80130077595617%\n",
      "\n",
      "POLY FIT\n",
      "The value of A is -0.00001 with standard error of 0.00001, which is -56.84953189027904%.\n",
      "The value of B is 0.00058 with standard error of 0.00026, which is 45.4438346875091%.\n",
      "The value of C is 0.01129 with standard error of 0.00126, which is 11.11837658143575%.\n",
      "The magnitude of the standard error % is 73.62492570492773%\n",
      "\n",
      "LOG FIT\n",
      "lower\n",
      "The value of A is 1.5e-03 with standard error of 0.00047, which is 31.120629825083107%\n",
      "The value of B is 1.2e-02 with standard error of 0.00095, which is 8.190412342059984%.\n",
      "The magnitude of the standard error % is 32.180373755486755%\n",
      "\n",
      "upper\n",
      "The value of A is 2.4e-03 with standard error of 0.00067, which is 28.186857305937096%\n",
      "The value of B is 1.7e-02 with standard error of 0.00136, which is 8.010807252988018%.\n",
      "The magnitude of the standard error % is 29.30310491449302%\n",
      "\n"
     ]
    },
    {
     "data": {
      "text/plain": [
       "<matplotlib.legend.Legend at 0x16af125f0>"
      ]
     },
     "execution_count": 19,
     "metadata": {},
     "output_type": "execute_result"
    },
    {
     "data": {
      "image/png": "[encoded data removed]",
      "text/plain": [
       "<Figure size 432x288 with 1 Axes>"
      ]
     },
     "metadata": {
      "needs_background": "light"
     },
     "output_type": "display_data"
    }
   ],
   "source": [
    "x_lower, y_lower = comptel_dict_lower['E [MeV]'], comptel_dict_lower['E^2 * intensity [MeV cm^-2 s^-1 sr^-1]']\n",
    "x_upper, y_upper = comptel_dict_upper['E [MeV]'], comptel_dict_upper['E^2 * intensity [MeV cm^-2 s^-1 sr^-1]']\n",
    "# convert to arrays\n",
    "x_lower, y_lower = np.asarray(x_lower), np.asarray(y_lower)\n",
    "x_upper, y_upper = np.asarray(x_upper), np.asarray(y_upper)\n",
    "# plt.plot(x_lower, y_lower, 'o')\n",
    "\n",
    "plt.xscale('log')\n",
    "plt.yscale('log')\n",
    "plt.plot(x_lower, y_lower, 'o')\n",
    "\n",
    "################\n",
    "\n",
    "def comptel_power_function(x, A, B):\n",
    "    y = A * x**B\n",
    "    return y\n",
    "\n",
    "parameters, covariance = curve_fit(comptel_power_function, x_lower, y_lower)\n",
    "fit_A = parameters[0]\n",
    "fit_B = parameters[1]\n",
    "# print(fit_A)\n",
    "# print(fit_B)\n",
    "\n",
    "SE = np.sqrt(np.diag(covariance))\n",
    "SE_A, SE_B = SE[0], SE[1]\n",
    "\n",
    "print('POWER FUNCTION FIT')\n",
    "print(F'The value of A is {fit_A:.5f} with standard error of {SE_A:.5f}, which is {SE_A/fit_A * 100}%.')\n",
    "print(F'The value of B is {fit_B:.5f} with standard error of {SE_B:.5f}, which is {SE_B/fit_B * 100}%.')\n",
    "print('The magnitude of the standard error % is {}%\\n'.format(np.sqrt((SE_A/fit_A * 100)**2 + (SE_B/fit_B * 100)**2)))\n",
    "\n",
    "fit_y = comptel_power_function(x_lower, fit_A, fit_B)\n",
    "# plt.plot(x_lower, y_lower, 'o', label='data')\n",
    "plt.plot(x_lower, fit_y, '-', label='power')\n",
    "\n",
    "################\n",
    "\n",
    "def comptel_poly_function(x, A, B, C):\n",
    "    y = A * x**2 + B * x + C\n",
    "    return y\n",
    "\n",
    "parameters, covariance = curve_fit(comptel_poly_function, x_lower, y_lower)\n",
    "fit_A, fit_B, fit_C = parameters[0], parameters[1], parameters[2]\n",
    "# print(fit_A)# print(fit_B)# print(fit_C)\n",
    "\n",
    "SE = np.sqrt(np.diag(covariance))\n",
    "SE_A = SE[0]\n",
    "SE_B = SE[1]\n",
    "SE_C = SE[2]\n",
    "\n",
    "print('POLY FIT')\n",
    "print(F'The value of A is {fit_A:.5f} with standard error of {SE_A:.5f}, which is {SE_A/fit_A * 100}%.')\n",
    "print(F'The value of B is {fit_B:.5f} with standard error of {SE_B:.5f}, which is {SE_B/fit_B * 100}%.')\n",
    "print(F'The value of C is {fit_C:.5f} with standard error of {SE_C:.5f}, which is {SE_C/fit_C * 100}%.')\n",
    "print('The magnitude of the standard error % is {}%\\n'.format(np.sqrt((SE_A/fit_A * 100)**2 + (SE_B/fit_B * 100)**2 + (SE_C/fit_C * 100)**2)))\n",
    "\n",
    "fit_y = comptel_poly_function(x_lower, fit_A, fit_B, fit_C)\n",
    "# plt.plot(x_lower, y_lower, 'o', label='data')\n",
    "plt.plot(x_lower, fit_y, '-', label='poly')\n",
    "\n",
    "################\n",
    "\n",
    "def comptel_log_function(x, A, B):\n",
    "    y = A * np.log(x) + B\n",
    "    return y\n",
    "\n",
    "# FITTING LOWER LINE OF COMPTEL DATA\n",
    "parameters_lower, covariance_lower = curve_fit(comptel_log_function, x_lower, y_lower)\n",
    "fit_A_lower, fit_B_lower = parameters_lower[0], parameters_lower[1]\n",
    "# print(fit_A)# print(fit_B)\n",
    "parameters_upper, covariance_upper = curve_fit(comptel_log_function, x_upper, y_upper)\n",
    "fit_A_upper, fit_B_upper = parameters_upper[0], parameters_upper[1]\n",
    "# print(fit_A)# print(fit_B)\n",
    "\n",
    "SE_lower = np.sqrt(np.diag(covariance_lower))\n",
    "SE_A_lower, SE_B_lower = SE_lower[0], SE_lower[1]\n",
    "SE_upper = np.sqrt(np.diag(covariance_upper))\n",
    "SE_A_upper, SE_B_upper = SE_upper[0], SE_upper[1]\n",
    "\n",
    "print('LOG FIT')\n",
    "print('lower')\n",
    "print(F'The value of A is {fit_A_lower:.1e} with standard error of {SE_A_lower:.5f}, which is {SE_A_lower/fit_A_lower * 100}%')\n",
    "print(F'The value of B is {fit_B_lower:.1e} with standard error of {SE_B_lower:.5f}, which is {SE_B_lower/fit_B_lower * 100}%.')\n",
    "print('The magnitude of the standard error % is {}%\\n'.format(np.sqrt((SE_A_lower/fit_A_lower * 100)**2 + (SE_B_lower/fit_B_lower * 100)**2)))\n",
    "print('upper')\n",
    "print(F'The value of A is {fit_A_upper:.1e} with standard error of {SE_A_upper:.5f}, which is {SE_A_upper/fit_A_upper * 100}%')\n",
    "print(F'The value of B is {fit_B_upper:.1e} with standard error of {SE_B_upper:.5f}, which is {SE_B_upper/fit_B_upper * 100}%.')\n",
    "print('The magnitude of the standard error % is {}%\\n'.format(np.sqrt((SE_A_upper/fit_A_upper * 100)**2 + (SE_B_upper/fit_B_upper * 100)**2)))\n",
    "\n",
    "fit_y_lower = comptel_log_function(x_lower, fit_A_lower, fit_B_lower)\n",
    "fit_y_upper = comptel_log_function(x_upper, fit_A_upper, fit_B_upper)\n",
    "plt.plot(x_upper, fit_y_upper, '-', label='upper log')\n",
    "plt.plot(x_lower, fit_y_lower, '-', label='lower log')\n",
    "plt.plot(x_upper, y_upper, 'o')\n",
    "plt.legend()\n"
   ]
  },
  {
   "cell_type": "markdown",
   "id": "a18490e1-4e2e-4d70-adb6-419d1dfcfa0d",
   "metadata": {},
   "source": [
    "## linear fit to log data"
   ]
  },
  {
   "cell_type": "markdown",
   "id": "26966e5b-ef57-401e-bd1d-22d3d11f5de0",
   "metadata": {},
   "source": [
    "The COMPTEL log10-log10 plot has linear fit, therefore\n",
    "$$ log_{10}(y) = m~log_{10}(x) + b $$\n",
    "$$ Y = mX + b, $$\n",
    "\n",
    "which means the actual fit to the data is\n",
    "$$ y = 10^b x^m. $$\n",
    "\n",
    "Integrating to get the total area,\n",
    "$$ \\begin{align}\n",
    "\\int_a^b y(x) ~dx &= 10^b \\int_a^b x^m ~dx \\\\\n",
    "&= \\frac{10^b}{m+1} x^{m+1} \\Bigg|_a^b\n",
    "\\end{align}\n",
    "$$\n",
    "\n",
    "$$ \\therefore \\textrm{Area under curve} = \\frac{10^b}{m+1} x^{m+1} \\Bigg|_a^b $$\n",
    "where $(a, b) = (1, 3), (3, 10), (10, 30) ~\\textrm{MeV}$.\n",
    "\n",
    "Note that none of the de-excitation energies fall in the 1-3 MeV bin, so it is not needed, but I include the fit below."
   ]
  },
  {
   "cell_type": "code",
   "execution_count": 21,
   "id": "5c787dda-21cb-4c4a-84cb-d4f7c4fef3f7",
   "metadata": {},
   "outputs": [],
   "source": [
    "# linear fit, from Excel (see extractedData-NEW.xlsx)\n",
    "# LOWER LINES\n",
    "slope_1_3_lower, intcpt_1_3_lower = 0.152, -1.959\n",
    "slope_3_10_lower, intcpt_3_10_lower = 0.161, -1.931\n",
    "slope_10_30_lower, intcpt_10_30_lower = 0.122, -1.975\n",
    "\n",
    "# UPPER LINES\n",
    "slope_1_3_upper, intcpt_1_3_upper = 0.156, -1.796\n",
    "slope_3_10_upper, intcpt_3_10_upper = 0.145, -1.747\n",
    "slope_10_30_upper, intcpt_10_30_upper = 0.122, -1.799\n"
   ]
  },
  {
   "cell_type": "code",
   "execution_count": 22,
   "id": "4d9e6f01-72e4-4141-8f2a-10d2c52337f4",
   "metadata": {},
   "outputs": [
    {
     "data": {
      "text/plain": [
       "0.012987406402788637"
      ]
     },
     "execution_count": 22,
     "metadata": {},
     "output_type": "execute_result"
    }
   ],
   "source": [
    "def test_loglog_fit(x, m, b):\n",
    "    # test x = 1, 3, 10, 30 MeV for lower/upper limits to ensure they give the expected y-values\n",
    "    return 10**b * x**m\n",
    "\n",
    "# test_loglog_fit(1, slope_1_3_lower, intcpt_1_3_lower)\n",
    "# test_loglog_fit(1, slope_1_3_upper, intcpt_1_3_upper)\n",
    "test_loglog_fit(3, slope_1_3_lower, intcpt_1_3_lower)\n",
    "# test_loglog_fit(3, slope_1_3_upper, intcpt_1_3_upper)\n",
    "# test_loglog_fit(3, slope_3_10_lower, intcpt_3_10_lower)\n",
    "# test_loglog_fit(3, slope_3_10_upper, intcpt_3_10_upper)\n",
    "# test_loglog_fit(10, slope_3_10_lower, intcpt_3_10_lower)\n",
    "# test_loglog_fit(10, slope_3_10_upper, intcpt_3_10_upper)\n",
    "# test_loglog_fit(10, slope_10_30_lower, intcpt_10_30_lower)\n",
    "# test_loglog_fit(10, slope_10_30_upper, intcpt_10_30_upper)\n",
    "# test_loglog_fit(30, slope_10_30_lower, intcpt_10_30_lower)\n",
    "# test_loglog_fit(30, slope_10_30_upper, intcpt_10_30_upper)\n"
   ]
  },
  {
   "cell_type": "markdown",
   "id": "60bce669-b094-4b3f-b2de-8f0f07fbcb21",
   "metadata": {},
   "source": [
    "# current constraints from COMPTEL bins"
   ]
  },
  {
   "cell_type": "code",
   "execution_count": 23,
   "id": "9bc7f93a-fcb9-4353-8e53-04c9da253700",
   "metadata": {},
   "outputs": [
    {
     "data": {
      "text/plain": [
       "[0.11012444486380055, 0.16335359092426566]"
      ]
     },
     "execution_count": 23,
     "metadata": {},
     "output_type": "execute_result"
    }
   ],
   "source": [
    "def integrate_comptel_bins(m_chi, nucleus, dE):\n",
    "    \"\"\"\n",
    "    USED FOR DERIVING CURRENT COMPTEL LIMITS\n",
    "    calculates the area under a single COMPTEL data bin, to be used in deriving current COMPTEL limits\n",
    "    ****************\n",
    "    returns: the area under the relevant [3,10] OR [10,30] MeV COMPTEL data bin, for upper and lower error bars\n",
    "    ****************\n",
    "    \"\"\"\n",
    "    def f(x1, x2, m, b):\n",
    "        \"\"\"\n",
    "        returns the integral for the COMPTEL bin line from x1 to x2 with slope m and intercept b\n",
    "        \"\"\"\n",
    "        f1 = ((10**b) / (m + 1)) * x1**(m+1)\n",
    "        f2 = ((10**b) / (m + 1)) * x2**(m+1)\n",
    "        return f2-f1\n",
    "\n",
    "    # find which bin:\n",
    "    if dE>3 and dE<10:\n",
    "        area_under_lower = f(3, 10, slope_3_10_lower, intcpt_3_10_lower)\n",
    "        area_under_upper = f(3, 10, slope_3_10_upper, intcpt_3_10_upper)\n",
    "    elif dE>10 and dE<30:\n",
    "        area_under_lower = f(10, 30, slope_10_30_lower, intcpt_10_30_lower)\n",
    "        area_under_upper = f(10, 30, slope_10_30_upper, intcpt_10_30_upper)\n",
    "    # elif dE>1 and dE<3:\n",
    "    #     area_under_lower = f(1, 3, slope_1_3_lower, intcpt_1_3_lower)\n",
    "    #     area_under_upper = f(1, 3, slope_1_3_upper, intcpt_1_3_upper)        \n",
    "\n",
    "    return [area_under_lower, area_under_upper]\n",
    "integrate_comptel_bins(m_chi = 9.842704376866553, nucleus = 'C12', dE = nuc_dict['C12']['dEs [MeV]'][0])\n"
   ]
  },
  {
   "cell_type": "markdown",
   "id": "249b6c8f-1dd1-427f-8735-985052d896e6",
   "metadata": {},
   "source": [
    "## testing: finding the ratio (upper bin area)/(lower bin area)\n",
    "\n",
    "In our limits plot, the COMPTEL limit bar is approximately the same size as the projection limit bars.\n",
    "This means the ratio of the upper bin area to the lower bin area should be the same as the ratio of the upper area and lower area for the region(dE +/- epsilon*dE)\n"
   ]
  },
  {
   "cell_type": "code",
   "execution_count": 34,
   "id": "7dd43f46-667a-4cec-ab70-d690efd02ce5",
   "metadata": {},
   "outputs": [
    {
     "data": {
      "text/plain": [
       "1.4833545006859987"
      ]
     },
     "execution_count": 34,
     "metadata": {},
     "output_type": "execute_result"
    }
   ],
   "source": [
    "# ratio of areas:\n",
    "area_test_3_10 = integrate_comptel_bins(m_chi = 9.842704376866553, nucleus = 'C12', dE = nuc_dict['C12']['dEs [MeV]'][0])\n",
    "\n",
    "area_test_3_10[1]/area_test_3_10[0]"
   ]
  },
  {
   "cell_type": "code",
   "execution_count": 35,
   "id": "58800248-f2d1-488d-a37f-296551b8ac3b",
   "metadata": {},
   "outputs": [
    {
     "data": {
      "text/plain": [
       "[0.30385341983934927, 0.4556843659486083]"
      ]
     },
     "execution_count": 35,
     "metadata": {},
     "output_type": "execute_result"
    }
   ],
   "source": [
    "integrate_comptel_bins(m_chi = 16.42578130366392, nucleus = 'C12', dE = nuc_dict['C12']['dEs [MeV]'][3])"
   ]
  },
  {
   "cell_type": "code",
   "execution_count": 36,
   "id": "4286b6a2-88c0-4347-b304-edec5dd9ea72",
   "metadata": {},
   "outputs": [
    {
     "data": {
      "text/plain": [
       "1.499684835502374"
      ]
     },
     "execution_count": 36,
     "metadata": {},
     "output_type": "execute_result"
    }
   ],
   "source": [
    "# ratio of areas:\n",
    "area_test_10_30 = integrate_comptel_bins(m_chi = 16.42578130366392, nucleus = 'C12', dE = nuc_dict['C12']['dEs [MeV]'][1])\n",
    "\n",
    "area_test_10_30[1]/area_test_10_30[0]"
   ]
  },
  {
   "cell_type": "markdown",
   "id": "f05607c8-cc30-42e8-811b-39890949ed71",
   "metadata": {},
   "source": [
    "# projections for AMEGO-X, e-ASTROGAM, GRAMS"
   ]
  },
  {
   "cell_type": "markdown",
   "id": "a0bffd81-4af6-4ffe-ac0b-447480802e2b",
   "metadata": {},
   "source": [
    "$$ \\int (A \\log(x) + B) ~dx = x(A\\log(x) - A + B)$$"
   ]
  },
  {
   "cell_type": "code",
   "execution_count": 40,
   "id": "fa067d35-9e48-4093-b28e-e1bd674c67c9",
   "metadata": {},
   "outputs": [
    {
     "data": {
      "text/plain": [
       "[0.0030383585031754645, 0.004428179481080763]"
      ]
     },
     "execution_count": 40,
     "metadata": {},
     "output_type": "execute_result"
    }
   ],
   "source": [
    "def integrate_comptel_log_fit(m_chi, nucleus, dE, epsilon):\n",
    "    \"\"\"\n",
    "    USED FOR CALCULATING PROJECTIONS USING COMPTEL DATA\n",
    "    calculates the area under the fitted COMPTEL data curve from\n",
    "    dE-epsilon*dE to dE+epsilon*dE,\n",
    "    to be used in deriving projections\n",
    "    ****************\n",
    "    returns: the area under the fitted COMPTEL data curve [dE-epsilon*dE, dE+epsilon*dE], for upper and lower error bars\n",
    "    ****************    \n",
    "    \"\"\"\n",
    "    # from log fit to COMPTEL data:\n",
    "    A_lower, B_lower = 1.5e-3, 1.2e-2\n",
    "    A_upper, B_upper = 2.4e-3, 1.7e-2\n",
    "\n",
    "    def f(x1, x2, A, B):\n",
    "        f1 = x1*(A*np.log(x1) - A + B)\n",
    "        f2 = x2*(A*np.log(x2) - A + B)\n",
    "        return f2 - f1\n",
    "\n",
    "    area_under_lower = f(dE - epsilon*dE, dE + epsilon*dE, A_lower, B_lower) # [cm^-2 MeV^2 s^-1 sr^-1]\n",
    "    area_under_upper = f(dE - epsilon*dE, dE + epsilon*dE, A_upper, B_upper) # [cm^-2 MeV^2 s^-1 sr^-1]\n",
    "\n",
    "    ################\n",
    "    # tests: \n",
    "    # return [f(3,10, A_lower, B_lower), f(3,10, A_upper, B_upper)]\n",
    "    # should be close to (and probably less than, looking at the fit) integrate_comptel_bins(m_chi = 9.842704376866553, nucleus = 'C12', dE = nuc_dict['C12']['dEs [MeV]'][0])\n",
    "    # -> it is\n",
    "\n",
    "    # return [f(10,30, A_lower, B_lower), f(10,30, A_upper, B_upper)]\n",
    "    # should be close to (and probably more than, looking at the fit) integrate_comptel_bins(m_chi = 16.425643120657213, nucleus = 'C12', dE = nuc_dict['C12']['dEs [MeV]'][1])\n",
    "    # -> it is\n",
    "    ################\n",
    "    \n",
    "    return [area_under_lower, area_under_upper] # [ [cm^-2 MeV^2 s^-1 sr^-1],  [cm^-2 MeV^2 s^-1 sr^-1] ]\n",
    "\n",
    "integrate_comptel_log_fit(m_chi = 9.842704376866553, nucleus = 'C12', dE = nuc_dict['C12']['dEs [MeV]'][0], epsilon = 0.01) \n",
    "# [0.0030383585031754645, 0.004428179481080763]\n",
    "# integrate_comptel_log_fit(m_chi = 16.425643120657213, nucleus = 'C12', dE = nuc_dict['C12']['dEs [MeV]'][1], epsilon = 0.01)\n"
   ]
  },
  {
   "cell_type": "markdown",
   "id": "62acb3ad-ba26-439b-8f2a-6376bca3d7d7",
   "metadata": {},
   "source": [
    "## continuing testing of area ratios"
   ]
  },
  {
   "cell_type": "code",
   "execution_count": 44,
   "id": "f04fb4fa-2d07-4705-83ec-c5d1499b0a23",
   "metadata": {},
   "outputs": [
    {
     "data": {
      "text/plain": [
       "1.457424254109867"
      ]
     },
     "execution_count": 44,
     "metadata": {},
     "output_type": "execute_result"
    }
   ],
   "source": [
    "# ratio of areas:\n",
    "fit_area_test_3_10 = integrate_comptel_log_fit(m_chi = 9.842704376866553, nucleus = 'C12', \\\n",
    "                                               dE = nuc_dict['C12']['dEs [MeV]'][0], epsilon = 0.02)\n",
    "\n",
    "fit_area_test_3_10[1]/fit_area_test_3_10[0]"
   ]
  },
  {
   "cell_type": "code",
   "execution_count": 42,
   "id": "c0db8430-5907-4591-aea8-6f19ad1a8488",
   "metadata": {},
   "outputs": [
    {
     "data": {
      "text/plain": [
       "[0.005322564267772334, 0.007793221152435803]"
      ]
     },
     "execution_count": 42,
     "metadata": {},
     "output_type": "execute_result"
    }
   ],
   "source": [
    "integrate_comptel_log_fit(m_chi = 16.42578130366392, nucleus = 'C12', dE = nuc_dict['C12']['dEs [MeV]'][1], epsilon = 0.01) "
   ]
  },
  {
   "cell_type": "code",
   "execution_count": 49,
   "id": "4a189cc4-5489-4a63-8df8-43156c713def",
   "metadata": {},
   "outputs": [
    {
     "data": {
      "text/plain": [
       "1.4641854490368642"
      ]
     },
     "execution_count": 49,
     "metadata": {},
     "output_type": "execute_result"
    }
   ],
   "source": [
    "# ratio of areas:\n",
    "fit_area_test_10_30 = integrate_comptel_log_fit(m_chi = 16.42578130366392, nucleus = 'C12', \\\n",
    "                                                dE = nuc_dict['C12']['dEs [MeV]'][1], epsilon = 0.01) \n",
    "\n",
    "fit_area_test_10_30[1]/fit_area_test_10_30[0]"
   ]
  },
  {
   "cell_type": "markdown",
   "id": "2db1ae25-61a7-4017-afbb-48b48ec20d43",
   "metadata": {},
   "source": [
    "## therefore the fact that all the limit bars are the same size makes sense;\n",
    "\n",
    "### COMPTEL BIN AREAS\n",
    "from 3 to 10 MeV:\n",
    "$$ \\frac{\\text{upper bin area}}{\\text{lower bin area}} = 1.483 $$\n",
    "\n",
    "from 10 to 30 MeV:\n",
    "$$ \\frac{\\text{upper bin area}}{\\text{lower bin area}} = 1.5 $$\n",
    "\n",
    "\n",
    "### COMPTEL FUNCTION FIT AREA FROM $E_\\gamma \\pm \\epsilon E_\\gamma$\n",
    "from 3 to 10 MeV:\n",
    "$$ \\frac{\\text{upper bin area}}{\\text{lower bin area}} = 1.457 $$\n",
    "\n",
    "from 10 to 30 MeV:\n",
    "$$ \\frac{\\text{upper bin area}}{\\text{lower bin area}} = 1.464 $$\n"
   ]
  },
  {
   "cell_type": "code",
   "execution_count": 39,
   "id": "3245409e-f1f6-4cda-af23-eeb4522c9a9b",
   "metadata": {},
   "outputs": [],
   "source": [
    "# integrate_comptel_bins(m_chi = 9.842704376866553, nucleus = 'C12', dE = nuc_dict['C12']['dEs [MeV]'][0])\n",
    "# integrate_comptel_bins(m_chi = 16.425643120657213, nucleus = 'C12', dE = nuc_dict['C12']['dEs [MeV]'][1])"
   ]
  },
  {
   "cell_type": "code",
   "execution_count": 73,
   "id": "ea418b9f-c4aa-4804-a1d9-47e22a0de2a7",
   "metadata": {},
   "outputs": [],
   "source": [
    "def write_comptel_limits_on_g_chi(epsilon = 0.02):\n",
    "\n",
    "    problem_dEs = []\n",
    "    problem_dEs_index = []\n",
    "\n",
    "    for nucleus in ['C12', 'O16']:\n",
    "        print(nucleus)\n",
    "        dE_g_chi_dict = {}\n",
    "        dEs = nuc_dict[nucleus]['dEs [MeV]'][0:max_dict[nucleus]]\n",
    "        m_chis_for_points, g_chis_lower_points, g_chis_upper_points = [], [], []\n",
    "        \n",
    "        for dE in dEs:\n",
    "            print(dE)\n",
    "            try:\n",
    "                m_chis, g_chis_lower, g_chis_upper = [], [], []\n",
    "                # m_chi_g_chi_dict = {}\n",
    "            \n",
    "                for m_chi_path in sorted(glob(path + '{}/dE_{}MeV/m_chi_*'.format(nucleus, dE))):\n",
    "                    if not os.path.isdir(m_chi_path):\n",
    "                        print(m_chi_path)\n",
    "                        print(\"path does not exist!\")\n",
    "                        return\n",
    "                    \n",
    "                    m_chi_dir = m_chi_path.split('/')[-1]\n",
    "                    m_chi = float(m_chi_dir.split('_')[2][:-3])\n",
    "                    # print(\"    {} MeV\".format(m_chi))\n",
    "    \n",
    "                    # calculate the area under E^2 x convolved differential flux, within the relevant COMPTEL energy bin \n",
    "                    theoretical_area_under_bin = integrate_convolved_data_comptel_bins(m_chi, nucleus, dE, epsilon)\n",
    "                    if theoretical_area_under_bin == 0: # this will happen if the flux for this particular m_chi is zero, so just move to the next one\n",
    "                        print(\"    mass {} MeV flux is zero\".format(m_chi))\n",
    "                        continue\n",
    "        \n",
    "                    m_chis.append(m_chi)\n",
    "                    comptel_bin_area = integrate_comptel_bins(m_chi, nucleus, dE) # [total area under lower piecewise line, total area under upper piecewise line]\n",
    "                    \n",
    "                    # find the upper bound on the coupling constants for the upper and lower COMPTEL uncertainties\n",
    "                    # they are UPPER limits because we are assuming all of the COMPTEL flux is due to this process; \n",
    "                    # g_chi needs to be smaller in order for the flux to comprise a smaller fraction of COMPTEL\n",
    "                    g_chi_lower = np.sqrt(comptel_bin_area[0] / theoretical_area_under_bin)\n",
    "                    g_chi_upper = np.sqrt(comptel_bin_area[1] / theoretical_area_under_bin)\n",
    "                    g_chis_lower.append(g_chi_lower)\n",
    "                    g_chis_upper.append(g_chi_upper)\n",
    "                    # m_chi_g_chi_dict.update({m_chi: [g_chi_lower, g_chi_upper]})\n",
    "            \n",
    "            except:\n",
    "                problem_dEs.append(dE)\n",
    "                i = problem_dEs.index(dE)\n",
    "                problem_dEs_index.append(i)\n",
    "\n",
    "            filename = path + \"{}/dE_{}MeV/COMPTEL_g_chi_limits_epsilon_{}.txt\".format(nucleus, dE, 100*epsilon)\n",
    "            # with open(filename, 'w') as fp:\n",
    "                # fp.write(metadata)\n",
    "            dat = {'# m_chi [MeV]': m_chis, 'g_chi lower uncertainty [MeV^-1]': g_chis_lower, 'g_chi upper uncertainty [MeV^-1]': g_chis_upper}\n",
    "            df = pd.DataFrame(dat)\n",
    "            df.to_csv(filename, sep='\\t', index=False)#, mode='a')    \n",
    "\n",
    "            if not m_chis[g_chis_lower.index(min(g_chis_lower))] == m_chis[g_chis_lower.index(min(g_chis_lower))]:\n",
    "                print(\"m_chis are not the same!\")\n",
    "\n",
    "            g_chis_lower_points.append(min(g_chis_lower))\n",
    "            g_chis_upper_points.append(min(g_chis_upper))\n",
    "            m_chis_for_points.append(m_chis[g_chis_lower.index(min(g_chis_lower))])\n",
    "\n",
    "        # write to file all the most constraining points, to be plotted\n",
    "        filename = path + \"{}/COMPTEL_g_chi_limits_epsilon_{}.txt\".format(nucleus, 100*epsilon)\n",
    "        filename2 = \"g_chi_limits/{}/COMPTEL_g_chi_limits_epsilon_{}.txt\".format(nucleus, 100*epsilon)\n",
    "        dat = {'# dE [MeV]': dEs, 'most constraining m_chi [MeV]': m_chis_for_points, 'min g_chi lower uncertainty [MeV^-1]': g_chis_lower_points, 'min g_chi upper uncertainty [MeV^-1]': g_chis_upper_points}\n",
    "        df = pd.DataFrame(dat)\n",
    "        df.to_csv(filename, sep='\\t', index=False)\n",
    "        df.to_csv(filename2, sep='\\t', index=False)\n",
    "\n",
    "    return problem_dEs, problem_dEs_index # dE_g_chi_dict\n",
    "    # return m_chi_g_chi_dict\n",
    "\n",
    "# write_comptel_limits_on_g_chi()#, save = False)#True)\n"
   ]
  },
  {
   "cell_type": "code",
   "execution_count": 85,
   "id": "b332cf18-bd56-4e76-8519-39e9436e22eb",
   "metadata": {},
   "outputs": [
    {
     "name": "stdout",
     "output_type": "stream",
     "text": [
      "C12\n",
      "O16\n"
     ]
    }
   ],
   "source": [
    "def write_projections_on_g_chi():\n",
    "    epsilon_exp_dict = {0.01: 'GRAMS', 0.02: 'AMEGO-X', 0.03: 'e-ASTROGAM'}\n",
    "\n",
    "    problem_dEs = []\n",
    "    problem_dEs_index = []\n",
    "\n",
    "    for nucleus in ['C12', 'O16']:\n",
    "        print(nucleus)\n",
    "        # m_chi_pts = []\n",
    "        # g_lower_pts = []\n",
    "        # g_upper_pts = []\n",
    "        \n",
    "        for epsilon in [0.01, 0.02, 0.03]:\n",
    "            m_chis_for_points, g_chis_lower_points, g_chis_upper_points = [], [], []\n",
    "            dEs = nuc_dict[nucleus]['dEs [MeV]'][0:max_dict[nucleus]]\n",
    "            \n",
    "            for dE in dEs:\n",
    "                # print('    {}'.format(dE))\n",
    "                try:\n",
    "                    m_chis, g_chis_lower, g_chis_upper = [], [], []\n",
    "                    # m_chi_g_chi_dict = {}\n",
    "                \n",
    "                    for m_chi_path in sorted(glob(path + '{}/dE_{}MeV/m_chi_*'.format(nucleus, dE))):\n",
    "                        if not os.path.isdir(m_chi_path):\n",
    "                            print(m_chi_path)\n",
    "                            print(\"path does not exist!\")\n",
    "                            return\n",
    "                        m_chi_dir = m_chi_path.split('/')[-1]\n",
    "                        m_chi = float(m_chi_dir.split('_')[2][:-3])\n",
    "                        # print(m_chi)\n",
    "                        \n",
    "                        theoretical = integrate_convolved_data_optimized_binning(m_chi, nucleus, dE, epsilon) # [cm^-2 MeV^2 s^-1 sr^-1]\n",
    "                        if theoretical == 0:\n",
    "                            # print(\"zero\")\n",
    "                            continue\n",
    "                \n",
    "                        m_chis.append(m_chi)\n",
    "                        comptel_log_fit = integrate_comptel_log_fit(m_chi, nucleus, dE, epsilon) # [cm^-2 MeV^2 s^-1 sr^-1]\n",
    "                        # print(comptel_log_fit)\n",
    "                        \n",
    "                        # find the upper bound on the coupling constants for the upper and lower COMPTEL uncertainties\n",
    "                        # they are UPPER limits because we are assuming all of the COMPTEL flux is due to this process; \n",
    "                        # g_chi needs to be smaller in order for the flux to comprise a smaller fraction of COMPTEL\n",
    "                        g_chi_lower = np.sqrt(comptel_log_fit[0] / theoretical)\n",
    "                        g_chi_upper = np.sqrt(comptel_log_fit[1] / theoretical)\n",
    "                        g_chis_lower.append(g_chi_lower)\n",
    "                        g_chis_upper.append(g_chi_upper)\n",
    "                        # m_chi_g_chi_dict.update({m_chi: [g_chi_lower, g_chi_upper]})\n",
    "    \n",
    "                    # m_chi_pts.append(m_chis[g_chis_lower.index(min(g_chis_lower))])\n",
    "                    # g_lower_pts.append(min(g_chis_lower))\n",
    "                    # g_upper_pts.append(min(g_chis_upper))\n",
    "\n",
    "                except:\n",
    "                    problem_dEs.append(dE)\n",
    "                    # problem_dEs_index.append(dEs.index(dE))\n",
    "\n",
    "                filename = path + \"{}/dE_{}MeV/{}_g_chi_limits_epsilon_{}.txt\".format(nucleus, dE, epsilon_exp_dict[epsilon], epsilon*100)\n",
    "                # print(filename)\n",
    "                # with open(filename, 'w') as fp:\n",
    "                #     fp.write(metadata)\n",
    "                dat = {'# m_chi [MeV]': m_chis, 'g_chi lower uncertainty [MeV^-1]': g_chis_lower, 'g_chi upper uncertainty [MeV^-1]': g_chis_upper}\n",
    "                df = pd.DataFrame(dat)\n",
    "                df.to_csv(filename, sep='\\t', index=False)#, mode='a')\n",
    "                \n",
    "                if not m_chis[g_chis_lower.index(min(g_chis_lower))] == m_chis[g_chis_lower.index(min(g_chis_lower))]:\n",
    "                    print(\"m_chis are not the same!\")\n",
    "    \n",
    "                g_chis_lower_points.append(min(g_chis_lower))\n",
    "                g_chis_upper_points.append(min(g_chis_upper))\n",
    "                m_chis_for_points.append(m_chis[g_chis_lower.index(min(g_chis_lower))])\n",
    "        \n",
    "        # write to file all the minimum points to be plotted\n",
    "            filename = path + \"{}/{}_g_chi_limits_epsilon_{}.txt\".format(nucleus, epsilon_exp_dict[epsilon], 100*epsilon)\n",
    "            filename2 = \"g_chi_limits/{}/{}_g_chi_limits_epsilon_{}.txt\".format(nucleus, epsilon_exp_dict[epsilon], 100*epsilon)\n",
    "            dat = {'# dE [MeV]': dEs, 'most constraining m_chi [MeV]': m_chis_for_points, 'min g_chi lower uncertainty [MeV^-1]': g_chis_lower_points, 'min g_chi upper uncertainty [MeV^-1]': g_chis_upper_points}\n",
    "            df = pd.DataFrame(dat)\n",
    "            df.to_csv(filename, sep='\\t', index=False)\n",
    "            df.to_csv(filename2, sep='\\t', index=False)\n",
    "\n",
    "    return #problem_dEs, problem_dEs_index #dE_g_chi_dict # m_chi_g_chi_dict\n",
    "\n",
    "write_projections_on_g_chi()#True)\n"
   ]
  },
  {
   "cell_type": "code",
   "execution_count": null,
   "id": "15fb16be-42bf-4246-8aeb-135111cfabe4",
   "metadata": {},
   "outputs": [],
   "source": [
    "integrate_convolved_data(m_chi = 9.837999999999996, nucleus = 'C12', dE = nuc_dict['C12']['dEs [MeV]'][0], epsilon = 0.01)"
   ]
  },
  {
   "cell_type": "code",
   "execution_count": null,
   "id": "0697ecca-303d-48db-81dd-918937c75ac9",
   "metadata": {},
   "outputs": [],
   "source": [
    "integrate_comptel_log_fit(m_chi = 9.837999999999996, nucleus = 'C12', dE = nuc_dict['C12']['dEs [MeV]'][0], epsilon = 0.01)"
   ]
  },
  {
   "cell_type": "code",
   "execution_count": null,
   "id": "df42d6dd-96a7-46f1-a59e-a9d4cfdc8355",
   "metadata": {},
   "outputs": [],
   "source": []
  }
 ],
 "metadata": {
  "kernelspec": {
   "display_name": "Python 3 (ipykernel)",
   "language": "python",
   "name": "python3"
  },
  "language_info": {
   "codemirror_mode": {
    "name": "ipython",
    "version": 3
   },
   "file_extension": ".py",
   "mimetype": "text/x-python",
   "name": "python",
   "nbconvert_exporter": "python",
   "pygments_lexer": "ipython3",
   "version": "3.10.13"
  }
 },
 "nbformat": 4,
 "nbformat_minor": 5
}
