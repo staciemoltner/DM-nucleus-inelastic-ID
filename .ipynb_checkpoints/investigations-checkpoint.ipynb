{
 "cells": [
  {
   "cell_type": "code",
   "execution_count": 1,
   "id": "f0ace599-c7e9-49be-bcae-a1fbd028a424",
   "metadata": {},
   "outputs": [],
   "source": [
    "import sys\n",
    "import numpy as np\n",
    "import math\n",
    "import matplotlib\n",
    "import matplotlib.pyplot as plt\n",
    "import scipy.integrate\n",
    "from scipy.integrate import quad\n",
    "from scipy.integrate import dblquad\n",
    "from scipy.integrate import cumtrapz\n",
    "import pandas as pd\n",
    "import bisect #\n",
    "from astropy.io import fits\n",
    "from astropy import constants as const\n",
    "from astropy import units as u\n",
    "import time\n",
    "from scipy.interpolate import RegularGridInterpolator"
   ]
  },
  {
   "cell_type": "code",
   "execution_count": 4,
   "id": "f34ec8a9-61d0-4a8a-8e10-75ea77a2f53d",
   "metadata": {},
   "outputs": [],
   "source": [
    "# natural & conversion constants\n",
    "c = 2.998e8 # speed of light [m/s]\n",
    "G = 6.674e-11 # [N m^2 kg^-2]\n",
    "hbar = 6.582e-16 # [eV s]\n",
    "GeV_per_kg = 5.625e26\n",
    "cm_per_kpc = 3.086e21\n",
    "\n",
    "\n",
    "# constants\n",
    "rho_s = 0.51 # DM radial scale for MW NFW profile [GeV/cm^3]; https://arxiv.org/abs/1906.08419\n",
    "r_s = 8.1 # DM radial scale for MW NFW profile [kpc]; https://arxiv.org/abs/1906.08419\n",
    "M_sun = 2e30 # [kg]\n",
    "M_bulge = 1.5e10 * M_sun # [kg]\n",
    "c_disk = 0.6 # bulge scale radius [kpc]\n",
    "M_disk = 7e10 * M_sun # [kg]\n",
    "b_disk = 4 # disk scale radius [kpc]\n",
    "R_odot = 8.0 # Sun's distance from centre of MW [kpc]\n",
    "M_SMBH = 4.154e6 * M_sun # [kg]\n",
    "vbar = 220 # [km/s]\n",
    "\n",
    "\n",
    "# dictionaries\n",
    "m_N_MeV = {'He4': 3758.26, 'C12': 11274.78, 'N14': 13153.91, 'O16': 15033.04}\n",
    "nuc_info = {'He4': [3758.26, 0.0], 'C12': [11274.78, 0.0], 'N14': [13153.91, 0.0], 'O16': [15033.04, 0.0]}\n",
    "\n",
    "# importing C12 and O16 data\n",
    "C12_data = '{}_{}_{}.txt'.format('C12', nuc_info['C12'][0], nuc_info['C12'][1])\n",
    "O16_data = '{}_{}_{}.txt'.format('O16', nuc_info['O16'][0], nuc_info['O16'][1])\n",
    "Cdf = pd.read_csv(C12_data, sep='\\t', names=['E_gamma [MeV]', 'GT strength'], skiprows=1)\n",
    "Odf = pd.read_csv(O16_data, sep='\\t', names=['E_gamma [MeV]', 'GT strength'], skiprows=1)\n",
    "CdEs, OdEs = Cdf['E_gamma [MeV]'], Odf['E_gamma [MeV]']\n",
    "# getting min/max of C12 & O16 data for mass/energy values for flux calculation:\n",
    "# E_min = min(min(CdEs), min(OdEs))\n",
    "# E_max = max(max(CdEs), max(OdEs))\n",
    "dEs_dict = {'C12': Cdf['E_gamma [MeV]'], 'O16': Odf['E_gamma [MeV]']}\n",
    "GTs_dict = {'C12': Cdf['GT strength'], 'O16': Odf['GT strength']}"
   ]
  },
  {
   "cell_type": "markdown",
   "id": "29910e26-d88a-45ae-a746-194881d3c8c9",
   "metadata": {},
   "source": [
    "# flux"
   ]
  },
  {
   "cell_type": "code",
   "execution_count": 5,
   "id": "6f35036b-792d-4b9f-b3a8-274399d047c5",
   "metadata": {},
   "outputs": [
    {
     "data": {
      "text/plain": [
       "1.0000000000000002"
      ]
     },
     "execution_count": 5,
     "metadata": {},
     "output_type": "execute_result"
    }
   ],
   "source": [
    "def dNdgamma(g_chi, g_A, nucleus):\n",
    "    \"\"\"\n",
    "    returns: sum of dNdgamma weighted by their GT strengths (should equal 1)\n",
    "    **********\n",
    "    g_chi: [MeV^-1]\n",
    "    g_A: axial form factor [unitless]\n",
    "    \"\"\"\n",
    "    nuc_info = {'He4': [3758.26, 0.0], 'C12': [11274.78, 0.0], 'N14': [13153.91, 0.0], 'O16': [15033.04, 0.0]}\n",
    "    flux_arr, flux_tot = [], 0\n",
    "    m_N, J_N = nuc_info[nucleus][0], nuc_info[nucleus][1]\n",
    "    dEs, GTs = dEs_dict[nucleus], GTs_dict[nucleus]\n",
    "    nucl_exc = zip(dEs, GTs)\n",
    "    GT_sum = np.sum(GTs)\n",
    "    dNdgamma = 0\n",
    "\n",
    "    for dE, GT in nucl_exc:\n",
    "        dNdgamma += GT / GT_sum # branching ratio, [unitless]\n",
    "\n",
    "    return dNdgamma # [cm^-2 s^-1 MeV^-1]\n",
    "\n",
    "dNdgamma(1, 1, 'O16')"
   ]
  },
  {
   "cell_type": "code",
   "execution_count": null,
   "id": "360ca731-294c-4ec4-8786-32536bc4ea39",
   "metadata": {},
   "outputs": [],
   "source": []
  }
 ],
 "metadata": {
  "kernelspec": {
   "display_name": "Python 3 (ipykernel)",
   "language": "python",
   "name": "python3"
  },
  "language_info": {
   "codemirror_mode": {
    "name": "ipython",
    "version": 3
   },
   "file_extension": ".py",
   "mimetype": "text/x-python",
   "name": "python",
   "nbconvert_exporter": "python",
   "pygments_lexer": "ipython3",
   "version": "3.10.13"
  }
 },
 "nbformat": 4,
 "nbformat_minor": 5
}
