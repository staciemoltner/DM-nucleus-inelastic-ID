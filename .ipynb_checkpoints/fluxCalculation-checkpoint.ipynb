{
 "cells": [
  {
   "cell_type": "code",
   "execution_count": 1,
   "id": "6d06bc56-aa74-449d-a17f-31d6b4291f75",
   "metadata": {},
   "outputs": [],
   "source": [
    "import sys\n",
    "# from util import *\n",
    "import numpy as np\n",
    "import math\n",
    "import matplotlib\n",
    "import matplotlib.pyplot as plt\n",
    "import scipy.integrate\n",
    "from scipy.integrate import quad\n",
    "import pandas as pd\n",
    "import bisect #\n",
    "from astropy.io import fits\n"
   ]
  },
  {
   "cell_type": "code",
   "execution_count": 2,
   "id": "f9afb99c-c30d-4545-9987-78be5376a4a8",
   "metadata": {},
   "outputs": [],
   "source": [
    "# natural & conversion constants\n",
    "k_B = 8.617e-5 # [eV/K]\n",
    "c = 2.998e8 # speed of light [m/s]\n",
    "G = 6.674e-11 # [N m^2 kg^-2]\n",
    "GeV_per_kg = 5.625e26\n",
    "cm_per_kpc = 3.086e21\n",
    "m_per_kpc = cm_per_kpc/100\n",
    "MeV_per_invcm = 1.240e-10\n",
    "cm_per_invMeV = 1/MeV_per_invcm\n",
    "\n",
    "# constants\n",
    "v_esc = 537 # Milky Way escape velocity [km/s]\n",
    "rho_s = 0.51 # DM radial scale for MW NFW profile [GeV/cm^3]; https://arxiv.org/abs/1906.08419\n",
    "r_s = 8.1 # DM radial scale for MW NFW profile [kpc]; https://arxiv.org/abs/1906.08419\n",
    "M_sun = 2e30 # [kg]\n",
    "M_bulge = 1.5e10 * M_sun # [kg]\n",
    "c_disk = 0.6 # bulge scale radius [kpc]\n",
    "M_disk = 7e10 * M_sun # [kg]\n",
    "b_disk = 4 # disk scale radius [kpc]\n",
    "R_odot = 8.0 # Sun's distance from centre of MW [kpc]\n",
    "M_SMBH = 4.154e6 * M_sun # [kg]\n",
    "vbar = 220 # [km/s]\n"
   ]
  },
  {
   "cell_type": "markdown",
   "id": "6ff12e88-c74f-464f-80e1-fc27ca5cd048",
   "metadata": {},
   "source": [
    "# functions of $r, s, \\psi, l, b$\n",
    "\n",
    "## velocity dispersions $\\sigma_i(r), \\sigma_\\chi(r)$\n",
    "\n",
    "Baryon velocity dispersion to be updated by Louis and Addy.\n",
    "\n",
    "DM velocity dispersion approximately linear-log from https://arxiv.org/pdf/2111.03076.pdf; using automeris.io data extraction for $r$ < 10 kpc:\n",
    "$$ \\sigma_\\text{3D} \\approx -42.4 \\log_{10}r + 382.2 $$\n",
    "\n",
    "## density distributions $\\rho_i(r), \\rho_\\chi(r)$\n",
    "\n",
    "The distribution functions as written are normalized s.t.\n",
    "\\begin{equation}\n",
    "  \\rho_i (r) = \\int d^3 v_i \\, f_i(r,\\vec{v}_i)\n",
    "\\end{equation}\n",
    "\n",
    "\\begin{equation}\n",
    "  \\rho_\\chi (r) = \\int d^3 v_\\chi \\, f_\\chi(r,\\vec{v}_\\chi)\n",
    "\\end{equation}\n",
    "\n",
    "### DM density distribution\n",
    "\n",
    "Assuming an NFW DM density distribution\n",
    "\\begin{equation}\n",
    "    \\rho(r) = \\frac{\\rho_s}{\\frac{r}{r_s} \\left[ 1 + \\left( \\frac{r}{r_s} \\right) \\right]^{2}},\n",
    "\\end{equation}\n",
    "\n",
    "### baryon density distribution"
   ]
  },
  {
   "cell_type": "code",
   "execution_count": 3,
   "id": "ccadb6c3-e2d0-464e-a7bc-71e2b0938c46",
   "metadata": {},
   "outputs": [
    {
     "data": {
      "text/plain": [
       "[0.0, 1.4760095, 3.5248926, 5.5203085, 7.5050545, 9.5, 11.5, 13.5, 15.5, 50.0]"
      ]
     },
     "execution_count": 3,
     "metadata": {},
     "output_type": "execute_result"
    }
   ],
   "source": [
    "hdul_CO = fits.open('massdensity_CO.fits')\n",
    "data = hdul_CO[0].data # density data, see below\n",
    "\"\"\"\n",
    "density data: hdul_CO[0].data[r bin index, b index, l index]\n",
    "    r bin index: 0 through 8\n",
    "    b index: 0 through 359\n",
    "    l index: 0 through 719\n",
    "    example: hdul_CO[0].data[8, 359, 719]\n",
    "\"\"\"\n",
    "bins = hdul_CO[1].data # radial bin boundaries [kpc]\n",
    "r_bins = [bins[0][0]]\n",
    "for i, j in bins:\n",
    "    r_bins.append(j)\n",
    "r_bins\n",
    "# note GALPROP specifies Rsun = 8.5 kpc, Vsun = 220 km/s "
   ]
  },
  {
   "cell_type": "code",
   "execution_count": 4,
   "id": "22832c11-75d0-4abf-a89b-42002b26feb5",
   "metadata": {},
   "outputs": [
    {
     "data": {
      "text/plain": [
       "FITS_rec([( 0.       ,  1.4760095), ( 1.4760095,  3.5248926),\n",
       "          ( 3.5248926,  5.5203085), ( 5.5203085,  7.5050545),\n",
       "          ( 7.5050545,  9.5      ), ( 9.5      , 11.5      ),\n",
       "          (11.5      , 13.5      ), (13.5      , 15.5      ),\n",
       "          (15.5      , 50.       )],\n",
       "         dtype=(numpy.record, [('Rmin', '>f4'), ('Rmax', '>f4')]))"
      ]
     },
     "execution_count": 4,
     "metadata": {},
     "output_type": "execute_result"
    }
   ],
   "source": [
    "hdul_CO[1].data"
   ]
  },
  {
   "cell_type": "code",
   "execution_count": 5,
   "id": "ffd024a9-2407-4d85-ab27-74fc4cc64b73",
   "metadata": {},
   "outputs": [],
   "source": [
    "b_len, l_len = hdul_CO[0].header['NAXIS2'], hdul_CO[0].header['NAXIS1']\n",
    "b_crval, l_crval = hdul_CO[0].header['CRVAL2'], hdul_CO[0].header['CRVAL1']\n",
    "b_delta, l_delta = hdul_CO[0].header['CDELT2'], hdul_CO[0].header['CDELT1']"
   ]
  },
  {
   "cell_type": "code",
   "execution_count": 6,
   "id": "9e69d63e-0b76-4c41-b026-5a91ad7f8182",
   "metadata": {},
   "outputs": [],
   "source": [
    "bplus = list(np.arange(b_crval, b_crval + b_delta * (b_len/2), b_delta))\n",
    "bminus = list(np.arange(b_crval - b_delta * (b_len/2), b_crval, b_delta))\n",
    "bs = bminus + bplus\n",
    "\n",
    "lplus = list(np.arange(l_crval, l_crval + l_delta * (l_len/2), l_delta))\n",
    "lminus = list(np.arange(l_crval - l_delta * (l_len/2), l_crval, l_delta))\n",
    "ls = lminus + lplus"
   ]
  },
  {
   "cell_type": "code",
   "execution_count": 7,
   "id": "cd849fb4-19de-45fc-ba37-b747aedebba2",
   "metadata": {},
   "outputs": [
    {
     "data": {
      "text/plain": [
       "<matplotlib.colorbar.Colorbar at 0x15ee60370>"
      ]
     },
     "execution_count": 7,
     "metadata": {},
     "output_type": "execute_result"
    },
    {
     "data": {
      "image/png": "[encoded data removed]",
      "text/plain": [
       "<Figure size 720x1080 with 2 Axes>"
      ]
     },
     "metadata": {
      "needs_background": "light"
     },
     "output_type": "display_data"
    }
   ],
   "source": [
    "fig = plt.figure(figsize = (10,15))\n",
    "ax = plt.axes()\n",
    "im = ax.imshow(hdul_CO[0].data[8], cmap='magma', norm=matplotlib.colors.LogNorm())\n",
    "a, b = 0.02, 0.04\n",
    "cax = fig.add_axes([ax.get_position().x1 + a, ax.get_position().y0, b, ax.get_position().height])\n",
    "plt.colorbar(im, cax=cax)"
   ]
  },
  {
   "cell_type": "markdown",
   "id": "c63422e2-0b9d-43c7-b646-7a1b2b5cc297",
   "metadata": {},
   "source": [
    "hdul_co[0].data[r index (max 9), latitude b index (max 359), longitude l index (max 719)]\n",
    "\n",
    "### galactic latitude $b$\n",
    "convention: galactic latitude b ranges from -90 to 90 degrees; steps are in 0.5 degrees (2 * 180 = 360)\n",
    "\n",
    "GALPROP: central value is -89.75, so latitude ranges from -179.75 to -0.25\n",
    "\n",
    "conversion: GALPROP = convention - 90??\n",
    "\n",
    "### galactic longitude $l$\n",
    "convention: galactic longitude l ranges from 0 to 360; steps are in 0.5 degrees (2 * 360 = 720)\n",
    "\n",
    "GALPROP: central value is 0.25, so longitude ranges from -179.75 to +179.75\n",
    "\n",
    "conversion: GALPROP = convention\n"
   ]
  },
  {
   "cell_type": "code",
   "execution_count": 8,
   "id": "bbf1dc46-ae13-4140-b7e8-88a05b06bdc3",
   "metadata": {},
   "outputs": [
    {
     "data": {
      "text/plain": [
       "1.5941501e-28"
      ]
     },
     "execution_count": 8,
     "metadata": {},
     "output_type": "execute_result"
    }
   ],
   "source": [
    "hdul_CO[0].data[8, 180, 360]"
   ]
  },
  {
   "cell_type": "code",
   "execution_count": 9,
   "id": "8089af52-a69e-4ebb-b7ef-d2cdea507ce1",
   "metadata": {},
   "outputs": [],
   "source": [
    "def b_val(b):\n",
    "    \"\"\"\n",
    "    converts GALPROP value for b (-179.75 to -0.25) to the convention of (-90 to 90)\n",
    "    \"\"\"\n",
    "    return b + 90\n",
    "\n",
    "def Psi(b, l):\n",
    "    \"\"\"\n",
    "    returns: value of angle psi in radians\n",
    "    ********\n",
    "    b: galactic latitude [degrees]\n",
    "    l: galactic longitude [degrees]\n",
    "    \"\"\"\n",
    "    return np.arccos( np.cos(np.radians(b_val(b))) * np.cos(np.radians(l)) )\n",
    "\n",
    "\n",
    "def R(s, b, l):\n",
    "    \"\"\"\n",
    "    returns radius in kpc as a function of s, b, l\n",
    "    ********\n",
    "    s: line of sight coordinate [kpc]\n",
    "    b: galactic latitude [degrees]\n",
    "    l: galactic longitude [degrees]\n",
    "    \"\"\"\n",
    "    psi = Psi(b, l)\n",
    "    return np.sqrt(R_odot**2 + s**2 - 2 * R_odot * s * np.cos(psi))\n",
    "\n",
    "\n",
    "def s_max(b, l, R_halo):\n",
    "    \"\"\"\n",
    "    returns maximum value of line-of-sight coordinate in kpc as a function of angles b, l\n",
    "    ********\n",
    "    b: galactic latitude [degrees]\n",
    "    l: galactic longitude [degrees]\n",
    "    R_halo: MW halo radius [kpc]\n",
    "    \"\"\"\n",
    "    psi = Psi(b, l)\n",
    "    return (np.sqrt(R_halo**2 - R_odot**2 * (np.sin(psi))**2)**(1/2) + R_odot * np.cos(psi))\n",
    "\n",
    "\n",
    "def v_dispersion(particle, s, b, l):\n",
    "    # to be updated with functions of r from Louis & Addy\n",
    "    \"\"\"\n",
    "    returns: 3D velocity dispersion in km/s\n",
    "    **********\n",
    "    particle: 'DM', 'He4', 'C12', 'N14', 'O16', 'Fe57'\n",
    "    b: degrees\n",
    "    l: degrees\n",
    "    \"\"\"\n",
    "    r = R(s, b, l)\n",
    "    \n",
    "    if r > r_bins[-1]:\n",
    "        print('no baryon density for this radius, try reducing R_max')\n",
    "        return\n",
    "            \n",
    "    if particle == 'DM':\n",
    "        \"\"\"\n",
    "        dispersion function taken from 2111.03076 Figure 1: r in units kpc, velocity dispersion in units km/s\n",
    "        \"\"\"\n",
    "        return (-42.4 * np.log10(r) + 382.2)\n",
    "    # elif particle == 'He4':\n",
    "        # return function of r\n",
    "    # elif particle == 'C12':\n",
    "        # return function of r\n",
    "    # elif particle == 'N14':\n",
    "        # return function of r\n",
    "    # elif particle == 'O16':\n",
    "        # return function of r\n",
    "    elif particle in ['He4', 'C12', 'N14', 'O16', 'CO', 'Fe57']:\n",
    "        return 10 # units km/s\n",
    "    else:\n",
    "        raise ValueError(\"particle must be one of 'DM', 'He4', 'C12', 'N14', 'O16', 'Fe57'\")\n",
    "\n",
    "def density(particle, s, b, l):\n",
    "    \"\"\"\n",
    "    returns: mass density (which is also the normalization factor for the velocity distribution) \n",
    "             at radius r in GeV/cm^3\n",
    "    **********\n",
    "    particle: 'DM', 'He4', 'C12', 'N14', 'O16', 'CO', 'Fe57'\n",
    "    r: distance from galactic centre in kpc\n",
    "    \"\"\"\n",
    "    r = R(s, b, l)\n",
    "    if r > r_bins[-1]:\n",
    "        print('no baryon density for this radius, try reducing R_max')\n",
    "        return\n",
    "    \n",
    "    if particle == 'DM':\n",
    "        return rho_s / ( (r/r_s) * (1 + r/r_s)**2 ) # units GeV/cm^3\n",
    "    # elif particle == 'He4':\n",
    "        # return function of r\n",
    "    # elif particle == 'C12':\n",
    "        # return function of r\n",
    "    # elif particle == 'N14':\n",
    "        # return function of r\n",
    "    # elif particle == 'O16':\n",
    "        # return function of r\n",
    "    elif particle in ['He4', 'C12', 'N14', 'O16', 'Fe57']:\n",
    "        r_index = bisect.bisect(r_bins, r) - 1 # find radial bin index\n",
    "        rho_i = hdul_CO[0].data[r_index, bs.index(b), ls.index(l)] # units kg/cm^3\n",
    "        return rho_i * GeV_per_kg # convert from kg/cm^3 to GeV/cm^3\n",
    "    else:\n",
    "        raise ValueError(\"particle must be one of 'DM', 'He4', 'C12', 'N14', 'O16', 'Fe57'\")\n",
    "        "
   ]
  },
  {
   "cell_type": "code",
   "execution_count": 10,
   "id": "67ec18d2-de9b-4ed6-bd2c-2e6c27d13efe",
   "metadata": {},
   "outputs": [
    {
     "data": {
      "text/plain": [
       "10.999825128106789"
      ]
     },
     "execution_count": 10,
     "metadata": {},
     "output_type": "execute_result"
    }
   ],
   "source": [
    "s_max(b_crval, l_crval, 9)"
   ]
  },
  {
   "cell_type": "code",
   "execution_count": 11,
   "id": "f9e36405-e13e-4f01-92a0-5ecc0d382ece",
   "metadata": {},
   "outputs": [
    {
     "data": {
      "text/plain": [
       "8.0"
      ]
     },
     "execution_count": 11,
     "metadata": {},
     "output_type": "execute_result"
    }
   ],
   "source": [
    "R(0, b_crval, l_crval)"
   ]
  },
  {
   "cell_type": "code",
   "execution_count": 12,
   "id": "8da2dae4-a253-4fb7-8cb5-740cfac9be3e",
   "metadata": {},
   "outputs": [
    {
     "data": {
      "text/plain": [
       "0.25"
      ]
     },
     "execution_count": 12,
     "metadata": {},
     "output_type": "execute_result"
    }
   ],
   "source": [
    "b_val(b_crval)"
   ]
  },
  {
   "cell_type": "code",
   "execution_count": 13,
   "id": "35e31e17-0563-4ebc-93d6-4f8412206d92",
   "metadata": {},
   "outputs": [
    {
     "data": {
      "text/plain": [
       "<matplotlib.legend.Legend at 0x15f0e1a50>"
      ]
     },
     "execution_count": 13,
     "metadata": {},
     "output_type": "execute_result"
    },
    {
     "data": {
      "image/png": "[encoded data removed]",
      "text/plain": [
       "<Figure size 432x288 with 1 Axes>"
      ]
     },
     "metadata": {
      "needs_background": "light"
     },
     "output_type": "display_data"
    }
   ],
   "source": [
    "s_linspace = np.linspace(0.1, 13, 100)\n",
    "plt.xlabel('line of sight [kpc]', fontsize = 14)\n",
    "plt.ylabel('radius from centre of MW [kpc]', fontsize = 14)\n",
    "plt.plot(s_linspace, R(s_linspace, b_crval, l_crval), label=\"b, l = {}, {} deg\".format(b_val(b_crval), l_crval))\n",
    "plt.legend()\n"
   ]
  },
  {
   "cell_type": "markdown",
   "id": "64d496dd-1d3a-441e-8b7a-4ffa6e808cfe",
   "metadata": {},
   "source": [
    "# photon flux\n",
    "Units cm$^{-2}$ s$^{-1}$ sr$^{-1}$ MeV$^{-1}$\n",
    "\\begin{align}\n",
    "    \\frac{d^2 \\Phi}{dE_\\gamma\\; d\\Omega} &= \\frac{1}{4\\pi} \n",
    "    \\sum_i \n",
    "    \\int d s \\int d^3v_i \\int d^3v_\\chi \\int dE_\\gamma \n",
    "    \\frac{f_i(r(s, \\psi), \\vec{v}_i)}{m_i} \n",
    "     \\frac{f_\\chi(r(s, \\psi), \\vec{v}_\\chi)}{m_\\chi}  \\frac{dN^{i\\chi}}{dE_\\gamma} R_\\epsilon(E-E_\\gamma)\\sigma^\\text{abs}_{i\\chi}(v_r) v_r\n",
    "\\end{align}\n",
    "where\n",
    "\\begin{align}\n",
    "\\sigma &= \\frac{1}{v_\\text{rel}} \\frac{1}{4 E_\\chi E_N} \\int \\frac{d^3p_N^*}{(2\\pi)^3 2E_N^*} (2\\pi)^4 \\delta^4(p_\\chi + p_N - p_N^*) \\langle |\\mathcal{M}|^2 \\rangle \\\\\n",
    "&= \\frac{1}{v_\\text{rel}} \\frac{\\pi}{6 } \\frac{g_\\chi^2 g_A^2 S_\\text{GT}^i}{2J_i + 1} \\frac{(m_N^*)^2}{4 E_\\chi E_N E_N'} \\delta(E_\\chi + E_N - E_N^*)\n",
    "\\end{align}\n"
   ]
  },
  {
   "cell_type": "markdown",
   "id": "e6393587-494d-4ed1-ae11-2a85d04a0ffb",
   "metadata": {},
   "source": [
    "## cross section\n",
    "$$ \\sigma_{i\\chi}^\\text{abs} = \\frac{1}{v_\\text{rel}}\\frac{\\pi}{6}\\frac{1}{ (2J_i + 1)} g_\\chi^2 g_A^2 S_\\text{GT}^i |\\vec{p}_\\chi^\\text{CM}|  $$"
   ]
  },
  {
   "cell_type": "markdown",
   "id": "734c25a1-3fa3-43cd-b814-bd2db48b34f0",
   "metadata": {},
   "source": [
    "## $v_\\chi$ integral\n",
    "<!-- \\begin{align}\n",
    "& m_\\chi \\int d^3v_\\chi \\rho_\\chi(r) \\left(\\frac{1}{2\\pi (\\sigma_\\chi(r))^2} \\right)^{3/2} \\text{e}^{-\\vec{v}_\\chi^2 / 2(\\sigma_\\chi(r))^2} |\\vec{v}^*_\\chi|^2 \\\\\n",
    "&= m_\\chi \\rho_\\chi(r) \\left(\\frac{1}{2\\pi (\\sigma_\\chi(r))^2} \\right)^{3/2} \\int d v_{\\chi x} \\int d v_{\\chi y} \\int d v_{\\chi z} \\exp \\left[ {-\\frac{v_{\\chi x}^2}{2 \\sigma_\\chi^2}} \\right] \\exp \\left[ {-\\frac{v_{\\chi z}^2}{2 \\sigma_\\chi^2}} \\right] \\exp \\left[ {-\\frac{v_{\\chi z}^2}{2 \\sigma_\\chi^2}}\\right] \\times \\left(v_{\\chi x}^2 + v_{\\chi y}^2 + v_{\\chi z}^2\\right) \\\\\n",
    "\\end{align} -->\n",
    "\n",
    "<!-- \\begin{align}&\\frac{1}{m_\\chi} \\int d v_{\\chi x} \\int d v_{\\chi y} \\int d v_{\\chi z} \\exp \\left[ {-\\frac{v_{\\chi x}^2}{2 \\sigma_\\chi^2}} \\right] \\exp \\left[ {-\\frac{v_{\\chi z}^2}{2 \\sigma_\\chi^2}} \\right] \\exp \\left[ {-\\frac{v_{\\chi z}^2}{2 \\sigma_\\chi^2}}\\right] m_\\chi [v_{\\chi x}^2 + v_{\\chi y}^2 + v_{\\chi z}^2]^{1/2} \\\\\n",
    "&= \\int d v_{\\chi x} \\int d v_{\\chi y} \\int d v_{\\chi z} \\exp \\left[ {-\\frac{v_{\\chi x}^2}{2 \\sigma_\\chi^2}} \\right] \\exp \\left[ {-\\frac{v_{\\chi z}^2}{2 \\sigma_\\chi^2}} \\right] \\exp \\left[ {-\\frac{v_{\\chi z}^2}{2 \\sigma_\\chi^2}}\\right] [v_{\\chi x}^2 + v_{\\chi y}^2 + v_{\\chi z}^2]^{1/2}\n",
    "\\end{align} -->\n",
    "<!-- integral bounds are from $v_\\chi = 0$ to $v_\\text{esc} \\approx 537$ km/s -->\n",
    "\n",
    "\\begin{align}\n",
    "& \\int d^3 v_\\chi \\frac{f_\\chi (\\vec{v}_\\chi, r)}{m_\\chi} \\sigma(v_\\text{rel}) v_\\text{rel} \\\\\n",
    "&= \\frac{\\pi}{6} \\frac{g_\\chi^2 g_A^2 S_\\text{GT}^i}{2J_i + 1} \\frac{(m_N^*)^2}{4 E_N E_N'} \\rho_\\chi(r) \\left[ 2\\pi \\sigma_\\chi(r)^2 \\right]^{-3/2} \n",
    "\\int d^3 v_\\chi \\frac{1}{E_\\chi} \\exp \\left[ -\\frac{|\\vec{v}_\\chi|^2}{2\\sigma_\\chi(r)^2} \\right] |\\vec{v}_\\chi|^2 \\frac{\\delta(v_\\chi - V_\\chi^+)}{V_\\chi^+} \\\\\n",
    "&= \\frac{\\pi}{6} \\frac{g_\\chi^2 g_A^2 S_\\text{GT}^i}{2J_i + 1} \\frac{(m_N^*)^2}{4 E_N E_N'} \\rho_\\chi(r) \\left[ 2\\pi \\sigma_\\chi(r)^2 \\right]^{-3/2} \n",
    "\\int d^3 v_\\chi \\frac{1}{m_\\chi + \\frac{1}{2} m_\\chi v_\\chi^2} \\exp \\left[ -\\frac{|\\vec{v}_\\chi|^2}{2\\sigma_\\chi(r)^2} \\right] |\\vec{v}_\\chi|^2 \\frac{\\delta(v_\\chi - V_\\chi^+)}{V_\\chi^+} \\\\\n",
    "&= \\frac{\\pi}{6} \\frac{g_\\chi^2 g_A^2 S_\\text{GT}^i}{2J_i + 1} \\frac{(m_N^*)^2}{4 E_N E_N'} \\rho_\\chi(r) \\left[ 2\\pi \\sigma_\\chi(r)^2 \\right]^{-3/2} \n",
    " \\frac{1}{m_\\chi + \\frac{1}{2} m_\\chi (V_\\chi^+)^2}\\exp \\left[ -\\frac{(V_\\chi^+)^2}{2\\sigma_\\chi(r)^2} \\right] V_\\chi^+\n",
    "\\end{align}\n",
    "\n",
    "where\n",
    "\n",
    "$$ V_\\chi^+ (v_i) = \\left[ \\frac{2(\\Delta E - m_\\chi - \\frac{1}{2}m_N v_i^2)}{m_\\chi} \\right]^{1/2} $$"
   ]
  },
  {
   "cell_type": "code",
   "execution_count": 14,
   "id": "229bc889-3ae4-432d-b814-c595c70a10c6",
   "metadata": {},
   "outputs": [],
   "source": [
    "def E_chi(m_chi, v_chi):\n",
    "    \"\"\"\n",
    "    returns: energy of DM particle in units of m_chi\n",
    "    ********\n",
    "    m_chi: DM particle mass [MeV]\n",
    "    v_chi: DM particle velocity [unitless]\n",
    "    \"\"\"\n",
    "    return ( m_chi + (1/2) * m_chi * v_chi**2 )\n",
    "\n",
    "\n",
    "def v_chi_plus(m_N, m_chi, deltaE, v_i):\n",
    "    \"\"\"\n",
    "    returns v_chi unitless\n",
    "    ********\n",
    "    m_N: nucleus mass [MeV]\n",
    "    m_chi: DM mass [MeV]\n",
    "    deltaE: excitation energy [MeV]\n",
    "    v_i unitless\n",
    "    \"\"\"\n",
    "    return np.sqrt( (2 * (deltaE - m_chi - (1/2) * m_N * v_i**2) ) / (m_chi) ) # unitless\n",
    "\n",
    "\n",
    "def Int_v_chi(nucleus, m_N, m_chi, deltaE, s, b, l, v_i):\n",
    "    \"\"\"\n",
    "    returns: integral of DM velocity distribution\n",
    "    **********\n",
    "    deltaE: excitation energy in MeV\n",
    "    m_chi: DM mass in MeV \n",
    "    m_N: nucleus mass in MeV (check)\n",
    "    v_i: nucleus velocity unitless\n",
    "    r: radius from galactic centre in kpc\n",
    "    \"\"\"\n",
    "    if deltaE - m_chi - (1/2) * m_N * v_i**2 < 0:\n",
    "        return 0\n",
    "    \n",
    "    sigma_chi = v_dispersion('DM', s, b, l) # km/s\n",
    "    sigma_chi /= (c/1000) # convert from km/s to unitless\n",
    "    \n",
    "    v_chi = v_chi_plus(m_N, m_chi, deltaE, v_i) # unitless\n",
    "\n",
    "    return ( (1 / E_chi(m_chi, v_chi)) * np.exp(-v_chi**2 / (2 * sigma_chi**2)) *  v_chi) # [GeV^-1]\n"
   ]
  },
  {
   "cell_type": "code",
   "execution_count": 15,
   "id": "5be98ba1-991b-4247-b8b8-765b98c91bed",
   "metadata": {},
   "outputs": [],
   "source": [
    "nuc_info = {'He4': [3758.26, 0.0], 'C12': [11274.78, 0.0], 'N14': [13153.91, 0.0], 'O16': [15033.04, 0.0]}"
   ]
  },
  {
   "cell_type": "code",
   "execution_count": 16,
   "id": "67b4c558-5440-4f55-9e73-0880067f26ea",
   "metadata": {},
   "outputs": [
    {
     "data": {
      "text/plain": [
       "9.295389591218214e-162"
      ]
     },
     "execution_count": 16,
     "metadata": {},
     "output_type": "execute_result"
    }
   ],
   "source": [
    "# test:\n",
    "Int_v_chi(nucleus= 'O16', m_N = nuc_info['O16'][0], m_chi = 16.7, deltaE = 16.732241, s = 1, b = b_crval, l = l_crval, v_i = 537 / (c/1000))"
   ]
  },
  {
   "cell_type": "code",
   "execution_count": 17,
   "id": "3f45742d-657c-45ca-9bed-e9ac11571395",
   "metadata": {},
   "outputs": [],
   "source": [
    "# testing to find what deltaE is needed for a given v_chi_plus, m_chi, m_N, v_i\n",
    "def find_deltaE(v_chi_plus, m_chi, m_N, v_i):\n",
    "    v_i /= c/1000 # convert to unitless\n",
    "    return v_chi_plus**2 * m_chi / 2 + m_chi + 1/2 * m_N * v_i**2"
   ]
  },
  {
   "cell_type": "code",
   "execution_count": 18,
   "id": "5fab3945-3585-4c10-bca6-c54c8423b3b6",
   "metadata": {},
   "outputs": [
    {
     "data": {
      "text/plain": [
       "10.022258494007842"
      ]
     },
     "execution_count": 18,
     "metadata": {},
     "output_type": "execute_result"
    }
   ],
   "source": [
    "find_deltaE(0.00115, 10, 16000, 500)"
   ]
  },
  {
   "cell_type": "code",
   "execution_count": 19,
   "id": "b23a8f54-f061-461b-aed2-f121b737b2e9",
   "metadata": {},
   "outputs": [],
   "source": [
    "def E_N(m_N, v_i):\n",
    "    \"\"\"\n",
    "    returns: nucleus energy in same units as the nuclear mass [MeV]\n",
    "    ********\n",
    "    deltaE: excitation energy [MeV]\n",
    "    m_N: nucleus mass [MeV]\n",
    "    \"\"\"\n",
    "    return ( m_N + (1/2) * m_N * v_i**2 )\n",
    "    \n",
    "\n",
    "def Int_v_i(nucleus, m_N, m_chi, deltaE, s, b, l):\n",
    "    \"\"\"\n",
    "    returns: integral of baryon velocity distribution\n",
    "    **********\n",
    "    deltaE: excitation energy in MeV\n",
    "    m_chi: DM mass in MeV\n",
    "    nucleus: scattering target\n",
    "    r: radius from galactic centre in kpc\n",
    "    \"\"\"\n",
    "    # if m_chi > deltaE:\n",
    "    #     return 0\n",
    "    vb = vbar / (c/1000) # convert from km/s to unitless\n",
    "    \n",
    "    sigma_i = v_dispersion(nucleus, s, b, l) / (c/1000) # convert from km/s to unitless\n",
    "    \n",
    "    def f(v_i):\n",
    "        v_i /= (c/1000) # convert from km/s to unitless        \n",
    "        integrand = ((2 * np.pi) \\\n",
    "        * (1 / E_N(m_N, v_i)) * sigma_i**2 * v_i / vb \\\n",
    "        * (np.exp(- (v_i - vb)**2 / (2 * sigma_i**2) ) - np.exp(- (v_i + vb)**2 / (2 * sigma_i**2) )) \\\n",
    "        * Int_v_chi(nucleus, m_N, m_chi, deltaE, s, b, l, v_i)) # [GeV^-1] * [GeV^-1]\n",
    "        return integrand\n",
    "\n",
    "    return scipy.integrate.quad(f, 0, v_esc)[0] # [GeV^-2]\n",
    "    "
   ]
  },
  {
   "cell_type": "code",
   "execution_count": 20,
   "id": "426af7bd-3664-42f0-a822-6b47d486baec",
   "metadata": {},
   "outputs": [
    {
     "data": {
      "text/plain": [
       "9.548823258055628e-83"
      ]
     },
     "execution_count": 20,
     "metadata": {},
     "output_type": "execute_result"
    }
   ],
   "source": [
    "# test:\n",
    "Int_v_i(nucleus = 'O16', m_N = nuc_info['O16'][0], m_chi = 16.72, deltaE = 16.732241, s = 1, b = b_crval, l = l_crval)\n"
   ]
  },
  {
   "cell_type": "code",
   "execution_count": 21,
   "id": "97bd4945-0432-443f-af13-4f83af0ae937",
   "metadata": {},
   "outputs": [
    {
     "data": {
      "text/plain": [
       "2.126004853978867e-124"
      ]
     },
     "execution_count": 21,
     "metadata": {},
     "output_type": "execute_result"
    }
   ],
   "source": [
    "# test:\n",
    "Int_v_chi(nucleus = 'O16', m_N = nuc_info['O16'][0], m_chi = 16.72, deltaE = 16.732241, s = 1, b = b_crval, l = l_crval, v_i = 268.5/(c/1000))\n"
   ]
  },
  {
   "cell_type": "markdown",
   "id": "86734617-ca34-4789-a458-3b4afff0a5b6",
   "metadata": {},
   "source": [
    "# $dN/dE$\n",
    "\n",
    "$$ \\frac{dN^{i\\chi}}{dE_\\gamma} = \\delta(\\Delta E - E_\\gamma),$$\n",
    "for true gamma ray energy $E_\\gamma$\n",
    "$$ R_\\epsilon(E-E_\\gamma) \\approx \\frac{1}{\\sqrt{2\\pi\\epsilon^2 E_\\gamma^2}} \\exp \\left[ -\\frac{(E-E_\\gamma)^2}{2\\epsilon^2 E_\\gamma^2} \\right]$$\n",
    "\n",
    "\\begin{align}\n",
    "\\int dE_\\gamma ~\\frac{dN^{i\\chi}}{dE_\\gamma} R_\\epsilon(E-E_\\gamma) &= \\int dE_\\gamma ~\\delta(\\Delta E - E_\\gamma) ~R_\\epsilon(E-E_\\gamma) \\\\\n",
    "&= R_\\epsilon(E-\\Delta E) \\\\\n",
    "&= \\frac{1}{\\sqrt{2\\pi\\epsilon^2 (\\Delta E)^2}} \\exp \\left[ -\\frac{(E-\\Delta E)^2}{2\\epsilon^2 (\\Delta E)^2} \\right]\n",
    "\\end{align}"
   ]
  },
  {
   "cell_type": "code",
   "execution_count": 22,
   "id": "829c8510-e590-4a65-b0a5-7f2861ca4a7d",
   "metadata": {},
   "outputs": [],
   "source": [
    "def R_epsilon(epsilon, E, deltaE):\n",
    "    \"\"\"\n",
    "    returns gaussian function in units MeV^(-1)\n",
    "    ********\n",
    "    epsilon:\n",
    "    E: observed photon energy [MeV]\n",
    "    E_gamma: true photon energy [MeV]\n",
    "    \"\"\"\n",
    "\n",
    "    return (np.sqrt(2 * np.pi) * epsilon * deltaE)**(-1) * np.exp(-(E - deltaE)**2 / (2 * epsilon**2 * deltaE**2))"
   ]
  },
  {
   "cell_type": "markdown",
   "id": "8bdd433c-c9cc-4707-be9f-38e596ca8c6e",
   "metadata": {},
   "source": [
    "# line of sight integral"
   ]
  },
  {
   "cell_type": "code",
   "execution_count": 23,
   "id": "7df6d412-de23-41cb-8426-8f9f0bd356e5",
   "metadata": {},
   "outputs": [],
   "source": [
    "def Int_los(nucleus, m_N, m_chi, deltaE, b, l, R_max):\n",
    "    \"\"\"\n",
    "    returns:\n",
    "    ********\n",
    "    \"\"\"\n",
    "    \n",
    "    def f(s):\n",
    "        r = R(s, b, l)\n",
    "        if r > r_bins[-1]:\n",
    "            print('no baryon density for this radius, try reducing R_max')\n",
    "            return\n",
    "            \n",
    "        rho_i = density(nucleus, s, b, l) # [GeV/cm^3]\n",
    "        rho_chi = density('DM', s, b, l) # [GeV/cm^3]\n",
    "        sigma_i = v_dispersion(nucleus, s, b, l) / (c/1000) # convert from km/s to unitless\n",
    "        sigma_chi = v_dispersion('DM', s, b, l) / (c/1000) # convert from km/s to unitless\n",
    "        \n",
    "        return rho_i * rho_chi * ( (2*np.pi)**2 * sigma_i**2 * sigma_chi**2 )**(-3/2) * Int_v_i(nucleus, m_N, m_chi, deltaE, s, b, l)\n",
    "        # [GeV/cm^3] * [GeV/cm^3] * unitless * [GeV^-2]\n",
    "    \n",
    "    return quad(f, 0, s_max(b, l, R_max))[0] # [cm * cm^-6] = [cm^-5]\n",
    "    \n",
    "    "
   ]
  },
  {
   "cell_type": "code",
   "execution_count": 24,
   "id": "79b40b3e-8685-4356-a4be-65bcf78b29b8",
   "metadata": {},
   "outputs": [
    {
     "data": {
      "text/plain": [
       "1.6093550313795277e-09"
      ]
     },
     "execution_count": 24,
     "metadata": {},
     "output_type": "execute_result"
    }
   ],
   "source": [
    "# test:\n",
    "Int_los(nucleus = 'O16', m_N = nuc_info['O16'][0], m_chi = 16.73, deltaE = 16.732241, b = b_crval, l = b_crval, R_max = R_odot*10)\n"
   ]
  },
  {
   "cell_type": "code",
   "execution_count": 25,
   "id": "c38ed860-7d80-45e1-b4aa-571e2f966d19",
   "metadata": {},
   "outputs": [],
   "source": [
    "def write_nuc_files():\n",
    "    \"\"\"\n",
    "    writes text files from Wei-Chih's code\n",
    "    \"\"\"\n",
    "    for nuc in ['he4', 'c12', 'n14', 'o16']:#, 'Fe57': 'fe57]\n",
    "        NucDict = {'he4': 'He4', 'c12': 'C12', 'n14': 'N14', 'o16': 'O16'}#, 'Fe57': 'fe57'}\n",
    "        mass, spin, _, nuc_exc_data = get_mA_Ji(nuc)\n",
    "        m_N, J_N, nuc_exc = mass[0], spin[0], nuc_exc_data[0] # nuclear mass [MeV], nuclear spin, nuclear excitation energy [MeV] and GT strength\n",
    "        dEs, GTs = nuc_exc[:, 0], nuc_exc[:, 1]\n",
    "        print(nuc)\n",
    "        print([m_N, J_N])\n",
    "        GT_sum = np.sum(GTs)\n",
    "    \n",
    "        dat = {'E_gamma [MeV]': dEs, 'GT strength': GTs}\n",
    "        df = pd.DataFrame(dat)\n",
    "        df.to_csv('{}_{}_{}.txt'.format(NucDict[nuc], mass[0], spin[0]), sep='\\t', index=False)\n",
    "    return\n"
   ]
  },
  {
   "cell_type": "code",
   "execution_count": 26,
   "id": "9dc5dfd9-6e62-47c7-9a84-512ceb7d7e83",
   "metadata": {},
   "outputs": [],
   "source": [
    "def flux_w_conv(g_chi, g_A, nucleus, m_chi, b, l, R_max, epsilon, E):\n",
    "    \"\"\"\n",
    "    returns: \n",
    "    **********\n",
    "    g_chi: [MeV^-1]\n",
    "    g_A: axial form factor (unitless)\n",
    "    \"\"\"\n",
    "    nuc_info = {'He4': [3758.26, 0.0], 'C12': [11274.78, 0.0], 'N14': [13153.91, 0.0], 'O16': [15033.04, 0.0]}\n",
    "    datafile = '{}_{}_{}.txt'.format(nucleus, nuc_info[nucleus][0], nuc_info[nucleus][1])\n",
    "    df = pd.read_csv(datafile, sep='\\t', names=['E_gamma [MeV]', 'GT strength'], skiprows=1)\n",
    "    \n",
    "    flux_arr = []\n",
    "    nucDict = {'He4': 'he4', 'C12': 'c12', 'N14': 'n14', 'O16': 'o16', 'Fe57': 'fe57'}\n",
    "\n",
    "    m_N = nuc_info[nucleus][0]\n",
    "    J_N = nuc_info[nucleus][1]\n",
    "    dEs = df['E_gamma [MeV]']\n",
    "    GTs = df['GT strength']\n",
    "    nucl_exc = zip(dEs, GTs)\n",
    "    GT_sum = np.sum(GTs)\n",
    "    flux_tot = 0\n",
    "\n",
    "    for dE, GT in nucl_exc:\n",
    "        Int = Int_los(nucleus, m_N, m_chi, dE, b, l, R_max) # [cm^-5]\n",
    "        dNdgamma = GT / GT_sum\n",
    "        R = R_epsilon(epsilon, E, dE) # [MeV^-1]\n",
    "        flux = ((1/24 * g_chi**2 * g_A**2 / (2*J_N + 1)) * (m_N + dE)/m_N * Int * dNdgamma * R * (100*c) * (cm_per_invMeV)**2)\n",
    "        flux_tot += flux\n",
    "        flux_arr.append(flux) # [cm^-5 * MeV^-1 * cm/s * cm^2 MeV^2] = [cm^-2 s^-1 MeV]\n",
    "    \n",
    "    return dEs, np.array(flux_arr), flux_tot # [cm^-2 s^-1 MeV^-1]\n"
   ]
  },
  {
   "cell_type": "code",
   "execution_count": 27,
   "id": "792aec66-0306-4039-97da-dfeec19b70c2",
   "metadata": {},
   "outputs": [],
   "source": [
    "Odata = '{}_{}_{}.txt'.format('O16', nuc_info['O16'][0], nuc_info['O16'][1])\n",
    "Cdata = '{}_{}_{}.txt'.format('C12', nuc_info['C12'][0], nuc_info['C12'][1])\n",
    "Odf = pd.read_csv(Odata, sep='\\t', names=['E_gamma [MeV]', 'GT strength'], skiprows=1)\n",
    "Cdf = pd.read_csv(Cdata, sep='\\t', names=['E_gamma [MeV]', 'GT strength'], skiprows=1)\n",
    "OdEs = Odf['E_gamma [MeV]']\n",
    "CdEs = Cdf['E_gamma [MeV]']\n",
    "# using O & C min/max for energy values for flux calculation:\n",
    "E_min = min(min(OdEs), min(CdEs))\n",
    "E_max = max(max(OdEs), max(CdEs))\n"
   ]
  },
  {
   "cell_type": "code",
   "execution_count": 28,
   "id": "ae40350d-40cc-42d0-9dd5-7e71c51bfaff",
   "metadata": {},
   "outputs": [],
   "source": [
    "energy = np.linspace(E_min, E_max, 100)"
   ]
  },
  {
   "cell_type": "code",
   "execution_count": 29,
   "id": "f927cc15-bb8c-4b19-8471-0d0a6f1d7876",
   "metadata": {},
   "outputs": [],
   "source": [
    "def CO_flux_fx(g_chi, g_A, m_chi, b, l, R_max, epsilon):\n",
    "    \"\"\"\n",
    "    computes CO flux - takes a few mins!\n",
    "    ********\n",
    "    epsilon: decimal from 0 to 1\n",
    "    \"\"\"\n",
    "    CO_flux = []\n",
    "    for E in energy:\n",
    "        O_flux = flux_w_conv(g_chi, g_A, 'O16', m_chi, b, l, R_max, epsilon, E)[2]\n",
    "        C_flux = flux_w_conv(g_chi, g_A, 'C12', m_chi, b, l, R_max, epsilon, E)[2]\n",
    "        CO_flux.append(O_flux + C_flux)\n",
    "\n",
    "    dat = {'Photon energy [MeV]': energy, 'CO flux [cm^-2 s^-1 MeV^-1]': CO_flux}\n",
    "    #, 'g_chi': 1, 'g_A': 1, 'b (deg)': b_crval, 'l [deg]': l_crval, 'R_max [kpc]': 10*R_odot}\n",
    "    df = pd.DataFrame(dat)\n",
    "    df.to_csv('mchi_{}MeV_gA_{}_gchi_{}_b_{}deg_l_{}deg_Rmax_{}kpc_epsilon_{}.txt'.format(m_chi, g_A, g_chi, b, l, R_max, 100*epsilon), sep='\\t', index=False)\n",
    "    return CO_flux\n"
   ]
  },
  {
   "cell_type": "code",
   "execution_count": 30,
   "id": "601ad8e6-8b84-451d-8532-9af52f333d16",
   "metadata": {},
   "outputs": [],
   "source": [
    "# computes CO flux - takes a few mins!\n",
    "CO_total_flux = CO_flux_fx(1, 1, 20.7, b_crval, l_crval, 10 * R_odot, 0.01)"
   ]
  },
  {
   "cell_type": "code",
   "execution_count": 31,
   "id": "66641655-9acb-439b-bcdc-e130e8c7da3c",
   "metadata": {},
   "outputs": [],
   "source": [
    "# computes CO flux - takes a few mins!\n",
    "# CO_total_flux = CO_flux_fx(1, 1, 20.7, b_crval, l_crval, 10 * R_odot, 0.01)"
   ]
  },
  {
   "cell_type": "code",
   "execution_count": 40,
   "id": "df340a1f-41d9-4ec4-b0a7-e1e61cffb3a7",
   "metadata": {},
   "outputs": [],
   "source": [
    "def flux_plot(g_chi, g_A, m_chi, b, l, R_max, epsilon):\n",
    "    \"\"\"\n",
    "    plots from .txt file\n",
    "    \"\"\"\n",
    "    df = pd.read_csv('mchi_{}MeV_gA_{}_gchi_{}_b_{}deg_l_{}deg_Rmax_{}kpc_epsilon_{}pc.txt'.format(m_chi, g_A, g_chi, b, l, R_max, 100*epsilon),\\\n",
    "                     sep='\\t', \\\n",
    "                     names=['Photon energy [MeV]', 'CO flux [cm^-2 s^-1 MeV^-1]'],\\\n",
    "                     skiprows=1)\n",
    "    plt.figure(figsize = (12, 8))\n",
    "    plt.xscale('log'); plt.yscale('log')\n",
    "    plt.yticks(fontsize = 14)\n",
    "    plt.grid(which = 'both', linestyle = 'dotted')\n",
    "    plt.xlim(10,3e1)\n",
    "    plt.ylim(1e-49)\n",
    "    # plt.xlim(df['Photon energy [MeV]'][0], df['Photon energy [MeV]'].iat[-1])\n",
    "    plt.xlabel('Observed photon energy  [MeV]', fontsize = 14)\n",
    "    plt.ylabel(r'$d^2\\Phi ~/~ dE_\\gamma ~d\\Omega$  [cm$^{-2}$ s$^{-1}$ sr$^{-1}$ MeV$^{-1}$]', fontsize = 14)\n",
    "    plt.title(r'CO: $m_\\chi$ = {} MeV,  $g_A$ = {},  $g_\\chi$ = {},  $\\epsilon$ = {}%'.format(m_chi, g_A, g_chi, 100*epsilon), fontsize = 16)\n",
    "    plt.plot(df['Photon energy [MeV]'], (df['Photon energy [MeV]'])**2 * df['CO flux [cm^-2 s^-1 MeV^-1]'], color = 'k')\n",
    "    plt.plot(df['Photon energy [MeV]'], df['CO flux [cm^-2 s^-1 MeV^-1]'], color = 'r')\n",
    "    # plt.scatter(energy, CO_total_flux, color = 'k')\n",
    "    plt.xticks(size = 14); plt.xticks(size = 14, minor = True)\n",
    "    # plt.savefig('mchi_{}MeV_gA_{}_gchi_{}_b_{}deg_l_{}deg_Rmax_{}kpc_epsilon_{}.pdf'.format(m_chi, g_A, g_chi, b, l, R_max, 100*epsilon))\n",
    "\n",
    "    return"
   ]
  },
  {
   "cell_type": "code",
   "execution_count": 41,
   "id": "5de9f303-da04-4e49-90f4-7d2a6c7d5b75",
   "metadata": {},
   "outputs": [
    {
     "data": {
      "image/png": "[encoded data removed]",
      "text/plain": [
       "<Figure size 864x576 with 1 Axes>"
      ]
     },
     "metadata": {
      "needs_background": "light"
     },
     "output_type": "display_data"
    }
   ],
   "source": [
    "flux_plot(1, 1, 16.72, b_crval, l_crval, 10 * R_odot, 0.01)"
   ]
  },
  {
   "cell_type": "code",
   "execution_count": null,
   "id": "bd7bcdac-9fd3-4531-8c51-c19ea53de694",
   "metadata": {},
   "outputs": [],
   "source": []
  }
 ],
 "metadata": {
  "kernelspec": {
   "display_name": "Python 3 (ipykernel)",
   "language": "python",
   "name": "python3"
  },
  "language_info": {
   "codemirror_mode": {
    "name": "ipython",
    "version": 3
   },
   "file_extension": ".py",
   "mimetype": "text/x-python",
   "name": "python",
   "nbconvert_exporter": "python",
   "pygments_lexer": "ipython3",
   "version": "3.10.7"
  }
 },
 "nbformat": 4,
 "nbformat_minor": 5
}
