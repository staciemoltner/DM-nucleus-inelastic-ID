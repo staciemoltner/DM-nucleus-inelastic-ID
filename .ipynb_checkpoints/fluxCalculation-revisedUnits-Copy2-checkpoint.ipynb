{
 "cells": [
  {
   "cell_type": "code",
   "execution_count": 1,
   "id": "6d06bc56-aa74-449d-a17f-31d6b4291f75",
   "metadata": {},
   "outputs": [],
   "source": [
    "import sys\n",
    "import numpy as np\n",
    "import math\n",
    "import matplotlib\n",
    "import matplotlib.pyplot as plt\n",
    "import scipy.integrate\n",
    "from scipy.integrate import quad\n",
    "import pandas as pd\n",
    "import bisect #\n",
    "from astropy.io import fits\n",
    "from astropy import constants as const\n",
    "from astropy import units as u\n",
    "import time"
   ]
  },
  {
   "cell_type": "code",
   "execution_count": 2,
   "id": "f9afb99c-c30d-4545-9987-78be5376a4a8",
   "metadata": {},
   "outputs": [],
   "source": [
    "# natural & conversion constants\n",
    "# k_B = 8.617e-5 # [eV/K]\n",
    "c = 2.998e8 # speed of light [m/s]\n",
    "# G = 6.674e-11 # [N m^2 kg^-2]\n",
    "GeV_per_kg = 5.625e26\n",
    "cm_per_kpc = 3.086e21\n",
    "m_per_kpc = cm_per_kpc/100\n",
    "MeV_per_invcm = 1.240e-10\n",
    "cm_per_invMeV = 1/MeV_per_invcm\n",
    "\n",
    "# constants\n",
    "v_esc = 537 # Milky Way escape velocity [km/s]\n",
    "rho_s = 0.51 # DM radial scale for MW NFW profile [GeV/cm^3]; https://arxiv.org/abs/1906.08419\n",
    "r_s = 8.1 # DM radial scale for MW NFW profile [kpc]; https://arxiv.org/abs/1906.08419\n",
    "M_sun = 2e30 # [kg]\n",
    "M_bulge = 1.5e10 * M_sun # [kg]\n",
    "c_disk = 0.6 # bulge scale radius [kpc]\n",
    "M_disk = 7e10 * M_sun # [kg]\n",
    "b_disk = 4 # disk scale radius [kpc]\n",
    "R_odot = 8.0 # Sun's distance from centre of MW [kpc]\n",
    "M_SMBH = 4.154e6 * M_sun # [kg]\n",
    "vbar = 220 # [km/s]\n"
   ]
  },
  {
   "cell_type": "code",
   "execution_count": 3,
   "id": "b471c2f8-e8b0-44cf-9ae8-db38268e46fc",
   "metadata": {},
   "outputs": [],
   "source": [
    "# ckms=const.c.to('km/s')\n",
    "# type(ckms)"
   ]
  },
  {
   "cell_type": "code",
   "execution_count": 4,
   "id": "3dbcfc35-0776-48bb-8e13-d504f422c657",
   "metadata": {},
   "outputs": [],
   "source": [
    "# u.spectral()"
   ]
  },
  {
   "cell_type": "code",
   "execution_count": 5,
   "id": "cae6d952-dfd4-464c-8842-c85d401fa9ce",
   "metadata": {},
   "outputs": [],
   "source": [
    "# q = 1 * u.cm\n",
    "# q.to_value(u.meter)"
   ]
  },
  {
   "cell_type": "code",
   "execution_count": 6,
   "id": "f907cd59-ae68-4571-9dd2-ab3a3a4de91a",
   "metadata": {},
   "outputs": [],
   "source": [
    "# 1/1.7e-27"
   ]
  },
  {
   "cell_type": "markdown",
   "id": "6ff12e88-c74f-464f-80e1-fc27ca5cd048",
   "metadata": {},
   "source": [
    "# functions of $r, s, \\psi, l, b$\n",
    "\n",
    "## velocity dispersions $\\sigma_i(r), \\sigma_\\chi(r)$\n",
    "\n",
    "Baryon velocity dispersion to be updated by Louis and Addy.\n",
    "\n",
    "DM velocity dispersion approximately linear-log from https://arxiv.org/pdf/2111.03076.pdf; using automeris.io data extraction for $r$ < 10 kpc:\n",
    "$$ \\sigma_\\text{3D} \\approx -42.4 \\log_{10}r + 382.2 $$\n",
    "\n",
    "## density distributions $\\rho_i(r), \\rho_\\chi(r)$\n",
    "\n",
    "The distribution functions as written are normalized s.t.\n",
    "\\begin{equation}\n",
    "  \\rho_i (r) = \\int d^3 v_i \\, f_i(r,\\vec{v}_i)\n",
    "\\end{equation}\n",
    "\n",
    "\\begin{equation}\n",
    "  \\rho_\\chi (r) = \\int d^3 v_\\chi \\, f_\\chi(r,\\vec{v}_\\chi)\n",
    "\\end{equation}\n",
    "\n",
    "### DM density distribution\n",
    "\n",
    "Assuming an NFW DM density distribution\n",
    "\\begin{equation}\n",
    "    \\rho(r) = \\frac{\\rho_s}{\\frac{r}{r_s} \\left[ 1 + \\left( \\frac{r}{r_s} \\right) \\right]^{2}},\n",
    "\\end{equation}\n",
    "\n",
    "### baryon density distribution"
   ]
  },
  {
   "cell_type": "code",
   "execution_count": 7,
   "id": "ccadb6c3-e2d0-464e-a7bc-71e2b0938c46",
   "metadata": {},
   "outputs": [
    {
     "data": {
      "text/plain": [
       "[0.0, 1.4760095, 3.5248926, 5.5203085, 7.5050545, 9.5, 11.5, 13.5, 15.5, 50.0]"
      ]
     },
     "execution_count": 7,
     "metadata": {},
     "output_type": "execute_result"
    }
   ],
   "source": [
    "hdul_CO = fits.open('massdensity_CO.fits')\n",
    "data = hdul_CO[0].data # density data, see below\n",
    "\"\"\"\n",
    "density data: hdul_CO[0].data[r bin index, b index, l index]\n",
    "    r bin index: 0 through 8\n",
    "    b index: 0 through 359\n",
    "    l index: 0 through 719\n",
    "    example: hdul_CO[0].data[8, 359, 719]\n",
    "    gives the density in kg/cm^3 for a given (r, b, l)\n",
    "\"\"\"\n",
    "bins = hdul_CO[1].data # radial bin boundaries [kpc]\n",
    "r_bins = [bins[0][0]] # r bin smallest value\n",
    "for i, j in bins: # creating r bins from GALPROP increments\n",
    "    r_bins.append(j)\n",
    "r_bins\n",
    "# note GALPROP specifies Rsun = 8.5 kpc, Vsun = 220 km/s "
   ]
  },
  {
   "cell_type": "code",
   "execution_count": 8,
   "id": "22832c11-75d0-4abf-a89b-42002b26feb5",
   "metadata": {},
   "outputs": [
    {
     "data": {
      "text/plain": [
       "FITS_rec([( 0.       ,  1.4760095), ( 1.4760095,  3.5248926),\n",
       "          ( 3.5248926,  5.5203085), ( 5.5203085,  7.5050545),\n",
       "          ( 7.5050545,  9.5      ), ( 9.5      , 11.5      ),\n",
       "          (11.5      , 13.5      ), (13.5      , 15.5      ),\n",
       "          (15.5      , 50.       )],\n",
       "         dtype=(numpy.record, [('Rmin', '>f4'), ('Rmax', '>f4')]))"
      ]
     },
     "execution_count": 8,
     "metadata": {},
     "output_type": "execute_result"
    }
   ],
   "source": [
    "hdul_CO[1].data"
   ]
  },
  {
   "cell_type": "code",
   "execution_count": 9,
   "id": "ffd024a9-2407-4d85-ab27-74fc4cc64b73",
   "metadata": {},
   "outputs": [],
   "source": [
    "b_len, l_len = hdul_CO[0].header['NAXIS2'], hdul_CO[0].header['NAXIS1'] # length of b, l arrays\n",
    "b_crval, l_crval = hdul_CO[0].header['CRVAL2'], hdul_CO[0].header['CRVAL1'] # central values of b,l\n",
    "b_delta, l_delta = hdul_CO[0].header['CDELT2'], hdul_CO[0].header['CDELT1'] # increments for b, l"
   ]
  },
  {
   "cell_type": "code",
   "execution_count": 10,
   "id": "9e69d63e-0b76-4c41-b026-5a91ad7f8182",
   "metadata": {},
   "outputs": [],
   "source": [
    "bplus = list(np.arange(b_crval, b_crval + b_delta * (b_len/2), b_delta))\n",
    "bminus = list(np.arange(b_crval - b_delta * (b_len/2), b_crval, b_delta))\n",
    "bs = bminus + bplus\n",
    "\n",
    "lplus = list(np.arange(l_crval, l_crval + l_delta * (l_len/2), l_delta))\n",
    "lminus = list(np.arange(l_crval - l_delta * (l_len/2), l_crval, l_delta))\n",
    "ls = lminus + lplus"
   ]
  },
  {
   "cell_type": "code",
   "execution_count": 11,
   "id": "cd849fb4-19de-45fc-ba37-b747aedebba2",
   "metadata": {},
   "outputs": [
    {
     "data": {
      "text/plain": [
       "<matplotlib.colorbar.Colorbar at 0x137e39570>"
      ]
     },
     "execution_count": 11,
     "metadata": {},
     "output_type": "execute_result"
    },
    {
     "data": {
      "image/png": "[encoded data removed]",
      "text/plain": [
       "<Figure size 720x1080 with 2 Axes>"
      ]
     },
     "metadata": {
      "needs_background": "light"
     },
     "output_type": "display_data"
    }
   ],
   "source": [
    "fig = plt.figure(figsize = (10,15))\n",
    "ax = plt.axes()\n",
    "im = ax.imshow(hdul_CO[0].data[4], cmap='magma', norm=matplotlib.colors.LogNorm())\n",
    "a, b = 0.02, 0.04\n",
    "cax = fig.add_axes([ax.get_position().x1 + a, ax.get_position().y0, b, ax.get_position().height])\n",
    "plt.colorbar(im, cax=cax)"
   ]
  },
  {
   "cell_type": "markdown",
   "id": "c63422e2-0b9d-43c7-b646-7a1b2b5cc297",
   "metadata": {},
   "source": [
    "hdul_co[0].data[r index (max 9), latitude b index (max 359), longitude l index (max 719)]\n",
    "\n",
    "### galactic latitude $b$\n",
    "convention: galactic latitude b ranges from -90 to 90 degrees; steps are in 0.5 degrees (2 * 180 = 360)\n",
    "\n",
    "GALPROP: central value is -89.75, so latitude ranges from -179.75 to -0.25\n",
    "\n",
    "conversion: GALPROP = convention - 90??\n",
    "\n",
    "### galactic longitude $l$\n",
    "convention: galactic longitude l ranges from 0 to 360; steps are in 0.5 degrees (2 * 360 = 720)\n",
    "\n",
    "GALPROP: central value is 0.25, so longitude ranges from -179.75 to +179.75\n",
    "\n",
    "conversion: GALPROP = convention\n"
   ]
  },
  {
   "cell_type": "code",
   "execution_count": 12,
   "id": "bbf1dc46-ae13-4140-b7e8-88a05b06bdc3",
   "metadata": {},
   "outputs": [
    {
     "data": {
      "text/plain": [
       "1.5941501e-28"
      ]
     },
     "execution_count": 12,
     "metadata": {},
     "output_type": "execute_result"
    }
   ],
   "source": [
    "hdul_CO[0].data[8, 180, 360]"
   ]
  },
  {
   "cell_type": "code",
   "execution_count": 13,
   "id": "8089af52-a69e-4ebb-b7ef-d2cdea507ce1",
   "metadata": {},
   "outputs": [],
   "source": [
    "def b_val(b):\n",
    "    \"\"\"\n",
    "    converts GALPROP value for b (-179.75 to -0.25) to the standard convention of (-90 to 90)\n",
    "    returns new b in degrees\n",
    "    central value becomes 0.25, so new b ranges from (-89.75 to 89.75)\n",
    "    \"\"\"\n",
    "    return b + 90\n",
    "\n",
    "def Psi(b, l):\n",
    "    \"\"\"\n",
    "    returns: value of angle psi in radians\n",
    "    ********\n",
    "    b: galactic latitude [degrees] in GALPROP convention\n",
    "    l: galactic longitude [degrees] in GALPROP/standard convention\n",
    "    \"\"\"\n",
    "    # first convert b to standard convention using b_val(b)\n",
    "    return np.arccos( np.cos(np.radians(b_val(b))) * np.cos(np.radians(l)) )\n",
    "\n",
    "\n",
    "def R(s, b, l):\n",
    "    \"\"\"\n",
    "    returns radius [kpc] as a function of s, b, l\n",
    "    ********\n",
    "    s: line of sight coordinate [kpc]\n",
    "    b: galactic latitude [degrees] in GALPROP convention\n",
    "    l: galactic longitude [degrees] in GALPROP/standard convention\n",
    "    \"\"\"\n",
    "    psi = Psi(b, l)\n",
    "    return np.sqrt(R_odot**2 + s**2 - 2 * R_odot * s * np.cos(psi))\n",
    "\n",
    "\n",
    "def s_max(b, l, R_halo):\n",
    "    \"\"\"\n",
    "    returns maximum value of line-of-sight coordinate [kpc] as a function of angles b, l, and the halo scale R_halo\n",
    "    ********\n",
    "    b: galactic latitude [degrees] in GALPROP convention\n",
    "    l: galactic longitude [degrees] in GALPROP/standard convention\n",
    "    R_halo: MW halo radius [kpc]\n",
    "    \"\"\"\n",
    "    psi = Psi(b, l)\n",
    "    return (np.sqrt(R_halo**2 - R_odot**2 * (np.sin(psi))**2)**(1/2) + R_odot * np.cos(psi))\n",
    "\n",
    "\n",
    "def v_dispersion(particle, s, b, l):\n",
    "    # to be updated with functions of r from Louis & Addy\n",
    "    \"\"\"\n",
    "    returns: 3D velocity dispersion in km/s\n",
    "    **********\n",
    "    particle: 'DM', 'He4', 'C12', 'N14', 'O16', 'Fe57'\n",
    "    b: galactic latitude [degrees] in GALPROP convention\n",
    "    l: galactic longitude [degrees] in GALPROP/standard convention\n",
    "    \"\"\"\n",
    "    r = R(s, b, l)\n",
    "    \n",
    "    if r > r_bins[-1]:\n",
    "        print('no baryon density for this radius, try reducing R_max')\n",
    "        return\n",
    "            \n",
    "    if particle == 'DM':\n",
    "        \"\"\"\n",
    "        dispersion function taken from 2111.03076 Figure 1: r in units kpc, velocity dispersion in units km/s\n",
    "        \"\"\"\n",
    "        return (-42.4 * np.log10(r) + 382.2) # [km/s]\n",
    "    # elif particle == 'He4':\n",
    "        # return function of r\n",
    "    # elif particle == 'C12':\n",
    "        # return function of r\n",
    "    # elif particle == 'N14':\n",
    "        # return function of r\n",
    "    # elif particle == 'O16':\n",
    "        # return function of r\n",
    "    elif particle in ['He4', 'C12', 'N14', 'O16', 'CO', 'Fe57']:\n",
    "        return 10 # [km/s]\n",
    "    else:\n",
    "        raise ValueError(\"particle must be one of 'DM', 'He4', 'C12', 'N14', 'O16', 'Fe57'\")\n",
    "\n",
    "def density(particle, s, b, l):\n",
    "    \"\"\"\n",
    "    returns: mass density [GeV/cm^3] at radius r\n",
    "             (which is also the normalization factor for the velocity distribution)\n",
    "    **********\n",
    "    particle: 'DM', 'He4', 'C12', 'N14', 'O16', 'CO', 'Fe57'\n",
    "    l: line of sight distance in kpc\n",
    "    b: galactic latitude [degrees] in GALPROP convention\n",
    "    l: galactic longitude [degrees] in GALPROP/standard convention    \n",
    "    \"\"\"\n",
    "    r = R(s, b, l)\n",
    "    if r > r_bins[-1]:\n",
    "        print('no baryon density for this radius, try reducing R_max')\n",
    "        return\n",
    "    \n",
    "    if particle == 'DM':\n",
    "        return rho_s / ( (r/r_s) * (1 + r/r_s)**2 ) # units GeV/cm^3\n",
    "    # elif particle == 'He4':\n",
    "        # return function of r\n",
    "    # elif particle == 'C12':\n",
    "        # return function of r\n",
    "    # elif particle == 'N14':\n",
    "        # return function of r\n",
    "    # elif particle == 'O16':\n",
    "        # return function of r\n",
    "    elif particle in ['He4', 'C12', 'N14', 'O16', 'Fe57']:\n",
    "        r_index = bisect.bisect(r_bins, r) - 1 # find radial bin index\n",
    "        # print(r_index)\n",
    "        rho_i = hdul_CO[0].data[r_index, bs.index(b), ls.index(l)] # units kg/cm^3\n",
    "        return rho_i * GeV_per_kg # convert from kg/cm^3 to GeV/cm^3\n",
    "    else:\n",
    "        raise ValueError(\"particle must be one of 'DM', 'He4', 'C12', 'N14', 'O16', 'Fe57'\")\n",
    "        "
   ]
  },
  {
   "cell_type": "code",
   "execution_count": 14,
   "id": "3e6a454b-a8bb-4ed6-b963-e89e7f48f4a4",
   "metadata": {},
   "outputs": [
    {
     "data": {
      "text/plain": [
       "array([7.90161692, 7.66286084, 7.42437081, 7.1861733 , 6.9482984 ,\n",
       "       6.71078042, 6.47365864, 6.23697825, 6.00079148, 5.765159  ,\n",
       "       5.53015166, 5.29585268, 5.06236042, 4.82979189, 4.59828724,\n",
       "       4.36801562, 4.13918285, 3.91204142, 3.68690393, 3.46416113,\n",
       "       3.24430628, 3.02796851, 2.81595856, 2.60933154, 2.4094727 ,\n",
       "       2.21821224, 2.03797241, 1.8719393 , 1.72422189, 1.59990147,\n",
       "       1.50478817, 1.44466238, 1.42396296, 1.44438596, 1.50425739,\n",
       "       1.59915257, 1.72329533, 1.87087248, 2.03679652, 2.21695184,\n",
       "       2.4081466 , 2.60795395, 2.81454024, 3.02651762, 3.24282905,\n",
       "       3.46266238, 3.68538742, 3.91051011, 4.1376391 , 4.36646133])"
      ]
     },
     "execution_count": 14,
     "metadata": {},
     "output_type": "execute_result"
    }
   ],
   "source": [
    "psi = Psi(b_crval, l_crval+10)\n",
    "r_linspace = np.linspace(0.1, 12, 50)\n",
    "s_linspace = np.sqrt(R_odot**2 + r_linspace**2 - 2 * R_odot * r_linspace * np.cos(psi))\n",
    "# plt.plot(r_linspace, density('DM', s_linspace, b_crval, l_crval))\n",
    "s_linspace"
   ]
  },
  {
   "cell_type": "code",
   "execution_count": 15,
   "id": "76794b15-2a74-4039-9c20-72a6f0dde73c",
   "metadata": {},
   "outputs": [
    {
     "data": {
      "text/plain": [
       "[<matplotlib.lines.Line2D at 0x1449c5840>]"
      ]
     },
     "execution_count": 15,
     "metadata": {},
     "output_type": "execute_result"
    },
    {
     "data": {
      "image/png": "[encoded data removed]",
      "text/plain": [
       "<Figure size 432x288 with 1 Axes>"
      ]
     },
     "metadata": {
      "needs_background": "light"
     },
     "output_type": "display_data"
    }
   ],
   "source": [
    "density_list = []\n",
    "for s_i in s_linspace:\n",
    "    density_list.append(density('DM', s_i, b_crval, l_crval))\n",
    "\n",
    "plt.plot(s_linspace, density_list)"
   ]
  },
  {
   "cell_type": "code",
   "execution_count": 16,
   "id": "df88ce74-b17c-4346-be64-8d7ff11ac21a",
   "metadata": {},
   "outputs": [
    {
     "data": {
      "text/plain": [
       "1.9900298522060498"
      ]
     },
     "execution_count": 16,
     "metadata": {},
     "output_type": "execute_result"
    }
   ],
   "source": [
    "density('O16', 0, b_crval, l_crval)"
   ]
  },
  {
   "cell_type": "code",
   "execution_count": 17,
   "id": "33f28bb7-fd42-4f56-8b41-af5a238b62c1",
   "metadata": {},
   "outputs": [
    {
     "data": {
      "text/plain": [
       "4"
      ]
     },
     "execution_count": 17,
     "metadata": {},
     "output_type": "execute_result"
    }
   ],
   "source": [
    "bisect.bisect(r_bins, 9) - 1"
   ]
  },
  {
   "cell_type": "code",
   "execution_count": 18,
   "id": "67ec18d2-de9b-4ed6-bd2c-2e6c27d13efe",
   "metadata": {},
   "outputs": [
    {
     "data": {
      "text/plain": [
       "10.999825128106789"
      ]
     },
     "execution_count": 18,
     "metadata": {},
     "output_type": "execute_result"
    }
   ],
   "source": [
    "s_max(b_crval, l_crval, 9)"
   ]
  },
  {
   "cell_type": "code",
   "execution_count": 19,
   "id": "f9e36405-e13e-4f01-92a0-5ecc0d382ece",
   "metadata": {},
   "outputs": [
    {
     "data": {
      "text/plain": [
       "8.0"
      ]
     },
     "execution_count": 19,
     "metadata": {},
     "output_type": "execute_result"
    }
   ],
   "source": [
    "R(0, b_crval, l_crval)"
   ]
  },
  {
   "cell_type": "code",
   "execution_count": 20,
   "id": "8da2dae4-a253-4fb7-8cb5-740cfac9be3e",
   "metadata": {},
   "outputs": [
    {
     "data": {
      "text/plain": [
       "0.25"
      ]
     },
     "execution_count": 20,
     "metadata": {},
     "output_type": "execute_result"
    }
   ],
   "source": [
    "b_val(b_crval)"
   ]
  },
  {
   "cell_type": "code",
   "execution_count": 21,
   "id": "35e31e17-0563-4ebc-93d6-4f8412206d92",
   "metadata": {},
   "outputs": [
    {
     "data": {
      "text/plain": [
       "<matplotlib.legend.Legend at 0x144b516c0>"
      ]
     },
     "execution_count": 21,
     "metadata": {},
     "output_type": "execute_result"
    },
    {
     "data": {
      "image/png": "[encoded data removed]",
      "text/plain": [
       "<Figure size 432x288 with 1 Axes>"
      ]
     },
     "metadata": {
      "needs_background": "light"
     },
     "output_type": "display_data"
    }
   ],
   "source": [
    "s_linspace = np.linspace(0.1, 13, 100)\n",
    "plt.xlabel('line of sight [kpc]', fontsize = 14)\n",
    "plt.ylabel('radius from centre of MW [kpc]', fontsize = 14)\n",
    "plt.plot(s_linspace, R(s_linspace, b_crval, l_crval), label=\"b, l = {}, {} deg\".format(b_val(b_crval), l_crval))\n",
    "plt.legend()\n"
   ]
  },
  {
   "cell_type": "markdown",
   "id": "64d496dd-1d3a-441e-8b7a-4ffa6e808cfe",
   "metadata": {},
   "source": [
    "# photon flux\n",
    "Units cm$^{-2}$ s$^{-1}$ sr$^{-1}$ MeV$^{-1}$\n",
    "\\begin{align}\n",
    "    \\frac{d^2 \\Phi}{dE_\\gamma\\; d\\Omega} &= \\frac{1}{4\\pi} \n",
    "    \\sum_i \n",
    "    \\int d s \\int d^3v_i \\int d^3v_\\chi \\int dE_\\gamma \n",
    "    \\frac{f_i(r(s, \\psi), \\vec{v}_i)}{m_i} \n",
    "     \\frac{f_\\chi(r(s, \\psi), \\vec{v}_\\chi)}{m_\\chi}  \\frac{dN^{i\\chi}}{dE_\\gamma} R_\\epsilon(E-E_\\gamma)\\sigma^\\text{abs}_{i\\chi}(v_r) v_r\n",
    "\\end{align}\n",
    "where\n",
    "\\begin{align}\n",
    "\\sigma &= \\frac{1}{v_\\text{rel}} \\frac{1}{4 E_\\chi E_N} \\int \\frac{d^3p_N^*}{(2\\pi)^3 2E_N^*} (2\\pi)^4 \\delta^4(p_\\chi + p_N - p_N^*) \\langle |\\mathcal{M}|^2 \\rangle \\\\\n",
    "&= \\frac{1}{v_\\text{rel}} \\frac{\\pi}{6 } \\frac{g_\\chi^2 g_A^2 S_\\text{GT}^i}{2J_i + 1} \\frac{(m_N^*)^2}{4 E_\\chi E_N E_N'} \\delta(E_\\chi + E_N - E_N^*)\n",
    "\\end{align}\n"
   ]
  },
  {
   "cell_type": "markdown",
   "id": "e6393587-494d-4ed1-ae11-2a85d04a0ffb",
   "metadata": {},
   "source": [
    "## cross section\n",
    "$$ \\sigma_{i\\chi}^\\text{abs} = \\frac{1}{v_\\text{rel}}\\frac{\\pi}{6}\\frac{1}{ (2J_i + 1)} g_\\chi^2 g_A^2 S_\\text{GT}^i |\\vec{p}_\\chi^\\text{CM}|  $$"
   ]
  },
  {
   "cell_type": "markdown",
   "id": "734c25a1-3fa3-43cd-b814-bd2db48b34f0",
   "metadata": {},
   "source": [
    "## $v_\\chi$ integral\n",
    "<!-- \\begin{align}\n",
    "& m_\\chi \\int d^3v_\\chi \\rho_\\chi(r) \\left(\\frac{1}{2\\pi (\\sigma_\\chi(r))^2} \\right)^{3/2} \\text{e}^{-\\vec{v}_\\chi^2 / 2(\\sigma_\\chi(r))^2} |\\vec{v}^*_\\chi|^2 \\\\\n",
    "&= m_\\chi \\rho_\\chi(r) \\left(\\frac{1}{2\\pi (\\sigma_\\chi(r))^2} \\right)^{3/2} \\int d v_{\\chi x} \\int d v_{\\chi y} \\int d v_{\\chi z} \\exp \\left[ {-\\frac{v_{\\chi x}^2}{2 \\sigma_\\chi^2}} \\right] \\exp \\left[ {-\\frac{v_{\\chi z}^2}{2 \\sigma_\\chi^2}} \\right] \\exp \\left[ {-\\frac{v_{\\chi z}^2}{2 \\sigma_\\chi^2}}\\right] \\times \\left(v_{\\chi x}^2 + v_{\\chi y}^2 + v_{\\chi z}^2\\right) \\\\\n",
    "\\end{align} -->\n",
    "\n",
    "<!-- \\begin{align}&\\frac{1}{m_\\chi} \\int d v_{\\chi x} \\int d v_{\\chi y} \\int d v_{\\chi z} \\exp \\left[ {-\\frac{v_{\\chi x}^2}{2 \\sigma_\\chi^2}} \\right] \\exp \\left[ {-\\frac{v_{\\chi z}^2}{2 \\sigma_\\chi^2}} \\right] \\exp \\left[ {-\\frac{v_{\\chi z}^2}{2 \\sigma_\\chi^2}}\\right] m_\\chi [v_{\\chi x}^2 + v_{\\chi y}^2 + v_{\\chi z}^2]^{1/2} \\\\\n",
    "&= \\int d v_{\\chi x} \\int d v_{\\chi y} \\int d v_{\\chi z} \\exp \\left[ {-\\frac{v_{\\chi x}^2}{2 \\sigma_\\chi^2}} \\right] \\exp \\left[ {-\\frac{v_{\\chi z}^2}{2 \\sigma_\\chi^2}} \\right] \\exp \\left[ {-\\frac{v_{\\chi z}^2}{2 \\sigma_\\chi^2}}\\right] [v_{\\chi x}^2 + v_{\\chi y}^2 + v_{\\chi z}^2]^{1/2}\n",
    "\\end{align} -->\n",
    "<!-- integral bounds are from $v_\\chi = 0$ to $v_\\text{esc} \\approx 537$ km/s -->\n",
    "\n",
    "\\begin{align}\n",
    "& \\int d^3 v_\\chi \\frac{f_\\chi (\\vec{v}_\\chi, r)}{m_\\chi} \\sigma(v_\\text{rel}) v_\\text{rel} \\\\\n",
    "&= \\frac{\\pi}{6} \\frac{g_\\chi^2 g_A^2 S_\\text{GT}^i}{2J_i + 1} \\frac{(m_N^*)^2}{4 E_N E_N'} \\rho_\\chi(r) \\left[ 2\\pi \\sigma_\\chi(r)^2 \\right]^{-3/2} \n",
    "\\int d^3 v_\\chi \\frac{1}{E_\\chi} \\exp \\left[ -\\frac{|\\vec{v}_\\chi|^2}{2\\sigma_\\chi(r)^2} \\right] |\\vec{v}_\\chi|^2 \\frac{\\delta(v_\\chi - V_\\chi^+)}{V_\\chi^+} \\\\\n",
    "&= \\frac{\\pi}{6} \\frac{g_\\chi^2 g_A^2 S_\\text{GT}^i}{2J_i + 1} \\frac{(m_N^*)^2}{4 E_N E_N'} \\rho_\\chi(r) \\left[ 2\\pi \\sigma_\\chi(r)^2 \\right]^{-3/2} \n",
    "\\int d^3 v_\\chi \\frac{1}{m_\\chi + \\frac{1}{2} m_\\chi v_\\chi^2} \\exp \\left[ -\\frac{|\\vec{v}_\\chi|^2}{2\\sigma_\\chi(r)^2} \\right] |\\vec{v}_\\chi|^2 \\frac{\\delta(v_\\chi - V_\\chi^+)}{V_\\chi^+} \\\\\n",
    "&= \\frac{\\pi}{6} \\frac{g_\\chi^2 g_A^2 S_\\text{GT}^i}{2J_i + 1} \\frac{(m_N^*)^2}{4 E_N E_N'} \\rho_\\chi(r) \\left[ 2\\pi \\sigma_\\chi(r)^2 \\right]^{-3/2} \n",
    " \\frac{1}{m_\\chi + \\frac{1}{2} m_\\chi (V_\\chi^+)^2}\\exp \\left[ -\\frac{(V_\\chi^+)^2}{2\\sigma_\\chi(r)^2} \\right] V_\\chi^+\n",
    "\\end{align}\n",
    "\n",
    "where\n",
    "\n",
    "$$ V_\\chi^+ (v_i) = \\left[ \\frac{2(\\Delta E - m_\\chi - \\frac{1}{2}m_N v_i^2)}{m_\\chi} \\right]^{1/2} $$"
   ]
  },
  {
   "cell_type": "code",
   "execution_count": null,
   "id": "725ca91d-e14d-4bac-bf57-b7246028cfaa",
   "metadata": {},
   "outputs": [],
   "source": []
  },
  {
   "cell_type": "code",
   "execution_count": 22,
   "id": "229bc889-3ae4-432d-b814-c595c70a10c6",
   "metadata": {},
   "outputs": [],
   "source": [
    "def E_chi(m_chi, v_chi):\n",
    "    \"\"\"\n",
    "    returns: energy of DM particle in same units as m_chi [MeV]\n",
    "    ********\n",
    "    m_chi: DM particle mass [MeV]\n",
    "    v_chi: DM particle velocity [km/s]\n",
    "    \"\"\"\n",
    "    #v_chi /= const.c.to('km/s') # convert from km/s to unitless\n",
    "    v_chi /= (c/1000) # convert from km/s to unitless\n",
    "    return ( m_chi + (1/2) * m_chi * v_chi**2 ) # [MeV]\n",
    "\n",
    "\n",
    "def v_chi_plus(m_N, m_chi, deltaE, v_i):\n",
    "    \"\"\"\n",
    "    returns v_chi unitless\n",
    "    ********\n",
    "    m_N: nucleus mass [MeV]\n",
    "    m_chi: DM mass [MeV]\n",
    "    deltaE: excitation energy [MeV]\n",
    "    v_i: nucleus velocity [unitless]\n",
    "    \"\"\"\n",
    "    return np.sqrt( (2 * (deltaE - m_chi - (1/2) * m_N * v_i**2) ) / (m_chi) ) * (c/1000) # km/s\n",
    "    # const.c.to('km/s') # [km/s]\n",
    "\n",
    "\n",
    "def Int_v_chi(nucleus, m_N, m_chi, deltaE, s, b, l, v_i):\n",
    "    \"\"\"\n",
    "    returns: integral of DM velocity distribution\n",
    "    **********\n",
    "    deltaE: excitation energy in MeV\n",
    "    m_chi: DM mass in MeV \n",
    "    m_N: nucleus mass in MeV \n",
    "    v_i: nucleus velocity [km/s]\n",
    "    r: radius from galactic centre in kpc\n",
    "    \"\"\"\n",
    "    # v_i /= const.c.to('km/s') # convert from km/s to unitless\n",
    "    # print(v_i)\n",
    "    v_i /= (c/1000) # convert from km/s to unitless\n",
    "    if m_chi < 0:\n",
    "        return 0\n",
    "    if (deltaE - m_chi - (1/2) * m_N * v_i**2) < 0:\n",
    "        return 0\n",
    "    \n",
    "    sigma_chi = v_dispersion('DM', s, b, l) # [km/s]\n",
    "    v_chi = v_chi_plus(m_N, m_chi, deltaE, v_i) # [km/s]\n",
    "    # print(v_chi)\n",
    "\n",
    "    return ( (1 / E_chi(m_chi, v_chi)) *  v_chi * np.exp(-v_chi**2 / (2 * sigma_chi**2)) ) # [MeV^-1 km s^-1]\n"
   ]
  },
  {
   "cell_type": "code",
   "execution_count": 23,
   "id": "610ab691-a6b4-4c51-a61c-50938abf0034",
   "metadata": {},
   "outputs": [],
   "source": [
    "# for i in OdEs:\n",
    "    # print(i)\n",
    "    # print(i - (1/2)*(nuc_info['O16'][0]) * v_esc/(c/1000))\n",
    "    # v_chi_plus(m_N = nuc_info['O16'][0], m_chi = i - (1/2)*(nuc_info['O16'][0]) * v_esc/(c/1000), deltaE = i, v_i = 537/(c/1000))\n"
   ]
  },
  {
   "cell_type": "code",
   "execution_count": null,
   "id": "2473dcd3-e599-4ab5-9acc-bde6f9ee30fd",
   "metadata": {},
   "outputs": [],
   "source": []
  },
  {
   "cell_type": "code",
   "execution_count": 24,
   "id": "5be98ba1-991b-4247-b8b8-765b98c91bed",
   "metadata": {},
   "outputs": [],
   "source": [
    "# masses in MeV\n",
    "nuc_info = {'He4': [3758.26, 0.0], 'C12': [11274.78, 0.0], 'N14': [13153.91, 0.0], 'O16': [15033.04, 0.0]}\n",
    "dEs_dict = {'C12': }"
   ]
  },
  {
   "cell_type": "code",
   "execution_count": 25,
   "id": "792aec66-0306-4039-97da-dfeec19b70c2",
   "metadata": {},
   "outputs": [],
   "source": [
    "Odata = '{}_{}_{}.txt'.format('O16', nuc_info['O16'][0], nuc_info['O16'][1])\n",
    "Cdata = '{}_{}_{}.txt'.format('C12', nuc_info['C12'][0], nuc_info['C12'][1])\n",
    "Odf = pd.read_csv(Odata, sep='\\t', names=['E_gamma [MeV]', 'GT strength'], skiprows=1)\n",
    "Cdf = pd.read_csv(Cdata, sep='\\t', names=['E_gamma [MeV]', 'GT strength'], skiprows=1)\n",
    "OdEs = Odf['E_gamma [MeV]']\n",
    "CdEs = Cdf['E_gamma [MeV]']\n",
    "# using O & C min/max for energy values for flux calculation:\n",
    "E_min = min(min(OdEs), min(CdEs))\n",
    "E_max = max(max(OdEs), max(CdEs))\n"
   ]
  },
  {
   "cell_type": "code",
   "execution_count": 26,
   "id": "405554b3-e708-49e7-9b29-21b6851232b0",
   "metadata": {},
   "outputs": [
    {
     "data": {
      "text/plain": [
       "859705.8771880659"
      ]
     },
     "execution_count": 26,
     "metadata": {},
     "output_type": "execute_result"
    }
   ],
   "source": [
    "\n",
    "v_chi_plus(m_N = nuc_info['O16'][0], m_chi = 16.732241 - (1/2)*(nuc_info['O16'][0]) * v_esc/(c/1000), deltaE = 16.732241, v_i = 537/(c/1000))"
   ]
  },
  {
   "cell_type": "code",
   "execution_count": 27,
   "id": "5eb5327e-30d5-46b3-b34f-acc4b247d846",
   "metadata": {},
   "outputs": [
    {
     "data": {
      "text/plain": [
       "13.46354649766511"
      ]
     },
     "execution_count": 27,
     "metadata": {},
     "output_type": "execute_result"
    }
   ],
   "source": [
    "16.732241 - ( 16.732241 - (1/2)*(nuc_info['O16'][0]) * v_esc/(c/1000)) - (1/2)*(nuc_info['O16'][0]) * (0/(c/1000))**2"
   ]
  },
  {
   "cell_type": "code",
   "execution_count": 28,
   "id": "fff0ed96-ae02-4772-b0ac-b017723d6f2c",
   "metadata": {},
   "outputs": [
    {
     "data": {
      "text/plain": [
       "0.0017911941294196131"
      ]
     },
     "execution_count": 28,
     "metadata": {},
     "output_type": "execute_result"
    }
   ],
   "source": [
    "537/(c/1000)"
   ]
  },
  {
   "cell_type": "code",
   "execution_count": 29,
   "id": "67b4c558-5440-4f55-9e73-0880067f26ea",
   "metadata": {},
   "outputs": [
    {
     "data": {
      "text/plain": [
       "0"
      ]
     },
     "execution_count": 29,
     "metadata": {},
     "output_type": "execute_result"
    }
   ],
   "source": [
    "# test:\n",
    "Int_v_chi(nucleus= 'O16', m_N = nuc_info['O16'][0], m_chi = 16.732241, deltaE = 16.732241, s = 1, b = b_crval, l = l_crval, v_i = 537)\n"
   ]
  },
  {
   "cell_type": "code",
   "execution_count": 30,
   "id": "b4944663-518b-4f19-ac6e-153f4d9af10a",
   "metadata": {},
   "outputs": [],
   "source": [
    "# for i in OdEs:\n",
    "    # Int_v_chi(nucleus= 'O16', m_N = nuc_info['O16'][0], m_chi = i - (1/2) * nuc_info['O16'][0] * v_esc/(c/1000), deltaE = i, s = 1, b = b_crval, l = l_crval, v_i = 537)\n",
    "    # print(x)\n"
   ]
  },
  {
   "cell_type": "code",
   "execution_count": 31,
   "id": "48a9d311-4ca3-4d45-ba45-8eb7ee89cbb0",
   "metadata": {},
   "outputs": [
    {
     "data": {
      "text/plain": [
       "0"
      ]
     },
     "execution_count": 31,
     "metadata": {},
     "output_type": "execute_result"
    }
   ],
   "source": [
    "Int_v_chi(nucleus= 'O16', m_N = nuc_info['O16'][0], m_chi = OdEs[0] - (1/2) * nuc_info['O16'][0] * v_esc/(c/1000), deltaE = OdEs[0], s = 1, b = b_crval, l = l_crval, v_i = 537)\n"
   ]
  },
  {
   "cell_type": "code",
   "execution_count": 32,
   "id": "3f45742d-657c-45ca-9bed-e9ac11571395",
   "metadata": {},
   "outputs": [],
   "source": [
    "# testing to find what deltaE is needed for a given v_chi_plus, m_chi, m_N, v_i\n",
    "def find_deltaE(v_chi_plus, m_chi, m_N, v_i):\n",
    "    #v_i /= const.c.to('km/s') # convert from km/s to unitless\n",
    "    v_i /= c/1000 # convert to unitless\n",
    "    return v_chi_plus**2 * m_chi / 2 + m_chi + 1/2 * m_N * v_i**2"
   ]
  },
  {
   "cell_type": "code",
   "execution_count": 33,
   "id": "5fab3945-3585-4c10-bca6-c54c8423b3b6",
   "metadata": {},
   "outputs": [
    {
     "data": {
      "text/plain": [
       "10.022258494007842"
      ]
     },
     "execution_count": 33,
     "metadata": {},
     "output_type": "execute_result"
    }
   ],
   "source": [
    "find_deltaE(0.00115, 10, 16000, 500)"
   ]
  },
  {
   "cell_type": "code",
   "execution_count": 34,
   "id": "b23a8f54-f061-461b-aed2-f121b737b2e9",
   "metadata": {},
   "outputs": [],
   "source": [
    "def E_N(m_N, v_i):\n",
    "    \"\"\"\n",
    "    returns: non relativistic nucleus energy in same units as the nuclear mass [MeV]\n",
    "    ********\n",
    "    m_N: nucleus mass [MeV]\n",
    "    v_i: baryon velocity [km/s]\n",
    "    \"\"\"\n",
    "    # v_i /= const.c.to('km/s') # convert from km/s to unitless\n",
    "    v_i /= (c/1000) # convert from km/s to unitless\n",
    "    return ( m_N + (1/2) * m_N * v_i**2 )\n",
    "    \n",
    "\n",
    "def Int_v_i(nucleus, m_N, m_chi, deltaE, s, b, l):\n",
    "    \"\"\"\n",
    "    returns: integral of baryon velocity distribution\n",
    "    **********\n",
    "    deltaE: excitation energy in MeV\n",
    "    m_chi: DM mass in MeV\n",
    "    nucleus: scattering target\n",
    "    r: radius from galactic centre in kpc\n",
    "    \"\"\"\n",
    "    # if m_chi > deltaE:\n",
    "    #     return 0\n",
    "    vb = vbar # km/s\n",
    "    # vb = vbar / (c/1000) # convert from km/s to unitless\n",
    "\n",
    "    sigma_i = v_dispersion(nucleus, s, b, l) # km/s\n",
    "    # sigma_i = v_dispersion(nucleus, s, b, l) / (c/1000) # convert from km/s to unitless\n",
    "    \n",
    "    def f(v_i):\n",
    "        # v_i /= (c/1000) # convert from km/s to unitless        \n",
    "        integrand = ((2 * np.pi) \\\n",
    "        * (1 / E_N(m_N, v_i)) * sigma_i**2 * v_i / vb \\\n",
    "        * (np.exp(- (v_i - vb)**2 / (2 * sigma_i**2) ) - np.exp(- (v_i + vb)**2 / (2 * sigma_i**2) )) \\\n",
    "        * Int_v_chi(nucleus, m_N, m_chi, deltaE, s, b, l, v_i)) # [MeV^-1] * [km/s]^2 * [MeV^-1 km s^-1]\n",
    "        return integrand\n",
    "\n",
    "    return scipy.integrate.quad(f, 0, v_esc)[0] # [km^3 s^-3 MeV^-2]\n",
    "    "
   ]
  },
  {
   "cell_type": "code",
   "execution_count": 35,
   "id": "426af7bd-3664-42f0-a822-6b47d486baec",
   "metadata": {},
   "outputs": [
    {
     "data": {
      "text/plain": [
       "0.0"
      ]
     },
     "execution_count": 35,
     "metadata": {},
     "output_type": "execute_result"
    }
   ],
   "source": [
    "# test:\n",
    "Int_v_i(nucleus = 'O16', m_N = nuc_info['O16'][0], m_chi = 16.732241, deltaE = 16.732241, s = 1, b = b_crval, l = l_crval)\n"
   ]
  },
  {
   "cell_type": "code",
   "execution_count": 36,
   "id": "97bd4945-0432-443f-af13-4f83af0ae937",
   "metadata": {},
   "outputs": [
    {
     "data": {
      "text/plain": [
       "6.373762552229006e-119"
      ]
     },
     "execution_count": 36,
     "metadata": {},
     "output_type": "execute_result"
    }
   ],
   "source": [
    "# test:\n",
    "Int_v_chi(nucleus = 'O16', m_N = nuc_info['O16'][0], m_chi = 16.72, deltaE = 16.732241, s = 1, b = b_crval, l = l_crval, v_i = 268.5)\n"
   ]
  },
  {
   "cell_type": "markdown",
   "id": "86734617-ca34-4789-a458-3b4afff0a5b6",
   "metadata": {},
   "source": [
    "# $dN/dE$\n",
    "\n",
    "$$ \\frac{dN^{i\\chi}}{dE_\\gamma} = \\delta(\\Delta E - E_\\gamma),$$\n",
    "for true gamma ray energy $E_\\gamma$\n",
    "$$ R_\\epsilon(E-E_\\gamma) \\approx \\frac{1}{\\sqrt{2\\pi\\epsilon^2 E_\\gamma^2}} \\exp \\left[ -\\frac{(E-E_\\gamma)^2}{2\\epsilon^2 E_\\gamma^2} \\right]$$\n",
    "\n",
    "\\begin{align}\n",
    "\\int dE_\\gamma ~\\frac{dN^{i\\chi}}{dE_\\gamma} R_\\epsilon(E-E_\\gamma) &= \\int dE_\\gamma ~\\delta(\\Delta E - E_\\gamma) ~R_\\epsilon(E-E_\\gamma) \\\\\n",
    "&= R_\\epsilon(E-\\Delta E) \\\\\n",
    "&= \\frac{1}{\\sqrt{2\\pi\\epsilon^2 (\\Delta E)^2}} \\exp \\left[ -\\frac{(E-\\Delta E)^2}{2\\epsilon^2 (\\Delta E)^2} \\right]\n",
    "\\end{align}"
   ]
  },
  {
   "cell_type": "code",
   "execution_count": 37,
   "id": "829c8510-e590-4a65-b0a5-7f2861ca4a7d",
   "metadata": {},
   "outputs": [],
   "source": [
    "def R_epsilon(epsilon, E, deltaE):\n",
    "    \"\"\"\n",
    "    returns gaussian function in units MeV^(-1)\n",
    "    ********\n",
    "    epsilon:\n",
    "    E: observed photon energy [MeV]\n",
    "    E_gamma: true photon energy [MeV]\n",
    "    \"\"\"\n",
    "\n",
    "    return (np.sqrt(2 * np.pi) * epsilon * deltaE)**(-1) * np.exp(-(E - deltaE)**2 / (2 * epsilon**2 * deltaE**2)) # [MeV^-1]"
   ]
  },
  {
   "cell_type": "markdown",
   "id": "8bdd433c-c9cc-4707-be9f-38e596ca8c6e",
   "metadata": {},
   "source": [
    "# line of sight integral"
   ]
  },
  {
   "cell_type": "code",
   "execution_count": null,
   "id": "8585051b-5ceb-4f11-be21-997cee2ebc49",
   "metadata": {},
   "outputs": [],
   "source": [
    "    #     return 0\n",
    "    vb = vbar # km/s\n",
    "    # vb = vbar / (c/1000) # convert from km/s to unitless\n",
    "\n",
    "    sigma_i = v_dispersion(nucleus, s, b, l) # km/s\n",
    "    # sigma_i = v_dispersion(nucleus, s, b, l) / (c/1000) # convert from km/s to unitless\n",
    "    \n",
    "    def f(v_i):\n",
    "        # v_i /= (c/1000) # convert from km/s to unitless        \n",
    "        integrand = ((2 * np.pi) \\\n",
    "        * (1 / E_N(m_N, v_i)) * sigma_i**2 * v_i / vb \\\n",
    "        * (np.exp(- (v_i - vb)**2 / (2 * sigma_i**2) ) - np.exp(- (v_i + vb)**2 / (2 * sigma_i**2) )) \\\n",
    "        * Int_v_chi(nucleus, m_N, m_chi, deltaE, s, b, l, v_i)) # [MeV^-1] * [km/s]^2 * [MeV^-1 km s^-1]\n",
    "        return integrand\n",
    "\n",
    "    return scipy.integrate.quad(f, 0, v_esc)[0] # [km^3 s^-3 MeV^-2]"
   ]
  },
  {
   "cell_type": "code",
   "execution_count": 57,
   "id": "8237aa91-f36e-4225-95b9-7cb8841309d1",
   "metadata": {},
   "outputs": [
    {
     "data": {
      "text/plain": [
       "375.8278888054308"
      ]
     },
     "execution_count": 57,
     "metadata": {},
     "output_type": "execute_result"
    }
   ],
   "source": [
    "# THIS ONE\n",
    "\n",
    "s = 10\n",
    "def distFunc(b, l):\n",
    "    return np.sqrt(R_odot**2 + s**2 - 2 * R_odot * s * np.cos(b) * np.cos(l))\n",
    "\n",
    "# Values in x to evaluate the integral.\n",
    "b_space = np.arange(b, b+deg+1, b_delta)\n",
    "l_space = np.arange(l, l+deg+1, l_delta)\n",
    "B, L = np.meshgrid(b_space, l_space)\n",
    "\n",
    "list1 = distFunc(B, L)\n",
    "np.trapz(np.trapz(list1, b_space, axis=0), l_space, axis=0)"
   ]
  },
  {
   "cell_type": "code",
   "execution_count": 38,
   "id": "7df6d412-de23-41cb-8426-8f9f0bd356e5",
   "metadata": {},
   "outputs": [],
   "source": [
    "def Int_los(nucleus, m_N, m_chi, deltaE, b, l, R_max):\n",
    "    \"\"\"\n",
    "    returns:\n",
    "    ********\n",
    "    \"\"\"\n",
    "    \n",
    "    def f(s): \n",
    "        rho_i = density(nucleus, s, b, l) # [GeV/cm^3]\n",
    "        rho_chi = density('DM', s, b, l) # [GeV/cm^3]\n",
    "        sigma_i = v_dispersion(nucleus, s, b, l) # km/s\n",
    "        #/ (c/1000) # convert from km/s to unitless\n",
    "        sigma_chi = v_dispersion('DM', s, b, l) # km/s\n",
    "        #/ (c/1000) # convert from km/s to unitless\n",
    "        \n",
    "        return rho_i * rho_chi * ( (2*np.pi)**2 * sigma_i**2 * sigma_chi**2 )**(-3/2) * Int_v_i(nucleus, m_N, m_chi, deltaE, s, b, l)\n",
    "        # [GeV/cm^3] * [GeV/cm^3] * [km/s]^-3 * [km/s]^-3 * [km^3 s^-3 MeV^-2] = Gev^2 cm^-6 km^-3 s^3 MeV^-2\n",
    "    \n",
    "    return quad(f, 0, s_max(b, l, R_max))[0] * cm_per_kpc * (1000**2) * (c/1000)**3 # [cm^-5]\n",
    "    # quad(f, 0, s_max(b, l, R_max))[0] * cm_per_kpc * (1000**2) * (const.c.to('km/s'))**3\n",
    "    # quad(f, 0, s_max(b, l, R_max))[0] * cm_per_kpc * (1000**2) * (c/1000)**3 # [cm^-5]\n",
    "    # (1000 MeV/GeV)**2  [cm * cm^-6] = [cm^-5]\n",
    "    # integrating over kpc gives a factor of kpc\n",
    "    # returns cm^-5\n",
    "    "
   ]
  },
  {
   "cell_type": "code",
   "execution_count": 65,
   "id": "79b40b3e-8685-4356-a4be-65bcf78b29b8",
   "metadata": {},
   "outputs": [
    {
     "data": {
      "text/plain": [
       "1.6757286494023043e-35"
      ]
     },
     "execution_count": 65,
     "metadata": {},
     "output_type": "execute_result"
    }
   ],
   "source": [
    "# test:\n",
    "Int_los(nucleus = 'O16', m_N = nuc_info['O16'][0], m_chi = 16.72, deltaE = 16.732241, b = b_crval, l = b_crval, R_max = R_odot*10)\n"
   ]
  },
  {
   "cell_type": "code",
   "execution_count": null,
   "id": "9e72750b-b561-4efb-8055-b99449b6ebcf",
   "metadata": {},
   "outputs": [],
   "source": []
  },
  {
   "cell_type": "code",
   "execution_count": 131,
   "id": "42cbd894-7f27-40d4-b588-4fb72f73f0a4",
   "metadata": {},
   "outputs": [],
   "source": [
    "def Int_b(nucleus, m_N, m_chi, deltaE, b, l, R_max):\n",
    "    b_space = np.arange(b, b+5+1, b_delta)\n",
    "    Int = 0\n",
    "    for i in range(0, len(b_space)-1):\n",
    "        # print (b_space[i])\n",
    "        f_b = np.sin(np.radians(b_val(b_space[i+1]))) * Int_los(nucleus, m_N, m_chi, deltaE, b_space[i+1], l, R_max)\n",
    "        f_a = np.sin(np.radians(b_val(b_space[i]))) * Int_los(nucleus, m_N, m_chi, deltaE, b_space[i], l, R_max)\n",
    "        Int += (f_b - f_a) * (b_delta)\n",
    "    \n",
    "    # def f(b):\n",
    "    #     # print(b)\n",
    "    #     return Int_los(nucleus, m_N, m_chi, deltaE, b, l, R_max)\n",
    "\n",
    "    \n",
    "    # y = f(b_space)\n",
    "    # print(y)\n",
    "    return Int \n",
    "    # scipy.integrate.simpson(y, b_space.all)"
   ]
  },
  {
   "cell_type": "code",
   "execution_count": 134,
   "id": "aa436b06-8aa5-4230-9a2e-6f9d5ddee317",
   "metadata": {
    "scrolled": true
   },
   "outputs": [
    {
     "data": {
      "text/plain": [
       "2.3188326634140805e-37"
      ]
     },
     "execution_count": 134,
     "metadata": {},
     "output_type": "execute_result"
    }
   ],
   "source": [
    "Int_b(nucleus = 'O16', m_N = nuc_info['O16'][0], m_chi = 16.72, b = b_crval, l = l_crval, deltaE = 16.732241, R_max = R_odot*10)"
   ]
  },
  {
   "cell_type": "code",
   "execution_count": 137,
   "id": "d9c81ce5-f29d-41d6-b720-04d5c4cb0baa",
   "metadata": {},
   "outputs": [],
   "source": [
    "def Int_l(nucleus, m_N, m_chi, b, l, deltaE, R_max):\n",
    "    l_space = np.arange(l, l+5+1, l_delta)\n",
    "    Int = 0\n",
    "    for i in range(0, len(l_space)-1):\n",
    "        f_b = Int_b(nucleus, m_N, m_chi, deltaE, b, l_space[i+1], R_max)\n",
    "        f_a = Int_b(nucleus, m_N, m_chi, deltaE, b, l_space[i], R_max)\n",
    "        Int += (f_b - f_a) * l_delta\n",
    "    return Int    \n",
    "    "
   ]
  },
  {
   "cell_type": "code",
   "execution_count": 138,
   "id": "d1a4ccae-b505-437e-9719-5202ae36eda8",
   "metadata": {},
   "outputs": [
    {
     "data": {
      "text/plain": [
       "-2.633781049211714e-38"
      ]
     },
     "execution_count": 138,
     "metadata": {},
     "output_type": "execute_result"
    }
   ],
   "source": [
    "Int_l(nucleus = 'O16', m_N = nuc_info['O16'][0], m_chi = 16.72, b = b_crval, l = l_crval, deltaE = 16.732241, R_max = R_odot*10)"
   ]
  },
  {
   "cell_type": "code",
   "execution_count": 93,
   "id": "7fff59cf-811e-4294-b8a1-f16ab490bf31",
   "metadata": {},
   "outputs": [
    {
     "name": "stdout",
     "output_type": "stream",
     "text": [
      "41643.385416666664\n"
     ]
    }
   ],
   "source": [
    "import numpy as np\n",
    "def f1(x):\n",
    "   return x**2\n",
    "\n",
    "def f2(x):\n",
    "   return x**3\n",
    "\n",
    "x = np.arange(b_crval, b_crval+5+1, b_delta)\n",
    "y1 = f1(x)\n",
    "from scipy import integrate\n",
    "I1 = integrate.simpson(y1, x)\n",
    "print(I1)"
   ]
  },
  {
   "cell_type": "code",
   "execution_count": 40,
   "id": "fb8218f4-4a7a-4874-8cd5-f2dc9e7728ed",
   "metadata": {},
   "outputs": [],
   "source": [
    "def Int_Omega(deg, nucleus, m_N, m_chi, deltaE, b, l, R_max):\n",
    "    l_space = np.arange(l, l+deg+1, l_delta)\n",
    "    \n",
    "    def f(ell):\n",
    "        integrand = 2 * np.pi * (1 - np.cos(np.radians(ell))) * Int_los(nucleus, m_N, m_chi, deltaE, b, l, R_max)\n",
    "        return integrand\n",
    "    y = f(l_space)\n",
    "    return scipy.integrate.simpson(y, l_space)"
   ]
  },
  {
   "cell_type": "code",
   "execution_count": 41,
   "id": "d3c3b677-8623-412c-bbfd-198c1a454422",
   "metadata": {},
   "outputs": [
    {
     "data": {
      "text/plain": [
       "5.487946600555876e-34"
      ]
     },
     "execution_count": 41,
     "metadata": {},
     "output_type": "execute_result"
    }
   ],
   "source": [
    "Int_Omega(deg = 5, nucleus = 'O16', m_N = nuc_info['O16'][0], m_chi = 16.72, deltaE = 16.732241, b = b_crval, l = b_crval, R_max = R_odot*10)"
   ]
  },
  {
   "cell_type": "code",
   "execution_count": 42,
   "id": "d2f285c3-f154-48e9-a803-7f4be868b1e9",
   "metadata": {},
   "outputs": [],
   "source": [
    "# for i in OdEs:\n",
    "#     M_N = nuc_info['O16'][0]\n",
    "#     x = Int_los(nucleus = 'O16', m_N = M_N, m_chi = i - (1/2)*M_N*(v_esc / (c/1000)), deltaE = i, b = b_crval, l = b_crval, R_max = R_odot*10)\n",
    "#     print(x)\n",
    "    "
   ]
  },
  {
   "cell_type": "code",
   "execution_count": 43,
   "id": "c38ed860-7d80-45e1-b4aa-571e2f966d19",
   "metadata": {},
   "outputs": [],
   "source": [
    "def write_nuc_files():\n",
    "    \"\"\"\n",
    "    writes text files from Wei-Chih's code\n",
    "    \"\"\"\n",
    "    for nuc in ['he4', 'c12', 'n14', 'o16']:#, 'Fe57': 'fe57]\n",
    "        NucDict = {'he4': 'He4', 'c12': 'C12', 'n14': 'N14', 'o16': 'O16'}#, 'Fe57': 'fe57'}\n",
    "        mass, spin, _, nuc_exc_data = get_mA_Ji(nuc)\n",
    "        m_N, J_N, nuc_exc = mass[0], spin[0], nuc_exc_data[0] # nuclear mass [MeV], nuclear spin, nuclear excitation energy [MeV] and GT strength\n",
    "        dEs, GTs = nuc_exc[:, 0], nuc_exc[:, 1]\n",
    "        print(nuc)\n",
    "        print([m_N, J_N])\n",
    "        GT_sum = np.sum(GTs)\n",
    "    \n",
    "        dat = {'E_gamma [MeV]': dEs, 'GT strength': GTs}\n",
    "        df = pd.DataFrame(dat)\n",
    "        df.to_csv('{}_{}_{}.txt'.format(NucDict[nuc], mass[0], spin[0]), sep='\\t', index=False)\n",
    "    return\n"
   ]
  },
  {
   "cell_type": "code",
   "execution_count": 44,
   "id": "7c5a0f8a-b674-44fe-a548-4479131d443d",
   "metadata": {},
   "outputs": [],
   "source": [
    "def something():\n",
    "    nucleus_dict = {}\n",
    "    nucleus_info = {'He4': [3758.26, 0.0], 'C12': [11274.78, 0.0], 'N14': [13153.91, 0.0], 'O16': [15033.04, 0.0]}\n",
    "    for nucleus in ['He4', 'C12', 'N14', 'O16']:\n",
    "        datafile = '{}_{}_{}.txt'.format(nucleus, nucleus_info[nuc][0], nuc_info[nucleus][1])\n",
    "        df = pd.read_csv(datafile, sep='\\t', names=['E_gamma [MeV]', 'GT strength'], skiprows=1)\n",
    "        nucleus_dict[nucleus] = []"
   ]
  },
  {
   "cell_type": "code",
   "execution_count": 45,
   "id": "8733e057-3c7e-4a61-9ff9-7250e126b9d5",
   "metadata": {},
   "outputs": [],
   "source": [
    "flux_dict = {}"
   ]
  },
  {
   "cell_type": "code",
   "execution_count": 46,
   "id": "9dc5dfd9-6e62-47c7-9a84-512ceb7d7e83",
   "metadata": {},
   "outputs": [],
   "source": [
    "def Omega_flux_w_conv(deg, g_chi, g_A, nucleus, m_chi, b, l, R_max, epsilon, E):\n",
    "    \"\"\"\n",
    "    returns: \n",
    "    **********\n",
    "    g_chi: [MeV^-1]\n",
    "    g_A: axial form factor (unitless)\n",
    "    \"\"\"\n",
    "    nuc_info = {'He4': [3758.26, 0.0], 'C12': [11274.78, 0.0], 'N14': [13153.91, 0.0], 'O16': [15033.04, 0.0]}\n",
    "    datafile = '{}_{}_{}.txt'.format(nucleus, nuc_info[nucleus][0], nuc_info[nucleus][1])\n",
    "    df = pd.read_csv(datafile, sep='\\t', names=['E_gamma [MeV]', 'GT strength'], skiprows=1)\n",
    "    \n",
    "    flux_arr = []\n",
    "    flux_tot = 0\n",
    "    #nucDict = {'He4': 'he4', 'C12': 'c12', 'N14': 'n14', 'O16': 'o16', 'Fe57': 'fe57'}\n",
    "\n",
    "    m_N = nuc_info[nucleus][0]\n",
    "    J_N = nuc_info[nucleus][1]\n",
    "    dEs = df['E_gamma [MeV]']\n",
    "    GTs = df['GT strength']\n",
    "    nucl_exc = zip(dEs, GTs)\n",
    "    GT_sum = np.sum(GTs)\n",
    "\n",
    "    for dE, GT in nucl_exc:\n",
    "        Int = Int_Omega(deg, nucleus, m_N, m_chi, dE, b, l, R_max) # [cm^-5]\n",
    "        dNdgamma = GT / GT_sum # [unitless]\n",
    "        R = R_epsilon(epsilon, E, dE) # [MeV^-1]\n",
    "        flux = ((1/24 * g_chi**2 * g_A**2 / (2*J_N + 1)) * (m_N + dE)/m_N * Int * dNdgamma * R * (100*c) * (cm_per_invMeV)**2)\n",
    "        flux_arr.append(flux) # [MeV^-2 * cm^-5 * MeV ^-1 * cm/s * cm^2 * MeV^2] = [cm^-2 s^-1 MeV^-1]\n",
    "        flux_tot += flux\n",
    "    \n",
    "    return dEs, np.array(flux_arr), flux_tot # [cm^-2 s^-1 MeV^-1]\n"
   ]
  },
  {
   "cell_type": "code",
   "execution_count": null,
   "id": "e554fed5-f737-4459-9930-ca3defef0c3e",
   "metadata": {},
   "outputs": [],
   "source": []
  },
  {
   "cell_type": "code",
   "execution_count": 47,
   "id": "034f816a-3f15-4208-8364-deb66c8b1b04",
   "metadata": {},
   "outputs": [],
   "source": [
    "def flux_w_conv(g_chi, g_A, nucleus, m_chi, b, l, R_max, epsilon, E):\n",
    "    \"\"\"\n",
    "    returns: \n",
    "    **********\n",
    "    g_chi: [MeV^-1]\n",
    "    g_A: axial form factor (unitless)\n",
    "    \"\"\"\n",
    "    nuc_info = {'He4': [3758.26, 0.0], 'C12': [11274.78, 0.0], 'N14': [13153.91, 0.0], 'O16': [15033.04, 0.0]}\n",
    "    datafile = '{}_{}_{}.txt'.format(nucleus, nuc_info[nucleus][0], nuc_info[nucleus][1])\n",
    "    df = pd.read_csv(datafile, sep='\\t', names=['E_gamma [MeV]', 'GT strength'], skiprows=1)\n",
    "    \n",
    "    flux_arr = []\n",
    "    flux_tot = 0\n",
    "    #nucDict = {'He4': 'he4', 'C12': 'c12', 'N14': 'n14', 'O16': 'o16', 'Fe57': 'fe57'}\n",
    "\n",
    "    m_N = nuc_info[nucleus][0]\n",
    "    J_N = nuc_info[nucleus][1]\n",
    "    dEs = df['E_gamma [MeV]']\n",
    "    GTs = df['GT strength']\n",
    "    nucl_exc = zip(dEs, GTs)\n",
    "    GT_sum = np.sum(GTs)\n",
    "\n",
    "    for dE, GT in nucl_exc:\n",
    "        Int = Int_los(nucleus, m_N, m_chi, dE, b, l, R_max) # [cm^-5]\n",
    "        dNdgamma = GT / GT_sum # [unitless]\n",
    "        R = R_epsilon(epsilon, E, dE) # [MeV^-1]\n",
    "        flux = ((1/24 * g_chi**2 * g_A**2 / (2*J_N + 1)) * (m_N + dE)/m_N * Int * dNdgamma * R * (100*c) * (cm_per_invMeV)**2)\n",
    "        flux_arr.append(flux) # [MeV^-2 * cm^-5 * MeV ^-1 * cm/s * cm^2 * MeV^2] = [cm^-2 s^-1 MeV^-1]\n",
    "        flux_tot += flux\n",
    "    \n",
    "    return dEs, np.array(flux_arr), flux_tot # [cm^-2 s^-1 MeV^-1]\n"
   ]
  },
  {
   "cell_type": "code",
   "execution_count": 49,
   "id": "46cfd94c-c27f-4af9-bd91-3d8ebcd58a1d",
   "metadata": {},
   "outputs": [],
   "source": [
    "# deg = 5, nucleus = 'O16', m_N = nuc_info['O16'][0], m_chi = 16.72, deltaE = 16.732241, b = b_crval, l = b_crval, R_max = R_odot*10"
   ]
  },
  {
   "cell_type": "code",
   "execution_count": 52,
   "id": "e5d8288d-945f-4f5b-b30d-c88b3aed50da",
   "metadata": {},
   "outputs": [
    {
     "data": {
      "text/plain": [
       "1.4431948680822265e-14"
      ]
     },
     "execution_count": 52,
     "metadata": {},
     "output_type": "execute_result"
    }
   ],
   "source": [
    "Omega_flux_w_conv(0, 1, 1, 'O16', 16.72, b_crval, l_crval, 10*R_odot, 0.10, 16.732241)[2]"
   ]
  },
  {
   "cell_type": "code",
   "execution_count": 53,
   "id": "8010f731-5ab8-413f-9e84-a4a3719fc7a0",
   "metadata": {},
   "outputs": [
    {
     "data": {
      "text/plain": [
       "9.651748394521023e-11"
      ]
     },
     "execution_count": 53,
     "metadata": {},
     "output_type": "execute_result"
    }
   ],
   "source": [
    "flux_w_conv(1, 1, 'O16', 16.72, b_crval, l_crval, 10*R_odot, 0.10, 16.732241)[2]"
   ]
  },
  {
   "cell_type": "code",
   "execution_count": null,
   "id": "b25f722b-5996-45dc-b109-9804ebddd674",
   "metadata": {},
   "outputs": [],
   "source": [
    "def Int_Omega(deg, g_chi, g_A, nucleus, m_chi, b, l, R_max, epsilon, E):\n",
    "    l_space = np.arange(l, l+deg+1, l_delta)\n",
    "\n",
    "    def f(ell):\n",
    "        integrand = 2 * np.pi * (1 - np.cos(np.radians(ell))) #* flux_w_conv(g_chi, g_A, nucleus, m_chi, b, ell, R_max, epsilon, E)[2]\n",
    "        return integrand\n",
    "    y = f(l_space)\n",
    "    return scipy.integrate.simpson(y, l_space)\n",
    "    \n",
    "    # def f(ell):\n",
    "    #     return 2 * np.pi * (1 - np.cos(np.radians(ell))) * flux_w_conv(g_chi, g_A, nucleus, m_chi, b, ell, R_max, epsilon, E)[2]\n",
    "\n",
    "    # return scipy.integrate.simpson(f, l_space)"
   ]
  },
  {
   "cell_type": "code",
   "execution_count": null,
   "id": "e28b9851-5c06-4011-ba49-cf9918aa1a59",
   "metadata": {},
   "outputs": [],
   "source": [
    "Int_Omega(5, 1, 1, 'O16', 16.72, b_crval, l_crval, 10*R_odot, 0.10, 16.732241)"
   ]
  },
  {
   "cell_type": "code",
   "execution_count": null,
   "id": "f8f73ac5-2c1e-4380-a69d-f93216906c58",
   "metadata": {},
   "outputs": [],
   "source": [
    "def Int_Omega(deg, b, l):#g_chi, g_A, nucleus, m_chi, b, l, R_max, epsilon, E):\n",
    "    b_space = np.arange(b, b+deg+1, b_delta)\n",
    "    l_space = np.arange(l, l+deg+1, l_delta)\n",
    "\n",
    "    def g(bee):\n",
    "        def f(ell):\n",
    "            f_integrand = 2 * np.pi * (1 - np.cos(np.radians(ell))) * bee #* flux_w_conv(g_chi, g_A, nucleus, m_chi, b, ell, R_max, epsilon, E)[2]\n",
    "            return f_integrand\n",
    "        return scipy.integrate.simpson(f, l_space)\n",
    "    return scipy.integrate.simpson(g, b_space)\n",
    "    # return scipy.integrate.quad(f, l, l+deg+1)[0] # [km^3 s^-3 MeV^-2]\n"
   ]
  },
  {
   "cell_type": "code",
   "execution_count": null,
   "id": "d360ec10-ad7c-4ceb-90f5-a6656bbcb828",
   "metadata": {},
   "outputs": [],
   "source": [
    "Int_Omega(5, b_crval, l_crval)"
   ]
  },
  {
   "cell_type": "code",
   "execution_count": null,
   "id": "9813fb03-5dd8-467b-bcfe-3944f26fcc7b",
   "metadata": {},
   "outputs": [],
   "source": [
    "def Int_Omega(deg, b, l):\n",
    "    b_space = np.arange(b, b+deg+1, b_delta)\n",
    "    l_space = np.arange(l, l+deg+1, l_delta)\n",
    "\n",
    "    def g(bee):\n",
    "        def f(ell):\n",
    "            integrand = 2 * np.pi * (1 - np.cos(np.radians(ell))) * b\n",
    "            return integrand\n",
    "        y = f(l_space)\n",
    "        return scipy.integrate.simpson(y, l_space)\n",
    "\n",
    "    z = g(b_space)\n",
    "    return scipy.integrate.simpson(z, b_space)\n",
    "\n",
    "Int_Omega(5, b_crval, l_crval)"
   ]
  },
  {
   "cell_type": "code",
   "execution_count": null,
   "id": "24e8953f-aa80-4093-838b-13e816b16212",
   "metadata": {},
   "outputs": [],
   "source": [
    "# def Int_Omega(deg, b, l):\n",
    "#     b_space = np.arange(b, b+deg+1, b_delta)\n",
    "#     l_space = np.arange(l, l+deg+1, l_delta)\n",
    "\n",
    "#     def g(bee):\n",
    "#         def f(ell):\n",
    "#             integrand = 2 * np.pi * (1 - np.cos(np.radians(ell))) * bee\n",
    "#             return integrand\n",
    "#         y = f(l_space)\n",
    "#         return scipy.integrate.simpson(y, l_space)\n",
    "\n",
    "#     z = g(b_space)\n",
    "#     return scipy.integrate.simpson(z, b_space)\n",
    "#     # return scipy.integrate.simpson(z, b_space)\n",
    "\n",
    "# Int_Omega(5, b_crval, l_crval)"
   ]
  },
  {
   "cell_type": "code",
   "execution_count": null,
   "id": "cefca79b-9d87-417d-b763-673286bc5353",
   "metadata": {},
   "outputs": [],
   "source": [
    "def bee(b):\n",
    "    return b\n",
    "\n",
    "def ell(l):\n",
    "    return l"
   ]
  },
  {
   "cell_type": "code",
   "execution_count": null,
   "id": "d58b4f70-e083-4cfb-8a3a-d150a40dbe94",
   "metadata": {},
   "outputs": [],
   "source": [
    "g_chi, g_A, nucleus, m_chi, R_max, epsilon, E = 1, 1, 'O16', 16.72, 10*R_odot, 0.10, 16.732241\n",
    "deg = 5\n",
    "def f(b, l):\n",
    "    f = np.exp(bee(b)*ell(l))#flux_w_conv(g_chi, g_A, nucleus, m_chi, b, l, R_max, epsilon, E)[2]\n",
    "    return f\n",
    "\n",
    "b_space = np.arange(b, b+deg+1, b_delta)\n",
    "l_space = np.arange(l, l+deg+1, l_delta)\n",
    "B, L = np.meshgrid(b_space, l_space)\n",
    "\n",
    "g = f(B, L)\n",
    "np.trapz(np.trapz(list1, b_space, axis=0), l_space, axis=0)"
   ]
  },
  {
   "cell_type": "code",
   "execution_count": null,
   "id": "65e32538-fdc0-4198-81ad-ba622d60cafc",
   "metadata": {},
   "outputs": [],
   "source": [
    "# def Int_Omega(deg, g_chi, g_A, nucleus, m_chi, b, l, R_max, epsilon, E):\n",
    "#     # Values in x to evaluate the integral.\n",
    "#     b_space = np.arange(b, b+deg+1, b_delta)\n",
    "#     l_space = np.arange(l, l+deg+1, l_delta)\n",
    "#     B, L = np.meshgrid(b_space, l_space)\n",
    "\n",
    "#     def solidAngleInt(b, l):\n",
    "#         # f = np.exp(-b+l)\n",
    "#         f = flux_w_conv(g_chi, g_A, nucleus, m_chi, b, l, R_max, epsilon, E)[2]\n",
    "#         return f\n",
    "\n",
    "#     y = solidAngleInt(B, L)\n",
    "#     np.trapz(np.trapz(y, b_space, axis=0), l_space, axis=0)\n",
    "\n",
    "# Int_Omega(0, 1, 1, 'O16', 16.72, b_crval, l_crval, 10*R_odot, 0.10, 16.732241)"
   ]
  },
  {
   "cell_type": "code",
   "execution_count": null,
   "id": "41fb632f-de87-492a-9010-daccd77d1b02",
   "metadata": {},
   "outputs": [],
   "source": []
  },
  {
   "cell_type": "code",
   "execution_count": 54,
   "id": "8c743523-1473-4b09-bc2e-6f8a719d7a76",
   "metadata": {},
   "outputs": [
    {
     "ename": "IndexError",
     "evalue": "tuple index out of range",
     "output_type": "error",
     "traceback": [
      "\u001b[0;31m---------------------------------------------------------------------------\u001b[0m",
      "\u001b[0;31mIndexError\u001b[0m                                Traceback (most recent call last)",
      "Input \u001b[0;32mIn [54]\u001b[0m, in \u001b[0;36m<cell line: 13>\u001b[0;34m()\u001b[0m\n\u001b[1;32m     10\u001b[0m     \u001b[38;5;28;01mreturn\u001b[39;00m scipy\u001b[38;5;241m.\u001b[39mintegrate\u001b[38;5;241m.\u001b[39msimpson(yf, l_space)\n\u001b[1;32m     12\u001b[0m hg \u001b[38;5;241m=\u001b[39m g(b_space)\n\u001b[0;32m---> 13\u001b[0m \u001b[43mscipy\u001b[49m\u001b[38;5;241;43m.\u001b[39;49m\u001b[43mintegrate\u001b[49m\u001b[38;5;241;43m.\u001b[39;49m\u001b[43msimpson\u001b[49m\u001b[43m(\u001b[49m\u001b[43mhg\u001b[49m\u001b[43m,\u001b[49m\u001b[43m \u001b[49m\u001b[43mb_space\u001b[49m\u001b[43m)\u001b[49m\n",
      "File \u001b[0;32m/opt/homebrew/lib/python3.10/site-packages/scipy/integrate/_quadrature.py:511\u001b[0m, in \u001b[0;36msimpson\u001b[0;34m(y, x, dx, axis, even)\u001b[0m\n\u001b[1;32m    509\u001b[0m y \u001b[38;5;241m=\u001b[39m np\u001b[38;5;241m.\u001b[39masarray(y)\n\u001b[1;32m    510\u001b[0m nd \u001b[38;5;241m=\u001b[39m \u001b[38;5;28mlen\u001b[39m(y\u001b[38;5;241m.\u001b[39mshape)\n\u001b[0;32m--> 511\u001b[0m N \u001b[38;5;241m=\u001b[39m \u001b[43my\u001b[49m\u001b[38;5;241;43m.\u001b[39;49m\u001b[43mshape\u001b[49m\u001b[43m[\u001b[49m\u001b[43maxis\u001b[49m\u001b[43m]\u001b[49m\n\u001b[1;32m    512\u001b[0m last_dx \u001b[38;5;241m=\u001b[39m dx\n\u001b[1;32m    513\u001b[0m first_dx \u001b[38;5;241m=\u001b[39m dx\n",
      "\u001b[0;31mIndexError\u001b[0m: tuple index out of range"
     ]
    }
   ],
   "source": [
    "b = b_crval\n",
    "deg = 5\n",
    "l = l_crval\n",
    "b_space = np.arange(b, b+deg+1, b_delta)\n",
    "l_space = np.arange(l, l+deg+1, l_delta)\n",
    "def g(x):\n",
    "    def f(y):\n",
    "        return y*x\n",
    "    yf = f(l_space)\n",
    "    return scipy.integrate.simpson(yf, l_space)\n",
    "\n",
    "hg = g(b_space)\n",
    "scipy.integrate.simpson(hg, b_space)\n",
    "# g(5)\n"
   ]
  },
  {
   "cell_type": "code",
   "execution_count": 55,
   "id": "ed8f9bd8-bd7e-4725-84bb-40547b8d28a2",
   "metadata": {},
   "outputs": [
    {
     "ename": "NameError",
     "evalue": "name 'x' is not defined",
     "output_type": "error",
     "traceback": [
      "\u001b[0;31m---------------------------------------------------------------------------\u001b[0m",
      "\u001b[0;31mNameError\u001b[0m                                 Traceback (most recent call last)",
      "Input \u001b[0;32mIn [55]\u001b[0m, in \u001b[0;36m<cell line: 9>\u001b[0;34m()\u001b[0m\n\u001b[1;32m      6\u001b[0m     y \u001b[38;5;241m=\u001b[39m f(l_space)\n\u001b[1;32m      7\u001b[0m     \u001b[38;5;28;01mreturn\u001b[39;00m scipy\u001b[38;5;241m.\u001b[39mintegrate\u001b[38;5;241m.\u001b[39msimpson(y, l_space)\n\u001b[0;32m----> 9\u001b[0m \u001b[43mInt_l\u001b[49m\u001b[43m(\u001b[49m\u001b[38;5;241;43m5\u001b[39;49m\u001b[43m,\u001b[49m\u001b[43m \u001b[49m\u001b[43ml_crval\u001b[49m\u001b[43m)\u001b[49m\n",
      "Input \u001b[0;32mIn [55]\u001b[0m, in \u001b[0;36mInt_l\u001b[0;34m(deg, l)\u001b[0m\n\u001b[1;32m      3\u001b[0m \u001b[38;5;28;01mdef\u001b[39;00m \u001b[38;5;21mf\u001b[39m(ell):\n\u001b[1;32m      4\u001b[0m    \u001b[38;5;28;01mreturn\u001b[39;00m \u001b[38;5;241m2\u001b[39m \u001b[38;5;241m*\u001b[39m np\u001b[38;5;241m.\u001b[39mpi \u001b[38;5;241m*\u001b[39m (\u001b[38;5;241m1\u001b[39m \u001b[38;5;241m-\u001b[39m np\u001b[38;5;241m.\u001b[39mcos(np\u001b[38;5;241m.\u001b[39mradians(x)))\n\u001b[0;32m----> 6\u001b[0m y \u001b[38;5;241m=\u001b[39m \u001b[43mf\u001b[49m\u001b[43m(\u001b[49m\u001b[43ml_space\u001b[49m\u001b[43m)\u001b[49m\n\u001b[1;32m      7\u001b[0m \u001b[38;5;28;01mreturn\u001b[39;00m scipy\u001b[38;5;241m.\u001b[39mintegrate\u001b[38;5;241m.\u001b[39msimpson(y, l_space)\n",
      "Input \u001b[0;32mIn [55]\u001b[0m, in \u001b[0;36mInt_l.<locals>.f\u001b[0;34m(ell)\u001b[0m\n\u001b[1;32m      3\u001b[0m \u001b[38;5;28;01mdef\u001b[39;00m \u001b[38;5;21mf\u001b[39m(ell):\n\u001b[0;32m----> 4\u001b[0m    \u001b[38;5;28;01mreturn\u001b[39;00m \u001b[38;5;241m2\u001b[39m \u001b[38;5;241m*\u001b[39m np\u001b[38;5;241m.\u001b[39mpi \u001b[38;5;241m*\u001b[39m (\u001b[38;5;241m1\u001b[39m \u001b[38;5;241m-\u001b[39m np\u001b[38;5;241m.\u001b[39mcos(np\u001b[38;5;241m.\u001b[39mradians(\u001b[43mx\u001b[49m)))\n",
      "\u001b[0;31mNameError\u001b[0m: name 'x' is not defined"
     ]
    }
   ],
   "source": [
    "def Int_l(deg, l):\n",
    "    l_space = np.arange(l, l+deg+1, l_delta)\n",
    "    def f(ell):\n",
    "       return 2 * np.pi * (1 - np.cos(np.radians(x)))\n",
    "    \n",
    "    y = f(l_space)\n",
    "    return scipy.integrate.simpson(y, l_space)\n",
    "\n",
    "Int_l(5, l_crval)"
   ]
  },
  {
   "cell_type": "code",
   "execution_count": null,
   "id": "676cc3fb-9af5-458a-aec3-69b2357bfeff",
   "metadata": {},
   "outputs": [],
   "source": [
    "def Int_b(deg, b, l):\n",
    "    b_space = np.arange(b, b+deg+1, b_delta)\n",
    "    def g(bee):\n",
    "        return bee\n",
    "    "
   ]
  },
  {
   "cell_type": "code",
   "execution_count": null,
   "id": "ad6c36bd-1d89-4b29-a7dd-de058a98f4f2",
   "metadata": {},
   "outputs": [],
   "source": [
    "\n",
    "Int_Omega(5, l_crval)"
   ]
  },
  {
   "cell_type": "code",
   "execution_count": null,
   "id": "3e62451b-40ac-4884-8630-300600a40acb",
   "metadata": {},
   "outputs": [],
   "source": [
    "def Int_Omega(deg, l):\n",
    "    l_space = np.arange(l, l+deg+1, l_delta)\n",
    "    def f(ell):\n",
    "       return 2 * np.pi * (1 - np.cos(np.radians(x)))\n",
    "    \n",
    "    y = f(l_space)\n",
    "    return scipy.integrate.simpson(y, l_space)\n",
    "\n",
    "Int_Omega(5, l_crval)"
   ]
  },
  {
   "cell_type": "code",
   "execution_count": null,
   "id": "ddd5cfce-02a3-491f-8e04-50f2a6e9eebc",
   "metadata": {},
   "outputs": [],
   "source": [
    "np.arange(l_crval, l_crval+5+1, l_delta)"
   ]
  },
  {
   "cell_type": "code",
   "execution_count": null,
   "id": "290195c9-2bc3-4290-9a7c-c7872d72a102",
   "metadata": {},
   "outputs": [],
   "source": [
    "Int_Omega(5, 1, 1, 'O16', 16.72, b_crval, l_crval, 10*R_odot, 0.10, 16.732241)"
   ]
  },
  {
   "cell_type": "code",
   "execution_count": null,
   "id": "ae40350d-40cc-42d0-9dd5-7e71c51bfaff",
   "metadata": {},
   "outputs": [],
   "source": [
    "energy = np.linspace(E_min, E_max, 100)"
   ]
  },
  {
   "cell_type": "code",
   "execution_count": null,
   "id": "e1b38a5c-58b8-41ed-8e76-a61360730433",
   "metadata": {},
   "outputs": [],
   "source": [
    "np.logspace(np.log10(14),np.log10(18),21)"
   ]
  },
  {
   "cell_type": "code",
   "execution_count": null,
   "id": "6daca4b2-e003-4bb1-8282-d1f1d094270e",
   "metadata": {},
   "outputs": [],
   "source": [
    "np.linspace(14,18,21)"
   ]
  },
  {
   "cell_type": "code",
   "execution_count": null,
   "id": "f927cc15-bb8c-4b19-8471-0d0a6f1d7876",
   "metadata": {},
   "outputs": [],
   "source": [
    "# def CO_flux_fx(g_chi, g_A, m_chi, b, l, R_max, epsilon):\n",
    "#     \"\"\"\n",
    "#     computes CO flux - takes a few mins!\n",
    "#     ********\n",
    "#     epsilon: decimal from 0 to 1\n",
    "#     \"\"\"\n",
    "#     energy = np.linspace(m_chi-2, m_chi+2, 21)\n",
    "#     CO_flux = []\n",
    "#     for E in energy:\n",
    "#         O_flux = flux_w_conv(g_chi, g_A, 'O16', m_chi, b, l, R_max, epsilon, E)[2]\n",
    "#         C_flux = flux_w_conv(g_chi, g_A, 'C12', m_chi, b, l, R_max, epsilon, E)[2]\n",
    "#         CO_flux.append(O_flux + C_flux)\n",
    "\n",
    "#     dat = {'Photon energy [MeV]': energy, 'CO flux [cm^-2 s^-1 MeV^-1]': CO_flux}\n",
    "#     #, 'g_chi': 1, 'g_A': 1, 'b (deg)': b_crval, 'l [deg]': l_crval, 'R_max [kpc]': 10*R_odot}\n",
    "#     df = pd.DataFrame(dat)\n",
    "#     df.to_csv('mchi_{}MeV_gA_{}_gchi_{}_b_{}deg_l_{}deg_Rmax_{}kpc_epsilon_{}newunits.txt'.format(m_chi, g_A, g_chi, b, l, R_max, 100*epsilon), sep='\\t', index=False)\n",
    "#     return CO_flux\n"
   ]
  },
  {
   "cell_type": "code",
   "execution_count": null,
   "id": "20969b74-dade-4947-a1e6-da367ebd5e3d",
   "metadata": {},
   "outputs": [],
   "source": [
    "flux_w_conv(1, 1, 'O16', 16.7, b_crval, l_crval, 10 * R_odot, 0.10, 16)[2]"
   ]
  },
  {
   "cell_type": "code",
   "execution_count": null,
   "id": "40f6c9d4-9bbf-44d4-8213-8fc04926c611",
   "metadata": {},
   "outputs": [],
   "source": [
    "def CO_flux_fx(g_chi, g_A, m_chi, b, l, R_max, epsilon):\n",
    "    \"\"\"\n",
    "    computes CO flux - takes a few mins!\n",
    "    ********\n",
    "    epsilon: decimal from 0 to 1\n",
    "    \"\"\"\n",
    "    energy = np.logspace(np.log10(m_chi/10), np.log10(m_chi*10), 21)\n",
    "    CO_flux = []\n",
    "    for E in energy:\n",
    "        O_flux = flux_w_conv(g_chi, g_A, 'O16', m_chi, b, l, R_max, epsilon, E)[2]\n",
    "        C_flux = flux_w_conv(g_chi, g_A, 'C12', m_chi, b, l, R_max, epsilon, E)[2]\n",
    "        CO_flux.append(O_flux + C_flux)\n",
    "\n",
    "    dat = {'Photon energy [MeV]': energy, 'CO flux [cm^-2 s^-1 MeV^-1]': CO_flux}\n",
    "    #, 'g_chi': 1, 'g_A': 1, 'b (deg)': b_crval, 'l [deg]': l_crval, 'R_max [kpc]': 10*R_odot}\n",
    "    df = pd.DataFrame(dat)\n",
    "    df.to_csv('/Users/arm5765/Desktop/git/DM-nucleus-inelastic-ID/fluxData/mchi_{}MeV_gA_{}_gchi_{}_b_{}deg_l_{}deg_Rmax_{}kpc_epsilon_{}newunits.txt'.format(m_chi, g_A, g_chi, b, l, R_max, 100*epsilon), sep='\\t', index=False)\n",
    "    # df.to_csv('mchi_{}MeV_gA_{}_gchi_{}_b_{}deg_l_{}deg_Rmax_{}kpc_epsilon_{}newunits.txt'.format(m_chi, g_A, g_chi, b, l, R_max, 100*epsilon), sep='\\t', index=False)\n",
    "    return CO_flux\n"
   ]
  },
  {
   "cell_type": "code",
   "execution_count": null,
   "id": "601ad8e6-8b84-451d-8532-9af52f333d16",
   "metadata": {},
   "outputs": [],
   "source": [
    "def m_chi_C_dEs():\n",
    "# computes CO flux - takes ~30 seconds\n",
    "    M_N = nuc_info['C12'][0]\n",
    "    \n",
    "    # tic = time.time()\n",
    "    for E in CdEs[7:]:\n",
    "        m_chi = E - (1/2)*M_N*(vbar/(c/1000))**2\n",
    "        CO_flux_fx(1, 1, m_chi, b_crval, l_crval, 10 * R_odot, 0.01)\n",
    "    # toc = time.time()\n",
    "    # print(str(toc-tic) + \" seconds\")\n"
   ]
  },
  {
   "cell_type": "code",
   "execution_count": null,
   "id": "0fa28a4d-e482-40e0-a0aa-aa24663cdbcc",
   "metadata": {},
   "outputs": [],
   "source": [
    "# def allTheFlux(nucleus):\n",
    "#     M_N = nuc_info[nucleus][0]\n",
    "#     for E in "
   ]
  },
  {
   "cell_type": "code",
   "execution_count": null,
   "id": "ecc63010-602b-4937-8ae7-9536d7616d60",
   "metadata": {},
   "outputs": [],
   "source": [
    "m_chi_C_dEs()"
   ]
  },
  {
   "cell_type": "code",
   "execution_count": null,
   "id": "bc1b50c8-3a3d-4fd8-ac78-7b7274d488a9",
   "metadata": {},
   "outputs": [],
   "source": [
    "def m_chi_O_dEs():\n",
    "    # computing flux based on m_chi being close to the dEs for O16\n",
    "    M_N = nuc_info['O16'][0]\n",
    "    for E in OdEs[13:]:\n",
    "        m_chi = E - (1/2)*M_N*(vbar/(c/1000))**2\n",
    "        CO_flux_fx(g_chi = 1, g_A = 1, m_chi, b = b_crval, l = l_crval, R_max = 10 * R_odot, epsilon = 0.1)\n",
    "        "
   ]
  },
  {
   "cell_type": "code",
   "execution_count": null,
   "id": "46fd1fd1-1fbc-4076-a665-3683ff988f3f",
   "metadata": {},
   "outputs": [],
   "source": []
  },
  {
   "cell_type": "code",
   "execution_count": null,
   "id": "55f4b2ee-08b0-479b-95b5-a6217678cfc7",
   "metadata": {},
   "outputs": [],
   "source": [
    "\n",
    "\n",
    "    \n",
    "    "
   ]
  },
  {
   "cell_type": "code",
   "execution_count": null,
   "id": "f63f2e03-e2cb-4084-b84c-fc0e743f8645",
   "metadata": {},
   "outputs": [],
   "source": [
    "Int_Omega(5, 1, 1, 16.72, b_crval, l_crval, 10 * R_odot, 0.1)"
   ]
  },
  {
   "cell_type": "code",
   "execution_count": null,
   "id": "6664e138-1003-4aac-869c-38ec04298dd4",
   "metadata": {},
   "outputs": [],
   "source": [
    "l_space = np.arange(l_crval, l_crval+5+1, l_delta)\n",
    "l_space"
   ]
  },
  {
   "cell_type": "code",
   "execution_count": null,
   "id": "0b7e80cf-2950-42f2-88a3-fd4d67261dbd",
   "metadata": {},
   "outputs": [],
   "source": [
    "l_np = np.linspace(l_crval, l_crval+5+1, 10)\n",
    "l_np"
   ]
  },
  {
   "cell_type": "code",
   "execution_count": null,
   "id": "666be0f7-cda3-4ea8-84e7-71f7923dcabc",
   "metadata": {},
   "outputs": [],
   "source": [
    "a = 0\n",
    "b = np.pi\n",
    "n = 11\n",
    "h = (b - a) / (n - 1)\n",
    "x = np.linspace(a, b, n)\n",
    "x\n"
   ]
  },
  {
   "cell_type": "code",
   "execution_count": null,
   "id": "65d0d64c-3d6f-45b6-a65d-2a065aee7342",
   "metadata": {},
   "outputs": [],
   "source": [
    "f = np.sin(x)\n",
    "\n",
    "I_trapz = scipy.integrate.trapz(f,x)\n",
    "I_trap = (h/2)*(f[0] + 2 * sum(f[1:n-1]) + f[n-1])\n",
    "\n",
    "print(I_trapz)\n",
    "print(I_trap)"
   ]
  },
  {
   "cell_type": "code",
   "execution_count": null,
   "id": "8bad4f5f-934c-4bcc-bb53-6d8dd94b3c77",
   "metadata": {},
   "outputs": [],
   "source": [
    "np.arange(l_crval, l_crval + 5 + 1, l_delta)"
   ]
  },
  {
   "cell_type": "code",
   "execution_count": null,
   "id": "7afdb400-f385-43a3-b0ca-1ac689637ca1",
   "metadata": {},
   "outputs": [],
   "source": [
    "len(OdEs)"
   ]
  },
  {
   "cell_type": "code",
   "execution_count": null,
   "id": "04351fba-7244-4844-88dc-d0b4f5cbbc67",
   "metadata": {},
   "outputs": [],
   "source": [
    "M_N = nuc_info['O16'][0]\n",
    "OdEs[12] - (1/2)*M_N*(v_esc/(c/1000))**2"
   ]
  },
  {
   "cell_type": "code",
   "execution_count": null,
   "id": "0e27f66b-6e61-46e4-a602-43f9aada6a26",
   "metadata": {},
   "outputs": [],
   "source": [
    "# O_flux()"
   ]
  },
  {
   "cell_type": "code",
   "execution_count": null,
   "id": "ab594b85-9666-436d-a9c5-e4848580b712",
   "metadata": {},
   "outputs": [],
   "source": []
  },
  {
   "cell_type": "code",
   "execution_count": null,
   "id": "c92ff953-eb3f-4a8b-8822-92fee5d5b2ab",
   "metadata": {},
   "outputs": [],
   "source": [
    "# for i in OdEs:\n",
    "#     CO_total_flux = CO_flux_fx(1, 1, i, b_crval, l_crval, 10 * R_odot, 0.1)"
   ]
  },
  {
   "cell_type": "code",
   "execution_count": null,
   "id": "778c5e37-f128-41d4-946e-d686a02ebe25",
   "metadata": {},
   "outputs": [],
   "source": [
    "# CO_flux_fx(1, 1, OdEs[0] - (1/2)*nuc_info['O16'][0]*(v_esc/(c/1000))**2, b_crval, l_crval, 10 * R_odot, 0.1)"
   ]
  },
  {
   "cell_type": "code",
   "execution_count": null,
   "id": "66641655-9acb-439b-bcdc-e130e8c7da3c",
   "metadata": {},
   "outputs": [],
   "source": [
    "# computes CO flux - takes a few mins!\n",
    "tic = time.time()\n",
    "CO_total_flux = CO_flux_fx(1, 1, 14.298885, b_crval, l_crval, 10 * R_odot, 0.1)\n",
    "toc = time.time()\n",
    "print(str(toc-tic) + \" seconds\")"
   ]
  },
  {
   "cell_type": "code",
   "execution_count": null,
   "id": "df340a1f-41d9-4ec4-b0a7-e1e61cffb3a7",
   "metadata": {},
   "outputs": [],
   "source": [
    "def flux_plot(g_chi, g_A, m_chi, b, l, R_max, epsilon):\n",
    "    \"\"\"\n",
    "    plots from .txt file\n",
    "    \"\"\"\n",
    "    df = pd.read_csv('mchi_{}MeV_gA_{}_gchi_{}_b_{}deg_l_{}deg_Rmax_{}kpc_epsilon_{}newunits.txt'.format(m_chi, g_A, g_chi, b, l, R_max, 100*epsilon),\\\n",
    "                     sep='\\t', \\\n",
    "                     names=['Photon energy [MeV]', 'CO flux [cm^-2 s^-1 MeV^-1]'],\\\n",
    "                     skiprows=1)\n",
    "    plt.figure(figsize = (12, 8))\n",
    "    plt.xscale('log'); plt.yscale('log')\n",
    "    plt.yticks(fontsize = 14)\n",
    "    plt.grid(which = 'both', linestyle = 'dotted')\n",
    "    plt.xlim(m_chi-5, m_chi+5)\n",
    "    plt.ylim(1e-20)\n",
    "    # plt.xlim(df['Photon energy [MeV]'][0], df['Photon energy [MeV]'].iat[-1])\n",
    "    plt.xlabel('Observed photon energy  [MeV]', fontsize = 14)\n",
    "    plt.ylabel(r'$E^2 ~ d^2\\Phi ~/~ dE_\\gamma ~d\\Omega$  [cm$^{-2}$ s$^{-1}$ sr$^{-1}$ MeV$^{-1}$]', fontsize = 14)\n",
    "    plt.title(r'CO: $m_\\chi$ = {} MeV,  $g_A$ = {},  $g_\\chi$ = {},  $\\epsilon$ = {}%'.format(m_chi, g_A, g_chi, 100*epsilon), fontsize = 16)\n",
    "    plt.plot(df['Photon energy [MeV]'], (df['Photon energy [MeV]'])**2 * df['CO flux [cm^-2 s^-1 MeV^-1]'], color = 'k')\n",
    "    # plt.plot(df['Photon energy [MeV]'], df['CO flux [cm^-2 s^-1 MeV^-1]'], color = 'r')\n",
    "    # plt.scatter(energy, CO_total_flux, color = 'k')\n",
    "    plt.xticks(size = 14); plt.xticks(size = 14, minor = True)\n",
    "    plt.savefig('mchi_{}MeV_gA_{}_gchi_{}_b_{}deg_l_{}deg_Rmax_{}kpc_epsilon_{}newunits.pdf'.format(m_chi, g_A, g_chi, b, l, R_max, 100*epsilon))\n",
    "\n",
    "    return"
   ]
  },
  {
   "cell_type": "code",
   "execution_count": null,
   "id": "2ca91530-9a8b-42f3-9d9b-0a8cc05a54d9",
   "metadata": {},
   "outputs": [],
   "source": [
    "plt.figure(figsize = (12, 8))\n",
    "plt.xscale('log'); plt.yscale('log')\n",
    "plt.yticks(fontsize = 14, minor = True)\n",
    "plt.grid(which = 'both', linestyle = 'dotted')\n",
    "plt.xlabel('Observed photon energy  [MeV]', fontsize = 14)\n",
    "plt.ylabel(r'$E^2 ~ d^2\\Phi ~/~ dE_\\gamma ~d\\Omega$  [cm$^{-2}$ s$^{-1}$ sr$^{-1}$ MeV$^{-1}$]', fontsize = 14)\n",
    "plt.xticks(size = 14); plt.xticks(size = 14, minor = True)\n",
    "for E in OdEs[:20]:\n",
    "    M_N = nuc_info['O16'][0]\n",
    "    m_chi = m_chi = E - (1/2)*M_N*(v_esc/(c/1000))**2\n",
    "    df = pd.read_csv('/Users/arm5765/Desktop/git/DM-nucleus-inelastic-ID/mchi_{}MeV_gA_1_gchi_1_b_-89.75deg_l_0.25deg_Rmax_80.0kpc_epsilon_10.0newunits.txt'.format(m_chi),\\\n",
    "                 sep='\\t', \\\n",
    "                 names=['Photon energy [MeV]', 'CO flux [cm^-2 s^-1 MeV^-1]'],\\\n",
    "                 skiprows=1)\n",
    "    i = (df['CO flux [cm^-2 s^-1 MeV^-1]']).idxmax()\n",
    "    plt.plot(df['Photon energy [MeV]'], (df['Photon energy [MeV]'])**2 * df['CO flux [cm^-2 s^-1 MeV^-1]'], color = 'k')\n",
    "    plt.axvline(x = E)"
   ]
  },
  {
   "cell_type": "code",
   "execution_count": null,
   "id": "6be04009-6e66-4a7a-a7cf-ed83b939d05a",
   "metadata": {},
   "outputs": [],
   "source": [
    "m_chi = m_chi = OdEs[0] - (1/2)*M_N*(v_esc/(c/1000))**2\n",
    "df = pd.read_csv('/Users/arm5765/Desktop/git/DM-nucleus-inelastic-ID/mchi_{}MeV_gA_1_gchi_1_b_-89.75deg_l_0.25deg_Rmax_80.0kpc_epsilon_10.0newunits.txt'.format(m_chi),\\\n",
    "                 sep='\\t', \\\n",
    "                 names=['Photon energy [MeV]', 'CO flux [cm^-2 s^-1 MeV^-1]'],\\\n",
    "                 skiprows=1)\n",
    "\n",
    "m = max(df['CO flux [cm^-2 s^-1 MeV^-1]'])\n",
    "i = (df['CO flux [cm^-2 s^-1 MeV^-1]']).idxmax()\n",
    "\n",
    "\n",
    "                 "
   ]
  },
  {
   "cell_type": "code",
   "execution_count": null,
   "id": "527b1022-6f42-4ee4-aefd-9d08ac65eb34",
   "metadata": {},
   "outputs": [],
   "source": [
    "print(m)"
   ]
  },
  {
   "cell_type": "code",
   "execution_count": null,
   "id": "1169206e-b6e8-4157-9945-d46c8adaacf8",
   "metadata": {},
   "outputs": [],
   "source": [
    "df['CO flux [cm^-2 s^-1 MeV^-1]'][i]"
   ]
  },
  {
   "cell_type": "code",
   "execution_count": null,
   "id": "3f1f2a76-5f48-4393-a0d6-117d44c5dc11",
   "metadata": {},
   "outputs": [],
   "source": [
    "df1 = pd.read_csv('/Users/arm5765/Desktop/git/DM-nucleus-inelastic-ID/mchi_11.059571174552213MeV_gA_1_gchi_1_b_-89.75deg_l_0.25deg_Rmax_80.0kpc_epsilon_10.0newunits.txt',\\\n",
    "                 sep='\\t', \\\n",
    "                 names=['Photon energy [MeV]', 'CO flux [cm^-2 s^-1 MeV^-1]'],\\\n",
    "                 skiprows=1)\n",
    "df2 = pd.read_csv('/Users/arm5765/Desktop/git/DM-nucleus-inelastic-ID/mchi_12.648101174552204MeV_gA_1_gchi_1_b_-89.75deg_l_0.25deg_Rmax_80.0kpc_epsilon_10.0newunits.txt',\\\n",
    "                 sep='\\t', \\\n",
    "                 names=['Photon energy [MeV]', 'CO flux [cm^-2 s^-1 MeV^-1]'],\\\n",
    "                 skiprows=1)\n",
    "df3 = pd.read_csv('/Users/arm5765/Desktop/git/DM-nucleus-inelastic-ID/mchi_14.274769174552215MeV_gA_1_gchi_1_b_-89.75deg_l_0.25deg_Rmax_80.0kpc_epsilon_10.0newunits.txt',\\\n",
    "                 sep='\\t', \\\n",
    "                 names=['Photon energy [MeV]', 'CO flux [cm^-2 s^-1 MeV^-1]'],\\\n",
    "                 skiprows=1)\n",
    "plt.figure(figsize = (12, 8))\n",
    "plt.xscale('log'); plt.yscale('log')\n",
    "plt.yticks(fontsize = 14)\n",
    "plt.grid(which = 'both', linestyle = 'dotted')\n",
    "# plt.xlim(m_chi-5, m_chi+5)\n",
    "plt.ylim(1e-20)\n",
    "# plt.xlim(df['Photon energy [MeV]'][0], df['Photon energy [MeV]'].iat[-1])\n",
    "plt.xlabel('Observed photon energy  [MeV]', fontsize = 14)\n",
    "plt.ylabel(r'$E^2 ~ d^2\\Phi ~/~ dE_\\gamma ~d\\Omega$  [cm$^{-2}$ s$^{-1}$ sr$^{-1}$ MeV$^{-1}$]', fontsize = 14)\n",
    "# plt.title(r'CO: $m_\\chi$ = {} MeV,  $g_A$ = {},  $g_\\chi$ = {},  $\\epsilon$ = {}%'.format(m_chi, g_A, g_chi, 100*epsilon), fontsize = 16)\n",
    "plt.plot(df1['Photon energy [MeV]'], (df1['Photon energy [MeV]'])**2 * df1['CO flux [cm^-2 s^-1 MeV^-1]'], color = 'k')\n",
    "plt.plot(df2['Photon energy [MeV]'], (df2['Photon energy [MeV]'])**2 * df2['CO flux [cm^-2 s^-1 MeV^-1]'], color = 'k')\n",
    "plt.plot(df3['Photon energy [MeV]'], (df3['Photon energy [MeV]'])**2 * df3['CO flux [cm^-2 s^-1 MeV^-1]'], color = 'k')\n",
    "plt.axvline(x = OdEs[0])\n",
    "# plt.plot(df['Photon energy [MeV]'], df['CO flux [cm^-2 s^-1 MeV^-1]'], color = 'r')\n",
    "# plt.scatter(energy, CO_total_flux, color = 'k')\n",
    "plt.xticks(size = 14); plt.xticks(size = 14, minor = True)"
   ]
  },
  {
   "cell_type": "code",
   "execution_count": null,
   "id": "5de9f303-da04-4e49-90f4-7d2a6c7d5b75",
   "metadata": {},
   "outputs": [],
   "source": [
    "# flux_plot(1, 1, OdEs[0] - (1/2)*M_N*(v_esc/(c/1000))**2, b_crval, l_crval, 10 * R_odot, 0.01)"
   ]
  },
  {
   "cell_type": "code",
   "execution_count": null,
   "id": "bd7bcdac-9fd3-4531-8c51-c19ea53de694",
   "metadata": {},
   "outputs": [],
   "source": [
    "flux_plot(1, 1, 16.72, b_crval, l_crval, 10 * R_odot, 0.01)"
   ]
  },
  {
   "cell_type": "code",
   "execution_count": null,
   "id": "a0d17e38-b1c6-4477-b2db-cba3f03d9062",
   "metadata": {},
   "outputs": [],
   "source": [
    "def solidAngle(deg):\n",
    "    return 2*np.pi*(1 - np.cos(np.radians(deg)))"
   ]
  },
  {
   "cell_type": "code",
   "execution_count": null,
   "id": "3e4bcb66-2c1c-44ee-853e-a727ac83c208",
   "metadata": {},
   "outputs": [],
   "source": []
  },
  {
   "cell_type": "code",
   "execution_count": null,
   "id": "973f8c66-8a04-4a26-a717-49baf32af130",
   "metadata": {},
   "outputs": [],
   "source": []
  },
  {
   "cell_type": "code",
   "execution_count": null,
   "id": "26226ad2-c04d-4e31-ba01-ed55f5c1dc03",
   "metadata": {},
   "outputs": [],
   "source": []
  }
 ],
 "metadata": {
  "kernelspec": {
   "display_name": "Python 3 (ipykernel)",
   "language": "python",
   "name": "python3"
  },
  "language_info": {
   "codemirror_mode": {
    "name": "ipython",
    "version": 3
   },
   "file_extension": ".py",
   "mimetype": "text/x-python",
   "name": "python",
   "nbconvert_exporter": "python",
   "pygments_lexer": "ipython3",
   "version": "3.10.7"
  }
 },
 "nbformat": 4,
 "nbformat_minor": 5
}
