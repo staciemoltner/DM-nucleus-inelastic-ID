{
 "cells": [
  {
   "cell_type": "markdown",
   "id": "35cb670e-a8b2-46b5-b9a7-38f54d3d27c0",
   "metadata": {},
   "source": [
    "To do (updated Dec 12):\n",
    "- we want LINE SENSITIVITY (not diffuse background) for COMPTEL - see II.C. of https://arxiv.org/pdf/0801.0630.pdf (& https://arxiv.org/pdf/astro-ph/9811211.pdf)\n",
    "- for comparison we need solid angle integral: integrate flux over solid angle, and then divide by solid angle integral (being run on cluster)\n",
    "- **also need to multiply flux by $E^2$ to get intensity**\n",
    "- continue to check LOS integral & testing max halo distance value\n",
    "- LOS integral is very numerically sensitive, will have to keep working on this to see if it can be improved\n",
    "\n",
    "Dec 12:\n",
    "- Introducing baryon bulk velocity as a function of radius (v_circ(r)) increases the flux by orders of magnitude depending on the radius - this needs to be investigated further\n",
    "- more LOS integral testing, replaced quad integration with cumtrapz; - cuts function runtime to ~30%\n",
    "- replaced in-line plotting with functions\n",
    "\n",
    "Dec 11:\n",
    "Possible sources that give info on line sensitivity:\n",
    "- https://wwwgro.unh.edu/comptel/comptel_table.html \n",
    "\n",
    "Dec 5:\n",
    "- normalization issue at small radii has been fixed\n",
    "- $v_\\text{esc}$ is still being calculated using the gravitational potential $\\Phi_\\text{total} = \\Phi_\\text{bulge} + \\Phi_\\text{disk}$ (but see https://www.scirp.org/pdf/jmp_2022112513520433.pdf, https://arxiv.org/pdf/2207.04279.pdf, https://www.aanda.org/articles/aa/pdf/2021/05/aa38777-20.pdf, https://academic.oup.com/mnras/article/379/2/755/1025907 for some interesting approaches)\n",
    "\n",
    "Dec 4:\n",
    "- numerical issues with LOS integral seem to have been resolved by incorporating an integral scale to make numbers ~ $\\mathcal{O}(1)$\n",
    "- added in velocity rotation curve function from Clemens 1985 (https://ui.adsabs.harvard.edu/abs/1985ApJ...295..422C/abstract) for baryon bulk velocity $\\bar{v]$\n",
    "\n",
    "Nov 29:\n",
    "- normalization factor doesn't give $f_b(v_b)$ integral of 1 for small radii, this seems to be associated with normalization factors that are negative (which is possible for small enough $v_\\text{esc}$ i.e. at small radii - see below for analytic form of normalization factor), for which the distribution function is being set to zero anyway, so I think this is ok\n",
    "- choose appropriate energy array on flux calculation/plot: currently using $m_\\chi \\pm 5\\epsilon m_\\chi$ where $\\epsilon$ is the resolution factor\n",
    "- max halo distance was returning a **smaller** number for the line of sight integral for a larger radius; seems to be a numerical issue due to integrating over such small numbers; doing a unit conversion before the integral (resulting in bigger numbers) seems to fix the issue, but makes the integral take ~25 times longer\n",
    "\n",
    "Nov 28:\n",
    "- based on https://galprop.stanford.edu/download/manuals/galprop_v54.pdf (see page 11), I think the GALPROP angular data is being used correctly, for example for galactic latitude $b$, the $i$th value in the array is given by:\n",
    "  $$b_i = \\texttt{CRVAL2} + i*\\texttt{CDELT2}$$\n",
    "such that the **starting value** is the array is $\\texttt{CRVAL2}$\n",
    "\n",
    "Nov 25:\n",
    "- added $\\Phi_\\text{total} = \\Phi_\\text{bulge} + \\Phi_\\text{disk}$ potentials to calculate baryon density $\\rho_b$ for escape velocity $v_\\text{esc}$ - *this seems to overestimate the amount of mass, giving a higher $v_\\text{esc}$ than expected*"
   ]
  },
  {
   "cell_type": "code",
   "execution_count": 1,
   "id": "668e7a77-d989-4632-afd8-9088d6e66346",
   "metadata": {},
   "outputs": [],
   "source": [
    "import os, sys\n",
    "import numpy as np\n",
    "import math\n",
    "import matplotlib\n",
    "import matplotlib.pyplot as plt\n",
    "import scipy.integrate\n",
    "from scipy.integrate import quad\n",
    "from scipy.integrate import dblquad\n",
    "from scipy.integrate import cumtrapz\n",
    "from scipy.interpolate import interp1d\n",
    "from scipy.interpolate import RegularGridInterpolator\n",
    "from scipy.optimize import minimize\n",
    "from scipy.optimize import minimize_scalar\n",
    "import pandas as pd\n",
    "from astropy.io import fits\n",
    "import bisect\n",
    "import time\n"
   ]
  },
  {
   "cell_type": "markdown",
   "id": "6a13057c-db4d-467e-949b-4c2279e6bbf9",
   "metadata": {},
   "source": [
    "# constants & data import"
   ]
  },
  {
   "cell_type": "code",
   "execution_count": 2,
   "id": "f230cc8d-75e0-4b70-bbb3-c6721043e161",
   "metadata": {},
   "outputs": [],
   "source": [
    "# natural & conversion constants\n",
    "c = 2.998e8 # speed of light [m/s]\n",
    "G = 6.674e-11 # [N m^2 kg^-2] = [m^3 s^-2 kg^-1]\n",
    "hbar = 6.582e-16 # [eV s]\n",
    "GeV_per_kg = 5.625e26\n",
    "cm_per_kpc = 3.086e21\n",
    "\n",
    "\n",
    "# constants\n",
    "rho_s = 0.51 # DM radial scale for MW NFW profile [GeV/cm^3]; https://arxiv.org/abs/1906.08419\n",
    "r_s = 8.1 # DM radial scale for MW NFW profile [kpc]; https://arxiv.org/abs/1906.08419\n",
    "M_sun = 2e30 # [kg]\n",
    "M_bulge = 1.5e10 * M_sun # [kg]\n",
    "c_bulge = 0.6 # bulge scale radius [kpc]\n",
    "M_disk = 7e10 * M_sun # [kg]\n",
    "b_disk = 4 # disk scale radius [kpc]\n",
    "R_odot = 8.5 # Sun's distance from centre of MW [kpc]\n",
    "M_SMBH = 4.154e6 * M_sun # [kg]\n",
    "g_A = 1.27 # axial form factor [unitless]\n",
    "\n",
    "\n",
    "# dictionaries\n",
    "nuc_info = {'He4': [3758.26, 0.0], 'C12': [11274.78, 0.0], 'N14': [13153.91, 0.0], 'O16': [15033.04, 0.0]}\n",
    "\n",
    "\n",
    "# importing C12 and O16 data: excitation energies and GT strengths\n",
    "C12_data = '{}_{}_{}.txt'.format('C12', nuc_info['C12'][0], nuc_info['C12'][1])\n",
    "O16_data = '{}_{}_{}.txt'.format('O16', nuc_info['O16'][0], nuc_info['O16'][1])\n",
    "Cdf = pd.read_csv(C12_data, sep='\\t', names=['E_gamma [MeV]', 'GT strength'], skiprows=1)\n",
    "Odf = pd.read_csv(O16_data, sep='\\t', names=['E_gamma [MeV]', 'GT strength'], skiprows=1)\n",
    "CdEs, OdEs = Cdf['E_gamma [MeV]'], Odf['E_gamma [MeV]']\n",
    "dEs_dict = {'C12': Cdf['E_gamma [MeV]'], 'O16': Odf['E_gamma [MeV]']}\n",
    "GTs_dict = {'C12': Cdf['GT strength'], 'O16': Odf['GT strength']}\n",
    "\n",
    "\n",
    "# optimal m_chi values, calculated at r = R_odot\n",
    "def read_optimal_m_chis(nucleus):\n",
    "    df = pd.read_csv('optimal_m_chis_{}_r_8500pc.txt'.format(nucleus), \\\n",
    "                     sep='\\t', \\\n",
    "                     names=['Nuclear excitation energy [MeV]', 'Optimal DM mass [MeV]'], \\\n",
    "                     skiprows=1)\n",
    "    return [df['Nuclear excitation energy [MeV]'], df['Optimal DM mass [MeV]']]\n",
    "m_chis_dEs_C12 = read_optimal_m_chis('C12')\n",
    "dEs_C12, m_chis_C12 = m_chis_dEs_C12[0], m_chis_dEs_C12[1]\n",
    "m_chis_dEs_O16 = read_optimal_m_chis('O16')\n",
    "dEs_O16, m_chis_O16 = m_chis_dEs_O16[0], m_chis_dEs_O16[1]\n",
    "allCOMasses = np.append(m_chis_C12, m_chis_O16)\n",
    "allCOdEs = np.append(dEs_C12, dEs_O16)\n"
   ]
  },
  {
   "cell_type": "markdown",
   "id": "f3e3d738-cb19-482d-a32c-207d5d76f247",
   "metadata": {},
   "source": [
    "# GALPROP density data"
   ]
  },
  {
   "cell_type": "markdown",
   "id": "b0ed48e3-78b1-4b1b-8499-aa3ee9ff859e",
   "metadata": {},
   "source": [
    "- https://galprop.stanford.edu/download/manuals/galprop_v54.pdf\n",
    "- https://fits.gsfc.nasa.gov/users_guide/usersguide.pdf\n",
    "- https://astropy4cambridge.readthedocs.io/en/latest/_static/Astropy%20-%20Handling%20FITS%20files.html"
   ]
  },
  {
   "cell_type": "code",
   "execution_count": 3,
   "id": "149055fb-e105-4ee5-93c3-be9fc3b52bf4",
   "metadata": {},
   "outputs": [],
   "source": [
    "hdul_CO = fits.open('massdensity_CO.fits')\n",
    "# hdul_CO[0].header"
   ]
  },
  {
   "cell_type": "code",
   "execution_count": 4,
   "id": "15d810fb-3b0a-484d-807a-441475a7bf04",
   "metadata": {},
   "outputs": [],
   "source": [
    "# radial data\n",
    "# hdul_CO[1].data"
   ]
  },
  {
   "cell_type": "code",
   "execution_count": 5,
   "id": "d7d5c535-4c63-4262-a14e-959c63faf341",
   "metadata": {},
   "outputs": [],
   "source": [
    "data = hdul_CO[0].data # [kg/cm^3] density data, see below for explanation\n",
    "\"\"\"\n",
    "density data: hdul_CO[0].data[r bin index, b index, l index]\n",
    "    r bin index: 0 through 8 (axis 3)\n",
    "    b index: 0 through 359 (axis 2)\n",
    "    l index: 0 through 719 (axis 1)\n",
    "    example: hdul_CO[0].data[8, 359, 719]\n",
    "    gives the density in kg/cm^3 for a given (r, b, l)\n",
    "    note GALPROP specifies Rsun = 8.5 kpc, Vsun = 220 km/s \n",
    "\"\"\"\n",
    "bins = hdul_CO[1].data # [kpc] radial bin boundaries\n",
    "r_bins = [bins[0][0]] # r bin smallest value\n",
    "for i, j in bins: # creating r bins from GALPROP increments\n",
    "    r_bins.append(j)\n",
    "# r_bins"
   ]
  },
  {
   "cell_type": "code",
   "execution_count": 6,
   "id": "6bbaca32-2a50-4b32-95d3-f9c2cf9d8abc",
   "metadata": {},
   "outputs": [],
   "source": [
    "# creating b and l arrays\n",
    "b_len, l_len = hdul_CO[0].header['NAXIS2'], hdul_CO[0].header['NAXIS1'] # length of b, l arrays\n",
    "b_crval, l_crval = hdul_CO[0].header['CRVAL2'], hdul_CO[0].header['CRVAL1'] # central values of b,l\n",
    "b_delta, l_delta = hdul_CO[0].header['CDELT2'], hdul_CO[0].header['CDELT1'] # increments for b, l"
   ]
  },
  {
   "cell_type": "code",
   "execution_count": 7,
   "id": "eeafdbd1-9f0e-4e7c-ae58-24f3bcbd3196",
   "metadata": {},
   "outputs": [],
   "source": [
    "bs = list(np.arange(b_crval, b_crval + b_len*b_delta, b_delta))\n",
    "ls = list(np.arange(l_crval, l_crval + l_len*l_delta, l_delta))"
   ]
  },
  {
   "cell_type": "code",
   "execution_count": 8,
   "id": "54584f3f-3a37-4634-bf21-c07ba5eb57ed",
   "metadata": {},
   "outputs": [],
   "source": [
    "def plotCOdensity(n):\n",
    "    \"\"\"\n",
    "    plots CO density for bin number n in [0, 8]\n",
    "    \"\"\"\n",
    "    fig = plt.figure(figsize = (10,15))\n",
    "    ax = plt.axes()\n",
    "    im = ax.imshow(hdul_CO[0].data[n], cmap='magma', norm=matplotlib.colors.LogNorm())\n",
    "    A, B = 0.02, 0.04\n",
    "    cax = fig.add_axes([ax.get_position().x1 + A, ax.get_position().y0, B, ax.get_position().height])\n",
    "    plt.colorbar(im, cax=cax)"
   ]
  },
  {
   "cell_type": "code",
   "execution_count": 9,
   "id": "7e4aa0dd-ed1d-42f8-b0e5-c62bdd0c578c",
   "metadata": {},
   "outputs": [],
   "source": [
    "# plotCOdensity(8)"
   ]
  },
  {
   "cell_type": "markdown",
   "id": "3e00c35a-c1bc-4818-a2e6-9d6548f6c936",
   "metadata": {},
   "source": [
    "# rotation curve from Clemens (1985)"
   ]
  },
  {
   "cell_type": "code",
   "execution_count": 10,
   "id": "a08b748b-f625-4ef2-bae0-ce7957030793",
   "metadata": {},
   "outputs": [],
   "source": [
    "R_0 = R_odot # [kpc]\n",
    "theta_0 = 220 # [km/s]\n",
    "\n",
    "R_i = [0.0, 0.09 * R_0, 0.45 * R_0, 1.6 * R_0, 50.0]\n",
    "\n",
    "A_i = [0.0, 3069.81, -15809.8, +43980.1, -68287.3, +54904., -17731.] # R/R_0 < 0.09\n",
    "B_i = [+325.0912, -248.1467, +231.87099, -110.73531, +25.073006, -2.110625]\n",
    "C_i = [-2342.6564, +2507.60391, -1024.068760, +224.562732, -28.4080026, +2.0697271, -0.08050808, +0.00129348]\n",
    "D_i = [234.88]\n",
    "\n",
    "interval = 0.1\n",
    "A_R = np.arange(R_i[0], R_i[1] + interval, interval)\n",
    "B_R = np.arange(R_i[1], R_i[2] + interval, interval)\n",
    "C_R = np.arange(R_i[2], R_i[3] + interval, interval)\n",
    "D_R = np.arange(R_i[3], R_i[4] + interval, interval)\n",
    "\n",
    "theta_A = np.zeros(len(A_R))\n",
    "theta_B = np.zeros(len(B_R))\n",
    "theta_C = np.zeros(len(C_R))\n",
    "theta_D = np.zeros(len(D_R))\n",
    "for i in range(7):\n",
    "    theta_A += A_i[i] * A_R**i\n",
    "for i in range(6):\n",
    "    theta_B += B_i[i] * B_R**i\n",
    "for i in range(8):\n",
    "    theta_C += C_i[i] * C_R**i\n",
    "for i in range(1):\n",
    "    theta_D += D_i[i]\n",
    "\n",
    "# radius and rotational velocity to be used to calculate circular velocity v_circ(r) at any r:\n",
    "r_rot = np.append(np.append(np.append(A_R, B_R), C_R), D_R)\n",
    "v_rot = np.append(np.append(np.append(theta_A, theta_B), theta_C), theta_D)\n",
    "\n",
    "\n",
    "def plotRotationCurves():\n",
    "    plt.figure(figsize=(8, 6))\n",
    "    plt.xlim(-1, D_R[-1]); plt.ylim(0, 275)\n",
    "    plt.xlabel('Radius from galactic centre [kpc]', fontsize=14)\n",
    "    plt.ylabel('Rotation speed [km/s]', fontsize=14)\n",
    "    plt.plot(A_R, theta_A)\n",
    "    plt.plot(B_R, theta_B)\n",
    "    plt.plot(C_R, theta_C)\n",
    "    plt.plot(D_R, theta_D)\n",
    "\n",
    "# plotRotationCurves()\n"
   ]
  },
  {
   "cell_type": "code",
   "execution_count": 11,
   "id": "7aec4b89-20ab-41d6-8f98-a8b955a99f8b",
   "metadata": {},
   "outputs": [],
   "source": [
    "def v_circ(r):\n",
    "    interp_func = interp1d(r_rot, v_rot, fill_value='extrapolate')\n",
    "    v = interp_func(r)\n",
    "    return v"
   ]
  },
  {
   "cell_type": "markdown",
   "id": "7fffd84f-b799-4410-ace4-0a926d1f72cc",
   "metadata": {},
   "source": [
    "# radius $r(s, b, l)$ & maximum line of sight distance $s_\\text{max}$"
   ]
  },
  {
   "cell_type": "markdown",
   "id": "b1a8aa6a-8f91-4683-9621-94ff169ccc30",
   "metadata": {},
   "source": [
    "<center>\n",
    "    <img src=\"lineOfSight.PNG\" width=500>\n",
    "</center>"
   ]
  },
  {
   "cell_type": "markdown",
   "id": "293e7b27-de43-45fc-aea3-954504e3eb84",
   "metadata": {},
   "source": [
    "$$\\cos\\psi = \\cos(l)\\cos(b)$$"
   ]
  },
  {
   "cell_type": "markdown",
   "id": "99a514b8-53f6-406b-a57e-1aebb3317b90",
   "metadata": {},
   "source": [
    "$$  \\begin{align}\n",
    "r &= \\sqrt{R_\\odot^2 + s^2 - 2 R_\\odot s \\cos \\psi} \\\\\n",
    "&= \\sqrt{R_\\odot^2 + s^2 - 2 R_\\odot s \\cos b \\cos l} \n",
    "\\end{align} $$\n",
    "<!-- $$ r = \\sqrt{R_\\odot^2 + s^2 - 2 R_\\odot s \\cos \\psi} $$ -->"
   ]
  },
  {
   "cell_type": "markdown",
   "id": "891d61f1-3567-43f1-a1c9-e4dcce0c6789",
   "metadata": {},
   "source": [
    "$$ s_\\text{max} = (R_\\text{halo}^2 - R_\\odot^2 \\sin^2\\psi)^{1/2} + R_\\odot \\cos\\psi $$"
   ]
  },
  {
   "cell_type": "code",
   "execution_count": 12,
   "id": "75c150c7-7059-47ff-9f7c-75479e1e5e02",
   "metadata": {},
   "outputs": [],
   "source": [
    "def R(s, b, l):\n",
    "    \"\"\"\n",
    "    returns: [kpc] radius, as a function of s, b, l\n",
    "    ********\n",
    "    s: [kpc] line of sight coordinate\n",
    "    b: [degrees] galactic latitude\n",
    "    l: [degrees] galactic longitude\n",
    "    \"\"\"\n",
    "    psi = np.arccos( np.cos(np.radians(b)) * np.cos(np.radians(l)) ) # [radians]\n",
    "    return np.sqrt(R_odot**2 + s**2 - 2 * R_odot * s * np.cos(psi)) # [kpc]\n",
    "\n",
    "\n",
    "def s_max(b, l, R_halo):\n",
    "    \"\"\"\n",
    "    returns: [kpc] maximum value of line-of-sight coordinate, as a function of angles b, l, and the halo scale R_halo\n",
    "    ********\n",
    "    b: [degrees] galactic latitude\n",
    "    l: [degrees] galactic longitude\n",
    "    R_halo: [kpc] MW halo radius - chosen by user\n",
    "    \"\"\"\n",
    "    psi = np.arccos( np.cos(np.radians(b)) * np.cos(np.radians(l)) ) # [radians]\n",
    "    return (np.sqrt(R_halo**2 - R_odot**2 * (np.sin(psi))**2) + R_odot * np.cos(psi)) # [kpc]\n"
   ]
  },
  {
   "cell_type": "code",
   "execution_count": 13,
   "id": "d308eee1-ffd2-4c38-8027-727c761f2645",
   "metadata": {},
   "outputs": [],
   "source": [
    "def plotRadiusVsLOS(R_max):\n",
    "    plt.figure(figsize = (12, 8))\n",
    "    plt.grid(which = 'both', linestyle = 'dotted')\n",
    "    plt.xticks(size = 16); plt.yticks(size=16);\n",
    "    plt.xlabel(r'Line of sight distance [kpc]', fontsize = 16); plt.ylabel(r'Radius [kpc]', fontsize = 16)\n",
    "    plt.xlim(0, s_max(0, 0, R_max))\n",
    "    for deg in [0, 5, 15, 30, 90]:\n",
    "        bb = 0 # in galactic plane\n",
    "        ll = deg\n",
    "        S_MAX = s_max(bb, ll, 2 * R_max)\n",
    "        # print(S_MAX)\n",
    "        ss = np.linspace(0, S_MAX, 400)\n",
    "        rs = list(map(lambda s: R(s, bb, ll), ss))\n",
    "        plt.plot(ss, rs, label=\"b, l = {}$^\\circ$, {}$^\\circ$\".format(bb, ll))\n",
    "    plt.plot()\n",
    "    plt.legend(fontsize=14)\n",
    "    plt.title('radial coordinate as function of line of sight', fontsize = 20)\n",
    "\n",
    "# plotRadiusVsLOS(50.0)"
   ]
  },
  {
   "cell_type": "markdown",
   "id": "d66d7217-58a8-4a95-9834-657b545725d9",
   "metadata": {},
   "source": [
    "# density"
   ]
  },
  {
   "cell_type": "markdown",
   "id": "3d4eff22-0092-405c-9521-0bf8064958f1",
   "metadata": {},
   "source": [
    "The mass density of particle $N \\in \\{\\text{C12}, \\text{O16}\\}$ is related to the mass density of CO by\n",
    "$$ \\rho_N (r, b, l) = m_N \\frac{\\rho_\\text{CO}(r, b, l)}{m_\\text{CO}}. $$"
   ]
  },
  {
   "cell_type": "code",
   "execution_count": 14,
   "id": "7f278be5-65df-43f4-8bf3-21159136aaa8",
   "metadata": {},
   "outputs": [],
   "source": [
    "def densityInterpolate(r, b, l):\n",
    "    \"\"\"\n",
    "    returns: [kg/cm^3] density at a given radius, interpolated for values (b, l) from gridded data\n",
    "    \"\"\"\n",
    "    r_index = bisect.bisect(r_bins, r) - 1 # find radial bin index\n",
    "    values_grid = hdul_CO[0].data[r_index] # reduces 3D grid (r, b, l) to 2D (b, l)\n",
    "    interpolating_fx = RegularGridInterpolator((bs,ls), values_grid)\n",
    "    return interpolating_fx(np.array([b, l]))\n",
    "\n",
    "\n",
    "def densityLOS(nucleus, s, b, l):\n",
    "    \"\"\"\n",
    "    returns: [GeV/cm^3] mass density as a function of line of sight distance\n",
    "    **********\n",
    "    particle: 'DM', 'He4', 'C12', 'N14', 'O16', 'CO', 'Fe57'\n",
    "    s: [kpc] line of sight distance\n",
    "    b: [degrees] galactic latitude\n",
    "    l: [degrees] galactic longitude\n",
    "    \"\"\"\n",
    "    r = R(s, b, l) # [kpc] # finds radius for a given (s, b, l) in order to find the dispersion at those coordinates\n",
    "    if r > r_bins[-1]: # if radius is beyond what is provided by GALPROP, return zero\n",
    "        return 0\n",
    "    \n",
    "    rho_b = nuc_info[nucleus][0] * densityInterpolate(r, b, l)[0] / (nuc_info['C12'][0] + nuc_info['O16'][0]) * GeV_per_kg # [GeV/cm^3]\n",
    "    rho_DM = rho_s / ( (r/r_s) * (1 + r/r_s)**2 ) # [GeV/cm^3]\n",
    "    return [rho_b, rho_DM]\n",
    "\n",
    "\n",
    "def density(nucleus, r, b, l):\n",
    "    \"\"\"\n",
    "    returns: [GeV/cm^3] mass density as a function of radius from galactic centre\n",
    "    **********\n",
    "    particle: 'DM', 'He4', 'C12', 'N14', 'O16', 'CO', 'Fe57'\n",
    "    r: [kpc] radius from galactic centre\n",
    "    b: [degrees] galactic latitude\n",
    "    l: [degrees] galactic longitude\n",
    "    \"\"\"\n",
    "    m_N_MeV = {'He4': 3758.26, 'C12': 11274.78, 'N14': 13153.91, 'O16': 15033.04}\n",
    "    rho_DM = rho_s / ( (r/r_s) * (1 + r/r_s)**2 ) # [GeV/cm^3]\n",
    "    if r >= r_bins[-1]: # if radius is beyond what is provided by GALPROP, return zero\n",
    "        #print('no baryon density for this radius, try reducing R_max')\n",
    "        rho_b = 0\n",
    "        return(rho_b, rho_DM)    \n",
    "    \n",
    "    rho_b = nuc_info[nucleus][0] * densityInterpolate(r, b, l)[0] / (nuc_info['C12'][0] + nuc_info['O16'][0]) * GeV_per_kg # [GeV/cm^3]\n",
    "    return [rho_b, rho_DM]\n",
    "        "
   ]
  },
  {
   "cell_type": "code",
   "execution_count": 15,
   "id": "066e8a70-d2d2-449c-9bd4-b7aaf65df3af",
   "metadata": {},
   "outputs": [
    {
     "data": {
      "text/plain": [
       "array([0.])"
      ]
     },
     "execution_count": 15,
     "metadata": {},
     "output_type": "execute_result"
    }
   ],
   "source": [
    "densityInterpolate(40, -5, 359)"
   ]
  },
  {
   "cell_type": "code",
   "execution_count": 16,
   "id": "8731b90f-832c-4bc4-96d6-5ca67674254b",
   "metadata": {},
   "outputs": [
    {
     "data": {
      "text/plain": [
       "1.869413e-27"
      ]
     },
     "execution_count": 16,
     "metadata": {},
     "output_type": "execute_result"
    }
   ],
   "source": [
    "hdul_CO[0].data[1,180,0]"
   ]
  },
  {
   "cell_type": "code",
   "execution_count": 17,
   "id": "76d77cfb-2e5f-49af-9559-69f7dcf233b7",
   "metadata": {},
   "outputs": [
    {
     "data": {
      "text/plain": [
       "(0, 0.0009968157127351479)"
      ]
     },
     "execution_count": 17,
     "metadata": {},
     "output_type": "execute_result"
    }
   ],
   "source": [
    "density('O16', R_odot*7, 0.25, 0.25)"
   ]
  },
  {
   "cell_type": "code",
   "execution_count": 18,
   "id": "93c15021-3130-4879-9d51-e670046bbd54",
   "metadata": {},
   "outputs": [],
   "source": [
    "def plotLOSDMDensity(R_max):\n",
    "    plt.figure(figsize = (12, 8))\n",
    "    plt.xlabel(r'Line of sight distance [kpc]', fontsize = 16)\n",
    "    plt.ylabel(r'DM density [GeV/cm$^3$]', fontsize = 16)\n",
    "    plt.xlim(0, s_max(b_crval, l_crval + 90, N_odot * R_odot))\n",
    "    for deg in [5, 15, 30, 90]:#, 45]:\n",
    "        bb = 0\n",
    "        ll = l_crval + deg\n",
    "        S_MAX = s_max(bb, ll, R_max)\n",
    "        ss = np.linspace(0, S_MAX, 400)\n",
    "        rho_DM = list(map(lambda s:densityLOS('C12', s, bb, ll)[1], ss))\n",
    "        plt.plot(ss, rho_DM, label=\"b, l = {}$^\\circ$, {}$^\\circ$\".format(bb, ll))\n",
    "    plt.plot()\n",
    "    plt.legend()\n",
    "    plt.title('dm density as function of line of sight', fontsize = 24)\n",
    "\n",
    "# plotLOSDMDensity(40)"
   ]
  },
  {
   "cell_type": "code",
   "execution_count": 19,
   "id": "6ea0cd2e-6329-4b39-85c3-d71dbd7f0446",
   "metadata": {},
   "outputs": [],
   "source": [
    "def plotLOSBaryonDensity(R_max):\n",
    "    fig, ax1 = plt.subplots(figsize = (12, 8))\n",
    "    ax2 = ax1.twinx()  # instantiate a second axes that shares the same x-axis\n",
    "    ax1.set_xlabel(r'Line of sight distance [kpc]', fontsize = 16)\n",
    "    ax1.set_ylabel(r'Baryon density [kg/cm$^3$]', fontsize = 16)\n",
    "    ax2.set_ylabel(r'Baryon density [GeV/cm$^3$]', fontsize = 16)  # we already handled the x-label with ax1\n",
    "    ax2.set_xlim(0,35)\n",
    "    \n",
    "    for deg in [5, 15, 30, 90]:#, 45]:\n",
    "        bb = 0\n",
    "        ll = l_crval + deg\n",
    "        S_MAX = s_max(bb, ll, R_max)\n",
    "        ss = np.linspace(0, S_MAX, 400)\n",
    "        rho_b_kg = list(map(lambda s:densityLOS('C12', s, bb, ll)[0] * 1/GeV_per_kg, ss))\n",
    "        rho_b_GeV = list(map(lambda s:densityLOS('C12', s, bb, ll)[0], ss))\n",
    "        ax1.plot(ss, rho_b_kg, label=\"b, l = {}$^\\circ$, {}$^\\circ$\".format(bb, ll))\n",
    "        ax2.plot(ss, rho_b_GeV, label=\"b, l = {}$^\\circ$, {}$^\\circ$\".format(bb, ll), color='black', linestyle='')\n",
    "        ax1.legend()\n",
    "    \n",
    "    fig.tight_layout()  # otherwise the right y-label is slightly clipped\n",
    "    plt.title('baryon density as function of line of sight', fontsize = 24)\n",
    "\n",
    "# plotLOSVsBaryonDensity(35)"
   ]
  },
  {
   "cell_type": "code",
   "execution_count": 20,
   "id": "ce5ea303-90fd-4fec-a1e5-589044fb1985",
   "metadata": {},
   "outputs": [],
   "source": [
    "def plotRadialBaryonDensity(R_max):\n",
    "    fig, ax1 = plt.subplots(figsize = (12, 8))\n",
    "    ax2 = ax1.twinx()  # instantiate a second axes that shares the same x-axis\n",
    "    ax1.set_xlabel(r'Radius [kpc]', fontsize = 16)\n",
    "    ax1.set_ylabel(r'Baryon density [kg/cm$^3$]', fontsize = 16)\n",
    "    ax2.set_ylabel(r'Baryon density [GeV/cm$^3$]', fontsize = 16)  # we already handled the x-label with ax1\n",
    "    ax2.set_xlim(0,35)\n",
    "    \n",
    "    for deg in [5, 15, 30, 90]:#, 45]:\n",
    "        bb = 0\n",
    "        ll = l_crval + deg\n",
    "        arrs = np.linspace(1e-3, R_max, 400)\n",
    "        rho_b_kg = list(map(lambda arr:density('C12', arr, bb, ll)[0] * 1/GeV_per_kg, arrs))\n",
    "        rho_b_GeV = list(map(lambda arr:density('C12', arr, bb, ll)[0], arrs))\n",
    "        ax1.plot(arrs, rho_b_kg, label=\"b, l = {}$^\\circ$, {}$^\\circ$\".format(bb, ll))\n",
    "        ax2.plot(arrs, rho_b_GeV, label=\"b, l = {}$^\\circ$, {}$^\\circ$\".format(bb, ll), color='black', linestyle='')\n",
    "        ax1.legend()\n",
    "    \n",
    "    fig.tight_layout()  # otherwise the right y-label is slightly clipped\n",
    "    plt.title('baryon density as function of radius from GC', fontsize = 24);\n",
    "\n",
    "# plotRadialBaryonDensity(35)"
   ]
  },
  {
   "cell_type": "markdown",
   "id": "6d382db8-2ec6-4a7f-9594-e5c3a07968a0",
   "metadata": {},
   "source": [
    "# velocity dispersions $\\sigma(r, \\psi)$"
   ]
  },
  {
   "cell_type": "code",
   "execution_count": 21,
   "id": "a617e5b3-0024-4127-9d2f-02511215d454",
   "metadata": {},
   "outputs": [],
   "source": [
    "def vDispersion(r):\n",
    "    \"\"\"\n",
    "    returns: 3D velocity dispersion [km/s]\n",
    "    **********\n",
    "    r: radius from galactic centre [kpc]\n",
    "    \n",
    "    DM dispersion function taken from 2111.03076 Figure 1: r in units kpc, velocity dispersion in units km/s\n",
    "    \"\"\"\n",
    "    disp_b = 10 # [km/s]\n",
    "    disp_DM = (-42.4 * np.log10(r) + 382.2) # [km/s]\n",
    "    \n",
    "    return (disp_b, disp_DM)\n",
    "        "
   ]
  },
  {
   "cell_type": "markdown",
   "id": "b30485e2-6c92-44aa-9082-e5cb4863c331",
   "metadata": {},
   "source": [
    "# $v_\\text{esc}(r)$\n",
    "\n",
    "- Compare $v_\\text{esc}$ with Figures 2 and 3 of https://ui.adsabs.harvard.edu/abs/2021A%26A...649A.136K/abstract (try https://www.aanda.org/articles/aa/pdf/2018/08/aa33748-18.pdf or https://pure.rug.nl/ws/portalfiles/portal/196810757/aa38777_20.pdf)\n",
    "- also see https://www.aanda.org/articles/aa/pdf/2018/08/aa33748-18.pdf"
   ]
  },
  {
   "cell_type": "markdown",
   "id": "f792fe79-f126-44d4-b299-63c44541cb83",
   "metadata": {},
   "source": [
    "The total mass enclosed in cylinder of radius $r$ and height $z$ is\n",
    "\\begin{align}\n",
    "m_\\text{CO} &= \\int dV \\rho_\\text{CO}(r) \\\\\n",
    "&= \\int_{-z/2}^{z/2} \\int_0^{2\\pi} \\int_0^r \\rho_\\text{CO}(r')~r'~dr'~d\\theta~dz' \\\\\n",
    "&= 2\\pi z \\int_0^r \\rho_\\text{CO}(r')~r'~dr'. \\\\\n",
    "\\end{align}"
   ]
  },
  {
   "cell_type": "markdown",
   "id": "0ec84bdc-0140-4f06-81b6-f14da182035d",
   "metadata": {},
   "source": [
    "The total mass enclosed in a sphere of radius $r$ is\n",
    "\\begin{align}\n",
    "    m_b &= \\int dV \\rho_b(r) \\\\\n",
    "    &= 4\\pi \\int_0^r \\rho_b(r') ~ r'^2 ~ dr'\n",
    "\\end{align}"
   ]
  },
  {
   "cell_type": "markdown",
   "id": "7f5b188c-d273-4807-8df2-8ab3c293361a",
   "metadata": {},
   "source": [
    "We model the baryonic density as gravitational potentials describing the bulge and disk, $\\Phi_\\text{bulge} + \\Phi_\\text{disk}$ \\cite{Strigari:2009zb, Pato:2012fw}.\n",
    "The potential of the bulge is spherically symmetric,\n",
    "\\begin{equation}\n",
    "    \\Phi_\\text{bulge}(r) = -\\frac{G M_\\text{bulge}}{r + c_0},\n",
    "\\end{equation}\n",
    "where the bulge mass is $M_\\text{bulge} = 1.5\\times 10^{10} ~ \\text{M}_{\\odot}$ and the bulge scale radius is $c_0 = 0.6 ~ \\text{kpc}$.\n",
    "The potential of the disk is approximated as spherical,\n",
    "\\begin{equation}\n",
    "    \\Phi_\\text{disk}(r) = -\\frac{G M_\\text{disk}}{r} \\left[ 1 - e^{-r/b_\\text{disk}} \\right],\n",
    "\\end{equation}\n",
    "with disk mass $M_\\text{disk} = 7 \\times 10^{10} ~ \\text{M}_\\odot$ and disk scale radius $b_\\text{disk} = 4 ~ \\text{kpc}$.\n",
    "\n",
    "The baryon density is then given by the Poisson equation\n",
    "\\begin{equation}\n",
    "    \\nabla^2 \\Phi = 4 \\pi G \\rho_b(r).\n",
    "\\end{equation}\n",
    "\n",
    "\\begin{align}\n",
    "    \\nabla^2 \\Phi &= \\nabla^2 \\left[ -\\frac{G M_\\text{bulge}}{r + c_0} + -\\frac{G M_\\text{disk}}{r} \\left[ 1 - e^{-r/b_\\text{disk}} \\right] \\right] \\\\\n",
    "    &= \\frac{1}{r^2} \\frac{\\partial}{\\partial r} \\Bigg( r^2 \\frac{\\partial}{\\partial r} \\left[ -\\frac{G M_\\text{bulge}}{r + c_0} + -\\frac{G M_\\text{disk}}{r} \\left[ 1 - e^{-r/b_\\text{disk}} \\right] \\right] \\Bigg) \\\\\n",
    "\\end{align}\n",
    "\n",
    "\\begin{align}\n",
    "    \\rho_b(r) &= \\frac{1}{4\\pi G} \\nabla^2 \\Phi \\\\\n",
    "    &= \\frac{c_0 M_\\text{bulge}}{2\\pi r(c_0 + r)^3} + \\frac{M_\\text{disk} e^{-r/b_\\text{disk}}}{4 \\pi b^2 r}\n",
    "\\end{align}"
   ]
  },
  {
   "cell_type": "code",
   "execution_count": 22,
   "id": "81a7e385-0b6f-40c9-8104-d9ec132bcceb",
   "metadata": {},
   "outputs": [],
   "source": [
    "def radialCOMassDensity():\n",
    "    rho_r_data = pd.read_csv('massDensity_CO_r.csv', names=['Radius [kpc]', 'Mass density [kg/m^3]'], skiprows=1)\n",
    "    rho_radius, rho_rho = rho_r_data['Radius [kpc]'], rho_r_data['Mass density [kg/m^3]']\n",
    "    plt.figure(figsize = (8,6))\n",
    "    plt.grid(which = 'both', linestyle = 'dotted')\n",
    "    plt.xticks(size = 16); plt.yticks(size=16);\n",
    "    plt.xlabel(r'Radius [kpc]', fontsize=16); plt.ylabel(r'Mass density of CO [kg/m$^3$]', fontsize=16)\n",
    "    plt.xlim(rho_radius[0], rho_radius.iat[-1])\n",
    "    plt.plot(rho_radius, rho_rho)\n",
    "\n",
    "# radialCOMassDensity()"
   ]
  },
  {
   "cell_type": "code",
   "execution_count": 23,
   "id": "de833492-e8a7-4e97-ba71-8e6f6614f25f",
   "metadata": {},
   "outputs": [],
   "source": [
    "def M_b(r):\n",
    "    \"\"\"\n",
    "    returns: [kg] baryon mass within radius r\n",
    "    assumes spherical baryon potential given by bulge + spherically symmetrized disk (see arXiv:1805.08379)\n",
    "    \"\"\"\n",
    "    def f(R):\n",
    "        return R**2 * ( (c_bulge * M_bulge) / (2 * np.pi * R * (c_bulge + R)**3) \\\n",
    "                       + (M_disk * np.exp(-R / b_disk)) / (4 * np.pi * b_disk**2 * R) ) # [kg/kpc^3 * kpc^2]\n",
    "    result = quad(f, 0, r)\n",
    "    mass_kg = 4 * np.pi * result[0] # [kg]\n",
    "    return mass_kg\n",
    "\n",
    "\n",
    "def M_DM(r):\n",
    "    \"\"\"\n",
    "    returns: [kg] DM mass of MW within radius r_esc [kpc]\n",
    "    r: [kpc]\n",
    "    \"\"\"\n",
    "    def f(R):\n",
    "        \"\"\"\n",
    "        returns: [GeV/cm^3 * kpc^3] DM mass\n",
    "        \"\"\"\n",
    "        return 2*np.pi * 2 * R**2 * rho_s / ( (R/r_s) * (1 + R/r_s)**2 ) # [GeV/cm^3] * kpc^3\n",
    "    # convert to kg\n",
    "    mass_kg = quad(f, 0, r)[0] * cm_per_kpc**3 * 1/GeV_per_kg # [kg]\n",
    "\n",
    "    return mass_kg\n",
    "\n",
    "\n",
    "def M_MW(r):\n",
    "    z = 1 # [kpc]\n",
    "    # M_total = M_CO(r_esc, z) + M_DM(r_esc) # [kg]\n",
    "    M_total = M_b(r) + M_DM(r) # [kg]\n",
    "    mass_odot = M_total / M_sun # [solar masses]\n",
    "    # print(\"{:2.2e} solar masses\".format(mass_odot))\n",
    "    # print(\"MW galaxy should be approximately 1.2e12 solar masses\")\n",
    "    return M_total\n",
    "\n",
    "\n",
    "def v_esc(r):\n",
    "    \"\"\"\n",
    "    returns: [km/s] escape velocity as function of radius\n",
    "    *** CURRENTLY ONLY ASSUMES DM MAKING UP MASS ***\n",
    "    \"\"\"\n",
    "    M = M_MW(r) # [kg]\n",
    "    # M = 1.2e12 * M_sun\n",
    "    # convert r from kpc to m\n",
    "    # convert v_esc to km/s\n",
    "    return 3 * np.sqrt(2 * G * M / (r * cm_per_kpc / 100)) / 1000 # [km/s]\n",
    "\n"
   ]
  },
  {
   "cell_type": "code",
   "execution_count": 24,
   "id": "6208fc43-52a4-4b2b-859d-d5e505996078",
   "metadata": {},
   "outputs": [],
   "source": [
    "# v_esc(5)"
   ]
  },
  {
   "cell_type": "code",
   "execution_count": 25,
   "id": "681c0db3-2860-4d01-960f-4e736d551680",
   "metadata": {},
   "outputs": [],
   "source": [
    "def plotEscapeVelocity():\n",
    "    arrs = np.linspace(0.1, 50.0, 100)\n",
    "    plt.figure(figsize=(8, 6))\n",
    "    plt.xlim(-1, 20.0); plt.ylim(v_esc(arrs[0]), 900)\n",
    "    plt.xlabel('Radius from galactic centre [kpc]', fontsize=14)\n",
    "    plt.ylabel('Escape velocity [km/s]', fontsize=14)\n",
    "    plt.plot(arrs, list(map(lambda arr: v_esc(arr), arrs)))\n",
    "\n",
    "# plotEscapeVelocity()\n"
   ]
  },
  {
   "cell_type": "markdown",
   "id": "76cd9ce2-7615-43e1-a788-ee7ff12781f7",
   "metadata": {},
   "source": [
    "# $v_\\chi$ integral"
   ]
  },
  {
   "cell_type": "markdown",
   "id": "5ec036c0-891a-4170-a7f3-27a402a48c85",
   "metadata": {},
   "source": [
    "## Normalization\n",
    "\n",
    "The distribution functions are normalized such that\n",
    "\\begin{align}\n",
    "1 &= \\int_0^{v_\\text{esc}} f(v) d^3 v \\\\\n",
    "&= \\int_0^{2\\pi} d\\phi \\int_0^\\pi d\\theta ~\\sin\\theta \\int_0^{v_\\text{esc}(r)} dv ~v^2 f(\\vec{v})\n",
    "\\end{align}\n",
    "\n",
    "For the DM distribution,\n",
    "\\begin{equation}\n",
    "f_\\chi(\\vec{v}_\\chi) = \\frac{1}{\\mathcal{N}_\\chi(r)} \\left( \\frac{1}{2\\pi (\\sigma_\\chi(r))^2} \\right)^{3/2} \\exp\\left[ -\\frac{\\vec{v}_\\chi^2}{2(\\sigma_\\chi(r))^2} \\right]\n",
    "\\end{equation}\n",
    "\n",
    "The integral gives analytic solution\n",
    "\\begin{align}\n",
    "\\mathcal{N}_\\chi(r) &= 4\\pi \\left[ 2\\pi (\\sigma_b(r))^2 \\right]^{-3/2} \\times \\Bigg( \\sqrt{\\frac{\\pi}{2}}  (\\sigma_\\chi(r))^3 ~\\text{erf}\\left[ \\frac{v_\\text{esc}(r)}{\\sqrt{2} \\sigma_\\chi(r)} \\right] - (\\sigma_\\chi(r))^2 v_\\text{esc}(r) \\exp\\left[ \\frac{-(v_\\text{esc}(r))^2}{2(\\sigma_\\chi(r))^2} \\right] \\Bigg)\n",
    "\\end{align}"
   ]
  },
  {
   "cell_type": "code",
   "execution_count": 26,
   "id": "d8775baa-bfd3-4864-8707-9efc55ca391e",
   "metadata": {},
   "outputs": [],
   "source": [
    "def norm_chi(V_ESC, sigma_chi):\n",
    "    \"\"\"\n",
    "    returns: normalization factor for DM distribution function, checked with function Int_f_chi(s, b, l)\n",
    "    \"\"\"\n",
    "    norm = (2*np.pi * sigma_chi**2)**(-3/2) * (4 * np.pi) \\\n",
    "    * ( np.sqrt(np.pi / 2) * sigma_chi**3 * scipy.special.erf(V_ESC / (np.sqrt(2) * sigma_chi) ) \\\n",
    "       - sigma_chi**2 * V_ESC * np.exp(-V_ESC**2 / (2 * sigma_chi**2)))\n",
    "    return norm\n",
    "\n",
    "\n",
    "def Int_v_chi(m_chi, m_N, deltaE, r, v_n):\n",
    "    \"\"\"\n",
    "    returns: integral of DM velocity distribution [MeV^-1 km s^-1]\n",
    "    **********\n",
    "    deltaE: excitation energy [MeV]\n",
    "    m_chi: DM mass [MeV] \n",
    "    m_N: nucleus mass [MeV]\n",
    "    v_i: nucleus velocity [km/s]\n",
    "    r: radius from galactic centre [kpc]\n",
    "    \"\"\"\n",
    "    if m_chi < 0:\n",
    "        return 0\n",
    "    \n",
    "    V_N = v_n / (c/1000) # convert from [km/s] to [unitless]\n",
    "    if (deltaE - m_chi - (1/2) * m_N * V_N**2) < 0: # process is not possible\n",
    "        return 0\n",
    "\n",
    "    v_chi_plus = np.sqrt( (2 * (deltaE - m_chi - (1/2) * m_N * V_N**2) ) / (m_chi) ) * (c/1000) # [km/s]\n",
    "    V_ESC = v_esc(r) # [km/s]\n",
    "    if v_chi_plus > V_ESC:\n",
    "        return 0\n",
    "        \n",
    "    V_CHI = v_chi_plus / (c/1000) # convert from [km/s] to [unitless]        \n",
    "    E_chi = ( m_chi + (1/2) * m_chi * V_CHI**2 ) # [MeV]\n",
    "    sigma_chi = vDispersion(r)[1] # [km/s]\n",
    "    norm = norm_chi(V_ESC, sigma_chi)\n",
    "\n",
    "    return ( (1 / norm) * (1 / E_chi) * v_chi_plus * np.exp(-v_chi_plus**2 / (2 * sigma_chi**2)) ) # [MeV^-1 km/s]\n"
   ]
  },
  {
   "cell_type": "code",
   "execution_count": 27,
   "id": "2eaf3220-9145-42b9-a0f5-b1136e6b25cb",
   "metadata": {},
   "outputs": [
    {
     "data": {
      "text/plain": [
       "13.217152516536697"
      ]
     },
     "execution_count": 27,
     "metadata": {},
     "output_type": "execute_result"
    }
   ],
   "source": [
    "# tic = time.time()\n",
    "Int_v_chi(16.73, nuc_info['O16'][0], 16.732241, 16, 163.5)\n",
    "# print(time.time()-tic)"
   ]
  },
  {
   "cell_type": "code",
   "execution_count": 28,
   "id": "3d574567-80aa-407b-8b0a-f9b29bed273f",
   "metadata": {},
   "outputs": [
    {
     "data": {
      "text/plain": [
       "14.407847276922597"
      ]
     },
     "execution_count": 28,
     "metadata": {},
     "output_type": "execute_result"
    }
   ],
   "source": [
    "Int_v_chi(16.72, nuc_info['O16'][0], 16.732241, 17.85729552469265, 382.4)"
   ]
  },
  {
   "cell_type": "code",
   "execution_count": 29,
   "id": "10426e4b-c4af-4e02-8254-3d60cd878eec",
   "metadata": {},
   "outputs": [
    {
     "data": {
      "text/plain": [
       "0"
      ]
     },
     "execution_count": 29,
     "metadata": {},
     "output_type": "execute_result"
    }
   ],
   "source": [
    "Int_v_chi(16.73, nuc_info['O16'][0], 16.732241, 16, 382.4)"
   ]
  },
  {
   "cell_type": "markdown",
   "id": "189cdee6-112d-42fd-b983-484d1eb355c9",
   "metadata": {},
   "source": [
    "# $v_b$ integral"
   ]
  },
  {
   "cell_type": "markdown",
   "id": "57c5ec13-3d1d-4b35-8a8a-588ddbf81dc1",
   "metadata": {},
   "source": [
    "## $v_b$ bounds\n",
    "\n",
    "From $V_\\chi^+ (v_N)$ we can find the bounds for $v_N$ that will give a nonzero answer to further narrow down the integration range and get a more accurate result.\n",
    "$$ V_\\chi^+ (v_i) = \\left[ \\frac{2(\\Delta E - m_\\chi - \\frac{1}{2}m_N v_N^2)}{m_\\chi} \\right]^{1/2} $$\n",
    "\n",
    "### $v_b$ upper bound:\n",
    "$$\\Delta E - m_\\chi - \\frac{1}{2} m_N v_N^2 >0 $$\n",
    "\\begin{equation}\n",
    "\\boxed{v_N < \\left[ \\frac{2(\\Delta E - m_\\chi)}{m_N} \\right]^{1/2}}\n",
    "\\end{equation}\n",
    "\n",
    "\n",
    "### $v_b$ lower bound:\n",
    "$$ \\left[ \\frac{2(\\Delta E - m_\\chi - \\frac{1}{2}m_N v_N^2)}{m_\\chi} \\right]^{1/2} < v_\\text{esc} $$\n",
    "\\begin{equation}\n",
    "\\boxed{\\left[ \\frac{2(\\Delta E - m_\\chi - \\frac{1}{2}m_\\chi v_\\text{esc}^2)}{m_N} \\right]^{1/2} < v_N}\n",
    "\\end{equation}"
   ]
  },
  {
   "cell_type": "markdown",
   "id": "265fb70d-1d70-43ee-8c3a-286d311ae399",
   "metadata": {},
   "source": [
    "## Normalization\n",
    "\n",
    "The distribution functions are normalized such that\n",
    "\\begin{align}\n",
    "1 &= \\int_0^{v_\\text{esc}} f(v) d^3 v \\\\\n",
    "&= \\int_0^{2\\pi} d\\phi \\int_0^\\pi d\\theta ~\\sin\\theta \\int_0^{v_\\text{esc}(r)} dv ~v^2 f(\\vec{v})\n",
    "\\end{align}\n",
    "\n",
    "For the baryon distribution **(note that the baryon velocity dispersion $\\sigma_b$ currently does NOT depend on radius)**,\n",
    "\\begin{equation}\n",
    "f_b(v_b) = \\frac{1}{\\mathcal{N}_b(r)} \\left( \\frac{1}{2\\pi \\sigma_b^2} \\right)^{3/2} \\exp\\left[ -\\frac{\\left( \\vec{v}_b - \\bar{v}(r) \\right)^2}{2\\sigma_b^2} \\right]\n",
    "\\end{equation}\n",
    "\n",
    "The integral gives analytic solution\n",
    "\\begin{align}\n",
    "\\mathcal{N}_b(r) &= 4\\pi \\left[ 2\\pi \\sigma_b^2 \\right]^{-3/2} \\frac{1}{2} \\sigma_b \\\\\n",
    "& \\qquad \\times \\Bigg( \\sqrt{2\\pi}\\left(\\bar{v}(r)^2 + \\sigma_b^2\\right) ~\\text{erf}\\left[ \\frac{\\bar{v}(r)}{\\sqrt{2} \\sigma_b} \\right] - \\sqrt{2\\pi}\\left( \\bar{v}(r)^2 + \\sigma_b^2 \\right) ~\\text{erf} \\left[ \\frac{\\bar{v}(r) - v_\\text{esc}(r)}{\\sqrt{2} \\sigma_b} \\right] \\\\\n",
    "& \\qquad \\qquad + 2 \\sigma_b(r) \\bar{v}(r) \\exp\\left[-\\frac{\\bar{v}(r)^2}{2\\sigma_b^2} \\right] - 2\\sigma_b(r) \\left(\\bar{v}(r) + v_\\text{esc}(r) \\right)\\exp\\left[-\\frac{\\left(\\bar{v}(r) - v_\\text{esc}(r)\\right)^2}{2 \\sigma_b^2} \\right]\\Bigg)\n",
    "\\end{align}"
   ]
  },
  {
   "cell_type": "code",
   "execution_count": 30,
   "id": "2c2c4be6-099f-4b1e-a6ed-70d79dff13c2",
   "metadata": {},
   "outputs": [],
   "source": [
    "def v_N_integralBounds(m_N, m_chi, deltaE, V_ESC):\n",
    "    \"\"\"\n",
    "    returns: [km/s] min and max bounds on v_N\n",
    "    \"\"\"\n",
    "    v_N_min = np.sqrt(2 * (deltaE - m_chi - (1/2) * m_chi * (V_ESC/(c/1000))**2) / m_N) * (c/1000) # [km/s]\n",
    "    v_N_max = np.sqrt(2 * (deltaE - m_chi) / m_N) * (c/1000) # [km/s]\n",
    "    \n",
    "    if v_N_min > V_ESC:\n",
    "        v_N_min = V_ESC\n",
    "    if v_N_max > V_ESC:\n",
    "        v_N_max = V_ESC\n",
    "    if v_N_min > v_N_max:\n",
    "        print('v_N bounds make no sense!')\n",
    "        \n",
    "    return [v_N_min, v_N_max] # [km/s]\n",
    "\n",
    "\n",
    "def norm_N(VBAR, V_ESC, sigma_b):\n",
    "    \"\"\"\n",
    "    returns: [unitless] normalization factor for baryon distribution function, checked with function Int_f_b(s, b, l)\n",
    "    \"\"\"\n",
    "    norm = (4 * np.pi) * (2*np.pi * sigma_b**2)**(-3/2) \\\n",
    "    * (1/2) * sigma_b * (np.sqrt(2 * np.pi) * (VBAR**2 + sigma_b**2) * scipy.special.erf(VBAR / (np.sqrt(2) * sigma_b)) \\\n",
    "                        - np.sqrt(2 * np.pi)  * (VBAR**2 + sigma_b**2) * scipy.special.erf((VBAR - V_ESC) / (np.sqrt(2) * sigma_b)) \\\n",
    "                        + 2 * sigma_b * VBAR * np.exp(- VBAR**2 / (2 * sigma_b**2)) \\\n",
    "                        - 2 * sigma_b * (VBAR + V_ESC) * np.exp(- (VBAR - V_ESC)**2 / (2 * sigma_b**2)) )\n",
    "    return norm\n",
    "\n",
    "\n",
    "def Int_v_N(m_chi, m_N, deltaE, r):\n",
    "    \"\"\"\n",
    "    returns: [MeV^-2 km^4 s^-4] integral of baryon velocity distribution\n",
    "    **********\n",
    "    deltaE: [MeV] excitation energy\n",
    "    m_chi: [MeV] DM mass\n",
    "    nucleus: scattering target\n",
    "    r: [kpc] radius from galactic centre\n",
    "    \"\"\"\n",
    "    if m_chi > deltaE: # process not possible\n",
    "        return 0\n",
    "\n",
    "    VBAR = v_circ(r) # [km/s]\n",
    "    V_ESC = v_esc(r) # [km/s]\n",
    "    # if VBAR>V_ESC:\n",
    "    #     return 0\n",
    "    if (deltaE - m_chi - (1/2) * m_chi * (V_ESC/(c/1000))**2) < 0: # v_N_min expression\n",
    "        return 0\n",
    "    \n",
    "    sigma_b = vDispersion(r)[0] # [km/s]\n",
    "    norm = norm_N(VBAR, V_ESC, sigma_b) # [unitless]\n",
    "    if norm<0:\n",
    "        print(\"something has gone wrong!\")\n",
    "        return\n",
    "        \n",
    "    v_N_bounds = v_N_integralBounds(m_N, m_chi, deltaE, V_ESC) # ([km/s], [km/s])\n",
    "    v_N_min, v_N_max = v_N_bounds[0], v_N_bounds[1] # [km/s], [km/s]\n",
    "    \n",
    "    def f(v_n): # v_n units [km/s]\n",
    "        V_N = v_n / (c/1000) # convert from [km/s] to [unitless]\n",
    "        E_N = ( m_N + (1/2) * m_N * V_N**2 ) # [MeV]\n",
    "        \n",
    "        integrand = ((2 * np.pi) * (1 / E_N) * sigma_b**2 * (v_n / VBAR) \\\n",
    "        * (np.exp(- (v_n - VBAR)**2 / (2 * sigma_b**2) ) - np.exp(- (v_n + VBAR)**2 / (2 * sigma_b**2) )) \\\n",
    "        * Int_v_chi(m_chi, m_N, deltaE, r, v_n)) \n",
    "        # [MeV^-1] * [km/s]^2  *  [unitless]  *  [MeV^-1 km/s]\n",
    "        return integrand # [MeV^-2 * km^3/s^3]\n",
    "        \n",
    "    integral, err = quad(f, v_N_min, v_N_max) # integration gives factor of [km/s]\n",
    "    return (1/norm) * integral # [MeV^-2 km^4 s^-4]\n"
   ]
  },
  {
   "cell_type": "code",
   "execution_count": 31,
   "id": "3d92eb15-eb91-4299-9862-19f5fcb5591f",
   "metadata": {},
   "outputs": [],
   "source": [
    "# norm_N(v_circ(0.001), v_esc(0.001), 10)"
   ]
  },
  {
   "cell_type": "code",
   "execution_count": 32,
   "id": "0a1ff663-86f4-4aed-bf77-e1457b067612",
   "metadata": {},
   "outputs": [],
   "source": [
    "def plot_f_v_N(m_chi, m_N, deltaE):\n",
    "    \"\"\"\n",
    "    !!!\n",
    "    Introducing baryon bulk velocity as a function of radius (v_circ(r)) increases the flux by orders of magnitude depending on the radius.\n",
    "    \n",
    "    !!!\n",
    "    \"\"\"\n",
    "    plt.figure(figsize=(8, 6))\n",
    "    for r in [7, 8.5, 9, 10]:\n",
    "        if m_chi > deltaE: # process not possible\n",
    "            return 0\n",
    "    \n",
    "        VBAR = v_circ(r) # [km/s]\n",
    "        V_ESC = v_esc(r) # [km/s]\n",
    "        # if VBAR>V_ESC:\n",
    "        #     return 0\n",
    "        if (deltaE - m_chi - (1/2) * m_chi * (V_ESC/(c/1000))**2) < 0: # v_N_min expression\n",
    "            return 0\n",
    "        \n",
    "        sigma_b = vDispersion(r)[0] # [km/s]\n",
    "        norm = norm_N(VBAR, V_ESC, sigma_b)\n",
    "        if norm<0:\n",
    "            return\n",
    "            \n",
    "        v_N_bounds = v_N_integralBounds(m_N, m_chi, deltaE, V_ESC)\n",
    "        v_N_min, v_N_max = v_N_bounds[0], v_N_bounds[1] # [km/s], [km/s]\n",
    "        vees = np.linspace(v_N_min, v_N_max, 100)\n",
    "    \n",
    "        def f(v_n):\n",
    "            V_N = v_n / (c/1000) # convert from km/s to unitless\n",
    "            E_N = ( m_N + (1/2) * m_N * V_N**2 ) # [MeV]\n",
    "            integrand = ((2 * np.pi) * (1 / E_N) * sigma_b**2 * (v_n / VBAR) \\\n",
    "            * (np.exp(- (v_n - VBAR)**2 / (2 * sigma_b**2) ) - np.exp(- (v_n + VBAR)**2 / (2 * sigma_b**2) )) \\\n",
    "            * Int_v_chi(m_chi, m_N, deltaE, r, v_n))\n",
    "            # [MeV^-1] * [km/s]^2  *  [unitless]  *  [MeV^-1 km/s]\n",
    "            return 1/norm * integrand # [MeV^-2 * km^3/s^3]\n",
    "\n",
    "        norm220 = norm_N(220, V_ESC, sigma_b)\n",
    "        def f_220(v_n):\n",
    "            V_N = v_n / (c/1000) # convert from km/s to unitless\n",
    "            E_N = ( m_N + (1/2) * m_N * V_N**2 ) # [MeV]\n",
    "            integrand = ((2 * np.pi) * (1 / E_N) * sigma_b**2 * (v_n / 220) \\\n",
    "            * (np.exp(- (v_n - 220)**2 / (2 * sigma_b**2) ) - np.exp(- (v_n + 220)**2 / (2 * sigma_b**2) )) \\\n",
    "            * Int_v_chi(m_chi, m_N, deltaE, r, v_n))\n",
    "            # [MeV^-1] * [km/s]^2  *  [unitless]  *  [MeV^-1 km/s]\n",
    "            return 1/norm220 * integrand # [MeV^-2 * km^3/s^3]\n",
    "        \n",
    "        plt.plot(vees[1:-2], list(map(lambda vee: f(vee)/f_220(vee), vees[1:-2])), label='r = {}'.format(r))\n",
    "        # plt.plot(vees, list(map(lambda vee: f(vee), vees)), label='r = {}'.format(r))\n",
    "        # plt.plot(vees, list(map(lambda vee: f_220(vee), vees)), label='r = {}'.format(r), linestyle = 'dashed', color='black')\n",
    "    plt.xlim(vees[1], vees[-2])\n",
    "    plt.xlabel('Baryon velocity [km/s]', fontsize = 14); plt.ylabel(r'Ratio of dist. functions: $\\bar{v}(r)$ vs $\\bar{v} = 220$ km/s', fontsize = 14)\n",
    "    # plt.xlabel('Baryon velocity [km/s]'); plt.ylabel('Dist. functions', fontsize = 14)\n",
    "    plt.legend()\n",
    "    return"
   ]
  },
  {
   "cell_type": "code",
   "execution_count": 33,
   "id": "f3c79ce8-1da9-4458-9345-d09f46f8e779",
   "metadata": {},
   "outputs": [],
   "source": [
    "# plot_f_v_N(m_chi = 16.72997316197439, m_N = nuc_info['O16'][0], deltaE = 16.732241)"
   ]
  },
  {
   "cell_type": "code",
   "execution_count": 34,
   "id": "7bf5fd9c-b4f8-4d24-8251-f39a4d9b06fe",
   "metadata": {},
   "outputs": [],
   "source": [
    "def logInt_v_N(m_chi, m_N, deltaE, r):\n",
    "    \"\"\"\n",
    "    returns: [MeV^-2 km^4 s^-4] integral of baryon velocity distribution\n",
    "    **********\n",
    "    deltaE: [MeV] excitation energy\n",
    "    m_chi: [MeV] DM mass\n",
    "    nucleus: scattering target\n",
    "    r: [kpc] radius from galactic centre\n",
    "    \"\"\"\n",
    "    if m_chi > deltaE: # process not possible\n",
    "        return 0\n",
    "\n",
    "    VBAR = v_circ(r) # [km/s]\n",
    "    V_ESC = v_esc(r) # [km/s]\n",
    "    # if VBAR>V_ESC:\n",
    "    #     return 0\n",
    "    if (deltaE - m_chi - (1/2) * m_chi * (V_ESC/(c/1000))**2) < 0: # v_N_min expression\n",
    "        return 0\n",
    "    \n",
    "    sigma_b = vDispersion(r)[0] # [km/s]\n",
    "    norm = norm_N(VBAR, V_ESC, sigma_b) # [unitless]\n",
    "    if norm<0:\n",
    "        return 0\n",
    "        \n",
    "    v_N_bounds = v_N_integralBounds(m_N, m_chi, deltaE, V_ESC)\n",
    "    v_N_min, v_N_max = v_N_bounds[0], v_N_bounds[1] # [km/s], [km/s]\n",
    "    \n",
    "    def f(v_n):\n",
    "        V_N = v_n / (c/1000) # convert from km/s to unitless\n",
    "        E_N = ( m_N + (1/2) * m_N * V_N**2 ) # [MeV]\n",
    "        \n",
    "        integrand = ((2 * np.pi) * (1 / E_N) * sigma_b**2 * (v_n / VBAR) \\\n",
    "        * (np.exp(- (v_n - VBAR)**2 / (2 * sigma_b**2) ) - np.exp(- (v_n + VBAR)**2 / (2 * sigma_b**2) )) \\\n",
    "        * Int_v_chi(m_chi, m_N, deltaE, r, v_n)) \n",
    "        # [MeV^-1] * [km/s]^2  *  [unitless]  *  [MeV^-1 km/s]\n",
    "        return integrand # [MeV^-2 * km^3/s^3]\n",
    "    \n",
    "    def g(u):\n",
    "        return np.exp(u) * f(np.exp(u))\n",
    "        \n",
    "    integral, err = quad(g, np.log(v_N_min), np.log(v_N_max))\n",
    "    return (1/norm) * integral # [MeV^-2 km^3 s^-3 * km/s] = [MeV^-2 km^4 s^-4]\n"
   ]
  },
  {
   "cell_type": "code",
   "execution_count": 35,
   "id": "84c8d942-c78e-48db-a3b7-62ee841dfd43",
   "metadata": {},
   "outputs": [
    {
     "data": {
      "text/plain": [
       "9.98330647717355e-11"
      ]
     },
     "execution_count": 35,
     "metadata": {},
     "output_type": "execute_result"
    }
   ],
   "source": [
    "Int_v_N(m_chi = 16.72997316197439, m_N = nuc_info['O16'][0], deltaE = 16.732241, r = 5)"
   ]
  },
  {
   "cell_type": "code",
   "execution_count": 36,
   "id": "83d61fc4-940e-46be-94a8-d8736822c4a5",
   "metadata": {},
   "outputs": [
    {
     "data": {
      "text/plain": [
       "9.983311960868493e-11"
      ]
     },
     "execution_count": 36,
     "metadata": {},
     "output_type": "execute_result"
    }
   ],
   "source": [
    "logInt_v_N(m_chi = 16.72997316197439, m_N = nuc_info['O16'][0], deltaE = 16.732241, r = 5)"
   ]
  },
  {
   "cell_type": "code",
   "execution_count": 37,
   "id": "bf7db813-7929-491f-aa51-ac29062cfd87",
   "metadata": {},
   "outputs": [
    {
     "data": {
      "text/plain": [
       "5.6663745763846106e-31"
      ]
     },
     "execution_count": 37,
     "metadata": {},
     "output_type": "execute_result"
    }
   ],
   "source": [
    "Int_v_N(m_chi = 16.731240999999994, m_N = nuc_info['O16'][0], deltaE = 16.732241, r = 5)\n"
   ]
  },
  {
   "cell_type": "code",
   "execution_count": 38,
   "id": "347eafff-05d8-4317-846b-27c691dae023",
   "metadata": {},
   "outputs": [
    {
     "data": {
      "text/plain": [
       "2.102139685186826e-08"
      ]
     },
     "execution_count": 38,
     "metadata": {},
     "output_type": "execute_result"
    }
   ],
   "source": [
    "Int_v_N(m_chi = 16.73, m_N = nuc_info['O16'][0], deltaE = 16.732241, r = 10)\n"
   ]
  },
  {
   "cell_type": "code",
   "execution_count": 39,
   "id": "531da3b7-36cf-4817-bc56-822dbb74d4ba",
   "metadata": {},
   "outputs": [
    {
     "data": {
      "text/plain": [
       "2.0778520378519585e-44"
      ]
     },
     "execution_count": 39,
     "metadata": {},
     "output_type": "execute_result"
    }
   ],
   "source": [
    "Int_v_N(m_chi = 16.722240999999993, m_N = nuc_info['O16'][0], deltaE = 16.732241, r = 10)\n"
   ]
  },
  {
   "cell_type": "code",
   "execution_count": 40,
   "id": "c4bcdebe-1815-468b-a12b-29f045f3b544",
   "metadata": {},
   "outputs": [
    {
     "data": {
      "text/plain": [
       "0.00041744747126444575"
      ]
     },
     "execution_count": 40,
     "metadata": {},
     "output_type": "execute_result"
    }
   ],
   "source": [
    "Int_v_N(16.73, 15044, 16.7333, 10)"
   ]
  },
  {
   "cell_type": "markdown",
   "id": "f4818a94-51e4-4109-b2ba-99ff489f4a6e",
   "metadata": {},
   "source": [
    "# line of sight $s$ integral"
   ]
  },
  {
   "cell_type": "markdown",
   "id": "3ba2b130-3171-4f3a-957a-5b750477a395",
   "metadata": {},
   "source": [
    "$$  \\begin{align}\n",
    "r &= \\sqrt{R_\\odot^2 + s^2 - 2 R_\\odot s \\cos \\psi} \\\\\n",
    "&= \\sqrt{R_\\odot^2 + s^2 - 2 R_\\odot s \\cos b \\cos l} \n",
    "\\end{align} $$\n",
    "<!-- $$ r = \\sqrt{R_\\odot^2 + s^2 - 2 R_\\odot s \\cos \\psi} $$ -->\n",
    "\n",
    "$$ s_\\text{max} = (R_\\text{halo}^2 - R_\\odot^2 \\sin^2\\psi)^{1/2} + R_\\odot \\cos\\psi $$"
   ]
  },
  {
   "cell_type": "code",
   "execution_count": 41,
   "id": "5562be2f-72bd-4d15-9de1-da2cf866929a",
   "metadata": {},
   "outputs": [],
   "source": [
    "def Int_LOS(m_chi, nucleus, deltaE, b, l, R_max):\n",
    "    \"\"\"\n",
    "    returns: [cm^-5] line of sight integral\n",
    "    ********\n",
    "    \"\"\"\n",
    "    # nuc_info = {'He4': [3758.26, 0.0], 'C12': [11274.78, 0.0], 'N14': [13153.91, 0.0], 'O16': [15033.04, 0.0]}\n",
    "    m_N = nuc_info[nucleus][0]\n",
    "    if m_chi > deltaE:\n",
    "        return 0\n",
    "    psi = np.arccos( np.cos(np.radians(b)) * np.cos(np.radians(l)) ) # [radians]\n",
    "    s_max = (np.sqrt(R_max**2 - R_odot**2 * (np.sin(psi))**2) + R_odot * np.cos(psi)) # [kpc]\n",
    "    \n",
    "    # scale to make integrand ~O(1):\n",
    "    rhoScale = density(nucleus, R_odot, bs[180], l_crval) # needs to be nonzero; using value at Sun location\n",
    "    sigmaScale = vDispersion(R_odot)\n",
    "    DELTAE = min(allCOdEs, key=lambda x:abs(x-m_chi))\n",
    "    integralScale = Int_v_N(m_chi, m_N, DELTAE, R_odot) * rhoScale[0] * rhoScale[1] * (sigmaScale[0] * sigmaScale[1])**(-3)\n",
    "    # print(integralScale)\n",
    "    \n",
    "    def f(s):\n",
    "        r = np.sqrt(R_odot**2 + s**2 - 2 * R_odot * s * np.cos(psi)) # [kpc]\n",
    "        rho = density(nucleus, r, b, l) # ([GeV/cm^3], [GeV/cm^3])\n",
    "        rho_b, rho_chi = rho[0], rho[1] # [GeV/cm^3], [GeV/cm^3]\n",
    "        disp = vDispersion(r) # ([km/s], [km/s])\n",
    "        sigma_b, sigma_chi = disp[0], disp[1] # [km/s], [km/s]\n",
    "        integrand = rho_b * rho_chi * ( (2*np.pi) * sigma_b * sigma_chi )**(-3) \\\n",
    "        * Int_v_N(m_chi, m_N, deltaE, r) / integralScale\n",
    "        # print(integrand)\n",
    "        return integrand\n",
    "        # [GeV/cm^3] * [GeV/cm^3] * [km/s]^-3 * [km/s]^-3 * [MeV^-2 km^4 s^-4] = [GeV^2 cm^-6 km^-2 s^2 MeV^-2]\n",
    "\n",
    "    # integral, err = quad(f, 0, s_max)#, epsrel = 1e-5, epsabs = 0, limit=200)\n",
    "    esses = np.linspace(0, s_max, 500)\n",
    "    g = list(map(lambda ess: f(ess), esses))\n",
    "    integral = cumtrapz(g, esses, initial=0) # integrating over kpc gives a factor of kpc\n",
    "    # return integral * (c/1000)**2 * 1000**2 * cm_per_kpc * integralScale # [cm^-5]\n",
    "    return integral[-1] * (c/1000)**2 * 1000**2 * cm_per_kpc * integralScale # [cm^-5]\n",
    "    "
   ]
  },
  {
   "cell_type": "code",
   "execution_count": 42,
   "id": "cfd79461-97a0-4678-be27-042d282b6bea",
   "metadata": {},
   "outputs": [],
   "source": [
    "# Int_LOS(m_chis_C12[2], 'C12', dEs_C12[2], -5.25, l_crval, 50.0)"
   ]
  },
  {
   "cell_type": "code",
   "execution_count": 43,
   "id": "6f8c10e2-f74f-4ae4-aac7-8b3990977a32",
   "metadata": {},
   "outputs": [],
   "source": [
    "# tic = time.time()\n",
    "# Int_LOS(m_chis_C12[2], 'C12', dEs_C12[2], -1, l_crval, 2*R_odot)\n",
    "# print(time.time() - tic)"
   ]
  },
  {
   "cell_type": "code",
   "execution_count": 44,
   "id": "35583b5b-d863-4fba-8d36-bd40478062a6",
   "metadata": {},
   "outputs": [],
   "source": [
    "# tic = time.time()\n",
    "# Int_LOS(m_chis_C12[2], 'C12', dEs_C12[2], -1, l_crval, 2*R_odot)\n",
    "# print(time.time() - tic)"
   ]
  },
  {
   "cell_type": "code",
   "execution_count": 45,
   "id": "74c8ef72-a50e-4d74-b8c8-17e75d248030",
   "metadata": {},
   "outputs": [],
   "source": [
    "# Int_LOS(m_chi = 16.73, nucleus = 'O16', deltaE = 16.732241, b = 0, l = l_crval, R_max = R_odot*2)"
   ]
  },
  {
   "cell_type": "code",
   "execution_count": 46,
   "id": "56b112e6-a161-4a3c-b8a8-ac131c77288b",
   "metadata": {},
   "outputs": [],
   "source": [
    "# Int_LOS(m_chi = 16.73, nucleus = 'O16', deltaE = 16.732241, b = 0, l = l_crval, R_max = R_odot*4)"
   ]
  },
  {
   "cell_type": "code",
   "execution_count": 47,
   "id": "0f49d0e6-bf23-475e-8158-b4169209f834",
   "metadata": {},
   "outputs": [],
   "source": [
    "# Int_LOS(m_chi = 16.73, nucleus = 'O16', deltaE = 16.732241, b = 0, l = l_crval, R_max = R_odot*2)"
   ]
  },
  {
   "cell_type": "code",
   "execution_count": 48,
   "id": "9ea1ca75-650b-43b6-a42a-3b38402ce14d",
   "metadata": {},
   "outputs": [],
   "source": [
    "# Int_LOS(m_chi = 16.73, nucleus = 'O16', deltaE = 16.732241, b = 0, l = l_crval, R_max = R_odot*2)"
   ]
  },
  {
   "cell_type": "code",
   "execution_count": 49,
   "id": "20ef8e97-4d72-443e-9619-94892e3e7c27",
   "metadata": {},
   "outputs": [],
   "source": [
    "# tic = time.time()\n",
    "# res = Int_LOS(m_chis_C12[2], 'C12', dEs_C12[2], -1, l_crval, 2*R_odot)\n",
    "# print(res)\n",
    "# print(time.time() - tic)"
   ]
  },
  {
   "cell_type": "code",
   "execution_count": 50,
   "id": "abec28fe-f6f4-4959-ab22-9059f58f6404",
   "metadata": {},
   "outputs": [],
   "source": [
    "# tic = time.time()\n",
    "# res = Int_LOS(m_chis_C12[2], 'C12', dEs_C12[2], -1, l_crval, 2*R_odot)\n",
    "# print(res)\n",
    "# print(time.time() - tic)"
   ]
  },
  {
   "cell_type": "code",
   "execution_count": 51,
   "id": "c6115b94-8504-40f4-9478-621dd367ead4",
   "metadata": {},
   "outputs": [],
   "source": [
    "# tic = time.time()\n",
    "# res = Int_LOS(m_chis_C12[2], 'C12', dEs_C12[2], -1, l_crval, 2*R_odot)\n",
    "# print(res)\n",
    "# print(time.time() - tic)"
   ]
  },
  {
   "cell_type": "code",
   "execution_count": 52,
   "id": "54fd3b7f-c495-4744-90dd-f8647d084e55",
   "metadata": {},
   "outputs": [],
   "source": [
    "# Int_LOS(m_chis_C12[2], 'C12', dEs_C12[2], -1, l_crval, 4*R_odot)"
   ]
  },
  {
   "cell_type": "code",
   "execution_count": 53,
   "id": "0952d044-e2be-45e8-8037-c24eb53434dc",
   "metadata": {},
   "outputs": [],
   "source": [
    "# Int_LOS(m_chis_C12[2], 'C12', dEs_C12[2], -1, l_crval, 4*R_odot)"
   ]
  },
  {
   "cell_type": "code",
   "execution_count": 54,
   "id": "ef63cec9-9b41-4280-a82c-74be6e586027",
   "metadata": {},
   "outputs": [],
   "source": [
    "# Int_LOS(m_chi = 16.73, nucleus = 'O16', deltaE = 16.732241, b = 0, l = l_crval, R_max = R_odot)"
   ]
  },
  {
   "cell_type": "code",
   "execution_count": 55,
   "id": "5ba6d293-9216-4f1a-8282-86a7089361e4",
   "metadata": {},
   "outputs": [],
   "source": [
    "# Int_LOS(m_chi = 16.73, nucleus = 'O16', deltaE = 16.732241, b = 0, l = l_crval, R_max = R_odot*2)"
   ]
  },
  {
   "cell_type": "code",
   "execution_count": 56,
   "id": "650e46ee-d936-4f81-b9fc-03ebb6c9dbc4",
   "metadata": {},
   "outputs": [],
   "source": [
    "# Int_LOS(m_chi = 16.73, nucleus = 'O16', deltaE = 16.732241, b = 0, l = l_crval, R_max = R_odot*4)"
   ]
  },
  {
   "cell_type": "code",
   "execution_count": 57,
   "id": "2bea1770-62c0-4b8e-b76b-b77fe75d9ab4",
   "metadata": {},
   "outputs": [],
   "source": [
    "# Int_LOS(m_chi = 16.73, nucleus = 'O16', deltaE = 16.732241, b = 0, l = l_crval, R_max = 50)"
   ]
  },
  {
   "cell_type": "code",
   "execution_count": 58,
   "id": "aa7b580e-1059-4111-b2f3-39ef6d40bafc",
   "metadata": {},
   "outputs": [],
   "source": [
    "# Int_LOS(m_chi = 16.73, nucleus = 'O16', deltaE = 16.732241, b = 0, l = l_crval, R_max = 60)"
   ]
  },
  {
   "cell_type": "code",
   "execution_count": 59,
   "id": "5f00bf3a-39cf-495f-8286-3b59833191f2",
   "metadata": {},
   "outputs": [],
   "source": [
    "# Int_LOS(m_chi = 16.73, nucleus = 'O16', deltaE = 16.732241, b = 0, l = l_crval, R_max = 49)"
   ]
  },
  {
   "cell_type": "code",
   "execution_count": 60,
   "id": "4a997e23-e6f1-4e62-a9ee-ed583e756fe2",
   "metadata": {},
   "outputs": [],
   "source": [
    "# Int_LOS(m_chi = 16.73, nucleus = 'O16', deltaE = 16.732241, b = 0, l = l_crval, R_max = 50.0)"
   ]
  },
  {
   "cell_type": "code",
   "execution_count": 61,
   "id": "68ae1514-fe15-46c7-b438-16be8ad96d40",
   "metadata": {},
   "outputs": [],
   "source": [
    "# Int_LOS(m_chi = m_chis_C12[50], nucleus = 'O16', deltaE = m_chis_C12[50]*1.0001, b = 0, l = l_crval, R_max = 50.0)"
   ]
  },
  {
   "cell_type": "code",
   "execution_count": 62,
   "id": "e03d959f-7d8a-48c9-be6c-a9257518670b",
   "metadata": {},
   "outputs": [],
   "source": [
    "# Int_LOS(m_chi = 16.73, nucleus = 'O16', deltaE = 16.732241, b = 5, l = l_crval, R_max = 50.0)"
   ]
  },
  {
   "cell_type": "code",
   "execution_count": 63,
   "id": "54ec1351-6348-4292-96d8-c1366d84a913",
   "metadata": {},
   "outputs": [],
   "source": [
    "def logInt_LOS(s_min, m_chi, nucleus, deltaE, b, l, R_max):\n",
    "    \"\"\"\n",
    "    returns: [cm^-5] line of sight integral\n",
    "    ********\n",
    "    \"\"\"\n",
    "    # nuc_info = {'He4': [3758.26, 0.0], 'C12': [11274.78, 0.0], 'N14': [13153.91, 0.0], 'O16': [15033.04, 0.0]}\n",
    "    m_N = nuc_info[nucleus][0]\n",
    "    if m_chi > deltaE:\n",
    "        return 0\n",
    "        \n",
    "    psi = np.arccos( np.cos(np.radians(b)) * np.cos(np.radians(l)) ) # [radians]\n",
    "    def f(s):\n",
    "        r = np.sqrt(R_odot**2 + s**2 - 2 * R_odot * s * np.cos(psi)) # [kpc]\n",
    "        \n",
    "        rho = density(nucleus, r, b, l)\n",
    "        rho_b, rho_chi = rho[0], rho[1] # [GeV/cm^3], [GeV/cm^3]\n",
    "        \n",
    "        disp = vDispersion(r) # km/s\n",
    "        sigma_b, sigma_chi = disp[0], disp[1] # km/s\n",
    "        \n",
    "        integrand = rho_b * rho_chi * ( (2*np.pi) * sigma_b * sigma_chi )**(-3) * Int_v_N(m_chi, m_N, deltaE, r)* (c/1000)**2 * 1000**2 * cm_per_kpc\n",
    "        return integrand\n",
    "        # [GeV/cm^3] * [GeV/cm^3] * [km/s]^-3 * [km/s]^-3 * [MeV^-2 km^4 s^-4] = [GeV^2 cm^-6 km^-2 s^2 MeV^-2]\n",
    "\n",
    "    def g(u):\n",
    "        return np.exp(u) * f(np.exp(u))\n",
    "        \n",
    "    s_max = (np.sqrt(R_max**2 - R_odot**2 * (np.sin(psi))**2) + R_odot * np.cos(psi)) # [kpc]\n",
    "    \n",
    "    # esses = np.linspace(s_min, s_max, 100)\n",
    "    # plt.xlim(esses[0], esses[-1])\n",
    "    # plt.plot(esses, list(map(lambda ess: np.log(f(ess)), esses)))\n",
    "    \n",
    "    # logesses = np.linspace(np.log(s_min), np.log(s_max), 100)\n",
    "    # plt.xlim(logesses[0], logesses[-1])\n",
    "    # plt.plot(logesses, list(map(lambda logess: np.log(g(logess)), logesses)))\n",
    "\n",
    "    integral, err = quad(g, np.log(s_min), np.log(s_max), epsabs = 1e-3)\n",
    "    print(integral, err)\n",
    "    return #integral * (c/1000)**2 * 1000**2 * cm_per_kpc # [cm^-5]\n",
    "    # return (integral * 1000**2 * (c/1000)**2 * cm_per_kpc) # [cm^-5]\n",
    "    # integrating over kpc gives a factor of kpc\n",
    "    "
   ]
  },
  {
   "cell_type": "code",
   "execution_count": 64,
   "id": "7b33cdcd-6d12-4b0f-83e6-23db1b3037ae",
   "metadata": {},
   "outputs": [],
   "source": [
    "# Int_LOS(m_chi = 16.73, nucleus = 'O16', deltaE = 16.732241, b = 0, l = l_crval, R_max = R_odot*2)"
   ]
  },
  {
   "cell_type": "code",
   "execution_count": 65,
   "id": "667909c5-52b3-4798-93bc-0bc7f785bf5a",
   "metadata": {},
   "outputs": [],
   "source": [
    "#Int_LOS(m_chi = 16.73, nucleus = 'O16', deltaE = 16.732241, b = 5, l = l_crval, R_max = 50.0)"
   ]
  },
  {
   "cell_type": "code",
   "execution_count": 66,
   "id": "dbc700e2-dd88-478c-8f1a-42e6a99a5d74",
   "metadata": {},
   "outputs": [],
   "source": [
    "#logInt_LOS(1e-3, m_chi = 16.73, nucleus = 'O16', deltaE = 16.732241, b = 0, l = l_crval, R_max = 47)"
   ]
  },
  {
   "cell_type": "code",
   "execution_count": 67,
   "id": "159ed591-e84d-43d0-900a-f3071d97c6e0",
   "metadata": {},
   "outputs": [],
   "source": [
    "#logInt_LOS(1e-3, m_chi = 16.73, nucleus = 'O16', deltaE = 16.732241, b = 0, l = l_crval, R_max = 50)"
   ]
  },
  {
   "cell_type": "code",
   "execution_count": 68,
   "id": "dbb00c4b-7586-4ca4-8ab4-5511334f07c6",
   "metadata": {},
   "outputs": [],
   "source": [
    "#logInt_LOS(1e-3, m_chi = 16.73, nucleus = 'O16', deltaE = 16.732241, b = 0, l = l_crval, R_max = R_odot*6)"
   ]
  },
  {
   "cell_type": "code",
   "execution_count": 69,
   "id": "45a350c5-9891-4c8d-bef3-f45e7d65e602",
   "metadata": {},
   "outputs": [],
   "source": [
    "#logInt_LOS(1e-3, m_chi = 16.73, nucleus = 'O16', deltaE = 16.732241, b = 0, l = l_crval, R_max = R_odot*7)"
   ]
  },
  {
   "cell_type": "code",
   "execution_count": 70,
   "id": "0b96f3d8-0af0-4698-b3f0-765f7882c324",
   "metadata": {},
   "outputs": [],
   "source": [
    "#logInt_LOS(1e-5, m_chi = 16.73, nucleus = 'O16', deltaE = 16.732241, b = 0, l = l_crval, R_max = R_odot*2)"
   ]
  },
  {
   "cell_type": "code",
   "execution_count": 71,
   "id": "822ca9f5-794c-4166-bdac-d73bdc7aa17f",
   "metadata": {},
   "outputs": [],
   "source": [
    "#logInt_LOS(1e-5, m_chi = 16.73, nucleus = 'O16', deltaE = 16.732241, b = 0, l = l_crval, R_max = R_odot*2)"
   ]
  },
  {
   "cell_type": "code",
   "execution_count": 72,
   "id": "81c37d3d-fb8f-47ff-a1cf-52cc58c612f0",
   "metadata": {},
   "outputs": [],
   "source": [
    "#logInt_LOS(1e-6, m_chi = 16.73, nucleus = 'O16', deltaE = 16.732241, b = 0, l = l_crval, R_max = R_odot*2)"
   ]
  },
  {
   "cell_type": "code",
   "execution_count": 73,
   "id": "4d5bf119-1387-4ad0-bdcd-c2c71527a907",
   "metadata": {},
   "outputs": [],
   "source": [
    "#Int_LOS(m_chi = 16.73, nucleus = 'O16', deltaE = 16.732241, b = 0, l = l_crval, R_max = R_odot*2)"
   ]
  },
  {
   "cell_type": "code",
   "execution_count": 74,
   "id": "001d84ec-d1f5-4a7a-96e4-a299764798eb",
   "metadata": {},
   "outputs": [],
   "source": [
    "#Int_LOS(m_chi = 16.73, nucleus = 'O16', deltaE = 16.732241, b = 0, l = l_crval, R_max = R_odot*4)"
   ]
  },
  {
   "cell_type": "code",
   "execution_count": 75,
   "id": "9c6a78dd-84eb-4aae-92d5-b80c628169cf",
   "metadata": {},
   "outputs": [],
   "source": [
    "#tic = time.time()\n",
    "#Int_LOS(m_chi = 16.73, nucleus = 'O16', deltaE = 16.732241, b = bs[180], l = l_crval, R_max = R_odot*2)\n",
    "#print(time.time()-tic)"
   ]
  },
  {
   "cell_type": "code",
   "execution_count": 76,
   "id": "300276bd-d0cd-480c-9b0d-5d72d255e900",
   "metadata": {},
   "outputs": [],
   "source": [
    "# tic = time.time()\n",
    "# Int_LOS(m_chi = 16.73, nucleus = 'O16', deltaE = 16.732241, b = bs[180], l = l_crval, R_max = R_odot*4)\n",
    "# print(time.time()-tic)"
   ]
  },
  {
   "cell_type": "code",
   "execution_count": 77,
   "id": "c29fa9d7-cd7b-41fd-8d8c-c3f61a7f8675",
   "metadata": {},
   "outputs": [],
   "source": [
    "# tic = time.time()\n",
    "# Int_LOS(m_chi = 16.73, nucleus = 'O16', deltaE = 16.732241, b = bs[180], l = l_crval, R_max = R_odot*8)\n",
    "# print(time.time()-tic)"
   ]
  },
  {
   "cell_type": "code",
   "execution_count": 78,
   "id": "ae486482-9fef-496d-8326-ba1da893efcc",
   "metadata": {},
   "outputs": [],
   "source": [
    "# Int_LOS(m_chi = 16.73, nucleus = 'O16', deltaE = 16.732241, b = bs[180], l = l_crval, R_max = R_odot*10)\n",
    "# print(time.time()-tic)"
   ]
  },
  {
   "cell_type": "code",
   "execution_count": 79,
   "id": "a71e5200-764e-4b81-b71f-1fc3334b36f9",
   "metadata": {},
   "outputs": [],
   "source": [
    "# Int_LOS(m_chi = 16.73, nucleus = 'O16', deltaE = 16.732241, b = bs[180], l = l_crval, R_max = R_odot*12)\n",
    "# print(time.time()-tic)"
   ]
  },
  {
   "cell_type": "code",
   "execution_count": 80,
   "id": "41c9e890-4ebc-4b93-b2fc-4d1855cce1a0",
   "metadata": {},
   "outputs": [],
   "source": [
    "# Int_LOS(m_chi = 16.73, nucleus = 'O16', deltaE = 16.732241, b = bs[180], l = l_crval, R_max = R_odot*14)\n",
    "# print(time.time()-tic)"
   ]
  },
  {
   "cell_type": "code",
   "execution_count": 81,
   "id": "f2477142-dd7b-4ce2-9098-7565d57e8099",
   "metadata": {},
   "outputs": [],
   "source": [
    "#Int_LOS(m_chi = 16.72997316197439, nucleus = 'O16', deltaE = 16.732241, b = b_crval, l = l_crval, R_max = R_odot*2)\n"
   ]
  },
  {
   "cell_type": "code",
   "execution_count": 82,
   "id": "5f7c9d88-2235-466e-814c-f683d6b95940",
   "metadata": {},
   "outputs": [],
   "source": [
    "#Int_LOS(m_chi = 16.73, nucleus = 'O16', deltaE = 16.732241, b = 0, l = l_crval, R_max = 50)\n"
   ]
  },
  {
   "cell_type": "code",
   "execution_count": 83,
   "id": "7e29733a-38e7-4e28-9627-a1e0f750b85b",
   "metadata": {},
   "outputs": [],
   "source": [
    "#Int_LOS(m_chi = m_chis_C12[0], nucleus = 'C12', deltaE = dEs_C12[0], b = 0, l = l_crval, R_max = 50)\n"
   ]
  },
  {
   "cell_type": "markdown",
   "id": "fd9f08a6-613b-4e4c-933f-64b052a2fd65",
   "metadata": {},
   "source": [
    "# $R_\\epsilon(E-E_\\gamma)$"
   ]
  },
  {
   "cell_type": "markdown",
   "id": "2a95cfdb-a073-45ea-974b-f317808950ab",
   "metadata": {},
   "source": [
    "$$ \\frac{dN^{i\\chi}}{dE_\\gamma} = \\delta(\\Delta E - E_\\gamma),$$\n",
    "for true gamma ray energy $E_\\gamma$.\n",
    "$$ R_\\epsilon(E-E_\\gamma) \\approx \\frac{1}{\\sqrt{2\\pi\\epsilon^2 E_\\gamma^2}} \\exp \\left[ -\\frac{(E-E_\\gamma)^2}{2\\epsilon^2 E_\\gamma^2} \\right]$$\n",
    "\n",
    "\\begin{align}\n",
    "\\int dE_\\gamma ~\\frac{dN^{i\\chi}}{dE_\\gamma} R_\\epsilon(E-E_\\gamma) &= \\int dE_\\gamma ~\\delta(\\Delta E - E_\\gamma) ~R_\\epsilon(E-E_\\gamma) \\\\\n",
    "&= R_\\epsilon(E-\\Delta E) \\\\\n",
    "&= \\frac{1}{\\sqrt{2\\pi\\epsilon^2 (\\Delta E)^2}} \\exp \\left[ -\\frac{(E-\\Delta E)^2}{2\\epsilon^2 (\\Delta E)^2} \\right]\n",
    "\\end{align}"
   ]
  },
  {
   "cell_type": "markdown",
   "id": "5902262b-a9fd-4656-9a88-9b573227682e",
   "metadata": {},
   "source": [
    "# flux"
   ]
  },
  {
   "cell_type": "code",
   "execution_count": 84,
   "id": "e2dbd6f5-2429-4d5c-b678-a7705db5ee61",
   "metadata": {},
   "outputs": [],
   "source": [
    "def flux_noConv(g_chi, m_chi, nucleus, b, l, R_max, epsilon):\n",
    "    \"\"\"\n",
    "    returns: differential flux in [cm^-2 s^-1 (sr^-1) MeV^-1]\n",
    "    **********\n",
    "    g_chi: [MeV^-1]\n",
    "    E: observed photon energy [MeV]\n",
    "    \"\"\"\n",
    "    fluxes, flux_tot = [], 0\n",
    "    m_N, J_N = nuc_info[nucleus][0], nuc_info[nucleus][1]\n",
    "    dEs = dEs_dict[nucleus]\n",
    "    GTs = GTs_dict[nucleus]\n",
    "    nucl_exc = zip(dEs, GTs)\n",
    "    GT_sum = np.sum(GTs)\n",
    "\n",
    "    for dE, GT in nucl_exc:\n",
    "        Int = Int_LOS(m_chi, nucleus, dE, b, l, R_max) # [cm^-5]\n",
    "        dNdgamma = GT / GT_sum # branching ratio, [unitless]\n",
    "        # R = R_epsilon(epsilon, E, dE) # [MeV^-1]\n",
    "        flux = ((1/24 * g_chi**2 * g_A**2 / (2*J_N + 1)) * (m_N + dE)/m_N * Int * dNdgamma * R * (c * 100) * (hbar * 1e-6 * c * 100)**2)\n",
    "        fluxes.append(flux) # [MeV^-2 * cm^-5 * MeV^-1 * cm/s * cm^2 * MeV^2] = [cm^-2 s^-1 (sr^-1) MeV^-1]\n",
    "        flux_tot += flux\n",
    "\n",
    "    return flux_tot\n"
   ]
  },
  {
   "cell_type": "code",
   "execution_count": 85,
   "id": "46f0aebb-5989-404e-9606-eabcae6f5a2d",
   "metadata": {},
   "outputs": [],
   "source": [
    "def flux_wConv(g_chi, m_chi, nucleus, b, l, R_max, epsilon, E):\n",
    "    \"\"\"\n",
    "    returns: differential flux in [cm^-2 s^-1 (sr^-1) MeV^-1]\n",
    "    **********\n",
    "    g_chi: [MeV^-1]\n",
    "    E: observed photon energy [MeV]\n",
    "    \"\"\"\n",
    "    fluxes, flux_tot = [], 0\n",
    "    m_N, J_N = nuc_info[nucleus][0], nuc_info[nucleus][1]\n",
    "    dEs = dEs_dict[nucleus]\n",
    "    GTs = GTs_dict[nucleus]\n",
    "    nucl_exc = zip(dEs, GTs)\n",
    "    GT_sum = np.sum(GTs)\n",
    "\n",
    "    for dE, GT in nucl_exc:\n",
    "        Int = Int_LOS(m_chi, nucleus, dE, b, l, R_max) # [cm^-5]\n",
    "        R = (np.sqrt(2 * np.pi) * epsilon * dE)**(-1) * np.exp(-(E - dE)**2 / (2 * epsilon**2 * dE**2)) # [MeV^-1]\n",
    "        dNdgamma = GT / GT_sum # branching ratio, [unitless]\n",
    "        # R = R_epsilon(epsilon, E, dE) # [MeV^-1]\n",
    "        flux = ((1/24 * g_chi**2 * g_A**2 / (2*J_N + 1)) * (m_N + dE)/m_N * Int * dNdgamma * R * (c * 100) * (hbar * 1e-6 * c * 100)**2)\n",
    "        fluxes.append(flux) # [MeV^-2 * cm^-5 * MeV^-1 * cm/s * cm^2 * MeV^2] = [cm^-2 s^-1 (sr^-1) MeV^-1]\n",
    "        flux_tot += flux\n",
    "\n",
    "    return flux_tot\n"
   ]
  },
  {
   "cell_type": "code",
   "execution_count": 86,
   "id": "2988c88f-d1fb-4568-9f7c-b895b50c0d9a",
   "metadata": {},
   "outputs": [],
   "source": [
    "# flux_wConv(1, m_chis_C12[0], 'C12', bs[180], l_crval, 4*R_odot, 0.01, m_chis_C12[0]*0.99)"
   ]
  },
  {
   "cell_type": "code",
   "execution_count": 87,
   "id": "7438ad20-c7aa-4636-8868-af52c74ca4d5",
   "metadata": {},
   "outputs": [],
   "source": [
    "# flux_wConv(1, m_chis_C12[0], 'C12', bs[180], l_crval, 10*R_odot, 0.01, m_chis_C12[0]*0.99)"
   ]
  },
  {
   "cell_type": "code",
   "execution_count": 88,
   "id": "d8e8c5c9-c5d4-4366-b69d-056f57a14f66",
   "metadata": {},
   "outputs": [],
   "source": [
    "# flux_wConv(1, m_chis_C12[0], 'C12', bs[180], l_crval, 4*R_odot, 0.01, m_chis_C12[0]*0.9)"
   ]
  },
  {
   "cell_type": "code",
   "execution_count": 89,
   "id": "a17ba42f-5d59-448c-bf2b-a2e0c9d8d2f9",
   "metadata": {},
   "outputs": [],
   "source": [
    "# flux_wConv(1, m_chis_C12[0], 'C12', bs[180], l_crval, 4*R_odot, 0.01, m_chis_C12[0]*0.9)"
   ]
  },
  {
   "cell_type": "code",
   "execution_count": 90,
   "id": "3085788a-6ffc-4af0-8c50-b34df0b5bb6d",
   "metadata": {},
   "outputs": [],
   "source": [
    "# flux_wConv(1, m_chis_C12[0], 'C12', 0, l_crval, 2*R_odot, 1, 9)#[2]"
   ]
  },
  {
   "cell_type": "code",
   "execution_count": 91,
   "id": "9a233fb6-4690-41a0-92b3-0370074f6993",
   "metadata": {},
   "outputs": [],
   "source": [
    "# tic = time.time()\n",
    "# flux_wConv(1, 1, 16.7322, 'O16', 0, l_crval, 2*R_odot, 1, 16)#[2]\n",
    "# print(time.time()-tic)\n"
   ]
  },
  {
   "cell_type": "code",
   "execution_count": 92,
   "id": "c666d7a1-f642-4bf7-af3c-47b52fe09451",
   "metadata": {},
   "outputs": [],
   "source": [
    "def fluxData(g_chi, m_chi, nucleus, b, l, R_max, epsilon):\n",
    "    \"\"\"\n",
    "    Calculates flux and writes to .txt file.\n",
    "    \"\"\"\n",
    "    energy = np.linspace((m_chi - 5 * epsilon * m_chi), (m_chi + 5 * epsilon * m_chi), 21)\n",
    "    flux_tot = [flux_wConv(g_chi, m_chi, nucleus, b, l, R_max, epsilon, E) for E in energy]\n",
    "\n",
    "    dat = {'Photon energy [MeV]': energy, '{} flux [cm^-2 s^-1 sr^-1 MeV^-1]'.format(nucleus): flux_tot}\n",
    "    df = pd.DataFrame(dat)\n",
    "    df.to_csv('fluxData/{}/mchi_{}MeV_b_{}deg_l_{}deg_Rmax_{}kpc_epsilon_{}.txt'.format(nucleus, m_chi, b, l, R_max, 100*epsilon), sep='\\t', index=False)\n"
   ]
  },
  {
   "cell_type": "code",
   "execution_count": 93,
   "id": "6f1b2576-140b-4b2d-854f-9a802ed0eae8",
   "metadata": {},
   "outputs": [],
   "source": [
    "# fluxData(1, m_chis_C12[0], 'C12', bs[180], l_crval, 2*R_odot, 0.05)"
   ]
  },
  {
   "cell_type": "code",
   "execution_count": 94,
   "id": "515cef9c-e624-4fce-8dc2-3ac1676eef44",
   "metadata": {},
   "outputs": [],
   "source": [
    "# fluxData(1, 'O16', 16.73, bs[180], l_crval, 2*R_odot, 0.01)"
   ]
  },
  {
   "cell_type": "code",
   "execution_count": 95,
   "id": "6076e386-2a8d-4b1e-9d65-c018e093228f",
   "metadata": {},
   "outputs": [],
   "source": [
    "# fluxData(1, 'O16', 16.72, bs[180], l_crval, 2*R_odot, 1)"
   ]
  },
  {
   "cell_type": "code",
   "execution_count": 96,
   "id": "fa967c6e-1d09-4064-a0dd-69e26778732b",
   "metadata": {},
   "outputs": [],
   "source": [
    "def plotFlux(g_chi, m_chi, nucleus, b, l, R_max, epsilon, save):\n",
    "    \"\"\"\n",
    "    plots from .txt file\n",
    "    \"\"\"\n",
    "    df = pd.read_csv('fluxData/{}/mchi_{}MeV_b_{}deg_l_{}deg_Rmax_{}kpc_epsilon_{}.txt'.format(nucleus, m_chi, b, l, R_max, 100*epsilon),\\\n",
    "                     sep='\\t', \\\n",
    "                     names=['Photon energy [MeV]', 'Flux [cm^-2 s^-1 MeV^-1]'],\\\n",
    "                     skiprows=1)\n",
    "    plt.figure(figsize = (12, 8))\n",
    "    # plt.xscale('log'); \n",
    "    plt.yscale('log')\n",
    "    plt.yticks(fontsize = 14)\n",
    "    plt.grid(which = 'both', linestyle = 'dotted')\n",
    "    plt.xlim(df['Photon energy [MeV]'][0], df['Photon energy [MeV]'].iat[-1])\n",
    "    # plt.ylim(1e-10)\n",
    "    plt.xlabel('Observed photon energy  [MeV]', fontsize = 14)\n",
    "    plt.ylabel(r'$E^2 ~ d^2\\Phi ~/~ dE_\\gamma ~d\\Omega$  [cm$^{-2}$ s$^{-1}$ sr$^{-1}$ MeV]', fontsize = 14)\n",
    "    plt.title(r'{}: $m_\\chi$ = {} MeV,  $g_A$ = {},  $g_\\chi$ = {}, $\\epsilon$ = {}%'.format(nucleus, m_chi, 1.27, g_chi, 100*epsilon), fontsize = 16)\n",
    "    plt.plot(df['Photon energy [MeV]'], (df['Photon energy [MeV]'])**2 * df['Flux [cm^-2 s^-1 MeV^-1]'], color = 'k')\n",
    "    plt.axvline(m_chi, color = 'red')\n",
    "    plt.xticks(size = 16); plt.yticks(size=16);\n",
    "    if save:\n",
    "        plt.savefig('fluxFigures/mchi_{}MeV_epsilon_{}.pdf'.format(nucleus, m_chi, epsilon))\n",
    "    "
   ]
  },
  {
   "cell_type": "code",
   "execution_count": 97,
   "id": "69e20259-aa4e-4298-83f1-9a2e87cd78d5",
   "metadata": {},
   "outputs": [],
   "source": [
    "# plotFlux(1, m_chis_C12[4], 'C12', bs[180], l_crval, 2*R_odot, 0.05, False)"
   ]
  },
  {
   "cell_type": "code",
   "execution_count": 98,
   "id": "78fcbcbb-44ab-478b-8354-f5186f9dc038",
   "metadata": {},
   "outputs": [],
   "source": [
    "# plotFlux(1, m_chis_C12[2], 'C12', 0, l_crval, 2*R_odot, 0.1, False)"
   ]
  },
  {
   "cell_type": "code",
   "execution_count": 99,
   "id": "20cc295e-f348-4bf3-b458-ce5008b947c3",
   "metadata": {},
   "outputs": [],
   "source": [
    "# plotFlux(1, 16.731, 'O16', 0, l_crval, 2*R_odot, 0.1, False)"
   ]
  },
  {
   "cell_type": "code",
   "execution_count": 100,
   "id": "d2e84ffc-1d0d-4272-bade-6c78d0852773",
   "metadata": {},
   "outputs": [],
   "source": [
    "# plotFlux(1, 16.73, 'O16', 0, l_crval, 2*R_odot, 0.1, False)"
   ]
  },
  {
   "cell_type": "code",
   "execution_count": 101,
   "id": "8804d616-e8ed-44b6-ac69-bc1b711425e7",
   "metadata": {},
   "outputs": [],
   "source": [
    "# plotFlux(1, 16.73, 'O16', 0, l_crval, 2*R_odot, 0.01, False)"
   ]
  },
  {
   "cell_type": "code",
   "execution_count": 102,
   "id": "c9dd47ae-4001-4399-a387-e23dfeaf2548",
   "metadata": {},
   "outputs": [],
   "source": [
    "def flux_CO(g_chi, m_chi, b, l, R_max, epsilon):\n",
    "    \"\"\"\n",
    "    computes CO flux - takes a few mins!\n",
    "    ********\n",
    "    epsilon: decimal from 0 to 1\n",
    "    \"\"\"\n",
    "    energy = np.linspace((m_chi - 5 * epsilon * m_chi), (m_chi + 5 * epsilon * m_chi), 101)\n",
    "    fluxes_C12 = []\n",
    "    fluxes_O16 = []\n",
    "    fluxes_CO = []\n",
    "    for E in energy:\n",
    "        flux_C12 = flux_wConv(g_chi, m_chi, 'C12', b, l, R_max, epsilon, E)\n",
    "        flux_O16 = flux_wConv(g_chi, m_chi, 'O16', b, l, R_max, epsilon, E)\n",
    "        fluxes_C12.append(flux_C12)\n",
    "        fluxes_O16.append(flux_O16)\n",
    "        fluxes_CO.append(flux_C12 + flux_O16)\n",
    "\n",
    "    dat_C12 = {'Photon energy [MeV]': energy, 'C12 flux [cm^-2 s^-1 sr^-1 MeV^-1]': fluxes_C12}\n",
    "    df_C12 = pd.DataFrame(dat_C12)\n",
    "    df_C12.to_csv('fluxData/C12/mchi_{}MeV_b_{}deg_l_{}deg_Rmax_{}kpc_epsilon_{}.txt'.format(m_chi, b, l, R_max, 100*epsilon), sep='\\t', index=False)\n",
    "\n",
    "    dat_O16 = {'Photon energy [MeV]': energy, 'O16 flux [cm^-2 s^-1 sr^-1 MeV^-1]': fluxes_O16}\n",
    "    df_O16 = pd.DataFrame(dat_O16)\n",
    "    df_O16.to_csv('fluxData/O16/mchi_{}MeV_b_{}deg_l_{}deg_Rmax_{}kpc_epsilon_{}.txt'.format(m_chi, b, l, R_max, 100*epsilon), sep='\\t', index=False)\n",
    "    \n",
    "    dat = {'Photon energy [MeV]': energy, 'CO flux [cm^-2 s^-1 sr^-2 MeV^-1]': fluxes_CO}\n",
    "    df = pd.DataFrame(dat)\n",
    "    df.to_csv('fluxData/CO/mchi_{}MeV_b_{}deg_l_{}deg_Rmax_{}kpc_epsilon_{}.txt'.format(m_chi, b, l, R_max, 100*epsilon), sep='\\t', index=False)\n",
    "    \n",
    "    return fluxes_CO\n",
    "\n",
    "    "
   ]
  },
  {
   "cell_type": "code",
   "execution_count": 103,
   "id": "c3cdd8ff-19eb-4314-85fe-f4ecfd780bd2",
   "metadata": {},
   "outputs": [],
   "source": [
    "# flux_CO(1, m_chis_C12[0], bs[180], l_crval, 2*R_odot, 0.01)"
   ]
  },
  {
   "cell_type": "code",
   "execution_count": 104,
   "id": "5a12b266-bad1-47a4-bd72-d9225095cd02",
   "metadata": {},
   "outputs": [],
   "source": [
    "def bIntegral(g_chi, m_chi, nucleus, l, R_max, epsilon, E):\n",
    "    def f(b):\n",
    "        integrand = np.sin(b * np.pi/180 + np.pi/2) * flux_wConv(g_chi, m_chi, nucleus, b, l, R_max, epsilon, E)\n",
    "        return integrand \n",
    "    bees = np.linspace(-5.25, 5.25, 22)\n",
    "    g = list(map(lambda bee: f(bee), bees))\n",
    "    integral = cumtrapz(g, bees, initial=0)\n",
    "    # integral1, err1 = quad(f, -5, 5, limit=10)\n",
    "    return integral[-1] * np.pi/180\n",
    "\n",
    "\n",
    "def lIntegral(g_chi, m_chi, nucleus, R_max, epsilon, E):\n",
    "    def f(l):\n",
    "        integrand = bIntegral(g_chi, m_chi, nucleus, l, R_max, epsilon, E)\n",
    "        return integrand\n",
    "    ells1 = np.linspace(330.25, ls[-1], 60)\n",
    "    g1 = list(map(lambda ell1: f(ell1), ells1))\n",
    "    integral1 = cumtrapz(g1, ells1, initial=0)\n",
    "\n",
    "    ells2 = np.linspace(ls[0], 29.75, 60)\n",
    "    g2 = list(map(lambda ell2: f(ell2), ells2))\n",
    "    integral2 = cumtrapz(g2, ells2, initial=0)\n",
    "    # integral = integral1[-1] + integral2[-1]\n",
    "    return (integral1[-1] * np.pi/180, integral2[-1] * np.pi/180)\n",
    "\n",
    "\n",
    "def IntSolidAngleFlux(g_chi, m_chi, nucleus, R_max, epsilon):\n",
    "    energy = np.linspace((m_chi - 3 * epsilon * m_chi), (m_chi + 3 * epsilon * m_chi), 3)\n",
    "    IntFluxes = []\n",
    "    for E in energy:\n",
    "        IntFlux1, IntFlux2 = lIntegral(g_chi, m_chi, nucleus, R_max, epsilon, E)\n",
    "        IntFluxes.append(IntFlux1 + IntFlux2)\n",
    "    \n",
    "    filename = 'IntSolidAngleFluxData/{}/mchi_{}MeV_epsilon_{}.txt'.format(nucleus, m_chi, 100*epsilon)\n",
    "    metadata = \"# Integral 1 l bounds [deg] = [330.25, {}], \\n\\\n",
    "# Integral 2 l bounds [deg] = [{}, 29.75], \\n\\\n",
    "# b range [deg] = [-5.25, 5.25], \\n\\\n",
    "# R_odot [kpc] = {}, \\n\\\n",
    "# R_max [kpc] = {} kpc\\n\\n\".format(ls[-1], ls[0], R_odot, R_max)\n",
    "\n",
    "    with open(filename, 'w') as fp:\n",
    "        fp.write(metadata)\n",
    "    dat = {'Photon energy [MeV]': energy, 'Integrated flux [cm^-2 s^-1 MeV^-1]': IntFluxes, \\\n",
    "           'Integral 1 [cm^-2 s^-1 MeV^-1]': IntFlux1, 'Integral 2 [cm^-2 s^-1 MeV^-1]': IntFlux2 }\n",
    "    df = pd.DataFrame(dat)\n",
    "    df.to_csv(filename, sep='\\t', index=False, mode='a') \n",
    "\n",
    "\n",
    "def IntSolidAngleFluxAllCOMasses(g_chi, R_max, epsilon):\n",
    "    for m in allCOMasses:\n",
    "        IntSolidAngleFlux(g_chi, m, 'C12', R_max, epsilon)\n",
    "        IntSolidAngleFlux(g_chi, m, 'O16', R_max, epsilon)\n",
    "        "
   ]
  },
  {
   "cell_type": "code",
   "execution_count": 105,
   "id": "45317a93-a314-4d00-bc38-aaf53188fb3c",
   "metadata": {},
   "outputs": [],
   "source": [
    "# bIntegral(1, m_chis_C12[2], 'C12', l_crval, 2*R_odot, 0.05, dEs_C12[2])"
   ]
  },
  {
   "cell_type": "code",
   "execution_count": 106,
   "id": "8a5fc891-7862-430a-a14a-ec59f00c7cff",
   "metadata": {},
   "outputs": [],
   "source": [
    "# lIntegral(1, m_chis_C12[2], 'C12', 2*R_odot, 0.05, dEs_C12[2])"
   ]
  },
  {
   "cell_type": "code",
   "execution_count": 107,
   "id": "9fd4bfc8-cb30-4b0b-a98c-83a0c7d9aecb",
   "metadata": {},
   "outputs": [],
   "source": [
    "# IntSolidAngleFlux(g_chi = 1, m_chi = m_chis_C12[2], nucleus = 'C12', R_max = 50.0, epsilon = 0.05)"
   ]
  },
  {
   "cell_type": "markdown",
   "id": "7c04893c-d870-4280-8d2f-da95f8aa4924",
   "metadata": {},
   "source": [
    "# test & other functions used along the way"
   ]
  },
  {
   "cell_type": "markdown",
   "id": "9f5ac96d-26e7-407e-a3c7-9d3b8b86454b",
   "metadata": {},
   "source": [
    "## finding optimum $m_\\chi$ values\n",
    "\n",
    "Results for the optimal values of $m_\\chi$ can be found in the 'optimal_m_chis_{}.txt' files.\n",
    "The functions below do not need to be run, but are included here for posterity.\n",
    "\n",
    "Based on testing, the optimal values of $m_\\chi$ are affected by the choice of $r$ on the order of 0.1%."
   ]
  },
  {
   "cell_type": "code",
   "execution_count": 108,
   "id": "2a8a93e0-fdee-403f-8205-3008b7b93897",
   "metadata": {},
   "outputs": [],
   "source": [
    "def negInt_v_N(m_chi, m_N, deltaE, r):\n",
    "    return np.negative(Int_v_N(m_chi, m_N, deltaE, r))\n",
    "\n",
    "\n",
    "def minimizeInt_v_N(nucleus, deltaE, r):\n",
    "    # m_chi_initialGuess = 16#np.arange(deltaE - 1/10, deltaE, 1e-2)\n",
    "    # print(m_chi_initialGuess)\n",
    "    res = minimize_scalar(negInt_v_N, bounds=(deltaE-1/10, deltaE), \\\n",
    "                   args=(nuc_info[nucleus][0], deltaE, r))\n",
    "    return(res.x)\n",
    "\n",
    "# np.negative(Int_v_N(m_chi = 16.73, m_N = nuc_info['O16'][0], deltaE = 16.732241, r = 10))\n",
    "# minimizeInt_v_N('O16', 16.732240999999995, 10)\n",
    "\n",
    "\n",
    "def optimal_m_chis(r):\n",
    "    \"\"\"\n",
    "    creates .txt files of optimal m_chis for all C12, O16 excitation energies \n",
    "    files have already been generated, no need to run function...\n",
    "    UNLESS any of the main functions are changed\n",
    "    - was rerun after normalization factor fixed\n",
    "    \"\"\"\n",
    "    for i in ['C12', 'O16']:\n",
    "        m_chis = []\n",
    "        all_dEs = []\n",
    "        for dE in dEs_dict[i]:\n",
    "            all_dEs.append(dE)\n",
    "            m_chis.append(minimizeInt_v_N(i, dE, r))\n",
    "        dat = {'Nuclear excitation energy [MeV]': all_dEs, 'Optimal DM mass [MeV]': m_chis}\n",
    "        df = pd.DataFrame(dat)\n",
    "        df.to_csv('optimal_m_chis_{}_r_{}kpc.txt'.format(i, r), sep='\\t', index=False)\n",
    "    return"
   ]
  },
  {
   "cell_type": "code",
   "execution_count": 109,
   "id": "66afa173-3060-45b7-95f3-d4bb434247f3",
   "metadata": {},
   "outputs": [],
   "source": [
    "# optimal_m_chis(8.5)"
   ]
  },
  {
   "cell_type": "code",
   "execution_count": 110,
   "id": "3193e9d2-4b99-44f8-91da-adbcc0e00657",
   "metadata": {},
   "outputs": [],
   "source": [
    "# Int_v_N(m_chi = 16.72, m_N = nuc_info['O16'][0], deltaE = 16.732240999999995, r = 10)"
   ]
  },
  {
   "cell_type": "code",
   "execution_count": 111,
   "id": "b9ce317d-b3ef-480f-9c86-02f35ef7c03a",
   "metadata": {},
   "outputs": [],
   "source": [
    "# negInt_v_N(m_chi = 16.72, m_N = nuc_info['O16'][0], deltaE = 16.732240999999995, r = 10)\n"
   ]
  },
  {
   "cell_type": "code",
   "execution_count": 112,
   "id": "27e00e96-57e4-4ca0-a4bf-e29eee9ee955",
   "metadata": {},
   "outputs": [],
   "source": [
    "# negInt_v_N(m_chi = 16.73, m_N = nuc_info['O16'][0], deltaE = 16.732240999999995, r = 10)\n"
   ]
  },
  {
   "cell_type": "code",
   "execution_count": 113,
   "id": "9ba86184-2d75-445e-b5c4-03cf3ff3e782",
   "metadata": {},
   "outputs": [],
   "source": [
    "# negInt_v_N(m_chi = 16.722240999999993, m_N = nuc_info['O16'][0], deltaE = 16.732240999999995, r = 10)\n"
   ]
  },
  {
   "cell_type": "code",
   "execution_count": 114,
   "id": "e88694b6-db1c-4ad9-ac6a-021b1d6f0abb",
   "metadata": {},
   "outputs": [],
   "source": [
    "# negInt_v_N(m_chi = 16.728184508712996, m_N = nuc_info['O16'][0], deltaE = 16.732240999999995, r = 10)\n"
   ]
  },
  {
   "cell_type": "markdown",
   "id": "df4aeba1-4fe8-4fb6-ad7e-67e533e0e2af",
   "metadata": {},
   "source": [
    "## test: $m_\\chi$ vs $\\int d^3 v_N$\n",
    "Seeing the where the $v_N$ integral is maximized."
   ]
  },
  {
   "cell_type": "code",
   "execution_count": 115,
   "id": "d774a03e-6d21-4401-b3fa-3f6c38eb4ac0",
   "metadata": {},
   "outputs": [],
   "source": [
    "def Int_v_N_plot(DeltaE):\n",
    "    Int_v_N_list = []\n",
    "    m_chi_list = np.linspace(DeltaE - 0.1, DeltaE, 20)\n",
    "    for i in m_chi_list:\n",
    "        Int_v_N_list.append(Int_v_N(m_chi = i, m_N = nuc_info['O16'][0], deltaE = DeltaE, r = 3))\n",
    "    plt.figure(figsize = (8, 6))\n",
    "    plt.xlabel(r'$m_\\chi [MeV]$', fontsize = 18); plt.ylabel(r'$\\int d^3 v_b ~f_b ~\\int d^3 v_\\chi ~f_\\chi \\sigma v$', fontsize = 18)\n",
    "    plt.xticks(fontsize = 14); plt.yticks(fontsize = 14)\n",
    "    plt.xlim(m_chi_list[0], m_chi_list[-1])\n",
    "    plt.plot(m_chi_list, Int_v_N_list)\n",
    "    plt.title(\"O16 excitation energy: {:2.6f} MeV\".format(DeltaE), fontsize = 18)\n",
    "    print(m_chi_list[Int_v_N_list.index(max(Int_v_N_list))])\n",
    "\n",
    "# Int_v_N_plot(OdEs[4])\n"
   ]
  },
  {
   "cell_type": "code",
   "execution_count": 116,
   "id": "da5de0e1-ed54-4a52-b731-b2732f06313b",
   "metadata": {},
   "outputs": [],
   "source": [
    "def v_b_test(nucleus, m_chi, deltaE, r):\n",
    "    # testing to make sure a velocity in the (v_N_min, v_N_max) range returns a nonzero answer\n",
    "    m_N = nuc_info[nucleus][0]\n",
    "    V_ESC = v_esc(r)\n",
    "    v_N_minMax = v_N_integralBounds(m_N, m_chi, deltaE, V_ESC) # [km/s]\n",
    "    print((v_N_minMax[1] + v_N_minMax[0])/2)\n",
    "    return Int_v_chi(m_chi, m_N, deltaE, r, (v_N_minMax[1] + v_N_minMax[0])/2)\n",
    "                     #m_N, m_chi, deltaE, s, b, l, (v_N_minMax[1] - v_N_minMax[0])/2)\n",
    "\n",
    "# v_b_test('O16', 16.73, 16.732241, 8)\n"
   ]
  },
  {
   "cell_type": "markdown",
   "id": "3845b672-cfbc-4847-a9b1-d87a3835cd6b",
   "metadata": {},
   "source": [
    "## test: distribution functions"
   ]
  },
  {
   "cell_type": "markdown",
   "id": "e536803d-d03a-40e0-9173-9050a6e7f2e6",
   "metadata": {},
   "source": [
    "The distribution functions are normalized such that\n",
    "\\begin{align}\n",
    "1 &= \\int_0^{v_\\text{esc}} f(v) d^3 v \\\\\n",
    "&= \\int_0^{2\\pi} d\\phi \\int_0^\\pi d\\theta ~\\sin\\theta \\int_0^{v_\\text{esc}(r)} dv ~v^2 f(\\vec{v})\n",
    "\\end{align}\n",
    "\n",
    "For the baryon distribution **(note that the baryon velocity dispersion currently does NOT depend on radius)**,\n",
    "\\begin{equation}\n",
    "f_b(v_b) = \\frac{1}{\\mathcal{N}_b(r)} \\left( \\frac{1}{2\\pi \\sigma_b^2} \\right)^{3/2} \\exp\\left[ -\\frac{\\left( \\vec{v}_b - \\bar{v}(r) \\right)^2}{2\\sigma_b^2} \\right]\n",
    "\\end{equation}\n",
    "\n",
    "The integral gives analytic solution\n",
    "\\begin{align}\n",
    "\\mathcal{N}_b(r) &= 4\\pi \\left[ 2\\pi \\sigma_b^2 \\right]^{-3/2} \\frac{1}{2} \\sigma_b \\\\\n",
    "& \\qquad \\times \\Bigg( \\sqrt{2\\pi}\\left(\\bar{v}(r)^2 + \\sigma_b^2\\right) ~\\text{erf}\\left[ \\frac{\\bar{v}(r)}{\\sqrt{2} \\sigma_b} \\right] - \\sqrt{2\\pi}\\left( \\bar{v}(r)^2 + \\sigma_b^2 \\right) ~\\text{erf} \\left[ \\frac{\\bar{v}(r) - v_\\text{esc}(r)}{\\sqrt{2} \\sigma_b} \\right] \\\\\n",
    "& \\qquad \\qquad + 2\\bar{v}(r) \\sigma_b \\exp\\left[-\\frac{\\bar{v}(r)^2}{2\\sigma_b^2} \\right] - 2\\sigma_b(r) \\left(\\bar{v}(r) + v_\\text{esc}(r) \\right)\\exp\\left[-\\frac{\\left(\\bar{v}(r) - v_\\text{esc}(r)\\right)^2}{2 \\sigma_b^2} \\right]\\Bigg)\n",
    "\\end{align}\n",
    "\n",
    "For the DM distribution,\n",
    "\\begin{equation}\n",
    "f_\\chi(\\vec{v}_\\chi) = \\frac{1}{\\mathcal{N}_\\chi(r)} \\left( \\frac{1}{2\\pi (\\sigma_\\chi(r))^2} \\right)^{3/2} \\exp\\left[ -\\frac{\\vec{v}_\\chi^2}{2(\\sigma_\\chi(r))^2} \\right]\n",
    "\\end{equation}\n",
    "\n",
    "The integral gives analytic solution\n",
    "\\begin{align}\n",
    "\\mathcal{N}_\\chi(r) &= 4\\pi \\left[ 2\\pi (\\sigma_b(r))^2 \\right]^{-3/2} \\times \\Bigg( \\sqrt{\\frac{\\pi}{2}}  (\\sigma_\\chi(r))^3 ~\\text{erf}\\left[ \\frac{v_\\text{esc}(r)}{\\sqrt{2} \\sigma_\\chi(r)} \\right] - (\\sigma_\\chi(r))^2 v_\\text{esc}(r) \\exp\\left[ \\frac{-(v_\\text{esc}(r))^2}{2(\\sigma_\\chi(r))^2} \\right] \\Bigg)\n",
    "\\end{align}"
   ]
  },
  {
   "cell_type": "code",
   "execution_count": 117,
   "id": "412c00ee-dc9d-4ac5-b00d-cfab29c7b341",
   "metadata": {},
   "outputs": [],
   "source": [
    "def Int_f_chi(r, b, l):\n",
    "    \"\"\"\n",
    "    integrated DM velocity distribution function - used to check normalization factor\n",
    "    \"\"\"\n",
    "    V_ESC = v_esc(r) # [km/s]\n",
    "    sigma_chi = vDispersion(r)[1] # [km/s]\n",
    "    norm = norm_chi(V_ESC, sigma_chi) # [unitless]\n",
    "    if norm<0:\n",
    "        print(\"something has gone wrong!\")\n",
    "        return\n",
    "    def f(v_chi):\n",
    "        return 1/norm * (2*np.pi * sigma_chi**2)**(-3/2) * v_chi**2 * np.exp(-v_chi**2 / (2 * sigma_chi**2))\n",
    "    integral = 4 * np.pi * quad(f, 0, V_ESC)[0] # [unitless]\n",
    "    \n",
    "    return integral\n",
    "\n",
    "\n",
    "def Int_f_b(r, b, l):\n",
    "    \"\"\"\n",
    "    integrated baryon velocity distribution function - used to check normalization factor\n",
    "    \"\"\"\n",
    "    VBAR = v_circ(r) # [km/s]\n",
    "    V_ESC = v_esc(r) # [km/s]\n",
    "    # if V_ESC < VBAR:\n",
    "    #     return 0\n",
    "    sigma_b = vDispersion(r)[0] # [km/s]\n",
    "    norm = norm_N(VBAR, V_ESC, sigma_b) # [unitless]\n",
    "    if norm<0:\n",
    "        print(\"something has gone wrong!\")\n",
    "        return\n",
    "    \n",
    "    def f(v_b):\n",
    "        return 1/norm * (2*np.pi * sigma_b**2)**(-3/2) * v_b**2 * np.exp(-(v_b - VBAR)**2 / (2 * sigma_b**2))\n",
    "    integral = 4 * np.pi * quad(f, 0, V_ESC)[0] # [unitless]\n",
    "\n",
    "    return integral\n",
    "\n",
    "def Int_f_b_LOS(s, b, l):\n",
    "    \"\"\"\n",
    "    integrated baryon velocity distribution function as a function of line of sight - used to check normalization factor\n",
    "    \"\"\"\n",
    "    r = R(s, b, l)\n",
    "    VBAR = v_circ(r) # [km/s]\n",
    "    V_ESC = v_esc(r) # [km/s]\n",
    "    # if V_ESC<VBAR:\n",
    "    #     return 0\n",
    "    sigma_b = vDispersion(r)[0] # [km/s]\n",
    "    norm = norm_N(VBAR, V_ESC, sigma_b) # [unitless]\n",
    "    if norm<0:\n",
    "        return 0\n",
    "    \n",
    "    def f(v_b):\n",
    "        return 1/norm * (2*np.pi * sigma_b**2)**(-3/2) * v_b**2 * np.exp(-(v_b - VBAR)**2 / (2 * sigma_b**2))\n",
    "    # print(norm)\n",
    "    integral = 4 * np.pi * quad(f, 0, V_ESC)[0] # [unitless]\n",
    "\n",
    "    return integral\n",
    "\n",
    "\n",
    "def Int_f_b_noNorm(r, b, l):\n",
    "    \"\"\"\n",
    "    integrated baryon velocity distribution function with NO NORMALIZATION\n",
    "    \"\"\"\n",
    "    VBAR = v_circ(r) # [km/s]\n",
    "    V_ESC = v_esc(r) # [km/s]\n",
    "    # if V_ESC < VBAR:\n",
    "    #     return 0\n",
    "    sigma_b = vDispersion(r)[0] # [km/s]\n",
    "    norm = 1\n",
    "    \n",
    "    def f(v_b):\n",
    "        return 1/norm * (2*np.pi * sigma_b**2)**(-3/2) * v_b**2 * np.exp(-(v_b - VBAR)**2 / (2 * sigma_b**2))\n",
    "    integral = 4 * np.pi * quad(f, 0, V_ESC)[0] # [unitless]\n",
    "\n",
    "    return integral\n",
    "    "
   ]
  },
  {
   "cell_type": "code",
   "execution_count": 118,
   "id": "ec4153c4-1758-4c9f-9be5-ae98a7402635",
   "metadata": {},
   "outputs": [],
   "source": [
    "# Int_f_b(3, 2, l_crval)"
   ]
  },
  {
   "cell_type": "code",
   "execution_count": 119,
   "id": "bd4ad37c-a2e6-4d75-891b-cc9b5ceb0282",
   "metadata": {},
   "outputs": [],
   "source": [
    "# Int_f_b(0.03, 2, l_crval)"
   ]
  },
  {
   "cell_type": "code",
   "execution_count": 120,
   "id": "fb97c716-fb24-4e9e-a966-d42a172200ca",
   "metadata": {},
   "outputs": [],
   "source": [
    "# Int_f_chi(2, 2, l_crval)"
   ]
  },
  {
   "cell_type": "code",
   "execution_count": 121,
   "id": "67b2ce08-be32-4cfd-bedc-d25713c864fb",
   "metadata": {},
   "outputs": [],
   "source": [
    "# Int_f_b_LOS(7, 2, l_crval)"
   ]
  },
  {
   "cell_type": "code",
   "execution_count": 122,
   "id": "4a000a81-6847-423d-a2c3-79dce9cf7226",
   "metadata": {},
   "outputs": [],
   "source": [
    "# Int_f_b(7, 2, l_crval)"
   ]
  },
  {
   "cell_type": "markdown",
   "id": "4a4feef0-438b-40bf-84d4-0d5d4b41cb26",
   "metadata": {},
   "source": [
    "## test: normalization factor"
   ]
  },
  {
   "cell_type": "code",
   "execution_count": 123,
   "id": "5114aacd-d9a1-418b-82be-2eb23ad0a09c",
   "metadata": {},
   "outputs": [],
   "source": [
    "# Int_f_b(0.022, 2, l_crval)"
   ]
  },
  {
   "cell_type": "code",
   "execution_count": 124,
   "id": "cae82069-9e24-4027-94e3-f1ab949a1ea2",
   "metadata": {},
   "outputs": [],
   "source": [
    "# norm_N(v_circ(0.001), v_esc(0.001), 10)"
   ]
  },
  {
   "cell_type": "code",
   "execution_count": 125,
   "id": "a8eb2a39-7fc8-4df1-b4b6-3f8b15e6b5f8",
   "metadata": {},
   "outputs": [],
   "source": [
    "def plotVelocityVsBaryonDistFx():\n",
    "    # plotting baryon distribution function f_b(v_b) with escape velocities for various radii\n",
    "    plt.figure(figsize=(8, 6))\n",
    "    V_ESC = v_esc(0.02) # [km/s]\n",
    "    sigma_b = vDispersion(1)[0] # use any radius, since sigma_b is currently not a function of r\n",
    "    vees = np.linspace(0, V_ESC, 200)\n",
    "    plt.xlim(vees[0], vees[-1])\n",
    "    plt.xlabel('Baryon velocity [km/s]', fontsize=14)\n",
    "    plt.ylabel('Baryon distribution function', fontsize=14)\n",
    "    plt.axvline(v_circ(0.001), label=r\"$r = 0.01$ kpc\", color='red')\n",
    "    plt.axvline(v_circ(0.01), label=r\"$r = 0.01$ kpc\", color='blue')\n",
    "    plt.plot(vees, (2*np.pi * sigma_b**2)**(-3/2) * vees**2 * np.exp(-(vees - v_circ(0.001))**2 / (2 * sigma_b**2)), color='black')\n",
    "    plt.plot(vees, (2*np.pi * sigma_b**2)**(-3/2) * vees**2 * np.exp(-(vees - v_circ(0.01))**2 / (2 * sigma_b**2)), color='black', linestyle='dashed')\n",
    "    plt.plot(vees, (2*np.pi * sigma_b**2)**(-3/2) * vees**2 * np.exp(-(vees - v_circ(0.02))**2 / (2 * sigma_b**2)), color='black', linestyle='dotted')\n",
    "    legend = plt.legend(loc=2)\n",
    "    legend.set_title(r'escape velocity')\n",
    "    "
   ]
  },
  {
   "cell_type": "code",
   "execution_count": 126,
   "id": "d6126fab-f113-411d-99c7-3e8971344df8",
   "metadata": {},
   "outputs": [],
   "source": [
    "def plotRadiusVsBaryonDistFx():\n",
    "    arrs = np.linspace(0.001,0.1, 300)\n",
    "    norms = list(map(lambda arr: norm_N(v_circ(arr), v_esc(arr), sigma_b), arrs))\n",
    "    Int_fs = list(map(lambda arr: Int_f_b(arr, 0, 0.25), arrs))\n",
    "    \n",
    "    fig, ax1 = plt.subplots(figsize = (8, 6))\n",
    "    ax2 = ax1.twinx()  # instantiate a second axes that shares the same x-axis\n",
    "    ax1.set_xlabel(r'Radius [kpc]', fontsize = 16)\n",
    "    ax1.set_ylabel(r'Normalization factor', fontsize = 16, color='red')\n",
    "    ax2.set_ylabel(r'Distribution function integral', fontsize = 16)  # we already handled the x-label with ax1\n",
    "    ax2.set_xlim(arrs[0], arrs[-1])\n",
    "    ax2.set_ylim(0,1.1)\n",
    "    ax1.plot(arrs, np.zeros(len(arrs)), color='grey')\n",
    "    ax1.plot(arrs, norms, label=\"Normalization\".format(bb, ll), color='red')\n",
    "    ax2.plot(arrs, Int_fs, label = 'Distribution function integral', color='black')\n",
    "    ax1.plot(arrs, np.ones(len(arrs)), color='grey')\n",
    "    # ax1.legend()\n",
    "    # fig.tight_layout()  # otherwise the right y-label is slightly clipped\n",
    "    # plt.title('baryon density as function of line of sight', fontsize = 24);"
   ]
  },
  {
   "cell_type": "code",
   "execution_count": 127,
   "id": "fe5ffc45-3e20-4e99-9eae-83d437029c05",
   "metadata": {},
   "outputs": [],
   "source": [
    "def plotEscapeVelocityVsBaryonDistFx():\n",
    "    plt.figure(figsize=(8, 6))\n",
    "    VBAR = v_circ(1) # [km/s]\n",
    "    # vbar # [km/s]\n",
    "    sigma_b = vDispersion(1)[0] # use any radius, since sigma_b is currently not a function of r\n",
    "    vees = np.linspace(0, 300, 300)\n",
    "    plt.xlim(vees[0], vees[-1])\n",
    "    plt.xlabel('Baryon velocity [km/s]', fontsize=14)\n",
    "    plt.ylabel('Baryon distribution function', fontsize=14)\n",
    "    plt.axvline(v_esc(0.01), label=r\"$r = 0.01$ kpc\", color='red')\n",
    "    plt.axvline(v_esc(0.012), label=r\"$r = 0.012$ kpc\", color='green')\n",
    "    plt.axvline(v_esc(0.015), label=r\"$r = 0.015$ kpc\", color='blue')\n",
    "    plt.plot(vees, (2*np.pi * sigma_b**2)**(-3/2) * vees**2 * np.exp(-(vees - VBAR)**2 / (2 * sigma_b**2)), color='black')\n",
    "    legend = plt.legend(loc=2)\n",
    "    legend.set_title(r'escape velocity')"
   ]
  },
  {
   "cell_type": "code",
   "execution_count": 128,
   "id": "c0d0b2c5-84d8-470c-854e-c79b1713e358",
   "metadata": {},
   "outputs": [],
   "source": [
    "def plotRadiusVsNorm():\n",
    "    arrs = np.linspace(0.01,10,30)\n",
    "    VBAR = v_circ(arrs) # [km/s]\n",
    "    # vbar # [km/s]\n",
    "    v_escs, sigma_bs, norm_bs, Int_f_bs, Int_f_cs = [], [], [], [], []\n",
    "    \n",
    "    for i in arrs:\n",
    "        V_ESC = v_esc(i)\n",
    "        v_escs.append(V_ESC)\n",
    "        sigma_b = vDispersion(i)[0]\n",
    "        norm = norm_N(VBAR, V_ESC, sigma_b)\n",
    "        norm_bs.append(norm)\n",
    "        Int_f = Int_f_b(i, 0, l_crval)\n",
    "        Int_f_bs.append(Int_f)\n",
    "        Int_f_c = Int_f_chi(i, 0, l_crval)\n",
    "        Int_f_cs.append(Int_f_c)\n",
    "    \n",
    "    plt.figure(figsize=(8, 6))\n",
    "    plt.xlim(arrs[0], arrs[-1])\n",
    "    plt.ylim(0.75, 1.25); #plt.yscale('log')\n",
    "    plt.xlabel('Radius [kpc]', fontsize=14)\n",
    "    plt.ylabel(r'Distribution function $f(v)$', fontsize=14)\n",
    "    plt.plot(arrs, np.ones(len(arrs)), color='black')\n",
    "    plt.plot(arrs, Int_f_bs, label=r'$f_b(r)$')\n",
    "    plt.plot(arrs, Int_f_cs, label=r'$f_\\chi(r)$')\n",
    "    plt.legend(fontsize=12)\n"
   ]
  },
  {
   "cell_type": "code",
   "execution_count": 129,
   "id": "2bc3122b-656d-416c-a80b-2e0ab0bcd8b9",
   "metadata": {},
   "outputs": [],
   "source": [
    "def plotEscapeVelocityVsNorm():\n",
    "    plt.figure(figsize=(8, 6))\n",
    "    plt.xlabel('Escape velocity [km/s]', fontsize=14)\n",
    "    plt.ylabel(r'Distribution function $f(v)$', fontsize=14)\n",
    "    plt.xlim(v_escs[0], v_escs[-1])\n",
    "    plt.ylim(0.75, 1.25)\n",
    "    plt.plot(v_escs, Int_f_bs)\n",
    "    # plt.legend(fontsize=12)\n"
   ]
  },
  {
   "cell_type": "markdown",
   "id": "f38ac7a7-dc27-49e5-960a-0d802474b6c3",
   "metadata": {},
   "source": [
    "## test: Effective baryon-DM J-factor"
   ]
  },
  {
   "cell_type": "code",
   "execution_count": 130,
   "id": "5ffe9832-0514-4985-8fa0-21e46b2c7a74",
   "metadata": {},
   "outputs": [],
   "source": [
    "def Jfactor_chi(b, l):\n",
    "    # https://arxiv.org/pdf/1012.4515.pdf\n",
    "    r_odot = R_odot # 8.33 # [kpc] pg 33\n",
    "    rho_odot = rho_s # 0.3 # [GeV/cm^3] pg 33\n",
    "\n",
    "    def f(s):\n",
    "        r = R(s, b, l)\n",
    "        rho_chi = density('C12', r, b, l)[1] # [GeV/cm^3]\n",
    "        integrand = (1/r_odot) * rho_chi / rho_odot\n",
    "        return integrand\n",
    "\n",
    "    return quad(f, 0, 10)[0] # [km^3 s^-3 MeV^-2]\n",
    "\n",
    "\n",
    "def Jfactor_b(b, l):\n",
    "    # https://arxiv.org/pdf/1012.4515.pdf\n",
    "    r_odot = R_odot # 8.33 # [kpc] pg 33\n",
    "    rho_odot = rho_s # 0.3 # [GeV/cm^3] pg 33\n",
    "\n",
    "    def f(s):\n",
    "        r = R(s, b, l)\n",
    "        rho_b = density('C12', r, b, l)[0] # [GeV/cm^3]\n",
    "        integrand = (1/r_odot) * rho_b / rho_odot\n",
    "        return integrand\n",
    "\n",
    "    return quad(f, 0, 10, limit=100)[0] # [km^3 s^-3 MeV^-2]\n",
    "\n",
    "\n",
    "def plotEffectiveJfactorDensityComponents():\n",
    "    \"\"\"\n",
    "    Plots the baryon and DM density components of the \"effective baryon-DM J-factor\" separately to see their individual behaviour.\n",
    "    \"\"\"\n",
    "    b = 0\n",
    "    plt.figure(figsize = (12, 8))\n",
    "    plt.xlabel(r'$\\psi$ [degrees]', fontsize = 16)\n",
    "    plt.ylabel(r'$J(\\psi)$', fontsize = 16)\n",
    "    plt.xlim(0, 180)\n",
    "    ells_b = np.linspace(l_crval, ls[-1], 20)\n",
    "    ells = np.linspace(l_crval, ls[-1], 100)\n",
    "    Jfactors_chi = list(map(lambda ell: Jfactor_chi(b, ell), ells))\n",
    "    Jfactors_b = list(map(lambda ell: Jfactor_b(b, ell), ells_b))\n",
    "    plt.yscale('log')\n",
    "    plt.plot(ells, Jfactors_chi, label=r'$\\chi$')\n",
    "    plt.plot(ells_b, Jfactors_b, label = r'b')\n",
    "    plt.legend(fontsize = 16)\n",
    "    plt.title('Effective baryon-DM J-factor density components', fontsize=20);\n",
    "    # plt.savefig('effectiveJ-factorDensityComponents.pdf')\n",
    "    return\n",
    "\n",
    "# plotEffectiveJfactorDensityComponents()"
   ]
  },
  {
   "cell_type": "code",
   "execution_count": 131,
   "id": "9a3eef25-428f-4abf-8fda-cfbfcde7ee1b",
   "metadata": {},
   "outputs": [],
   "source": [
    "def Jfactor_chi_b(b, l):\n",
    "    S_MAX = s_max(b, l, 2 * R_odot) # [kpc]\n",
    "    rho_chi_odot = 0.3 # [GeV/cm^3]\n",
    "    rho_b_odot = 2 # [GeV/cm^3] approximate average value chosen from baryon density plot above\n",
    "    r_odot = R_odot\n",
    "    \n",
    "    def f(s):\n",
    "        r = R(s, b, l)\n",
    "        DM_integral = Int_f_chi(s, b, l) # [unitless]\n",
    "        baryon_integral = Int_f_b(s, b, l) # [unitless]\n",
    "        rho = density('O16', r, b, l) # [GeV/cm^3]\n",
    "        rho_b, rho_chi = rho[0], rho[1] # [GeV/cm^3], [GeV/cm^3]\n",
    "        integrand = rho_chi / rho_chi_odot * DM_integral * rho_b / rho_b_odot * baryon_integral # [unitless]\n",
    "        return integrand\n",
    "    return 1/r_odot * quad(f, 0, S_MAX, limit=100)[0] # [unitless]\n",
    "\n",
    "\n",
    "def plotEffectiveJfactor():\n",
    "    \"\"\"\n",
    "    Plots an \"effective baryon-DM J factor\" of baryon densty times DM density.\n",
    "    \"\"\"\n",
    "    ells = np.linspace(l_crval, ls[-1], 100)\n",
    "    J_factor_list = []\n",
    "    for i in ells:\n",
    "        J_factor_list.append(Jfactor_chi_b(0.25, i))\n",
    "    plt.figure(figsize = (12, 8))\n",
    "    plt.xlabel(r'$\\psi$ [degrees]', fontsize = 16); plt.ylabel(r'$J(\\psi)$', fontsize = 16)\n",
    "    plt.xlim(0, 180)\n",
    "    plt.yscale('log')\n",
    "    plt.plot(ells, J_factor_list, label = r'$b \\approx 0, \\psi \\approx l$')\n",
    "    plt.title('Effective baryon-DM J-factor', fontsize=20);\n",
    "    # plt.savefig('effectiveBaryonDMJ-factor.pdf')\n",
    "    return\n",
    "\n",
    "# plotEffectiveJfactor() # takes a long time to run"
   ]
  },
  {
   "cell_type": "markdown",
   "id": "8e5b7691-a537-4263-96c4-4a108a51287b",
   "metadata": {},
   "source": [
    "## test: normalization of $dN/dE_\\gamma$"
   ]
  },
  {
   "cell_type": "code",
   "execution_count": 133,
   "id": "dab9b250-d91c-4d11-a542-19fe25136ea5",
   "metadata": {},
   "outputs": [],
   "source": [
    "def dNdE_gamma(g_chi, nucleus):\n",
    "    \"\"\"\n",
    "    returns: sum of dNdgamma weighted by their GT strengths (should equal 1)\n",
    "    **********\n",
    "    g_chi: [MeV^-1]\n",
    "    g_A: axial form factor [unitless]\n",
    "    \"\"\"\n",
    "    # nuc_info = {'He4': [3758.26, 0.0], 'C12': [11274.78, 0.0], 'N14': [13153.91, 0.0], 'O16': [15033.04, 0.0]}\n",
    "    m_N, J_N = nuc_info[nucleus][0], nuc_info[nucleus][1]\n",
    "    dEs, GTs = dEs_dict[nucleus], GTs_dict[nucleus]\n",
    "    nucl_exc = zip(dEs, GTs)\n",
    "    GT_sum = np.sum(GTs)\n",
    "    dNdgamma = 0\n",
    "\n",
    "    for dE, GT in nucl_exc:\n",
    "        dNdgamma += GT / GT_sum # branching ratio, [unitless]\n",
    "\n",
    "    return dNdgamma # [cm^-2 s^-1 MeV^-1]\n",
    "\n",
    "# dNdE_gamma(1, 'O16')"
   ]
  },
  {
   "cell_type": "code",
   "execution_count": null,
   "id": "c6ef708a-9fb9-4a91-b5df-03320e823e5c",
   "metadata": {},
   "outputs": [],
   "source": []
  }
 ],
 "metadata": {
  "kernelspec": {
   "display_name": "Python 3 (ipykernel)",
   "language": "python",
   "name": "python3"
  },
  "language_info": {
   "codemirror_mode": {
    "name": "ipython",
    "version": 3
   },
   "file_extension": ".py",
   "mimetype": "text/x-python",
   "name": "python",
   "nbconvert_exporter": "python",
   "pygments_lexer": "ipython3",
   "version": "3.10.13"
  }
 },
 "nbformat": 4,
 "nbformat_minor": 5
}
