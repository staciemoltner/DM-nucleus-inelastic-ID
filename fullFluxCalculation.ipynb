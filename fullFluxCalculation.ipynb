{
 "cells": [
  {
   "cell_type": "markdown",
   "id": "35cb670e-a8b2-46b5-b9a7-38f54d3d27c0",
   "metadata": {},
   "source": [
    "To do (updated Nov 29):\n",
    "- use rotation curves (to be provided by Addy) for bulk velocity $\\bar{v}(r)$\n",
    "- figure out the best way to use rotation curves to calculate the escape velocity. Currently I'm using the gravitational potential $\\Phi_\\text{total} = \\Phi_\\text{bulge} + \\Phi_\\text{disk}$\n",
    "- test max halo distance value\n",
    "\n",
    "Nov 29:\n",
    "- normalization factor doesn't give $f_b(v_b)$ integral of 1 for small radii, this seems to be associated with normalization factors that are negative (which is possible for small enough $v_\\text{esc}$ i.e. at small radii - see below for analytic form of normalization factor), for which the distribution function is being set to zero anyway, so I think this is ok\n",
    "- choose appropriate energy array on flux calculation/plot: currently using $m_\\chi \\pm 5\\epsilon m_\\chi$ where $\\epsilon$ is the resolution factor\n",
    "- max halo distance was returning a **smaller** number for the line of sight integral for a larger radius; seems to be a numerical issue due to integrating over such small numbers; doing a unit conversion before the integral (resulting in bigger numbers) seems to fix the issue.\n",
    "\n",
    "Nov 28:\n",
    "- based on https://galprop.stanford.edu/download/manuals/galprop_v54.pdf (see page 11), I think the GALPROP angular data is being used correctly, for example for galactic latitude $b$, the $i$th value in the array is given by:\n",
    "  $$b_i = \\texttt{CRVAL2} + i*\\texttt{CDELT2}$$\n",
    "such that the **starting value** is the array is $\\texttt{CRVAL2}$\n",
    "\n",
    "Nov 25:\n",
    "- added $\\Phi_\\text{total} = \\Phi_\\text{bulge} + \\Phi_\\text{disk}$ potentials to calculate baryon density $\\rho_b$ for escape velocity $v_\\text{esc}$ - *this seems to overestimate the amount of mass, giving a higher $v_\\text{esc}$ than expected*"
   ]
  },
  {
   "cell_type": "code",
   "execution_count": 1,
   "id": "668e7a77-d989-4632-afd8-9088d6e66346",
   "metadata": {},
   "outputs": [],
   "source": [
    "import sys\n",
    "import numpy as np\n",
    "import math\n",
    "import matplotlib\n",
    "import matplotlib.pyplot as plt\n",
    "import scipy.integrate\n",
    "from scipy.integrate import quad\n",
    "from scipy.integrate import dblquad\n",
    "from scipy.integrate import cumtrapz\n",
    "from scipy.interpolate import RegularGridInterpolator\n",
    "from scipy.optimize import minimize\n",
    "from scipy.optimize import minimize_scalar\n",
    "import pandas as pd\n",
    "from astropy.io import fits\n",
    "from astropy import constants as const\n",
    "from astropy import units as u\n",
    "import bisect\n",
    "import time\n"
   ]
  },
  {
   "cell_type": "markdown",
   "id": "6a13057c-db4d-467e-949b-4c2279e6bbf9",
   "metadata": {},
   "source": [
    "# constants & data import"
   ]
  },
  {
   "cell_type": "code",
   "execution_count": 2,
   "id": "f230cc8d-75e0-4b70-bbb3-c6721043e161",
   "metadata": {},
   "outputs": [],
   "source": [
    "# natural & conversion constants\n",
    "c = 2.998e8 # speed of light [m/s]\n",
    "G = 6.674e-11 # [N m^2 kg^-2]\n",
    "hbar = 6.582e-16 # [eV s]\n",
    "GeV_per_kg = 5.625e26\n",
    "cm_per_kpc = 3.086e21\n",
    "\n",
    "\n",
    "# constants\n",
    "rho_s = 0.51 # DM radial scale for MW NFW profile [GeV/cm^3]; https://arxiv.org/abs/1906.08419\n",
    "r_s = 8.1 # DM radial scale for MW NFW profile [kpc]; https://arxiv.org/abs/1906.08419\n",
    "M_sun = 2e30 # [kg]\n",
    "M_bulge = 1.5e10 * M_sun # [kg]\n",
    "c_bulge = 0.6 # bulge scale radius [kpc]\n",
    "M_disk = 7e10 * M_sun # [kg]\n",
    "b_disk = 4 # disk scale radius [kpc]\n",
    "R_odot = 8.0 # Sun's distance from centre of MW [kpc]\n",
    "M_SMBH = 4.154e6 * M_sun # [kg]\n",
    "vbar = 220 # [km/s]\n",
    "\n",
    "\n",
    "# dictionaries\n",
    "# m_N_MeV = {'He4': 3758.26, 'C12': 11274.78, 'N14': 13153.91, 'O16': 15033.04}\n",
    "nuc_info = {'He4': [3758.26, 0.0], 'C12': [11274.78, 0.0], 'N14': [13153.91, 0.0], 'O16': [15033.04, 0.0]}\n",
    "\n",
    "\n",
    "# importing C12 and O16 data: excitation energies and GT strengths\n",
    "C12_data = '{}_{}_{}.txt'.format('C12', nuc_info['C12'][0], nuc_info['C12'][1])\n",
    "O16_data = '{}_{}_{}.txt'.format('O16', nuc_info['O16'][0], nuc_info['O16'][1])\n",
    "Cdf = pd.read_csv(C12_data, sep='\\t', names=['E_gamma [MeV]', 'GT strength'], skiprows=1)\n",
    "Odf = pd.read_csv(O16_data, sep='\\t', names=['E_gamma [MeV]', 'GT strength'], skiprows=1)\n",
    "CdEs, OdEs = Cdf['E_gamma [MeV]'], Odf['E_gamma [MeV]']\n",
    "dEs_dict = {'C12': Cdf['E_gamma [MeV]'], 'O16': Odf['E_gamma [MeV]']}\n",
    "GTs_dict = {'C12': Cdf['GT strength'], 'O16': Odf['GT strength']}\n",
    "\n",
    "\n",
    "# optimal m_chi values\n",
    "def read_optimal_m_chis(nucleus):\n",
    "    df = pd.read_csv('optimal_m_chis_{}.txt'.format(nucleus), \\\n",
    "                     sep='\\t', \\\n",
    "                     names=['Nuclear excitation energy [MeV]', 'Optimal DM mass [MeV]'], \\\n",
    "                     skiprows=1)\n",
    "    return [df['Nuclear excitation energy [MeV]'], df['Optimal DM mass [MeV]']]\n",
    "m_chis_dEs_C12 = read_optimal_m_chis('C12')\n",
    "dEs_C12, m_chis_C12 = m_chis_dEs_C12[0], m_chis_dEs_C12[1]\n",
    "m_chis_dEs_O16 = read_optimal_m_chis('O16')\n",
    "dEs_O16, m_chis_O16 = m_chis_dEs_O16[0], m_chis_dEs_O16[1]\n"
   ]
  },
  {
   "cell_type": "code",
   "execution_count": 3,
   "id": "5c05602b-2530-4f3e-a93e-2808c702dacd",
   "metadata": {},
   "outputs": [
    {
     "data": {
      "text/plain": [
       "0      True\n",
       "1      True\n",
       "2      True\n",
       "3      True\n",
       "4      True\n",
       "       ... \n",
       "113    True\n",
       "114    True\n",
       "115    True\n",
       "116    True\n",
       "117    True\n",
       "Length: 118, dtype: bool"
      ]
     },
     "execution_count": 3,
     "metadata": {},
     "output_type": "execute_result"
    }
   ],
   "source": [
    "CdEs == dEs_C12"
   ]
  },
  {
   "cell_type": "markdown",
   "id": "f3e3d738-cb19-482d-a32c-207d5d76f247",
   "metadata": {},
   "source": [
    "# GALPROP density data"
   ]
  },
  {
   "cell_type": "markdown",
   "id": "b0ed48e3-78b1-4b1b-8499-aa3ee9ff859e",
   "metadata": {},
   "source": [
    "- https://galprop.stanford.edu/download/manuals/galprop_v54.pdf\n",
    "- https://fits.gsfc.nasa.gov/users_guide/usersguide.pdf\n",
    "- https://astropy4cambridge.readthedocs.io/en/latest/_static/Astropy%20-%20Handling%20FITS%20files.html"
   ]
  },
  {
   "cell_type": "code",
   "execution_count": 4,
   "id": "149055fb-e105-4ee5-93c3-be9fc3b52bf4",
   "metadata": {},
   "outputs": [
    {
     "data": {
      "text/plain": [
       "SIMPLE  =                    T / Written by IDL:  Mon Aug 17 03:48:15 2015      \n",
       "BITPIX  =                  -32 /                                                \n",
       "NAXIS   =                    3 /                                                \n",
       "NAXIS1  =                  720 /                                                \n",
       "NAXIS2  =                  360 /                                                \n",
       "NAXIS3  =                    9 /                                                \n",
       "EXTEND  =                    T /                                                \n",
       "CRVAL1  =             0.250000 /                                                \n",
       "CDELT1  =             0.500000 /                                                \n",
       "CRPIX1  =              1.00000 /                                                \n",
       "CTYPE1  = 'GLON    '           /                                                \n",
       "CRVAL2  =             -89.7500 /                                                \n",
       "CDELT2  =             0.500000 /                                                \n",
       "CRPIX2  =              1.00000 /                                                \n",
       "CTYPE2  = 'GLAT    '           /                                                \n",
       "CRVAL3  =                    0 /                                                \n",
       "CDELT3  =                    1 /                                                \n",
       "CRPIX3  =              1.00000 /                                                \n",
       "CTYPE3  = 'Rband   '           /                                                \n",
       "DATAMIN =          -0.00843384 /                                                \n",
       "DATAMAX =              293.666 /                                                \n",
       "BUNIT   = '10e20 cm-2'         /                                                \n",
       "PIXCENT =                    T /                                                \n",
       "HISTORY N(H I) from the LAB survey, Tspin = 125K assumed                        \n",
       "HISTORY 3rd axis is range of Galactocentric distance (kpc)                      \n",
       "HISTORY Rotation curve of Clemens (1985) with Rsun=8.5 kpc, Vsun=220 km/s       \n",
       "HISTORY Rmin, Rmax values for each annulus are stored in the extension          \n",
       "HISTORY Emission at |z| > 1.00000 kpc is assigned to local annulus              \n",
       "HISTORY Written by rbands_hi12_v5.pro                                           "
      ]
     },
     "execution_count": 4,
     "metadata": {},
     "output_type": "execute_result"
    }
   ],
   "source": [
    "hdul_CO = fits.open('massdensity_CO.fits')\n",
    "hdul_CO[0].header"
   ]
  },
  {
   "cell_type": "code",
   "execution_count": 5,
   "id": "15d810fb-3b0a-484d-807a-441475a7bf04",
   "metadata": {},
   "outputs": [
    {
     "data": {
      "text/plain": [
       "FITS_rec([( 0.       ,  1.4760095), ( 1.4760095,  3.5248926),\n",
       "          ( 3.5248926,  5.5203085), ( 5.5203085,  7.5050545),\n",
       "          ( 7.5050545,  9.5      ), ( 9.5      , 11.5      ),\n",
       "          (11.5      , 13.5      ), (13.5      , 15.5      ),\n",
       "          (15.5      , 50.       )],\n",
       "         dtype=(numpy.record, [('Rmin', '>f4'), ('Rmax', '>f4')]))"
      ]
     },
     "execution_count": 5,
     "metadata": {},
     "output_type": "execute_result"
    }
   ],
   "source": [
    "# radial data\n",
    "hdul_CO[1].data"
   ]
  },
  {
   "cell_type": "code",
   "execution_count": 6,
   "id": "d7d5c535-4c63-4262-a14e-959c63faf341",
   "metadata": {},
   "outputs": [
    {
     "data": {
      "text/plain": [
       "[0.0, 1.4760095, 3.5248926, 5.5203085, 7.5050545, 9.5, 11.5, 13.5, 15.5, 50.0]"
      ]
     },
     "execution_count": 6,
     "metadata": {},
     "output_type": "execute_result"
    }
   ],
   "source": [
    "data = hdul_CO[0].data # [kg/cm^3] density data, see below for explanation\n",
    "\"\"\"\n",
    "density data: hdul_CO[0].data[r bin index, b index, l index]\n",
    "    r bin index: 0 through 8 (axis 3)\n",
    "    b index: 0 through 359 (axis 2)\n",
    "    l index: 0 through 719 (axis 1)\n",
    "    example: hdul_CO[0].data[8, 359, 719]\n",
    "    gives the density in kg/cm^3 for a given (r, b, l)\n",
    "\"\"\"\n",
    "bins = hdul_CO[1].data # [kpc] radial bin boundaries\n",
    "r_bins = [bins[0][0]] # r bin smallest value\n",
    "for i, j in bins: # creating r bins from GALPROP increments\n",
    "    r_bins.append(j)\n",
    "r_bins\n",
    "# note GALPROP specifies Rsun = 8.5 kpc, Vsun = 220 km/s "
   ]
  },
  {
   "cell_type": "code",
   "execution_count": 7,
   "id": "6bbaca32-2a50-4b32-95d3-f9c2cf9d8abc",
   "metadata": {},
   "outputs": [],
   "source": [
    "# creating b and l arrays\n",
    "b_len, l_len = hdul_CO[0].header['NAXIS2'], hdul_CO[0].header['NAXIS1'] # length of b, l arrays\n",
    "b_crval, l_crval = hdul_CO[0].header['CRVAL2'], hdul_CO[0].header['CRVAL1'] # central values of b,l\n",
    "b_delta, l_delta = hdul_CO[0].header['CDELT2'], hdul_CO[0].header['CDELT1'] # increments for b, l"
   ]
  },
  {
   "cell_type": "code",
   "execution_count": 8,
   "id": "eeafdbd1-9f0e-4e7c-ae58-24f3bcbd3196",
   "metadata": {},
   "outputs": [],
   "source": [
    "bs = list(np.arange(b_crval, b_crval + b_len*b_delta, b_delta))\n",
    "ls = list(np.arange(l_crval, l_crval + l_len*l_delta, l_delta))"
   ]
  },
  {
   "cell_type": "code",
   "execution_count": 9,
   "id": "87ffa85d-187c-40a3-a147-e73bb50fcd18",
   "metadata": {},
   "outputs": [
    {
     "data": {
      "text/plain": [
       "360"
      ]
     },
     "execution_count": 9,
     "metadata": {},
     "output_type": "execute_result"
    }
   ],
   "source": [
    "len(bs)"
   ]
  },
  {
   "cell_type": "code",
   "execution_count": 10,
   "id": "54584f3f-3a37-4634-bf21-c07ba5eb57ed",
   "metadata": {},
   "outputs": [
    {
     "data": {
      "text/plain": [
       "<matplotlib.colorbar.Colorbar at 0x178b269e0>"
      ]
     },
     "execution_count": 10,
     "metadata": {},
     "output_type": "execute_result"
    },
    {
     "data": {
      "image/png": "[encoded data removed]",
      "text/plain": [
       "<Figure size 720x1080 with 2 Axes>"
      ]
     },
     "metadata": {
      "needs_background": "light"
     },
     "output_type": "display_data"
    }
   ],
   "source": [
    "fig = plt.figure(figsize = (10,15))\n",
    "ax = plt.axes()\n",
    "im = ax.imshow(hdul_CO[0].data[1], cmap='magma', norm=matplotlib.colors.LogNorm())\n",
    "a, b = 0.02, 0.04\n",
    "cax = fig.add_axes([ax.get_position().x1 + a, ax.get_position().y0, b, ax.get_position().height])\n",
    "plt.colorbar(im, cax=cax)"
   ]
  },
  {
   "cell_type": "markdown",
   "id": "7fffd84f-b799-4410-ace4-0a926d1f72cc",
   "metadata": {},
   "source": [
    "# radius $r(s, b, l)$ & maximum line of sight distance $s_\\text{max}$"
   ]
  },
  {
   "cell_type": "markdown",
   "id": "b1a8aa6a-8f91-4683-9621-94ff169ccc30",
   "metadata": {},
   "source": [
    "<center>\n",
    "    <img src=\"lineOfSight.PNG\" width=500>\n",
    "</center>"
   ]
  },
  {
   "cell_type": "markdown",
   "id": "293e7b27-de43-45fc-aea3-954504e3eb84",
   "metadata": {},
   "source": [
    "$$\\cos\\psi = \\cos(l)\\cos(b)$$"
   ]
  },
  {
   "cell_type": "markdown",
   "id": "99a514b8-53f6-406b-a57e-1aebb3317b90",
   "metadata": {},
   "source": [
    "$$  \\begin{align}\n",
    "r &= \\sqrt{R_\\odot^2 + s^2 - 2 R_\\odot s \\cos \\psi} \\\\\n",
    "&= \\sqrt{R_\\odot^2 + s^2 - 2 R_\\odot s \\cos b \\cos l} \n",
    "\\end{align} $$\n",
    "<!-- $$ r = \\sqrt{R_\\odot^2 + s^2 - 2 R_\\odot s \\cos \\psi} $$ -->"
   ]
  },
  {
   "cell_type": "markdown",
   "id": "891d61f1-3567-43f1-a1c9-e4dcce0c6789",
   "metadata": {},
   "source": [
    "$$ s_\\text{max} = (R_\\text{halo}^2 - R_\\odot^2 \\sin^2\\psi)^{1/2} + R_\\odot \\cos\\psi $$"
   ]
  },
  {
   "cell_type": "code",
   "execution_count": 11,
   "id": "75c150c7-7059-47ff-9f7c-75479e1e5e02",
   "metadata": {},
   "outputs": [],
   "source": [
    "def R(s, b, l):\n",
    "    \"\"\"\n",
    "    returns: [kpc] radius, as a function of s, b, l\n",
    "    ********\n",
    "    s: [kpc] line of sight coordinate\n",
    "    b: [degrees] galactic latitude\n",
    "    l: [degrees] galactic longitude\n",
    "    \"\"\"\n",
    "    psi = np.arccos( np.cos(np.radians(b)) * np.cos(np.radians(l)) ) # [radians]\n",
    "    return np.sqrt(R_odot**2 + s**2 - 2 * R_odot * s * np.cos(psi)) # [kpc]\n",
    "\n",
    "\n",
    "def s_max(b, l, R_halo):\n",
    "    \"\"\"\n",
    "    returns: [kpc] maximum value of line-of-sight coordinate, as a function of angles b, l, and the halo scale R_halo\n",
    "    ********\n",
    "    b: [degrees] galactic latitude\n",
    "    l: [degrees] galactic longitude\n",
    "    R_halo: [kpc] MW halo radius - chosen by user\n",
    "    \"\"\"\n",
    "    psi = np.arccos( np.cos(np.radians(b)) * np.cos(np.radians(l)) ) # [radians]\n",
    "    return (np.sqrt(R_halo**2 - R_odot**2 * (np.sin(psi))**2) + R_odot * np.cos(psi)) # [kpc]\n"
   ]
  },
  {
   "cell_type": "code",
   "execution_count": 161,
   "id": "d308eee1-ffd2-4c38-8027-727c761f2645",
   "metadata": {},
   "outputs": [
    {
     "data": {
      "text/plain": [
       "Text(0.5, 1.0, 'radial coordinate as function of line of sight')"
      ]
     },
     "execution_count": 161,
     "metadata": {},
     "output_type": "execute_result"
    },
    {
     "data": {
      "image/png": "[encoded data removed]",
      "text/plain": [
       "<Figure size 864x576 with 1 Axes>"
      ]
     },
     "metadata": {
      "needs_background": "light"
     },
     "output_type": "display_data"
    }
   ],
   "source": [
    "R_max = 50.0\n",
    "plt.figure(figsize = (12, 8))\n",
    "plt.grid(which = 'both', linestyle = 'dotted')\n",
    "plt.xticks(size = 16); plt.yticks(size=16);\n",
    "plt.xlabel(r'Line of sight distance [kpc]', fontsize = 16); plt.ylabel(r'Radius [kpc]', fontsize = 16)\n",
    "plt.xlim(0, s_max(0, 0, R_max))\n",
    "for deg in [0, 5, 15, 30, 90]:\n",
    "    bb = 0 # in galactic plane\n",
    "    ll = deg\n",
    "    S_MAX = s_max(bb, ll, 2 * R_max)\n",
    "    # print(S_MAX)\n",
    "    ss = np.linspace(0, S_MAX, 400)\n",
    "    rs = list(map(lambda s: R(s, bb, ll), ss))\n",
    "    plt.plot(ss, rs, label=\"b, l = {}$^\\circ$, {}$^\\circ$\".format(bb, ll))\n",
    "plt.plot()\n",
    "plt.legend(fontsize=14)\n",
    "plt.title('radial coordinate as function of line of sight', fontsize = 20)\n"
   ]
  },
  {
   "cell_type": "markdown",
   "id": "d66d7217-58a8-4a95-9834-657b545725d9",
   "metadata": {},
   "source": [
    "# density"
   ]
  },
  {
   "cell_type": "markdown",
   "id": "3d4eff22-0092-405c-9521-0bf8064958f1",
   "metadata": {},
   "source": [
    "The mass density of particle $N \\in \\{\\text{C12}, \\text{O16}\\}$ is related to the mass density of CO by\n",
    "$$ \\rho_N (r, b, l) = m_N \\frac{\\rho_\\text{CO}(r, b, l)}{m_\\text{CO}}. $$"
   ]
  },
  {
   "cell_type": "code",
   "execution_count": 13,
   "id": "7f278be5-65df-43f4-8bf3-21159136aaa8",
   "metadata": {},
   "outputs": [],
   "source": [
    "def densityInterpolate(r, b, l):\n",
    "    \"\"\"\n",
    "    returns: [kg/cm^3] density at a given radius, interpolated for values (b, l) from gridded data\n",
    "    \"\"\"\n",
    "    r_index = bisect.bisect(r_bins, r) - 1 # find radial bin index\n",
    "    values_grid = hdul_CO[0].data[r_index] # reduces 3D grid (r, b, l) to 2D (b, l)\n",
    "    interpolating_fx = RegularGridInterpolator((bs,ls), values_grid)\n",
    "    return interpolating_fx(np.array([b, l]))\n",
    "\n",
    "\n",
    "def densityLOS(particle, s, b, l):\n",
    "    \"\"\"\n",
    "    returns: [GeV/cm^3] mass density as a function of line of sight distance\n",
    "    **********\n",
    "    particle: 'DM', 'He4', 'C12', 'N14', 'O16', 'CO', 'Fe57'\n",
    "    s: [kpc] line of sight distance\n",
    "    b: [degrees] galactic latitude\n",
    "    l: [degrees] galactic longitude\n",
    "\n",
    "    constants:\n",
    "    rho_s = 0.51 # DM radial scale at (r = R_odot) for MW NFW profile [GeV/cm^3]; https://arxiv.org/abs/1906.08419\n",
    "\n",
    "    conversion factors:\n",
    "    GeV_per_kg = 5.625e26\n",
    "    \"\"\"\n",
    "    m_N_MeV = {'He4': 3758.26, 'C12': 11274.78, 'N14': 13153.91, 'O16': 15033.04}\n",
    "    r = R(s, b, l) # [kpc] # finds radius for a given (s, b, l) in order to find the dispersion at those coordinates\n",
    "    if r > r_bins[-1]: # if radius is beyond what is provided by GALPROP, return zero\n",
    "        #print('no baryon density for this radius, try reducing R_max')\n",
    "        return 0\n",
    "    \n",
    "    rho_b = m_N_MeV[particle] * densityInterpolate(r, b, l)[0] / (m_N_MeV['C12'] + m_N_MeV['O16']) * GeV_per_kg # [GeV/cm^3]\n",
    "    rho_DM = rho_s / ( (r/r_s) * (1 + r/r_s)**2 ) # [GeV/cm^3]\n",
    "    return(rho_b, rho_DM)\n",
    "\n",
    "\n",
    "def density(particle, r, b, l):\n",
    "    \"\"\"\n",
    "    returns: [GeV/cm^3] mass density as a function of radius from galactic centre\n",
    "    **********\n",
    "    particle: 'DM', 'He4', 'C12', 'N14', 'O16', 'CO', 'Fe57'\n",
    "    r: [kpc] radius from galactic centre\n",
    "    b: [degrees] galactic latitude\n",
    "    l: [degrees] galactic longitude\n",
    "    \"\"\"\n",
    "    m_N_MeV = {'He4': 3758.26, 'C12': 11274.78, 'N14': 13153.91, 'O16': 15033.04}\n",
    "    rho_DM = rho_s / ( (r/r_s) * (1 + r/r_s)**2 ) # [GeV/cm^3]\n",
    "    if r > r_bins[-1]: # if radius is beyond what is provided by GALPROP, return zero\n",
    "        #print('no baryon density for this radius, try reducing R_max')\n",
    "        rho_b = 0\n",
    "        return(rho_b, rho_DM)    \n",
    "    \n",
    "    rho_b = m_N_MeV[particle] * densityInterpolate(r, b, l)[0] / (m_N_MeV['C12'] + m_N_MeV['O16']) * GeV_per_kg # [GeV/cm^3]\n",
    "    return(rho_b, rho_DM)\n",
    "        "
   ]
  },
  {
   "cell_type": "code",
   "execution_count": 14,
   "id": "8731b90f-832c-4bc4-96d6-5ca67674254b",
   "metadata": {},
   "outputs": [
    {
     "data": {
      "text/plain": [
       "1.869413e-27"
      ]
     },
     "execution_count": 14,
     "metadata": {},
     "output_type": "execute_result"
    }
   ],
   "source": [
    "hdul_CO[0].data[1,180,0]"
   ]
  },
  {
   "cell_type": "code",
   "execution_count": 15,
   "id": "76d77cfb-2e5f-49af-9559-69f7dcf233b7",
   "metadata": {},
   "outputs": [
    {
     "data": {
      "text/plain": [
       "(0, 0.0011779345131906454)"
      ]
     },
     "execution_count": 15,
     "metadata": {},
     "output_type": "execute_result"
    }
   ],
   "source": [
    "density('O16', R_odot*7, 0.25, 0.25)"
   ]
  },
  {
   "cell_type": "code",
   "execution_count": 16,
   "id": "93c15021-3130-4879-9d51-e670046bbd54",
   "metadata": {},
   "outputs": [
    {
     "data": {
      "text/plain": [
       "Text(0.5, 1.0, 'dm density as function of line of sight')"
      ]
     },
     "execution_count": 16,
     "metadata": {},
     "output_type": "execute_result"
    },
    {
     "data": {
      "image/png": "[encoded data removed]",
      "text/plain": [
       "<Figure size 864x576 with 1 Axes>"
      ]
     },
     "metadata": {
      "needs_background": "light"
     },
     "output_type": "display_data"
    }
   ],
   "source": [
    "N_odot = 5 # sets max radius, r_max = N_odot * R_odot\n",
    "\n",
    "plt.figure(figsize = (12, 8))\n",
    "plt.xlabel(r'Line of sight distance [kpc]', fontsize = 16)\n",
    "plt.ylabel(r'DM density [GeV/cm$^3$]', fontsize = 16)\n",
    "plt.xlim(0, s_max(b_crval, l_crval + 90, N_odot * R_odot))\n",
    "for deg in [5, 15, 30, 90]:#, 45]:\n",
    "    bb = 0\n",
    "    ll = l_crval + deg\n",
    "    S_MAX = s_max(bb, ll, N_odot * R_odot)\n",
    "    ss = np.linspace(0, S_MAX, 400)\n",
    "    rho_DM = list(map(lambda s:densityLOS('C12', s, bb, ll)[1], ss))\n",
    "    plt.plot(ss, rho_DM, label=\"b, l = {}$^\\circ$, {}$^\\circ$\".format(bb, ll))\n",
    "plt.plot()\n",
    "plt.legend()\n",
    "plt.title('dm density as function of line of sight', fontsize = 24)\n"
   ]
  },
  {
   "cell_type": "code",
   "execution_count": 17,
   "id": "6ea0cd2e-6329-4b39-85c3-d71dbd7f0446",
   "metadata": {},
   "outputs": [
    {
     "data": {
      "image/png": "[encoded data removed]",
      "text/plain": [
       "<Figure size 864x576 with 2 Axes>"
      ]
     },
     "metadata": {
      "needs_background": "light"
     },
     "output_type": "display_data"
    }
   ],
   "source": [
    "N_odot = 5 # sets max radius, r_max = N_odot * R_odot\n",
    "fig, ax1 = plt.subplots(figsize = (12, 8))\n",
    "ax2 = ax1.twinx()  # instantiate a second axes that shares the same x-axis\n",
    "ax1.set_xlabel(r'Line of sight distance [kpc]', fontsize = 16)\n",
    "ax1.set_ylabel(r'Baryon density [kg/cm$^3$]', fontsize = 16)\n",
    "ax2.set_ylabel(r'Baryon density [GeV/cm$^3$]', fontsize = 16)  # we already handled the x-label with ax1\n",
    "ax2.set_xlim(0,35)\n",
    "\n",
    "for deg in [5, 15, 30, 90]:#, 45]:\n",
    "    bb = 0\n",
    "    ll = l_crval + deg\n",
    "    S_MAX = s_max(bb, ll, N_odot * R_odot)\n",
    "    ss = np.linspace(0, S_MAX, 400)\n",
    "    rho_b_kg = list(map(lambda s:densityLOS('C12', s, bb, ll)[0] * 1/GeV_per_kg, ss))\n",
    "    rho_b_GeV = list(map(lambda s:densityLOS('C12', s, bb, ll)[0], ss))\n",
    "    ax1.plot(ss, rho_b_kg, label=\"b, l = {}$^\\circ$, {}$^\\circ$\".format(bb, ll))\n",
    "    ax2.plot(ss, rho_b_GeV, label=\"b, l = {}$^\\circ$, {}$^\\circ$\".format(bb, ll), color='black', linestyle='')\n",
    "    ax1.legend()\n",
    "\n",
    "fig.tight_layout()  # otherwise the right y-label is slightly clipped\n",
    "plt.title('baryon density as function of line of sight', fontsize = 24);"
   ]
  },
  {
   "cell_type": "markdown",
   "id": "6d382db8-2ec6-4a7f-9594-e5c3a07968a0",
   "metadata": {},
   "source": [
    "# velocity dispersions $\\sigma(r, \\psi)$"
   ]
  },
  {
   "cell_type": "code",
   "execution_count": 18,
   "id": "a617e5b3-0024-4127-9d2f-02511215d454",
   "metadata": {},
   "outputs": [],
   "source": [
    "def vDispersion(r):\n",
    "    \"\"\"\n",
    "    returns: 3D velocity dispersion [km/s]\n",
    "    **********\n",
    "    particle: 'DM', 'He4', 'C12', 'N14', 'O16', 'Fe57'\n",
    "    b: galactic latitude [degrees] in GALPROP convention\n",
    "    l: galactic longitude [degrees] in GALPROP/standard convention\n",
    "    \"\"\"\n",
    "    # r = R(s, b, l) # [kpc] # finds radius for a given (s, b, l) in order to find the dispersion at those coordinates\n",
    "    # if r > r_bins[-1]: # if radius is beyond what is provided by GALPROP, return error\n",
    "    #     print('no baryon density for this radius, try reducing R_max')\n",
    "    #     return\n",
    "    # print(r)  \n",
    "    # if particle == 'DM':\n",
    "    #     \"\"\"\n",
    "    #     dispersion function taken from 2111.03076 Figure 1: r in units kpc, velocity dispersion in units km/s\n",
    "    #     \"\"\"\n",
    "    #     return (-42.4 * np.log10(r) + 382.2) # [km/s]\n",
    "    # # elif particle == 'He4': # copy for each potential target\n",
    "    #     # return function of r\n",
    "    # elif particle in ['He4', 'C12', 'N14', 'O16', 'CO', 'Fe57']:\n",
    "    #     return 10 # [km/s]\n",
    "\n",
    "    disp_b = 10 # [km/s]\n",
    "    disp_DM = (-42.4 * np.log10(r) + 382.2) # [km/s]\n",
    "    \n",
    "    return [disp_b, disp_DM]\n",
    "        "
   ]
  },
  {
   "cell_type": "markdown",
   "id": "b30485e2-6c92-44aa-9082-e5cb4863c331",
   "metadata": {
    "jp-MarkdownHeadingCollapsed": true
   },
   "source": [
    "# $v_\\text{esc}(r)$\n",
    "\n",
    "- Compare $v_\\text{esc}$ with Figures 2 and 3 of https://ui.adsabs.harvard.edu/abs/2021A%26A...649A.136K/abstract (try https://www.aanda.org/articles/aa/pdf/2018/08/aa33748-18.pdf or https://pure.rug.nl/ws/portalfiles/portal/196810757/aa38777_20.pdf)\n",
    "- also see https://www.aanda.org/articles/aa/pdf/2018/08/aa33748-18.pdf"
   ]
  },
  {
   "cell_type": "markdown",
   "id": "f792fe79-f126-44d4-b299-63c44541cb83",
   "metadata": {},
   "source": [
    "The total mass enclosed in cylinder of radius $r$ and height $z$ is\n",
    "\\begin{align}\n",
    "m_\\text{CO} &= \\int dV \\rho_\\text{CO}(r) \\\\\n",
    "&= \\int_{-z/2}^{z/2} \\int_0^{2\\pi} \\int_0^r \\rho_\\text{CO}(r')~r'~dr'~d\\theta~dz' \\\\\n",
    "&= 2\\pi z \\int_0^r \\rho_\\text{CO}(r')~r'~dr'. \\\\\n",
    "\\end{align}"
   ]
  },
  {
   "cell_type": "markdown",
   "id": "0ec84bdc-0140-4f06-81b6-f14da182035d",
   "metadata": {},
   "source": [
    "The total mass enclosed in a sphere of radius $r$ is\n",
    "\\begin{align}\n",
    "    m_b &= \\int dV \\rho_b(r) \\\\\n",
    "    &= 4\\pi \\int_0^r \\rho_b(r') ~ r'^2 ~ dr'\n",
    "\\end{align}"
   ]
  },
  {
   "cell_type": "markdown",
   "id": "7f5b188c-d273-4807-8df2-8ab3c293361a",
   "metadata": {},
   "source": [
    "We model the baryonic density as gravitational potentials describing the bulge and disk, $\\Phi_\\text{bulge} + \\Phi_\\text{disk}$ \\cite{Strigari:2009zb, Pato:2012fw}.\n",
    "The potential of the bulge is spherically symmetric,\n",
    "\\begin{equation}\n",
    "    \\Phi_\\text{bulge}(r) = -\\frac{G M_\\text{bulge}}{r + c_0},\n",
    "\\end{equation}\n",
    "where the bulge mass is $M_\\text{bulge} = 1.5\\times 10^{10} ~ \\text{M}_{\\odot}$ and the bulge scale radius is $c_0 = 0.6 ~ \\text{kpc}$.\n",
    "The potential of the disk is approximated as spherical,\n",
    "\\begin{equation}\n",
    "    \\Phi_\\text{disk}(r) = -\\frac{G M_\\text{disk}}{r} \\left[ 1 - e^{-r/b_\\text{disk}} \\right],\n",
    "\\end{equation}\n",
    "with disk mass $M_\\text{disk} = 7 \\times 10^{10} ~ \\text{M}_\\odot$ and disk scale radius $b_\\text{disk} = 4 ~ \\text{kpc}$.\n",
    "\n",
    "The baryon density is then given by the Poisson equation\n",
    "\\begin{equation}\n",
    "    \\nabla^2 \\Phi = 4 \\pi G \\rho_b(r).\n",
    "\\end{equation}\n",
    "\n",
    "\\begin{align}\n",
    "    \\nabla^2 \\Phi &= \\nabla^2 \\left[ -\\frac{G M_\\text{bulge}}{r + c_0} + -\\frac{G M_\\text{disk}}{r} \\left[ 1 - e^{-r/b_\\text{disk}} \\right] \\right] \\\\\n",
    "    &= \\frac{1}{r^2} \\frac{\\partial}{\\partial r} \\Bigg( r^2 \\frac{\\partial}{\\partial r} \\left[ -\\frac{G M_\\text{bulge}}{r + c_0} + -\\frac{G M_\\text{disk}}{r} \\left[ 1 - e^{-r/b_\\text{disk}} \\right] \\right] \\Bigg) \\\\\n",
    "\\end{align}\n",
    "\n",
    "\\begin{align}\n",
    "    \\rho_b(r) &= \\frac{1}{4\\pi G} \\nabla^2 \\Phi \\\\\n",
    "    &= \\frac{c_0 M_\\text{bulge}}{2\\pi r(c_0 + r)^3} + \\frac{M_\\text{disk} e^{-r/b_\\text{disk}}}{4 \\pi b^2 r}\n",
    "\\end{align}"
   ]
  },
  {
   "cell_type": "code",
   "execution_count": 19,
   "id": "505cb7c6-cf9d-4d66-8b7e-a5b9ba177726",
   "metadata": {},
   "outputs": [],
   "source": [
    "rho_r_data = pd.read_csv('massDensity_CO_r.csv', names=['Radius [kpc]', 'Mass density [kg/m^3]'], skiprows=1)\n",
    "rho_radius, rho_rho = rho_r_data['Radius [kpc]'], rho_r_data['Mass density [kg/m^3]']\n"
   ]
  },
  {
   "cell_type": "code",
   "execution_count": 20,
   "id": "81a7e385-0b6f-40c9-8104-d9ec132bcceb",
   "metadata": {},
   "outputs": [
    {
     "data": {
      "text/plain": [
       "[<matplotlib.lines.Line2D at 0x17a6bc1c0>]"
      ]
     },
     "execution_count": 20,
     "metadata": {},
     "output_type": "execute_result"
    },
    {
     "data": {
      "image/png": "[encoded data removed]",
      "text/plain": [
       "<Figure size 576x432 with 1 Axes>"
      ]
     },
     "metadata": {
      "needs_background": "light"
     },
     "output_type": "display_data"
    }
   ],
   "source": [
    "plt.figure(figsize = (8,6))\n",
    "plt.grid(which = 'both', linestyle = 'dotted')\n",
    "plt.xticks(size = 16); plt.yticks(size=16);\n",
    "plt.xlabel(r'Radius [kpc]', fontsize=16); plt.ylabel(r'Mass density of CO [kg/m$^3$]', fontsize=16)\n",
    "plt.xlim(rho_radius[0], rho_radius.iat[-1])\n",
    "plt.plot(rho_radius, rho_rho)\n"
   ]
  },
  {
   "cell_type": "code",
   "execution_count": 21,
   "id": "de833492-e8a7-4e97-ba71-8e6f6614f25f",
   "metadata": {},
   "outputs": [],
   "source": [
    "def M_CO(r, z):\n",
    "    \"\"\"\n",
    "    *** THIS FUNCTION HAS TO BE UPDATED TO INCLUDE ALL BARYON MASS, NOT JUST CO ***\n",
    "    ****** NOTE: this function has a very high integration error ******\n",
    "    returns: [kg] CO mass within radius r, height z assuming CYLINDRICAL distribution\n",
    "    ****************\n",
    "    r: [kpc]\n",
    "    z: [kpc] height of cylinder; |z| < 1 kpc\n",
    "    \"\"\"\n",
    "    def f(R):\n",
    "        return R * np.interp(R, rho_radius, rho_rho) # [kg/m^3 * kpc^2]\n",
    "    result = quad(f, 0, r)\n",
    "    # print(result)\n",
    "    mass_kg = 2*np.pi * z * result[0] * (cm_per_kpc / 100)**3 # [kg]\n",
    "    return  mass_kg\n",
    "\n",
    "\n",
    "def M_b(r):\n",
    "    \"\"\"\n",
    "    returns: [kg] baryon mass within radius r\n",
    "    assumes baryon potential given by bulge + disk\n",
    "    \"\"\"\n",
    "    def f(R):\n",
    "        return R**2 * ( (c_bulge * M_bulge) / (2 * np.pi * R * (c_bulge + R)**3) \\\n",
    "                       + (M_disk * np.exp(-R / b_disk)) / (4 * np.pi * b_disk**2 * R) ) # [kg/m^3 * kpc^2]\n",
    "    result = quad(f, 0, r)\n",
    "    mass_kg = 4 * np.pi * result[0] # [kg]\n",
    "    return mass_kg\n",
    "\n",
    "\n",
    "def M_DM(r):\n",
    "    \"\"\"\n",
    "    returns: [kg] DM mass of MW within radius r_esc [kpc]\n",
    "    r: [kpc]\n",
    "    \"\"\"\n",
    "    def f(R):\n",
    "        \"\"\"\n",
    "        returns: [GeV/cm^3 * kpc^3] DM mass\n",
    "        \"\"\"\n",
    "        return 2*np.pi * 2 * R**2 * rho_s / ( (R/r_s) * (1 + R/r_s)**2 ) # [GeV/cm^3] * kpc^3\n",
    "    # convert to kg\n",
    "    mass_kg = quad(f, 0, r)[0] * cm_per_kpc**3 * 1/GeV_per_kg # [kg]\n",
    "\n",
    "    return mass_kg\n",
    "\n",
    "\n",
    "def M_MW(r):\n",
    "    z = 1 # [kpc]\n",
    "    # M_total = M_CO(r_esc, z) + M_DM(r_esc) # [kg]\n",
    "    M_total = M_b(r) + M_DM(r) # [kg]\n",
    "    mass_odot = M_total / M_sun # [solar masses]\n",
    "    # print(\"{:2.2e} solar masses\".format(mass_odot))\n",
    "    # print(\"MW galaxy should be approximately 1.2e12 solar masses\")\n",
    "    return M_total\n",
    "\n",
    "\n",
    "def v_esc(r):\n",
    "    \"\"\"\n",
    "    returns: [km/s] escape velocity as function of radius\n",
    "    *** CURRENTLY ONLY ASSUMES DM MAKING UP MASS ***\n",
    "    \"\"\"\n",
    "    M = M_MW(r) # [kg]\n",
    "    # M = 1.2e12 * M_sun\n",
    "    # convert r from kpc to m\n",
    "    # convert v_esc to km/s\n",
    "    return 3 * np.sqrt(2 * G * M / (r * cm_per_kpc / 100)) / 1000 # [km/s]\n",
    "\n",
    "# M_CO(40, 1)\n",
    "# M_DM(40)\n",
    "# M_MW(40)"
   ]
  },
  {
   "cell_type": "code",
   "execution_count": 22,
   "id": "6208fc43-52a4-4b2b-859d-d5e505996078",
   "metadata": {},
   "outputs": [
    {
     "data": {
      "text/plain": [
       "843.087629128677"
      ]
     },
     "execution_count": 22,
     "metadata": {},
     "output_type": "execute_result"
    }
   ],
   "source": [
    "v_esc(5)"
   ]
  },
  {
   "cell_type": "markdown",
   "id": "76cd9ce2-7615-43e1-a788-ee7ff12781f7",
   "metadata": {},
   "source": [
    "# $v_\\chi$ integral"
   ]
  },
  {
   "cell_type": "markdown",
   "id": "5ec036c0-891a-4170-a7f3-27a402a48c85",
   "metadata": {},
   "source": [
    "## Normalization\n",
    "\n",
    "The distribution functions are normalized such that\n",
    "\\begin{align}\n",
    "1 &= \\int_0^{v_\\text{esc}} f(v) d^3 v \\\\\n",
    "&= \\int_0^{2\\pi} d\\phi \\int_0^\\pi d\\theta ~\\sin\\theta \\int_0^{v_\\text{esc}(r)} dv ~v^2 f(\\vec{v})\n",
    "\\end{align}\n",
    "\n",
    "For the DM distribution,\n",
    "\\begin{equation}\n",
    "f_\\chi(\\vec{v}_\\chi) = \\frac{1}{\\mathcal{N}_\\chi(r)} \\left( \\frac{1}{2\\pi (\\sigma_\\chi(r))^2} \\right)^{3/2} \\exp\\left[ -\\frac{\\vec{v}_\\chi^2}{2(\\sigma_\\chi(r))^2} \\right]\n",
    "\\end{equation}\n",
    "\n",
    "The integral gives analytic solution\n",
    "\\begin{align}\n",
    "\\mathcal{N}_\\chi(r) &= 4\\pi \\left[ 2\\pi (\\sigma_b(r))^2 \\right]^{-3/2} \\times \\Bigg( \\sqrt{\\frac{\\pi}{2}}  (\\sigma_\\chi(r))^3 ~\\text{erf}\\left[ \\frac{v_\\text{esc}(r)}{\\sqrt{2} \\sigma_\\chi(r)} \\right] - (\\sigma_\\chi(r))^2 v_\\text{esc}(r) \\exp\\left[ \\frac{-(v_\\text{esc}(r))^2}{2(\\sigma_\\chi(r))^2} \\right] \\Bigg)\n",
    "\\end{align}"
   ]
  },
  {
   "cell_type": "code",
   "execution_count": 23,
   "id": "d8775baa-bfd3-4864-8707-9efc55ca391e",
   "metadata": {},
   "outputs": [],
   "source": [
    "def norm_chi(V_ESC, sigma_chi):\n",
    "    \"\"\"\n",
    "    DM normalization factor, checked with function Int_f_chi(s, b, l)\n",
    "    \"\"\"\n",
    "    norm = (2*np.pi * sigma_chi**2)**(-3/2) * (4 * np.pi) \\\n",
    "    * ( np.sqrt(np.pi / 2) * sigma_chi**3 * scipy.special.erf(V_ESC / (np.sqrt(2) * sigma_chi) ) \\\n",
    "       - sigma_chi**2 * V_ESC * np.exp(-V_ESC**2 / (2 * sigma_chi**2)))\n",
    "    return norm\n",
    "\n",
    "\n",
    "def Int_v_chi(m_chi, m_N, deltaE, r, v_i):\n",
    "    \"\"\"\n",
    "    returns: integral of DM velocity distribution [MeV^-1 km s^-1]\n",
    "    **********\n",
    "    deltaE: excitation energy [MeV]\n",
    "    m_chi: DM mass [MeV] \n",
    "    m_N: nucleus mass [MeV]\n",
    "    v_i: nucleus velocity [km/s]\n",
    "    r: radius from galactic centre [kpc]\n",
    "    \"\"\"\n",
    "    if m_chi < 0:\n",
    "        return 0\n",
    "    \n",
    "    V_I = v_i / (c/1000) # convert from km/s to unitless\n",
    "    if (deltaE - m_chi - (1/2) * m_N * V_I**2) < 0: # process is not possible\n",
    "        return 0\n",
    "\n",
    "    v_chi_plus = np.sqrt( (2 * (deltaE - m_chi - (1/2) * m_N * V_I**2) ) / (m_chi) ) * (c/1000) # [km/s]\n",
    "    V_ESC = v_esc(r) # [km/s]\n",
    "    if v_chi_plus > V_ESC:\n",
    "        return 0\n",
    "        \n",
    "    V_CHI = v_chi_plus / (c/1000) # convert from [km/s] to [unitless]        \n",
    "    E_chi = ( m_chi + (1/2) * m_chi * V_CHI**2 ) # [MeV]\n",
    "    sigma_chi = vDispersion(r)[1] # [km/s]\n",
    "    norm = norm_chi(V_ESC, sigma_chi)\n",
    "\n",
    "    return ( (1 / norm) * (1 / E_chi) * v_chi_plus * np.exp(-v_chi_plus**2 / (2 * sigma_chi**2)) ) # [MeV^-1 km/s]\n"
   ]
  },
  {
   "cell_type": "code",
   "execution_count": 24,
   "id": "d7199ac0-2071-49ad-9ad9-f1964982e1a9",
   "metadata": {},
   "outputs": [],
   "source": [
    "# v_chi_plus(m_N = nuc_info['O16'][0], m_chi = 16.73, deltaE = 16.732241, v_i = 163/(c/1000))"
   ]
  },
  {
   "cell_type": "code",
   "execution_count": 25,
   "id": "40e01c28-c62f-4158-930e-163d08ad48b4",
   "metadata": {},
   "outputs": [],
   "source": [
    "# v_chi_plus(m_N = nuc_info['O16'][0], m_chi = 16.72997316197439, deltaE = 16.732241, v_i = 163/(c/1000))"
   ]
  },
  {
   "cell_type": "code",
   "execution_count": 26,
   "id": "2eaf3220-9145-42b9-a0f5-b1136e6b25cb",
   "metadata": {},
   "outputs": [
    {
     "data": {
      "text/plain": [
       "13.217152516536697"
      ]
     },
     "execution_count": 26,
     "metadata": {},
     "output_type": "execute_result"
    }
   ],
   "source": [
    "tic = time.time()\n",
    "Int_v_chi(16.73, nuc_info['O16'][0], 16.732241, 16, 163.5)\n",
    "# print(time.time()-tic)"
   ]
  },
  {
   "cell_type": "code",
   "execution_count": 27,
   "id": "f8aaacfc-5c07-4f2d-9dd7-0d6d87656d37",
   "metadata": {},
   "outputs": [],
   "source": [
    "# tic = time.time()\n",
    "# Int_v_chi_E(16.73, nuc_info['O16'][0], 16.732241, 16, 163.5)\n",
    "# print(time.time()-tic)"
   ]
  },
  {
   "cell_type": "code",
   "execution_count": 28,
   "id": "3d574567-80aa-407b-8b0a-f9b29bed273f",
   "metadata": {},
   "outputs": [
    {
     "data": {
      "text/plain": [
       "14.407847276922597"
      ]
     },
     "execution_count": 28,
     "metadata": {},
     "output_type": "execute_result"
    }
   ],
   "source": [
    "Int_v_chi(16.72, nuc_info['O16'][0], 16.732241, 17.85729552469265, 382.4)"
   ]
  },
  {
   "cell_type": "code",
   "execution_count": 29,
   "id": "10426e4b-c4af-4e02-8254-3d60cd878eec",
   "metadata": {},
   "outputs": [
    {
     "data": {
      "text/plain": [
       "0"
      ]
     },
     "execution_count": 29,
     "metadata": {},
     "output_type": "execute_result"
    }
   ],
   "source": [
    "Int_v_chi(16.73, nuc_info['O16'][0], 16.732241, 16, 382.4)"
   ]
  },
  {
   "cell_type": "markdown",
   "id": "189cdee6-112d-42fd-b983-484d1eb355c9",
   "metadata": {},
   "source": [
    "# $v_b$ integral"
   ]
  },
  {
   "cell_type": "markdown",
   "id": "57c5ec13-3d1d-4b35-8a8a-588ddbf81dc1",
   "metadata": {},
   "source": [
    "## $v_b$ bounds\n",
    "\n",
    "From $V_\\chi^+ (v_N)$ we can find the bounds for $v_N$ that will give a nonzero answer to further narrow down the integration range and get a more accurate result.\n",
    "$$ V_\\chi^+ (v_i) = \\left[ \\frac{2(\\Delta E - m_\\chi - \\frac{1}{2}m_N v_N^2)}{m_\\chi} \\right]^{1/2} $$\n",
    "\n",
    "### $v_b$ upper bound:\n",
    "$$\\Delta E - m_\\chi - \\frac{1}{2} m_N v_N^2 >0 $$\n",
    "\\begin{equation}\n",
    "\\boxed{v_N < \\left[ \\frac{2(\\Delta E - m_\\chi)}{m_N} \\right]^{1/2}}\n",
    "\\end{equation}\n",
    "\n",
    "\n",
    "### $v_b$ lower bound:\n",
    "$$ \\left[ \\frac{2(\\Delta E - m_\\chi - \\frac{1}{2}m_N v_N^2)}{m_\\chi} \\right]^{1/2} < v_\\text{esc} $$\n",
    "\\begin{equation}\n",
    "\\boxed{\\left[ \\frac{2(\\Delta E - m_\\chi - \\frac{1}{2}m_\\chi v_\\text{esc}^2)}{m_N} \\right]^{1/2} < v_N}\n",
    "\\end{equation}"
   ]
  },
  {
   "cell_type": "markdown",
   "id": "265fb70d-1d70-43ee-8c3a-286d311ae399",
   "metadata": {},
   "source": [
    "## Normalization\n",
    "\n",
    "The distribution functions are normalized such that\n",
    "\\begin{align}\n",
    "1 &= \\int_0^{v_\\text{esc}} f(v) d^3 v \\\\\n",
    "&= \\int_0^{2\\pi} d\\phi \\int_0^\\pi d\\theta ~\\sin\\theta \\int_0^{v_\\text{esc}(r)} dv ~v^2 f(\\vec{v})\n",
    "\\end{align}\n",
    "\n",
    "For the baryon distribution **(note that the baryon velocity dispersion currently does NOT depend on radius)**,\n",
    "\\begin{equation}\n",
    "f_b(v_b) = \\frac{1}{\\mathcal{N}_b(r)} \\left( \\frac{1}{2\\pi \\sigma_b^2} \\right)^{3/2} \\exp\\left[ -\\frac{\\left( \\vec{v}_b - \\bar{v}(r) \\right)^2}{2\\sigma_b^2} \\right]\n",
    "\\end{equation}\n",
    "\n",
    "The integral gives analytic solution\n",
    "\\begin{align}\n",
    "\\mathcal{N}_b(r) &= 4\\pi \\left[ 2\\pi \\sigma_b^2 \\right]^{-3/2} \\frac{1}{2} \\sigma_b \\\\\n",
    "& \\qquad \\times \\Bigg( \\sqrt{2\\pi}\\left(\\bar{v}(r)^2 + \\sigma_b^2\\right) ~\\text{erf}\\left[ \\frac{\\bar{v}(r)}{\\sqrt{2} \\sigma_b} \\right] - \\sqrt{2\\pi}\\left( \\bar{v}(r)^2 + \\sigma_b^2 \\right) ~\\text{erf} \\left[ \\frac{\\bar{v}(r) - v_\\text{esc}(r)}{\\sqrt{2} \\sigma_b} \\right] \\\\\n",
    "& \\qquad \\qquad + 2\\bar{v}(r) \\sigma_b \\exp\\left[-\\frac{\\bar{v}(r)^2}{2\\sigma_b^2} \\right] - 2\\sigma_b(r) \\left(\\bar{v}(r) + v_\\text{esc}(r) \\right)\\exp\\left[-\\frac{\\left(\\bar{v}(r) - v_\\text{esc}(r)\\right)^2}{2 \\sigma_b^2} \\right]\\Bigg)\n",
    "\\end{align}"
   ]
  },
  {
   "cell_type": "code",
   "execution_count": 225,
   "id": "2c2c4be6-099f-4b1e-a6ed-70d79dff13c2",
   "metadata": {},
   "outputs": [],
   "source": [
    "def v_N_integralBounds(m_N, m_chi, deltaE, V_ESC):\n",
    "    \"\"\"\n",
    "    returns: [km/s] min and max bounds on v_N\n",
    "    \"\"\"\n",
    "    v_N_min = np.sqrt(2 * (deltaE - m_chi - (1/2) * m_chi * (V_ESC/(c/1000))**2) / m_N) * (c/1000) # [km/s]\n",
    "    v_N_max = np.sqrt(2 * (deltaE - m_chi) / m_N) * (c/1000) # [km/s]\n",
    "    \n",
    "    if v_N_min > V_ESC:\n",
    "        v_N_min = V_ESC\n",
    "    if v_N_max > V_ESC:\n",
    "        v_N_max = V_ESC\n",
    "    if v_N_min > v_N_max:\n",
    "        print('v_N bounds make no sense!')\n",
    "        \n",
    "    return [v_N_min, v_N_max] # [km/s]\n",
    "\n",
    "\n",
    "def norm_N(VBAR, V_ESC, sigma_b):\n",
    "    norm = (2*np.pi * sigma_b**2)**(-3/2) * (4 * np.pi) \\\n",
    "    * (1/2) * sigma_b * (np.sqrt(2 * np.pi) * (VBAR**2 + sigma_b**2) * scipy.special.erf(VBAR / (np.sqrt(2) * sigma_b)) \\\n",
    "                        - np.sqrt(2 * np.pi)  * (VBAR**2 + sigma_b**2) * scipy.special.erf((VBAR - V_ESC) / (np.sqrt(2) * sigma_b)) \\\n",
    "                        + 2 * sigma_b**2 * VBAR * np.exp(- VBAR**2 / (2 * sigma_b**2)) \\\n",
    "                        - 2 * 2 * sigma_b**2 * (VBAR + V_ESC) * np.exp(- (VBAR - V_ESC)**2 / (2 * sigma_b**2)) )\n",
    "    return norm\n",
    "\n",
    "\n",
    "def Int_v_N(m_chi, m_N, deltaE, r):\n",
    "    \"\"\"\n",
    "    returns: [MeV^-2 km^4 s^-4] integral of baryon velocity distribution\n",
    "    **********\n",
    "    deltaE: [MeV] excitation energy\n",
    "    m_chi: [MeV] DM mass\n",
    "    nucleus: scattering target\n",
    "    r: [kpc] radius from galactic centre\n",
    "    \"\"\"\n",
    "    if m_chi > deltaE: # process not possible\n",
    "        return 0\n",
    "\n",
    "    VBAR = vbar # [km/s]\n",
    "    V_ESC = v_esc(r) # [km/s]\n",
    "    if VBAR>V_ESC:\n",
    "        return 0\n",
    "    if (deltaE - m_chi - (1/2) * m_chi * (V_ESC/(c/1000))**2) < 0: # v_N_min expression\n",
    "        return 0\n",
    "    \n",
    "    sigma_b = vDispersion(r)[0] # [km/s]\n",
    "    norm = norm_N(VBAR, V_ESC, sigma_b)\n",
    "    # ((2*np.pi * sigma_b**2)**(-3/2) * (4 * np.pi) \\\n",
    "    #         * (1/2) * sigma_b * (np.sqrt(2 * np.pi) * (VBAR**2 + sigma_b**2) * scipy.special.erf(VBAR / (np.sqrt(2) * sigma_b)) \\\n",
    "    #                              - np.sqrt(2 * np.pi)  * (VBAR**2 + sigma_b**2) * scipy.special.erf((VBAR - V_ESC) / (np.sqrt(2) * sigma_b)) \\\n",
    "    #                              + 2 * sigma_b**2 * VBAR * np.exp(- VBAR**2 / (2 * sigma_b**2)) \\\n",
    "    #                              - 2 * 2 * sigma_b**2 * (VBAR + V_ESC) * np.exp(- (VBAR - V_ESC)**2 / (2 * sigma_b**2)) ))\n",
    "    if norm<0:\n",
    "        return 0\n",
    "        \n",
    "    v_N_bounds = v_N_integralBounds(m_N, m_chi, deltaE, V_ESC)\n",
    "    v_N_min, v_N_max = v_N_bounds[0], v_N_bounds[1] # [km/s], [km/s]\n",
    "    \n",
    "    def f(v_n):\n",
    "        V_N = v_n / (c/1000) # convert from km/s to unitless\n",
    "        E_N = ( m_N + (1/2) * m_N * V_N**2 ) # [MeV]\n",
    "        \n",
    "        integrand = ((2 * np.pi) * (1 / E_N) * sigma_b**2 * (v_n / VBAR) \\\n",
    "        * (np.exp(- (v_n - VBAR)**2 / (2 * sigma_b**2) ) - np.exp(- (v_n + VBAR)**2 / (2 * sigma_b**2) )) \\\n",
    "        * Int_v_chi(m_chi, m_N, deltaE, r, v_n)) \n",
    "        # [MeV^-1] * [km/s]^2  *  [unitless]  *  [MeV^-1 km/s]\n",
    "        return integrand # [MeV^-2 * km^3/s^3]\n",
    "    integral, err = quad(f, v_N_min, v_N_max)\n",
    "    # return quad(f, v_N_min, v_N_max)\n",
    "    return (1/norm) * integral # [MeV^-2 km^3 s^-3 * km/s] = [MeV^-2 km^4 s^-4]\n"
   ]
  },
  {
   "cell_type": "code",
   "execution_count": 226,
   "id": "84c8d942-c78e-48db-a3b7-62ee841dfd43",
   "metadata": {},
   "outputs": [
    {
     "data": {
      "text/plain": [
       "9.96236117064926e-11"
      ]
     },
     "execution_count": 226,
     "metadata": {},
     "output_type": "execute_result"
    }
   ],
   "source": [
    "Int_v_N(m_chi = 16.72997316197439, m_N = nuc_info['O16'][0], deltaE = 16.732241, r = 5)"
   ]
  },
  {
   "cell_type": "code",
   "execution_count": 203,
   "id": "bf7db813-7929-491f-aa51-ac29062cfd87",
   "metadata": {},
   "outputs": [
    {
     "data": {
      "text/plain": [
       "5.643061913910801e-31"
      ]
     },
     "execution_count": 203,
     "metadata": {},
     "output_type": "execute_result"
    }
   ],
   "source": [
    "Int_v_N(m_chi = 16.731240999999994, m_N = nuc_info['O16'][0], deltaE = 16.732241, r = 5)\n"
   ]
  },
  {
   "cell_type": "code",
   "execution_count": 197,
   "id": "347eafff-05d8-4317-846b-27c691dae023",
   "metadata": {},
   "outputs": [
    {
     "data": {
      "text/plain": [
       "(5.114320653731018e-08, 4.95274249433489e-09)"
      ]
     },
     "execution_count": 197,
     "metadata": {},
     "output_type": "execute_result"
    }
   ],
   "source": [
    "Int_v_N(m_chi = 16.73, m_N = nuc_info['O16'][0], deltaE = 16.732241, r = 10)\n"
   ]
  },
  {
   "cell_type": "code",
   "execution_count": 198,
   "id": "531da3b7-36cf-4817-bc56-822dbb74d4ba",
   "metadata": {},
   "outputs": [
    {
     "data": {
      "text/plain": [
       "(4.87932292767596e-35, 1.8419175086235577e-36)"
      ]
     },
     "execution_count": 198,
     "metadata": {},
     "output_type": "execute_result"
    }
   ],
   "source": [
    "Int_v_N(m_chi = 16.722240999999993, m_N = nuc_info['O16'][0], deltaE = 16.732241, r = 10)\n"
   ]
  },
  {
   "cell_type": "code",
   "execution_count": 35,
   "id": "c4bcdebe-1815-468b-a12b-29f045f3b544",
   "metadata": {},
   "outputs": [
    {
     "data": {
      "text/plain": [
       "5.502235229883831e-05"
      ]
     },
     "execution_count": 35,
     "metadata": {},
     "output_type": "execute_result"
    }
   ],
   "source": [
    "Int_v_N(16.73, 15044, 16.7333, 10)"
   ]
  },
  {
   "cell_type": "markdown",
   "id": "f4818a94-51e4-4109-b2ba-99ff489f4a6e",
   "metadata": {},
   "source": [
    "# line of sight $s$ integral\n",
    "\n",
    "The numerical integrals for the baryon velocity and LOS both have very high errors associated with them (particularly LOS), such that the LOS integral may return **smaller** numbers integrating over a larger distance. This needs a solution."
   ]
  },
  {
   "cell_type": "markdown",
   "id": "3ba2b130-3171-4f3a-957a-5b750477a395",
   "metadata": {},
   "source": [
    "$$  \\begin{align}\n",
    "r &= \\sqrt{R_\\odot^2 + s^2 - 2 R_\\odot s \\cos \\psi} \\\\\n",
    "&= \\sqrt{R_\\odot^2 + s^2 - 2 R_\\odot s \\cos b \\cos l} \n",
    "\\end{align} $$\n",
    "<!-- $$ r = \\sqrt{R_\\odot^2 + s^2 - 2 R_\\odot s \\cos \\psi} $$ -->\n",
    "\n",
    "$$ s_\\text{max} = (R_\\text{halo}^2 - R_\\odot^2 \\sin^2\\psi)^{1/2} + R_\\odot \\cos\\psi $$"
   ]
  },
  {
   "cell_type": "code",
   "execution_count": 242,
   "id": "5562be2f-72bd-4d15-9de1-da2cf866929a",
   "metadata": {},
   "outputs": [],
   "source": [
    "def Int_LOS(m_chi, nucleus, deltaE, b, l, R_max):\n",
    "    \"\"\"\n",
    "    returns: [cm^-5] line of sight integral\n",
    "    ********\n",
    "    \"\"\"\n",
    "    nuc_info = {'He4': [3758.26, 0.0], 'C12': [11274.78, 0.0], 'N14': [13153.91, 0.0], 'O16': [15033.04, 0.0]}\n",
    "    m_N = nuc_info[nucleus][0]\n",
    "    if m_chi > deltaE:\n",
    "        return 0\n",
    "    psi = np.arccos( np.cos(np.radians(b)) * np.cos(np.radians(l)) ) # [radians]\n",
    "    def f(s):\n",
    "        r = np.sqrt(R_odot**2 + s**2 - 2 * R_odot * s * np.cos(psi)) # [kpc]\n",
    "        rho = density(nucleus, r, b, l)\n",
    "        disp = vDispersion(r) # km/s\n",
    "        rho_b, rho_chi = rho[0], rho[1] # [GeV/cm^3], [GeV/cm^3]t\n",
    "        sigma_b, sigma_chi = disp[0], disp[1] # km/s\n",
    "        integrand = rho_b * rho_chi * ( (2*np.pi) * sigma_b * sigma_chi )**(-3) * Int_v_N(m_chi, m_N, deltaE, r) * 1000**2 * (c/1000)**2 * cm_per_kpc\n",
    "        return integrand\n",
    "        # [GeV/cm^3] * [GeV/cm^3] * [km/s]^-3 * [km/s]^-3 * [MeV^-2 km^4 s^-4] = [GeV^2 cm^-6 km^-2 s^2 MeV^-2]\n",
    "\n",
    "    s_max = (np.sqrt(R_max**2 - R_odot**2 * (np.sin(psi))**2) + R_odot * np.cos(psi)) # [kpc]\n",
    "    # print(s_max)\n",
    "    # integral1, err1 = quad(f, 0, s_max/2)\n",
    "    # integral2, err2 = quad(f, s_max/2, s_max)\n",
    "    # integral = integral1 + integral2\n",
    "    integral, err = quad(f, 0, s_max)\n",
    "    # return [integral1+integral2, err1+err2]\n",
    "    return [integral, err]\n",
    "    # return (integral * 1000**2 * (c/1000)**2 * cm_per_kpc) # [cm^-5]\n",
    "    # integrating over kpc gives a factor of kpc\n",
    "    "
   ]
  },
  {
   "cell_type": "markdown",
   "id": "9b02f05a-6d30-4d0d-9f7e-ad3e3b78a9db",
   "metadata": {},
   "source": [
    "**Below shows the LOS integral returning a larger number for a smaller radius ($4 R_\\odot$) vs smaller number for larger radius ($10 R_\\odot$). Plotting the function being integrated over, it's clear that the smaller radius should return a smaller number, so this discrepancy must be a numerical integration error.**"
   ]
  },
  {
   "cell_type": "code",
   "execution_count": 239,
   "id": "9c6a78dd-84eb-4aae-92d5-b80c628169cf",
   "metadata": {},
   "outputs": [
    {
     "data": {
      "text/plain": [
       "3.8261848888032744e+16"
      ]
     },
     "execution_count": 239,
     "metadata": {},
     "output_type": "execute_result"
    }
   ],
   "source": [
    "# tic = time.time()\n",
    "Int_LOS(m_chi = 16.73, nucleus = 'O16', deltaE = 16.732241, b = bs[180], l = l_crval, R_max = R_odot*4)\n",
    "# print(time.time()-tic)"
   ]
  },
  {
   "cell_type": "code",
   "execution_count": 240,
   "id": "ae486482-9fef-496d-8326-ba1da893efcc",
   "metadata": {},
   "outputs": [
    {
     "data": {
      "text/plain": [
       "2.54913013944764e+16"
      ]
     },
     "execution_count": 240,
     "metadata": {},
     "output_type": "execute_result"
    }
   ],
   "source": [
    "Int_LOS(m_chi = 16.73, nucleus = 'O16', deltaE = 16.732241, b = bs[180], l = l_crval, R_max = R_odot*10)\n",
    "# print(time.time()-tic)"
   ]
  },
  {
   "cell_type": "code",
   "execution_count": 245,
   "id": "6657ff5a-e714-4984-b82b-4dac0ce3c78c",
   "metadata": {},
   "outputs": [
    {
     "data": {
      "text/plain": [
       "<matplotlib.legend.Legend at 0x281a94730>"
      ]
     },
     "execution_count": 245,
     "metadata": {},
     "output_type": "execute_result"
    },
    {
     "data": {
      "image/png": "[encoded data removed]",
      "text/plain": [
       "<Figure size 576x432 with 1 Axes>"
      ]
     },
     "metadata": {
      "needs_background": "light"
     },
     "output_type": "display_data"
    }
   ],
   "source": [
    "plt.figure(figsize=(8, 6))\n",
    "plt.xlabel(r'Line of sight distance $s$ [kpc]', fontsize=14)\n",
    "plt.ylabel(r'LOS function []', fontsize=14)\n",
    "b = bs[180]\n",
    "l = l_crval\n",
    "m_chi = 16.73\n",
    "m_N = nuc_info['O16'][0]\n",
    "deltaE = 16.732241\n",
    "psi = np.arccos( np.cos(np.radians(b)) * np.cos(np.radians(l)) ) # [radians]\n",
    "for R_max in [R_odot*4, R_odot*10]:\n",
    "    s_max = (np.sqrt(R_max**2 - R_odot**2 * (np.sin(psi))**2) + R_odot * np.cos(psi))\n",
    "    sses = np.linspace(0, s_max, 100)\n",
    "    losFunction = []\n",
    "    for i in sses:\n",
    "        r = np.sqrt(R_odot**2 + i**2 - 2 * R_odot * i * np.cos(psi)) # [kpc]\n",
    "        rho = density('C12', r, b, l)\n",
    "        disp = vDispersion(r) # km/s\n",
    "        rho_b, rho_chi = rho[0], rho[1] # [GeV/cm^3], [GeV/cm^3]\n",
    "        sigma_b, sigma_chi = disp[0], disp[1] # km/s\n",
    "        losFunction.append( rho_b * rho_chi * ( (2*np.pi) * sigma_b * sigma_chi )**(-3) * Int_v_N(m_chi, m_N, deltaE, r) * 1000**2 * (c/1000)**2 * cm_per_kpc)\n",
    "    plt.plot(sses, losFunction, label=r'{}$R_\\odot$'.format(R_max/R_odot))\n",
    "plt.xlim(sses[0], 30)\n",
    "plt.legend(fontsize=14)\n"
   ]
  },
  {
   "cell_type": "code",
   "execution_count": 38,
   "id": "f20d3567-5e96-41f5-8c58-1d204d34d4b6",
   "metadata": {},
   "outputs": [],
   "source": [
    "# tic = time.time()\n",
    "# Int_LOS_disp(m_chi = 16.73, nucleus = 'O16', deltaE = 16.732241, b = 0, l = l_crval, R_max = R_odot*2)\n",
    "# print(time.time()-tic)"
   ]
  },
  {
   "cell_type": "code",
   "execution_count": 243,
   "id": "09cb4822-5f48-43cb-8c38-c63f3c68b9bf",
   "metadata": {},
   "outputs": [
    {
     "name": "stderr",
     "output_type": "stream",
     "text": [
      "/var/folders/3h/yy94f94d0dxc2ktk2tkt14tmf3vs4j/T/ipykernel_50031/3458608778.py:26: IntegrationWarning: The maximum number of subdivisions (50) has been achieved.\n",
      "  If increasing the limit yields no improvement it is advised to analyze \n",
      "  the integrand in order to determine the difficulties.  If the position of a \n",
      "  local difficulty can be determined (singularity, discontinuity) one will \n",
      "  probably gain from splitting up the interval and calling the integrator \n",
      "  on the subranges.  Perhaps a special-purpose integrator should be used.\n",
      "  integral, err = quad(f, 0, s_max)\n"
     ]
    },
    {
     "data": {
      "text/plain": [
       "[8.474817822664782e+16, 233170956747701.56]"
      ]
     },
     "execution_count": 243,
     "metadata": {},
     "output_type": "execute_result"
    }
   ],
   "source": [
    "Int_LOS(m_chi = 16.73, nucleus = 'O16', deltaE = 16.732241, b = 0, l = l_crval, R_max = R_odot*2)\n"
   ]
  },
  {
   "cell_type": "code",
   "execution_count": 244,
   "id": "da4d0897-55cb-4899-a16b-788d51f1a585",
   "metadata": {},
   "outputs": [
    {
     "data": {
      "text/plain": [
       "363.45940939097346"
      ]
     },
     "execution_count": 244,
     "metadata": {},
     "output_type": "execute_result"
    }
   ],
   "source": [
    "8.474817822664782e+16/233170956747701.56"
   ]
  },
  {
   "cell_type": "code",
   "execution_count": 39,
   "id": "238db394-103e-47df-98ea-ea6c9c0661f9",
   "metadata": {},
   "outputs": [
    {
     "data": {
      "text/plain": [
       "5.3438743815051864e+16"
      ]
     },
     "execution_count": 39,
     "metadata": {},
     "output_type": "execute_result"
    }
   ],
   "source": [
    "Int_LOS(m_chi = 16.73, nucleus = 'O16', deltaE = 16.732241, b = 0, l = l_crval, R_max = R_odot*2)\n"
   ]
  },
  {
   "cell_type": "code",
   "execution_count": 40,
   "id": "780f7bd0-cfe9-4225-bae8-7c09e5991390",
   "metadata": {},
   "outputs": [
    {
     "data": {
      "text/plain": [
       "3.723603864507819e+16"
      ]
     },
     "execution_count": 40,
     "metadata": {},
     "output_type": "execute_result"
    }
   ],
   "source": [
    "Int_LOS(m_chi = 16.73, nucleus = 'O16', deltaE = 16.732241, b = 0, l = l_crval, R_max = R_odot*4)\n"
   ]
  },
  {
   "cell_type": "code",
   "execution_count": 41,
   "id": "50c9f74c-b59c-4fc0-b349-65adc2de37b9",
   "metadata": {},
   "outputs": [
    {
     "data": {
      "text/plain": [
       "2.578711591370615e+17"
      ]
     },
     "execution_count": 41,
     "metadata": {},
     "output_type": "execute_result"
    }
   ],
   "source": [
    "Int_LOS(m_chi = 16.73, nucleus = 'O16', deltaE = 16.732241, b = 0, l = l_crval, R_max = R_odot*6)\n"
   ]
  },
  {
   "cell_type": "code",
   "execution_count": 42,
   "id": "f2477142-dd7b-4ce2-9098-7565d57e8099",
   "metadata": {},
   "outputs": [
    {
     "data": {
      "text/plain": [
       "90914699508823.8"
      ]
     },
     "execution_count": 42,
     "metadata": {},
     "output_type": "execute_result"
    }
   ],
   "source": [
    "Int_LOS(m_chi = 16.72997316197439, nucleus = 'O16', deltaE = 16.732241, b = b_crval, l = l_crval, R_max = R_odot*2)\n"
   ]
  },
  {
   "cell_type": "code",
   "execution_count": 43,
   "id": "5f7c9d88-2235-466e-814c-f683d6b95940",
   "metadata": {},
   "outputs": [
    {
     "data": {
      "text/plain": [
       "8.195421109647037e+16"
      ]
     },
     "execution_count": 43,
     "metadata": {},
     "output_type": "execute_result"
    }
   ],
   "source": [
    "Int_LOS(m_chi = 16.73, nucleus = 'O16', deltaE = 16.732241, b = 0, l = l_crval, R_max = 50)\n"
   ]
  },
  {
   "cell_type": "code",
   "execution_count": 44,
   "id": "7e29733a-38e7-4e28-9627-a1e0f750b85b",
   "metadata": {},
   "outputs": [
    {
     "data": {
      "text/plain": [
       "1.2568052476829034e+24"
      ]
     },
     "execution_count": 44,
     "metadata": {},
     "output_type": "execute_result"
    }
   ],
   "source": [
    "Int_LOS(m_chi = m_chis_C12[0], nucleus = 'C12', deltaE = dEs_C12[0], b = 0, l = l_crval, R_max = 50)\n"
   ]
  },
  {
   "cell_type": "markdown",
   "id": "fd9f08a6-613b-4e4c-933f-64b052a2fd65",
   "metadata": {},
   "source": [
    "# $R_\\epsilon(E-E_\\gamma)$"
   ]
  },
  {
   "cell_type": "markdown",
   "id": "2a95cfdb-a073-45ea-974b-f317808950ab",
   "metadata": {},
   "source": [
    "$$ \\frac{dN^{i\\chi}}{dE_\\gamma} = \\delta(\\Delta E - E_\\gamma),$$\n",
    "for true gamma ray energy $E_\\gamma$.\n",
    "$$ R_\\epsilon(E-E_\\gamma) \\approx \\frac{1}{\\sqrt{2\\pi\\epsilon^2 E_\\gamma^2}} \\exp \\left[ -\\frac{(E-E_\\gamma)^2}{2\\epsilon^2 E_\\gamma^2} \\right]$$\n",
    "\n",
    "\\begin{align}\n",
    "\\int dE_\\gamma ~\\frac{dN^{i\\chi}}{dE_\\gamma} R_\\epsilon(E-E_\\gamma) &= \\int dE_\\gamma ~\\delta(\\Delta E - E_\\gamma) ~R_\\epsilon(E-E_\\gamma) \\\\\n",
    "&= R_\\epsilon(E-\\Delta E) \\\\\n",
    "&= \\frac{1}{\\sqrt{2\\pi\\epsilon^2 (\\Delta E)^2}} \\exp \\left[ -\\frac{(E-\\Delta E)^2}{2\\epsilon^2 (\\Delta E)^2} \\right]\n",
    "\\end{align}"
   ]
  },
  {
   "cell_type": "code",
   "execution_count": 45,
   "id": "829c8510-e590-4a65-b0a5-7f2861ca4a7d",
   "metadata": {},
   "outputs": [],
   "source": [
    "def R_epsilon(epsilon, E, deltaE):\n",
    "    \"\"\"\n",
    "    returns gaussian function in units [MeV^-1]\n",
    "    ********\n",
    "    epsilon:\n",
    "    E: observed photon energy [MeV]\n",
    "    E_gamma: true photon energy [MeV]\n",
    "    \"\"\"\n",
    "    return (np.sqrt(2 * np.pi) * epsilon * deltaE)**(-1) * np.exp(-(E - deltaE)**2 / (2 * epsilon**2 * deltaE**2)) # [MeV^-1]\n"
   ]
  },
  {
   "cell_type": "markdown",
   "id": "5902262b-a9fd-4656-9a88-9b573227682e",
   "metadata": {},
   "source": [
    "# flux\n",
    "To do (updated Nov 21):\n",
    "- choose appropriate energy array for flux calculation/plot\n",
    "- find experimental data for comparison\n",
    "- solid angle integration"
   ]
  },
  {
   "cell_type": "code",
   "execution_count": 46,
   "id": "e2dbd6f5-2429-4d5c-b678-a7705db5ee61",
   "metadata": {},
   "outputs": [],
   "source": [
    "def flux_noConv(g_chi, m_chi, nucleus, b, l, R_max, epsilon):\n",
    "    \"\"\"\n",
    "    returns: differential flux in [cm^-2 s^-1 (sr^-1) MeV^-1]\n",
    "    **********\n",
    "    g_chi: [MeV^-1]\n",
    "    E: observed photon energy [MeV]\n",
    "    \"\"\"\n",
    "    g_A = 1.27 # [unitless]\n",
    "    nuc_info = {'He4': [3758.26, 0.0], \n",
    "                'C12': [11274.78, 0.0], \n",
    "                'N14': [13153.91, 0.0], \n",
    "                'O16': [15033.04, 0.0]} # mass [MeV], spin\n",
    "    fluxes, flux_tot = [], 0\n",
    "    m_N, J_N = nuc_info[nucleus][0], nuc_info[nucleus][1]\n",
    "    dEs = dEs_dict[nucleus]\n",
    "    GTs = GTs_dict[nucleus]\n",
    "    nucl_exc = zip(dEs, GTs)\n",
    "    GT_sum = np.sum(GTs)\n",
    "\n",
    "    for dE, GT in nucl_exc:\n",
    "        Int = Int_LOS(m_chi, nucleus, dE, b, l, R_max) # [cm^-5]\n",
    "        dNdgamma = GT / GT_sum # branching ratio, [unitless]\n",
    "        # R = R_epsilon(epsilon, E, dE) # [MeV^-1]\n",
    "        flux = ((1/24 * g_chi**2 * g_A**2 / (2*J_N + 1)) * (m_N + dE)/m_N * Int * dNdgamma * R * (c * 100) * (hbar * 1e-6 * c * 100)**2)\n",
    "        fluxes.append(flux) # [MeV^-2 * cm^-5 * MeV^-1 * cm/s * cm^2 * MeV^2] = [cm^-2 s^-1 (sr^-1) MeV^-1]\n",
    "        flux_tot += flux\n",
    "\n",
    "    return flux_tot\n"
   ]
  },
  {
   "cell_type": "code",
   "execution_count": 47,
   "id": "46f0aebb-5989-404e-9606-eabcae6f5a2d",
   "metadata": {},
   "outputs": [],
   "source": [
    "def flux_wConv(g_chi, m_chi, nucleus, b, l, R_max, epsilon, E):\n",
    "    \"\"\"\n",
    "    returns: differential flux in [cm^-2 s^-1 (sr^-1) MeV^-1]\n",
    "    **********\n",
    "    g_chi: [MeV^-1]\n",
    "    E: observed photon energy [MeV]\n",
    "    \"\"\"\n",
    "    g_A = 1.27 # [unitless]\n",
    "    nuc_info = {'He4': [3758.26, 0.0], \n",
    "                'C12': [11274.78, 0.0], \n",
    "                'N14': [13153.91, 0.0], \n",
    "                'O16': [15033.04, 0.0]} # mass [MeV], spin\n",
    "    fluxes, flux_tot = [], 0\n",
    "    m_N, J_N = nuc_info[nucleus][0], nuc_info[nucleus][1]\n",
    "    dEs = dEs_dict[nucleus]\n",
    "    GTs = GTs_dict[nucleus]\n",
    "    nucl_exc = zip(dEs, GTs)\n",
    "    GT_sum = np.sum(GTs)\n",
    "\n",
    "    for dE, GT in nucl_exc:\n",
    "        Int = Int_LOS(m_chi, nucleus, dE, b, l, R_max) # [cm^-5]\n",
    "        R = (np.sqrt(2 * np.pi) * epsilon * dE)**(-1) * np.exp(-(E - dE)**2 / (2 * epsilon**2 * dE**2)) # [MeV^-1]\n",
    "        dNdgamma = GT / GT_sum # branching ratio, [unitless]\n",
    "        # R = R_epsilon(epsilon, E, dE) # [MeV^-1]\n",
    "        flux = ((1/24 * g_chi**2 * g_A**2 / (2*J_N + 1)) * (m_N + dE)/m_N * Int * dNdgamma * R * (c * 100) * (hbar * 1e-6 * c * 100)**2)\n",
    "        fluxes.append(flux) # [MeV^-2 * cm^-5 * MeV^-1 * cm/s * cm^2 * MeV^2] = [cm^-2 s^-1 (sr^-1) MeV^-1]\n",
    "        flux_tot += flux\n",
    "\n",
    "    return flux_tot\n"
   ]
  },
  {
   "cell_type": "code",
   "execution_count": 162,
   "id": "df9c1f12-a100-4217-9019-4b2cc477de60",
   "metadata": {},
   "outputs": [
    {
     "data": {
      "text/plain": [
       "0.6715338929294201"
      ]
     },
     "execution_count": 162,
     "metadata": {},
     "output_type": "execute_result"
    }
   ],
   "source": [
    "480777928808.6068/715939930762.568"
   ]
  },
  {
   "cell_type": "code",
   "execution_count": 158,
   "id": "2988c88f-d1fb-4568-9f7c-b895b50c0d9a",
   "metadata": {},
   "outputs": [
    {
     "data": {
      "text/plain": [
       "715939930762.568"
      ]
     },
     "execution_count": 158,
     "metadata": {},
     "output_type": "execute_result"
    }
   ],
   "source": [
    "flux_wConv(1, m_chis_C12[0], 'C12', bs[180], l_crval, 4*R_odot, 0.01, m_chis_C12[0]*0.99)"
   ]
  },
  {
   "cell_type": "code",
   "execution_count": 159,
   "id": "7438ad20-c7aa-4636-8868-af52c74ca4d5",
   "metadata": {},
   "outputs": [
    {
     "data": {
      "text/plain": [
       "480777928808.6068"
      ]
     },
     "execution_count": 159,
     "metadata": {},
     "output_type": "execute_result"
    }
   ],
   "source": [
    "flux_wConv(1, m_chis_C12[0], 'C12', bs[180], l_crval, 10*R_odot, 0.01, m_chis_C12[0]*0.99)"
   ]
  },
  {
   "cell_type": "code",
   "execution_count": null,
   "id": "d8e8c5c9-c5d4-4366-b69d-056f57a14f66",
   "metadata": {},
   "outputs": [],
   "source": [
    "flux_wConv(1, m_chis_C12[0], 'C12', bs[180], l_crval, 4*R_odot, 0.01, m_chis_C12[0]*0.9)"
   ]
  },
  {
   "cell_type": "code",
   "execution_count": null,
   "id": "a17ba42f-5d59-448c-bf2b-a2e0c9d8d2f9",
   "metadata": {},
   "outputs": [],
   "source": [
    "flux_wConv(1, m_chis_C12[0], 'C12', bs[180], l_crval, 4*R_odot, 0.01, m_chis_C12[0]*0.9)"
   ]
  },
  {
   "cell_type": "code",
   "execution_count": 48,
   "id": "3085788a-6ffc-4af0-8c50-b34df0b5bb6d",
   "metadata": {},
   "outputs": [],
   "source": [
    "# flux_wConv(1, m_chis_C12[0], 'C12', 0, l_crval, 2*R_odot, 1, 9)#[2]"
   ]
  },
  {
   "cell_type": "code",
   "execution_count": 49,
   "id": "9a233fb6-4690-41a0-92b3-0370074f6993",
   "metadata": {},
   "outputs": [],
   "source": [
    "# tic = time.time()\n",
    "# flux_wConv(1, 1, 16.7322, 'O16', 0, l_crval, 2*R_odot, 1, 16)#[2]\n",
    "# print(time.time()-tic)\n"
   ]
  },
  {
   "cell_type": "code",
   "execution_count": 152,
   "id": "c666d7a1-f642-4bf7-af3c-47b52fe09451",
   "metadata": {},
   "outputs": [],
   "source": [
    "def fluxData(g_chi, m_chi, nucleus, b, l, R_max, epsilon):\n",
    "    \"\"\"\n",
    "    Calculates flux and writes to .txt file.\n",
    "    \"\"\"\n",
    "    # !!! UPDATE ENERGY ARRAY\n",
    "    energy = np.linspace((m_chi - 5 * epsilon * m_chi), (m_chi + 5 * epsilon * m_chi), 21)\n",
    "    # np.logspace(np.log10(m_chi * 0.10), np.log10(m_chi * 1.90), 21)\n",
    "    flux_tot = [flux_wConv(g_chi, m_chi, nucleus, b, l, R_max, epsilon, E) for E in energy]\n",
    "\n",
    "    dat = {'Photon energy [MeV]': energy, '{} flux [cm^-2 s^-1 sr^-1 MeV^-1]'.format(nucleus): flux_tot}\n",
    "    df = pd.DataFrame(dat)\n",
    "    df.to_csv('fluxData/{}/mchi_{}MeV_b_{}deg_l_{}deg_Rmax_{}kpc_epsilon_{}.txt'.format(nucleus, m_chi, b, l, R_max, 100*epsilon), sep='\\t', index=False)\n"
   ]
  },
  {
   "cell_type": "code",
   "execution_count": 151,
   "id": "f08de7e6-4341-4e03-adfa-a32dcfea7bf4",
   "metadata": {},
   "outputs": [
    {
     "data": {
      "text/plain": [
       "18.52992856142054"
      ]
     },
     "execution_count": 151,
     "metadata": {},
     "output_type": "execute_result"
    }
   ],
   "source": [
    "m_chis_C12[3] - 3*0.01*m_chis_C12[3]"
   ]
  },
  {
   "cell_type": "code",
   "execution_count": 153,
   "id": "3546d585-2aa3-42e0-ad2b-914378ae3e87",
   "metadata": {},
   "outputs": [],
   "source": [
    "fluxData(1, m_chis_C12[4], 'C12', bs[180], l_crval, 2*R_odot, 0.01)"
   ]
  },
  {
   "cell_type": "code",
   "execution_count": 52,
   "id": "515cef9c-e624-4fce-8dc2-3ac1676eef44",
   "metadata": {},
   "outputs": [],
   "source": [
    "# fluxData(1, 'O16', 16.73, bs[180], l_crval, 2*R_odot, 0.01)"
   ]
  },
  {
   "cell_type": "code",
   "execution_count": 53,
   "id": "6076e386-2a8d-4b1e-9d65-c018e093228f",
   "metadata": {},
   "outputs": [],
   "source": [
    "# fluxData(1, 'O16', 16.72, bs[180], l_crval, 2*R_odot, 1)"
   ]
  },
  {
   "cell_type": "code",
   "execution_count": 54,
   "id": "fa967c6e-1d09-4064-a0dd-69e26778732b",
   "metadata": {},
   "outputs": [],
   "source": [
    "def plotFlux(g_chi, m_chi, nucleus, b, l, R_max, epsilon, save):\n",
    "    \"\"\"\n",
    "    plots from .txt file\n",
    "    \"\"\"\n",
    "    df = pd.read_csv('fluxData/{}/mchi_{}MeV_b_{}deg_l_{}deg_Rmax_{}kpc_epsilon_{}.txt'.format(nucleus, m_chi, b, l, R_max, 100*epsilon),\\\n",
    "                     sep='\\t', \\\n",
    "                     names=['Photon energy [MeV]', 'Flux [cm^-2 s^-1 MeV^-1]'],\\\n",
    "                     skiprows=1)\n",
    "    plt.figure(figsize = (12, 8))\n",
    "    # plt.xscale('log'); \n",
    "    plt.yscale('log')\n",
    "    plt.yticks(fontsize = 14)\n",
    "    plt.grid(which = 'both', linestyle = 'dotted')\n",
    "    plt.xlim(df['Photon energy [MeV]'][0], df['Photon energy [MeV]'].iat[-1])\n",
    "    # plt.ylim(1e-10)\n",
    "    plt.xlabel('Observed photon energy  [MeV]', fontsize = 14)\n",
    "    plt.ylabel(r'$E^2 ~ d^2\\Phi ~/~ dE_\\gamma ~d\\Omega$  [cm$^{-2}$ s$^{-1}$ sr$^{-1}$ MeV]', fontsize = 14)\n",
    "    plt.title(r'{}: $m_\\chi$ = {} MeV,  $g_A$ = {},  $g_\\chi$ = {}, $\\epsilon$ = {}%'.format(nucleus, m_chi, 1.27, g_chi, 100*epsilon), fontsize = 16)\n",
    "    plt.plot(df['Photon energy [MeV]'], (df['Photon energy [MeV]'])**2 * df['Flux [cm^-2 s^-1 MeV^-1]'], color = 'k')\n",
    "    plt.axvline(m_chi, color = 'red')\n",
    "    plt.xticks(size = 16); plt.yticks(size=16);\n",
    "    if save:\n",
    "        plt.savefig('fluxFigures/mchi_{}MeV_epsilon_{}.pdf'.format(nucleus, m_chi, epsilon))\n",
    "    "
   ]
  },
  {
   "cell_type": "code",
   "execution_count": 154,
   "id": "69e20259-aa4e-4298-83f1-9a2e87cd78d5",
   "metadata": {},
   "outputs": [
    {
     "data": {
      "image/png": "[encoded data removed]",
      "text/plain": [
       "<Figure size 864x576 with 1 Axes>"
      ]
     },
     "metadata": {
      "needs_background": "light"
     },
     "output_type": "display_data"
    }
   ],
   "source": [
    "plotFlux(1, m_chis_C12[4], 'C12', bs[180], l_crval, 2*R_odot, 0.01, False)"
   ]
  },
  {
   "cell_type": "code",
   "execution_count": 56,
   "id": "78fcbcbb-44ab-478b-8354-f5186f9dc038",
   "metadata": {},
   "outputs": [],
   "source": [
    "# plotFlux(1, m_chis_C12[2], 'C12', 0, l_crval, 2*R_odot, 0.1, False)"
   ]
  },
  {
   "cell_type": "code",
   "execution_count": 57,
   "id": "20cc295e-f348-4bf3-b458-ce5008b947c3",
   "metadata": {},
   "outputs": [],
   "source": [
    "# plotFlux(1, 16.731, 'O16', 0, l_crval, 2*R_odot, 0.1, False)"
   ]
  },
  {
   "cell_type": "code",
   "execution_count": 58,
   "id": "d2e84ffc-1d0d-4272-bade-6c78d0852773",
   "metadata": {},
   "outputs": [],
   "source": [
    "# plotFlux(1, 16.73, 'O16', 0, l_crval, 2*R_odot, 0.1, False)"
   ]
  },
  {
   "cell_type": "code",
   "execution_count": 59,
   "id": "8804d616-e8ed-44b6-ac69-bc1b711425e7",
   "metadata": {},
   "outputs": [],
   "source": [
    "# plotFlux(1, 16.73, 'O16', 0, l_crval, 2*R_odot, 0.01, False)"
   ]
  },
  {
   "cell_type": "code",
   "execution_count": 60,
   "id": "c9dd47ae-4001-4399-a387-e23dfeaf2548",
   "metadata": {},
   "outputs": [],
   "source": [
    "def flux_CO(g_chi, m_chi, b, l, R_max, epsilon):\n",
    "    \"\"\"\n",
    "    computes CO flux - takes a few mins!\n",
    "    ********\n",
    "    epsilon: decimal from 0 to 1\n",
    "    \"\"\"\n",
    "    ### !!! UPDATE ENERGY ARRAY\n",
    "    energy = np.linspace((m_chi * 0.6), (m_chi * 1.4), 21)\n",
    "    fluxes_C12 = []\n",
    "    fluxes_O16 = []\n",
    "    fluxes_CO = []\n",
    "    for E in energy:\n",
    "        flux_C12 = flux_wConv(g_chi, m_chi, 'C12', b, l, R_max, epsilon, E)\n",
    "        flux_O16 = flux_wConv(g_chi, m_chi, 'O16', b, l, R_max, epsilon, E)\n",
    "        fluxes_C12.append(flux_C12)\n",
    "        fluxes_O16.append(flux_O16)\n",
    "        fluxes_CO.append(flux_C12 + flux_O16)\n",
    "\n",
    "    dat_C12 = {'Photon energy [MeV]': energy, 'C12 flux [cm^-2 s^-1 sr^-1 MeV^-1]': fluxes_C12}\n",
    "    df_C12 = pd.DataFrame(dat_C12)\n",
    "    df_C12.to_csv('fluxData/C12/mchi_{}MeV_b_{}deg_l_{}deg_Rmax_{}kpc_epsilon_{}.txt'.format(m_chi, b, l, R_max, 100*epsilon), sep='\\t', index=False)\n",
    "\n",
    "    dat_O16 = {'Photon energy [MeV]': energy, 'O16 flux [cm^-2 s^-1 sr^-1 MeV^-1]': fluxes_O16}\n",
    "    df_O16 = pd.DataFrame(dat_O16)\n",
    "    df_O16.to_csv('fluxData/O16/mchi_{}MeV_b_{}deg_l_{}deg_Rmax_{}kpc_epsilon_{}.txt'.format(m_chi, b, l, R_max, 100*epsilon), sep='\\t', index=False)\n",
    "    \n",
    "    dat = {'Photon energy [MeV]': energy, 'CO flux [cm^-2 s^-1 sr^-2 MeV^-1]': fluxes_CO}\n",
    "    df = pd.DataFrame(dat)\n",
    "    df.to_csv('fluxData/CO/mchi_{}MeV_b_{}deg_l_{}deg_Rmax_{}kpc_epsilon_{}.txt'.format(m_chi, b, l, R_max, 100*epsilon), sep='\\t', index=False)\n",
    "    \n",
    "    return fluxes_CO\n",
    "\n",
    "    "
   ]
  },
  {
   "cell_type": "code",
   "execution_count": 61,
   "id": "c3cdd8ff-19eb-4314-85fe-f4ecfd780bd2",
   "metadata": {},
   "outputs": [],
   "source": [
    "# flux_CO(1, m_chis_C12[0], bs[180], l_crval, 2*R_odot, 0.01)"
   ]
  },
  {
   "cell_type": "code",
   "execution_count": 62,
   "id": "275a53f7-0fb6-4aac-86bc-e300da0c13b6",
   "metadata": {},
   "outputs": [],
   "source": [
    "def fluxSolidAngleInt(g_chi, g_A, m_chi, nucleus, b, l, angRad, R_max, epsilon, E):\n",
    "    def f(bb, ll):\n",
    "        return flux_wConv(g_chi, g_A, m_chi, nucleus, bb, ll, R_max, epsilon, E)[2]\n",
    "    return dblquad(f, l-angRad/2, l+angRad/2, b-angRad/2, b+angRad/2)\n"
   ]
  },
  {
   "cell_type": "code",
   "execution_count": 63,
   "id": "e5334658-1eca-456e-ada5-a95748330a0c",
   "metadata": {},
   "outputs": [],
   "source": [
    "# fluxSolidAngleInt(1, 1, 'O16', 16.73, 0, l_crval+5, 5, 2*R_odot, 0.01, 16)"
   ]
  },
  {
   "cell_type": "markdown",
   "id": "c187cbaf-9d54-42a4-82d5-9b62a49fa1d5",
   "metadata": {},
   "source": [
    "# coupling limits\n",
    "To do (updated Nov 21):\n",
    "- experiment for comparison and the direction it is pointed/solid angle integration bounds\n",
    "- a list of flux values for CO\n",
    "- plot $g_\\chi$ vs $m_\\chi$\n",
    "\n",
    "The limit on $g_\\chi$ is given by\n",
    "$$ g_\\chi = \\sqrt{\\frac{\\text{experimental flux}}{\\text{calculated flux}}}$$"
   ]
  },
  {
   "cell_type": "code",
   "execution_count": 64,
   "id": "8f0000c8-d730-40b3-a76a-7faf1ba1bfa7",
   "metadata": {},
   "outputs": [],
   "source": [
    "def couplingLimits(fluxes, m_chis):\n",
    "    \"\"\"\n",
    "    this function needs to:\n",
    "    - import the maximum flux data point (i.e. the peak of the distribution)\n",
    "    - and the associated DM mass\n",
    "    - \n",
    "    \"\"\"\n",
    "    fC = 1e-5 # to be replaced with array of data as a function of DM mass\n",
    "    fluxComps = np.ones(len(fluxes)) * fC\n",
    "    g_chis = []\n",
    "\n",
    "    for i in range(len(fluxes)):\n",
    "        g_chis.append(np.sqrt(fluxComps[i] / fluxes[i]))\n",
    "    "
   ]
  },
  {
   "cell_type": "markdown",
   "id": "7c04893c-d870-4280-8d2f-da95f8aa4924",
   "metadata": {},
   "source": [
    "# test & other functions used along the way"
   ]
  },
  {
   "cell_type": "markdown",
   "id": "9f5ac96d-26e7-407e-a3c7-9d3b8b86454b",
   "metadata": {},
   "source": [
    "## finding optimum $m_\\chi$ values\n",
    "\n",
    "Results for the optimal values of $m_\\chi$ can be found in the 'optimal_m_chis_{}.txt' files.\n",
    "The functions below do not need to be run, but are included here for posterity.\n",
    "\n",
    "Based on testing, the optimal values of $m_\\chi$ are not affected by the choice of $r$, HOWEVER, $r$ is used in the $v_N$ integral to find $v_\\text{esc}(r)$ and the normalization factor, so with the current error in normalization at low $r$ there would theoretically be a difference. Currently the optimal values of $m_\\chi$ are being calculated at a value of $r$ not impacted by the normalization error."
   ]
  },
  {
   "cell_type": "code",
   "execution_count": 65,
   "id": "2a8a93e0-fdee-403f-8205-3008b7b93897",
   "metadata": {},
   "outputs": [],
   "source": [
    "def negInt_v_N(m_chi, m_N, deltaE, r):\n",
    "    return np.negative(Int_v_N(m_chi, m_N, deltaE, r))\n",
    "\n",
    "def minimizeInt_v_N(nucleus, deltaE, r):\n",
    "    # m_chi_initialGuess = 16#np.arange(deltaE - 1/10, deltaE, 1e-2)\n",
    "    # print(m_chi_initialGuess)\n",
    "    res = minimize_scalar(negInt_v_N, bounds=(deltaE-1/10, deltaE), \\\n",
    "                   args=(nuc_info[nucleus][0], deltaE, r))\n",
    "    return(res.x)\n",
    "\n",
    "# np.negative(Int_v_N(m_chi = 16.73, m_N = nuc_info['O16'][0], deltaE = 16.732241, r = 10))\n",
    "# minimizeInt_v_N('O16', 16.732240999999995, 10)\n"
   ]
  },
  {
   "cell_type": "code",
   "execution_count": 66,
   "id": "2ab3a96f-9deb-4531-854d-6957082f8562",
   "metadata": {},
   "outputs": [],
   "source": [
    "def optimal_m_chis(r):\n",
    "    \"\"\"\n",
    "    creates .txt files of optimal m_chis for all C12, O16 excitation energies (files have already been generated, no need to run function)\n",
    "    \"\"\"\n",
    "    nuclei = {'C12': CdEs, 'O16': OdEs}\n",
    "    for i in ['C12', 'O16']:\n",
    "        m_chis = []\n",
    "        all_dEs = []\n",
    "        for dE in nuclei[i]:\n",
    "            all_dEs.append(dE)\n",
    "            m_chis.append(minimize_Int_v_N(i, dE, r))\n",
    "        dat = {'Nuclear excitation energy [MeV]': all_dEs, 'Optimal DM mass [MeV]': m_chis}\n",
    "        df = pd.DataFrame(dat)\n",
    "        df.to_csv('optimal_m_chis_{}.txt'.format(i), sep='\\t', index=False)\n",
    "    return\n"
   ]
  },
  {
   "cell_type": "code",
   "execution_count": 67,
   "id": "3193e9d2-4b99-44f8-91da-adbcc0e00657",
   "metadata": {},
   "outputs": [
    {
     "data": {
      "text/plain": [
       "5.1543024206501824e-61"
      ]
     },
     "execution_count": 67,
     "metadata": {},
     "output_type": "execute_result"
    }
   ],
   "source": [
    "Int_v_N(m_chi = 16.72, m_N = nuc_info['O16'][0], deltaE = 16.732240999999995, r = 10)"
   ]
  },
  {
   "cell_type": "code",
   "execution_count": 68,
   "id": "b9ce317d-b3ef-480f-9c86-02f35ef7c03a",
   "metadata": {},
   "outputs": [
    {
     "data": {
      "text/plain": [
       "-5.1543024206501824e-61"
      ]
     },
     "execution_count": 68,
     "metadata": {},
     "output_type": "execute_result"
    }
   ],
   "source": [
    "negInt_v_N(m_chi = 16.72, m_N = nuc_info['O16'][0], deltaE = 16.732240999999995, r = 10)\n"
   ]
  },
  {
   "cell_type": "code",
   "execution_count": 69,
   "id": "27e00e96-57e4-4ca0-a4bf-e29eee9ee955",
   "metadata": {},
   "outputs": [
    {
     "data": {
      "text/plain": [
       "-5.272495518918402e-11"
      ]
     },
     "execution_count": 69,
     "metadata": {},
     "output_type": "execute_result"
    }
   ],
   "source": [
    "negInt_v_N(m_chi = 16.73, m_N = nuc_info['O16'][0], deltaE = 16.732240999999995, r = 10)\n"
   ]
  },
  {
   "cell_type": "code",
   "execution_count": 70,
   "id": "9ba86184-2d75-445e-b5c4-03cf3ff3e782",
   "metadata": {},
   "outputs": [
    {
     "data": {
      "text/plain": [
       "-5.030229822733859e-38"
      ]
     },
     "execution_count": 70,
     "metadata": {},
     "output_type": "execute_result"
    }
   ],
   "source": [
    "negInt_v_N(m_chi = 16.722240999999993, m_N = nuc_info['O16'][0], deltaE = 16.732240999999995, r = 10)\n"
   ]
  },
  {
   "cell_type": "code",
   "execution_count": 71,
   "id": "e88694b6-db1c-4ad9-ac6a-021b1d6f0abb",
   "metadata": {},
   "outputs": [
    {
     "data": {
      "text/plain": [
       "-0.0006394724743537546"
      ]
     },
     "execution_count": 71,
     "metadata": {},
     "output_type": "execute_result"
    }
   ],
   "source": [
    "negInt_v_N(m_chi = 16.728184508712996, m_N = nuc_info['O16'][0], deltaE = 16.732240999999995, r = 10)\n"
   ]
  },
  {
   "cell_type": "markdown",
   "id": "df4aeba1-4fe8-4fb6-ad7e-67e533e0e2af",
   "metadata": {},
   "source": [
    "## test: $m_\\chi$ vs $\\int d^3 v_N$\n",
    "Seeing the where the $v_N$ integral is maximized."
   ]
  },
  {
   "cell_type": "code",
   "execution_count": 72,
   "id": "d774a03e-6d21-4401-b3fa-3f6c38eb4ac0",
   "metadata": {},
   "outputs": [
    {
     "name": "stdout",
     "output_type": "stream",
     "text": [
      "16.726977842105256\n"
     ]
    },
    {
     "data": {
      "image/png": "[encoded data removed]",
      "text/plain": [
       "<Figure size 576x432 with 1 Axes>"
      ]
     },
     "metadata": {
      "needs_background": "light"
     },
     "output_type": "display_data"
    }
   ],
   "source": [
    "def Int_v_N_plot(DeltaE):\n",
    "    Int_v_N_list = []\n",
    "    m_chi_list = np.linspace(DeltaE - 0.1, DeltaE, 20)\n",
    "    for i in m_chi_list:\n",
    "        Int_v_N_list.append(Int_v_N(m_chi = i, m_N = nuc_info['O16'][0], deltaE = DeltaE, r = 3))\n",
    "    plt.figure(figsize = (8, 6))\n",
    "    plt.xlabel(r'$m_\\chi [MeV]$', fontsize = 18); plt.ylabel(r'$\\int d^3 v_b ~f_b ~\\int d^3 v_\\chi ~f_\\chi \\sigma v$', fontsize = 18)\n",
    "    plt.xticks(fontsize = 14); plt.yticks(fontsize = 14)\n",
    "    plt.xlim(m_chi_list[0], m_chi_list[-1])\n",
    "    plt.plot(m_chi_list, Int_v_N_list)\n",
    "    plt.title(\"O16 excitation energy: {:2.6f} MeV\".format(DeltaE), fontsize = 18)\n",
    "    print(m_chi_list[Int_v_N_list.index(max(Int_v_N_list))])\n",
    "\n",
    "Int_v_N_plot(OdEs[4])\n"
   ]
  },
  {
   "cell_type": "code",
   "execution_count": 73,
   "id": "da5de0e1-ed54-4a52-b731-b2732f06313b",
   "metadata": {},
   "outputs": [
    {
     "name": "stdout",
     "output_type": "stream",
     "text": [
      "162.50747678926388\n"
     ]
    },
    {
     "data": {
      "text/plain": [
       "9.149786243147542"
      ]
     },
     "execution_count": 73,
     "metadata": {},
     "output_type": "execute_result"
    }
   ],
   "source": [
    "def v_b_test(nucleus, m_chi, deltaE, r):\n",
    "    # testing to make sure a velocity in the (v_N_min, v_N_max) range returns a nonzero answer\n",
    "    m_N = nuc_info[nucleus][0]\n",
    "    V_ESC = v_esc(r)\n",
    "    v_N_minMax = v_N_integralBounds(m_N, m_chi, deltaE, V_ESC) # [km/s]\n",
    "    print((v_N_minMax[1] + v_N_minMax[0])/2)\n",
    "    return Int_v_chi(m_chi, m_N, deltaE, r, (v_N_minMax[1] + v_N_minMax[0])/2)\n",
    "                     #m_N, m_chi, deltaE, s, b, l, (v_N_minMax[1] - v_N_minMax[0])/2)\n",
    "\n",
    "v_b_test('O16', 16.73, 16.732241, 8)\n",
    "# v_N_integralBounds(m_N = nuc_info['O16'][0], m_chi = 16.72, deltaE = 16.732241)"
   ]
  },
  {
   "cell_type": "markdown",
   "id": "3845b672-cfbc-4847-a9b1-d87a3835cd6b",
   "metadata": {},
   "source": [
    "## test: distribution functions"
   ]
  },
  {
   "cell_type": "markdown",
   "id": "e536803d-d03a-40e0-9173-9050a6e7f2e6",
   "metadata": {},
   "source": [
    "The distribution functions are normalized such that\n",
    "\\begin{align}\n",
    "1 &= \\int_0^{v_\\text{esc}} f(v) d^3 v \\\\\n",
    "&= \\int_0^{2\\pi} d\\phi \\int_0^\\pi d\\theta ~\\sin\\theta \\int_0^{v_\\text{esc}(r)} dv ~v^2 f(\\vec{v})\n",
    "\\end{align}\n",
    "\n",
    "For the baryon distribution **(note that the baryon velocity dispersion currently does NOT depend on radius)**,\n",
    "\\begin{equation}\n",
    "f_b(v_b) = \\frac{1}{\\mathcal{N}_b(r)} \\left( \\frac{1}{2\\pi \\sigma_b^2} \\right)^{3/2} \\exp\\left[ -\\frac{\\left( \\vec{v}_b - \\bar{v}(r) \\right)^2}{2\\sigma_b^2} \\right]\n",
    "\\end{equation}\n",
    "\n",
    "The integral gives analytic solution\n",
    "\\begin{align}\n",
    "\\mathcal{N}_b(r) &= 4\\pi \\left[ 2\\pi \\sigma_b^2 \\right]^{-3/2} \\frac{1}{2} \\sigma_b \\\\\n",
    "& \\qquad \\times \\Bigg( \\sqrt{2\\pi}\\left(\\bar{v}(r)^2 + \\sigma_b^2\\right) ~\\text{erf}\\left[ \\frac{\\bar{v}(r)}{\\sqrt{2} \\sigma_b} \\right] - \\sqrt{2\\pi}\\left( \\bar{v}(r)^2 + \\sigma_b^2 \\right) ~\\text{erf} \\left[ \\frac{\\bar{v}(r) - v_\\text{esc}(r)}{\\sqrt{2} \\sigma_b} \\right] \\\\\n",
    "& \\qquad \\qquad + 2\\bar{v}(r) \\sigma_b \\exp\\left[-\\frac{\\bar{v}(r)^2}{2\\sigma_b^2} \\right] - 2\\sigma_b(r) \\left(\\bar{v}(r) + v_\\text{esc}(r) \\right)\\exp\\left[-\\frac{\\left(\\bar{v}(r) - v_\\text{esc}(r)\\right)^2}{2 \\sigma_b^2} \\right]\\Bigg)\n",
    "\\end{align}\n",
    "\n",
    "For the DM distribution,\n",
    "\\begin{equation}\n",
    "f_\\chi(\\vec{v}_\\chi) = \\frac{1}{\\mathcal{N}_\\chi(r)} \\left( \\frac{1}{2\\pi (\\sigma_\\chi(r))^2} \\right)^{3/2} \\exp\\left[ -\\frac{\\vec{v}_\\chi^2}{2(\\sigma_\\chi(r))^2} \\right]\n",
    "\\end{equation}\n",
    "\n",
    "The integral gives analytic solution\n",
    "\\begin{align}\n",
    "\\mathcal{N}_\\chi(r) &= 4\\pi \\left[ 2\\pi (\\sigma_b(r))^2 \\right]^{-3/2} \\times \\Bigg( \\sqrt{\\frac{\\pi}{2}}  (\\sigma_\\chi(r))^3 ~\\text{erf}\\left[ \\frac{v_\\text{esc}(r)}{\\sqrt{2} \\sigma_\\chi(r)} \\right] - (\\sigma_\\chi(r))^2 v_\\text{esc}(r) \\exp\\left[ \\frac{-(v_\\text{esc}(r))^2}{2(\\sigma_\\chi(r))^2} \\right] \\Bigg)\n",
    "\\end{align}"
   ]
  },
  {
   "cell_type": "code",
   "execution_count": 74,
   "id": "412c00ee-dc9d-4ac5-b00d-cfab29c7b341",
   "metadata": {},
   "outputs": [],
   "source": [
    "def Int_f_chi(r, b, l):\n",
    "    \"\"\"\n",
    "    integrated DM velocity distribution function - used to check normalization factor\n",
    "    \"\"\"\n",
    "    V_ESC = v_esc(r) # [km/s]\n",
    "    sigma_chi = vDispersion(r)[1] # [km/s]\n",
    "    norm = norm_chi(V_ESC, sigma_chi)\n",
    "    if norm<0:\n",
    "        return 0\n",
    "    def f(v_chi):\n",
    "        return 1/norm * (2*np.pi * sigma_chi**2)**(-3/2) * v_chi**2 * np.exp(-v_chi**2 / (2 * sigma_chi**2))\n",
    "    integral = 4 * np.pi * quad(f, 0, V_ESC)[0] # [unitless]\n",
    "    \n",
    "    return integral\n",
    "\n",
    "\n",
    "def Int_f_b(r, b, l):\n",
    "    \"\"\"\n",
    "    integrated baryon velocity distribution function - used to check normalization factor\n",
    "    \"\"\"\n",
    "    VBAR = vbar # [km/s]\n",
    "    # print(VBAR)\n",
    "    V_ESC = v_esc(r) # [km/s]\n",
    "    # print(V_ESC)\n",
    "    # if V_ESC < VBAR:\n",
    "    #     return 0\n",
    "    sigma_b = vDispersion(r)[0] # [km/s]\n",
    "    norm = norm_N(VBAR, V_ESC, sigma_b)\n",
    "    if norm<0:\n",
    "        # print(\"norm<0!\")\n",
    "        return 0\n",
    "    \n",
    "    def f(v_b):\n",
    "        return 1/norm * (2*np.pi * sigma_b**2)**(-3/2) * v_b**2 * np.exp(-(v_b - VBAR)**2 / (2 * sigma_b**2))\n",
    "    integral = 4 * np.pi * quad(f, 0, V_ESC)[0] # [unitless]\n",
    "\n",
    "    return integral\n",
    "\n",
    "\n",
    "def Int_f_b_noNorm(r, b, l):\n",
    "    \"\"\"\n",
    "    integrated baryon velocity distribution function with NO NORMALIZATION\n",
    "    \"\"\"\n",
    "    VBAR = vbar # [km/s]\n",
    "    # print(VBAR)\n",
    "    V_ESC = v_esc(r) # [km/s]\n",
    "    # print(V_ESC)\n",
    "    # if V_ESC < VBAR:\n",
    "    #     return 0\n",
    "    sigma_b = vDispersion(r)[0] # [km/s]\n",
    "    norm = 1\n",
    "    \n",
    "    def f(v_b):\n",
    "        return 1/norm * (2*np.pi * sigma_b**2)**(-3/2) * v_b**2 * np.exp(-(v_b - VBAR)**2 / (2 * sigma_b**2))\n",
    "    integral = 4 * np.pi * quad(f, 0, V_ESC)[0] # [unitless]\n",
    "\n",
    "    return integral\n",
    "\n",
    "\n",
    "def Int_f_b_s(s, b, l):\n",
    "    \"\"\"\n",
    "    integrated baryon velocity distribution function - used to check normalization factor\n",
    "    \"\"\"\n",
    "    r = R(s, b, l)\n",
    "    # print(r)\n",
    "    VBAR = vbar\n",
    "    V_ESC = v_esc(r) # [km/s]\n",
    "    # if V_ESC<VBAR:\n",
    "    #     return 0 # is this right?\n",
    "    sigma_b = vDispersion(r)[0] # [km/s]\n",
    "    norm = norm_N(VBAR, V_ESC, sigma_b)\n",
    "    if norm<0:\n",
    "        return 0\n",
    "    \n",
    "    def f(v_b):\n",
    "        return 1/norm * (2*np.pi * sigma_b**2)**(-3/2) * v_b**2 * np.exp(-(v_b - VBAR)**2 / (2 * sigma_b**2))\n",
    "    # print(norm)\n",
    "    integral = 4 * np.pi * quad(f, 0, V_ESC)[0] # [unitless]\n",
    "\n",
    "    return integral\n"
   ]
  },
  {
   "cell_type": "code",
   "execution_count": 75,
   "id": "67b2ce08-be32-4cfd-bedc-d25713c864fb",
   "metadata": {},
   "outputs": [
    {
     "data": {
      "text/plain": [
       "1.0000000000000004"
      ]
     },
     "execution_count": 75,
     "metadata": {},
     "output_type": "execute_result"
    }
   ],
   "source": [
    "Int_f_b_s(7, 2, l_crval)"
   ]
  },
  {
   "cell_type": "code",
   "execution_count": 76,
   "id": "ec4153c4-1758-4c9f-9be5-ae98a7402635",
   "metadata": {},
   "outputs": [
    {
     "data": {
      "text/plain": [
       "0.9999999999999999"
      ]
     },
     "execution_count": 76,
     "metadata": {},
     "output_type": "execute_result"
    }
   ],
   "source": [
    "Int_f_b(3, 2, l_crval)"
   ]
  },
  {
   "cell_type": "code",
   "execution_count": 77,
   "id": "fb97c716-fb24-4e9e-a966-d42a172200ca",
   "metadata": {},
   "outputs": [
    {
     "data": {
      "text/plain": [
       "1.0"
      ]
     },
     "execution_count": 77,
     "metadata": {},
     "output_type": "execute_result"
    }
   ],
   "source": [
    "Int_f_chi(2, 2, l_crval)"
   ]
  },
  {
   "cell_type": "markdown",
   "id": "4a4feef0-438b-40bf-84d4-0d5d4b41cb26",
   "metadata": {},
   "source": [
    "## test: normalization factor\n",
    "\n",
    "Integral of $f_b(r)$ is not returning 1 for small radii ($r \\lesssim 0.01$ kpc). From what I can tell, these are values for which the normalization factor is negative."
   ]
  },
  {
   "cell_type": "code",
   "execution_count": 78,
   "id": "a8eb2a39-7fc8-4df1-b4b6-3f8b15e6b5f8",
   "metadata": {},
   "outputs": [
    {
     "data": {
      "image/png": "[encoded data removed]",
      "text/plain": [
       "<Figure size 576x432 with 1 Axes>"
      ]
     },
     "metadata": {
      "needs_background": "light"
     },
     "output_type": "display_data"
    }
   ],
   "source": [
    "# plotting baryon distribution function f_b(v_b) with escape velocities for various radii\n",
    "plt.figure(figsize=(8, 6))\n",
    "VBAR = vbar\n",
    "sigma_b = vDispersion(1)[0] # use any radius, since sigma_b is currently not a function of r\n",
    "vees = np.linspace(0, 300, 300)\n",
    "plt.xlim(vees[0], vees[-1])\n",
    "plt.xlabel('Baryon velocity [km/s]', fontsize=14)\n",
    "plt.ylabel('Baryon distribution function', fontsize=14)\n",
    "plt.axvline(v_esc(0.01), label=r\"$r = 0.01$ kpc\", color='red')\n",
    "plt.axvline(v_esc(0.012), label=r\"$r = 0.012$ kpc\", color='green')\n",
    "plt.axvline(v_esc(0.015), label=r\"$r = 0.015$ kpc\", color='blue')\n",
    "plt.plot(vees, (2*np.pi * sigma_b**2)**(-3/2) * vees**2 * np.exp(-(vees - VBAR)**2 / (2 * sigma_b**2)), color='black')\n",
    "legend = plt.legend(loc=2)\n",
    "legend.set_title(r'escape velocity')"
   ]
  },
  {
   "cell_type": "code",
   "execution_count": 145,
   "id": "d6126fab-f113-411d-99c7-3e8971344df8",
   "metadata": {},
   "outputs": [
    {
     "data": {
      "text/plain": [
       "[<matplotlib.lines.Line2D at 0x283c1dd20>]"
      ]
     },
     "execution_count": 145,
     "metadata": {},
     "output_type": "execute_result"
    },
    {
     "data": {
      "image/png": "[encoded data removed]",
      "text/plain": [
       "<Figure size 576x432 with 2 Axes>"
      ]
     },
     "metadata": {
      "needs_background": "light"
     },
     "output_type": "display_data"
    }
   ],
   "source": [
    "arrs = np.linspace(0.001,0.03, 300)\n",
    "norms = list(map(lambda arr: norm_N(vbar, v_esc(arr), sigma_b), arrs))\n",
    "Int_fs = list(map(lambda arr: Int_f_b(arr, 0, 0.25), arrs))\n",
    "\n",
    "fig, ax1 = plt.subplots(figsize = (8, 6))\n",
    "ax2 = ax1.twinx()  # instantiate a second axes that shares the same x-axis\n",
    "ax1.set_xlabel(r'Radius [kpc]', fontsize = 16)\n",
    "ax1.set_ylabel(r'Normalization factor', fontsize = 16, color='red')\n",
    "ax2.set_ylabel(r'Distribution function', fontsize = 16)  # we already handled the x-label with ax1\n",
    "ax2.set_xlim(arrs[0], arrs[-1])\n",
    "ax1.plot(arrs, np.zeros(len(arrs)), color='grey')\n",
    "ax1.plot(arrs, norms, label=\"Normalization\".format(bb, ll), color='red')\n",
    "ax2.plot(arrs, Int_fs, label = 'Distribution function', color='black')\n",
    "ax1.plot(arrs, np.ones(len(arrs)), color='grey')\n",
    "# ax1.legend()\n",
    "# fig.tight_layout()  # otherwise the right y-label is slightly clipped\n",
    "# plt.title('baryon density as function of line of sight', fontsize = 24);"
   ]
  },
  {
   "cell_type": "code",
   "execution_count": 146,
   "id": "fe5ffc45-3e20-4e99-9eae-83d437029c05",
   "metadata": {},
   "outputs": [
    {
     "data": {
      "image/png": "[encoded data removed]",
      "text/plain": [
       "<Figure size 576x432 with 1 Axes>"
      ]
     },
     "metadata": {
      "needs_background": "light"
     },
     "output_type": "display_data"
    }
   ],
   "source": [
    "plt.figure(figsize=(8, 6))\n",
    "VBAR = vbar\n",
    "sigma_b = vDispersion(1)[0] # use any radius, since sigma_b is currently not a function of r\n",
    "vees = np.linspace(0, 300, 300)\n",
    "plt.xlim(vees[0], vees[-1])\n",
    "plt.xlabel('Baryon velocity [km/s]', fontsize=14)\n",
    "plt.ylabel('Baryon distribution function', fontsize=14)\n",
    "plt.axvline(v_esc(0.01), label=r\"$r = 0.01$ kpc\", color='red')\n",
    "plt.axvline(v_esc(0.012), label=r\"$r = 0.012$ kpc\", color='green')\n",
    "plt.axvline(v_esc(0.015), label=r\"$r = 0.015$ kpc\", color='blue')\n",
    "plt.plot(vees, (2*np.pi * sigma_b**2)**(-3/2) * vees**2 * np.exp(-(vees - VBAR)**2 / (2 * sigma_b**2)), color='black')\n",
    "legend = plt.legend(loc=2)\n",
    "legend.set_title(r'escape velocity')"
   ]
  },
  {
   "cell_type": "code",
   "execution_count": 81,
   "id": "2a960721-7b26-465c-9324-2a3d0779d691",
   "metadata": {},
   "outputs": [
    {
     "data": {
      "text/plain": [
       "[0,\n",
       " 0,\n",
       " 0,\n",
       " 1.00003533632484,\n",
       " 1.0000000000000062,\n",
       " 0.9999999999999959,\n",
       " 1.0000000000000004,\n",
       " 1.0000000000000004,\n",
       " 0.9999999999999997,\n",
       " 1.0000000000000009,\n",
       " 1.000000000000001,\n",
       " 0.9999999999999993,\n",
       " 1.0000000000000002,\n",
       " 0.9999999999999999,\n",
       " 1.0000000000000002,\n",
       " 0.9999999999999999,\n",
       " 0.9999999999999994,\n",
       " 1.0,\n",
       " 1.0000000000025482,\n",
       " 1.000000000000451,\n",
       " 1.0000000000000484,\n",
       " 1.0000000000000038,\n",
       " 1.0000000000000264,\n",
       " 1.0000000000000013,\n",
       " 1.0,\n",
       " 1.0000000000000004,\n",
       " 0.9999999999999999,\n",
       " 1.0,\n",
       " 0.9999999999999987,\n",
       " 1.0000000000000004]"
      ]
     },
     "execution_count": 81,
     "metadata": {},
     "output_type": "execute_result"
    }
   ],
   "source": [
    "Int_fs"
   ]
  },
  {
   "cell_type": "code",
   "execution_count": 82,
   "id": "c0d0b2c5-84d8-470c-854e-c79b1713e358",
   "metadata": {},
   "outputs": [
    {
     "data": {
      "text/plain": [
       "<matplotlib.legend.Legend at 0x17b49f0d0>"
      ]
     },
     "execution_count": 82,
     "metadata": {},
     "output_type": "execute_result"
    },
    {
     "data": {
      "image/png": "[encoded data removed]",
      "text/plain": [
       "<Figure size 576x432 with 1 Axes>"
      ]
     },
     "metadata": {
      "needs_background": "light"
     },
     "output_type": "display_data"
    }
   ],
   "source": [
    "arrs = np.linspace(0.01,10,30)\n",
    "VBAR = vbar\n",
    "v_escs, sigma_bs, norm_bs, Int_f_bs, Int_f_cs = [], [], [], [], []\n",
    "\n",
    "for i in arrs:\n",
    "    V_ESC = v_esc(i)\n",
    "    v_escs.append(V_ESC)\n",
    "    sigma_b = vDispersion(i)[0]\n",
    "    norm = norm_N(VBAR, V_ESC, sigma_b)\n",
    "    norm_bs.append(norm)\n",
    "    Int_f = Int_f_b(i, 0, l_crval)\n",
    "    Int_f_bs.append(Int_f)\n",
    "    Int_f_c = Int_f_chi(i, 0, l_crval)\n",
    "    Int_f_cs.append(Int_f_c)\n",
    "\n",
    "plt.figure(figsize=(8, 6))\n",
    "plt.xlim(arrs[0], arrs[-1])\n",
    "# plt.ylim(0,2); plt.yscale('log')\n",
    "plt.xlabel('Radius [kpc]', fontsize=14)\n",
    "plt.ylabel(r'Distribution function $f(v)$', fontsize=14)\n",
    "plt.plot(arrs, np.ones(len(arrs)), color='black')\n",
    "plt.plot(arrs, Int_f_bs, label=r'$f_b(r)$')\n",
    "plt.plot(arrs, Int_f_cs, label=r'$f_\\chi(r)$')\n",
    "plt.legend(fontsize=12)"
   ]
  },
  {
   "cell_type": "code",
   "execution_count": 83,
   "id": "aae3f725-fa3d-4513-9f7b-5d071b3df0f6",
   "metadata": {},
   "outputs": [
    {
     "data": {
      "text/plain": [
       "<matplotlib.legend.Legend at 0x17b55c3a0>"
      ]
     },
     "execution_count": 83,
     "metadata": {},
     "output_type": "execute_result"
    },
    {
     "data": {
      "image/png": "[encoded data removed]",
      "text/plain": [
       "<Figure size 576x432 with 1 Axes>"
      ]
     },
     "metadata": {
      "needs_background": "light"
     },
     "output_type": "display_data"
    }
   ],
   "source": [
    "arrs = np.linspace(0.01,10,30)\n",
    "VBAR = vbar\n",
    "v_escs, sigma_bs, norm_bs, Int_f_bs, Int_f_cs = [], [], [], [], []\n",
    "\n",
    "for i in arrs:\n",
    "    V_ESC = v_esc(i)\n",
    "    v_escs.append(V_ESC)\n",
    "    sigma_b = vDispersion(i)[0]\n",
    "    norm = norm_N(VBAR, V_ESC, sigma_b)\n",
    "    norm_bs.append(norm)\n",
    "    Int_f = Int_f_b(i, 0, l_crval)\n",
    "    Int_f_bs.append(Int_f)\n",
    "    Int_f_c = Int_f_chi(i, 0, l_crval)\n",
    "    Int_f_cs.append(Int_f_c)\n",
    "    \n",
    "plt.figure(figsize=(8, 6))\n",
    "plt.xlim(arrs[0], arrs[-1])\n",
    "# plt.ylim(0,2)\n",
    "# plt.yscale('log')\n",
    "plt.xlabel('Radius [kpc]', fontsize=14)\n",
    "plt.ylabel(r'Distribution function $f(v)$', fontsize=14)\n",
    "plt.plot(arrs, np.ones(len(arrs)), color='black')\n",
    "plt.plot(arrs, Int_f_bs, label=r'$f_b(r)$')\n",
    "plt.plot(arrs, Int_f_cs, label=r'$f_\\chi(r)$')\n",
    "plt.legend(fontsize=12)\n",
    "# f_bs\n"
   ]
  },
  {
   "cell_type": "code",
   "execution_count": 246,
   "id": "2bc3122b-656d-416c-a80b-2e0ab0bcd8b9",
   "metadata": {},
   "outputs": [
    {
     "data": {
      "text/plain": [
       "[<matplotlib.lines.Line2D at 0x284ac3400>]"
      ]
     },
     "execution_count": 246,
     "metadata": {},
     "output_type": "execute_result"
    },
    {
     "data": {
      "image/png": "[encoded data removed]",
      "text/plain": [
       "<Figure size 576x432 with 1 Axes>"
      ]
     },
     "metadata": {
      "needs_background": "light"
     },
     "output_type": "display_data"
    }
   ],
   "source": [
    "plt.figure(figsize=(8, 6))\n",
    "plt.xlabel('Escape velocity [km/s]', fontsize=14)\n",
    "plt.ylabel(r'Distribution function $f(v)$', fontsize=14)\n",
    "plt.xlim(v_escs[0], v_escs[-1])\n",
    "plt.plot(v_escs, Int_f_bs)\n",
    "# plt.legend(fontsize=12)\n"
   ]
  },
  {
   "cell_type": "markdown",
   "id": "f38ac7a7-dc27-49e5-960a-0d802474b6c3",
   "metadata": {},
   "source": [
    "## test: Effective baryon-DM J-factor"
   ]
  },
  {
   "cell_type": "code",
   "execution_count": 85,
   "id": "5ffe9832-0514-4985-8fa0-21e46b2c7a74",
   "metadata": {},
   "outputs": [],
   "source": [
    "def Jfactor_chi(b, l):\n",
    "    # https://arxiv.org/pdf/1012.4515.pdf\n",
    "    r_odot = R_odot # 8.33 # [kpc] pg 33\n",
    "    rho_odot = rho_s # 0.3 # [GeV/cm^3] pg 33\n",
    "\n",
    "    def f(s):\n",
    "        r = R(s, b, l)\n",
    "        rho_chi = density('C12', r, b, l)[1] # [GeV/cm^3]\n",
    "        integrand = (1/r_odot) * rho_chi / rho_odot\n",
    "        return integrand\n",
    "\n",
    "    return quad(f, 0, 10)[0] # [km^3 s^-3 MeV^-2]\n",
    "\n",
    "\n",
    "def Jfactor_b(b, l):\n",
    "    # https://arxiv.org/pdf/1012.4515.pdf\n",
    "    r_odot = R_odot # 8.33 # [kpc] pg 33\n",
    "    rho_odot = rho_s # 0.3 # [GeV/cm^3] pg 33\n",
    "\n",
    "    def f(s):\n",
    "        r = R(s, b, l)\n",
    "        rho_b = density('C12', r, b, l)[0] # [GeV/cm^3]\n",
    "        integrand = (1/r_odot) * rho_b / rho_odot\n",
    "        return integrand\n",
    "\n",
    "    return quad(f, 0, 10, limit=100)[0] # [km^3 s^-3 MeV^-2]\n",
    "\n",
    "\n",
    "def plotEffectiveJfactorDensityComponents():\n",
    "    \"\"\"\n",
    "    Plots the baryon and DM density components of the \"effective baryon-DM J-factor\" separately to see their individual behaviour.\n",
    "    \"\"\"\n",
    "    b = 0\n",
    "    plt.figure(figsize = (12, 8))\n",
    "    plt.xlabel(r'$\\psi$ [degrees]', fontsize = 16)\n",
    "    plt.ylabel(r'$J(\\psi)$', fontsize = 16)\n",
    "    plt.xlim(0, 180)\n",
    "    ells_b = np.linspace(l_crval, ls[-1], 20)\n",
    "    ells = np.linspace(l_crval, ls[-1], 100)\n",
    "    Jfactors_chi = list(map(lambda ell: Jfactor_chi(b, ell), ells))\n",
    "    Jfactors_b = list(map(lambda ell: Jfactor_b(b, ell), ells_b))\n",
    "    plt.yscale('log')\n",
    "    plt.plot(ells, Jfactors_chi, label=r'$\\chi$')\n",
    "    plt.plot(ells_b, Jfactors_b, label = r'b')\n",
    "    plt.legend(fontsize = 16)\n",
    "    plt.title('Effective baryon-DM J-factor density components', fontsize=20);\n",
    "    # plt.savefig('effectiveJ-factorDensityComponents.pdf')\n",
    "    return\n",
    "\n",
    "# plotEffectiveJfactorDensityComponents()"
   ]
  },
  {
   "cell_type": "code",
   "execution_count": 86,
   "id": "9a3eef25-428f-4abf-8fda-cfbfcde7ee1b",
   "metadata": {},
   "outputs": [],
   "source": [
    "def Jfactor_chi_b(b, l):\n",
    "    S_MAX = s_max(b, l, 2 * R_odot) # [kpc]\n",
    "    rho_chi_odot = 0.3 # [GeV/cm^3]\n",
    "    rho_b_odot = 2 # [GeV/cm^3] approximate average value chosen from baryon density plot above\n",
    "    r_odot = R_odot\n",
    "    \n",
    "    def f(s):\n",
    "        r = R(s, b, l)\n",
    "        DM_integral = Int_f_chi(s, b, l) # [unitless]\n",
    "        baryon_integral = Int_f_b(s, b, l) # [unitless]\n",
    "        rho = density('O16', r, b, l) # [GeV/cm^3]\n",
    "        rho_b, rho_chi = rho[0], rho[1] # [GeV/cm^3], [GeV/cm^3]\n",
    "        integrand = rho_chi / rho_chi_odot * DM_integral * rho_b / rho_b_odot * baryon_integral # [unitless]\n",
    "        return integrand\n",
    "    return 1/r_odot * quad(f, 0, S_MAX, limit=100)[0] # [unitless]\n",
    "\n",
    "\n",
    "def plotEffectiveJfactor():\n",
    "    \"\"\"\n",
    "    Plots an \"effective baryon-DM J factor\" of baryon densty times DM density.\n",
    "    \"\"\"\n",
    "    ells = np.linspace(l_crval, ls[-1], 100)\n",
    "    J_factor_list = []\n",
    "    for i in ells:\n",
    "        J_factor_list.append(Jfactor_chi_b(0.25, i))\n",
    "    plt.figure(figsize = (12, 8))\n",
    "    plt.xlabel(r'$\\psi$ [degrees]', fontsize = 16); plt.ylabel(r'$J(\\psi)$', fontsize = 16)\n",
    "    plt.xlim(0, 180)\n",
    "    plt.yscale('log')\n",
    "    plt.plot(ells, J_factor_list, label = r'$b \\approx 0, \\psi \\approx l$')\n",
    "    plt.title('Effective baryon-DM J-factor', fontsize=20);\n",
    "    # plt.savefig('effectiveBaryonDMJ-factor.pdf')\n",
    "    return\n",
    "\n",
    "# plotEffectiveJfactor() # takes a long time to run"
   ]
  },
  {
   "cell_type": "markdown",
   "id": "8e5b7691-a537-4263-96c4-4a108a51287b",
   "metadata": {},
   "source": [
    "## test: normalization of $dN/dE_\\gamma$"
   ]
  },
  {
   "cell_type": "code",
   "execution_count": 87,
   "id": "dab9b250-d91c-4d11-a542-19fe25136ea5",
   "metadata": {},
   "outputs": [
    {
     "data": {
      "text/plain": [
       "1.0000000000000002"
      ]
     },
     "execution_count": 87,
     "metadata": {},
     "output_type": "execute_result"
    }
   ],
   "source": [
    "def dNdE_gamma(g_chi, g_A, nucleus):\n",
    "    \"\"\"\n",
    "    returns: sum of dNdgamma weighted by their GT strengths (should equal 1)\n",
    "    **********\n",
    "    g_chi: [MeV^-1]\n",
    "    g_A: axial form factor [unitless]\n",
    "    \"\"\"\n",
    "    nuc_info = {'He4': [3758.26, 0.0], 'C12': [11274.78, 0.0], 'N14': [13153.91, 0.0], 'O16': [15033.04, 0.0]}\n",
    "    m_N, J_N = nuc_info[nucleus][0], nuc_info[nucleus][1]\n",
    "    dEs, GTs = dEs_dict[nucleus], GTs_dict[nucleus]\n",
    "    nucl_exc = zip(dEs, GTs)\n",
    "    GT_sum = np.sum(GTs)\n",
    "    dNdgamma = 0\n",
    "\n",
    "    for dE, GT in nucl_exc:\n",
    "        dNdgamma += GT / GT_sum # branching ratio, [unitless]\n",
    "\n",
    "    return dNdgamma # [cm^-2 s^-1 MeV^-1]\n",
    "\n",
    "dNdE_gamma(1, 1, 'O16')"
   ]
  },
  {
   "cell_type": "code",
   "execution_count": null,
   "id": "c6ef708a-9fb9-4a91-b5df-03320e823e5c",
   "metadata": {},
   "outputs": [],
   "source": []
  }
 ],
 "metadata": {
  "kernelspec": {
   "display_name": "Python 3 (ipykernel)",
   "language": "python",
   "name": "python3"
  },
  "language_info": {
   "codemirror_mode": {
    "name": "ipython",
    "version": 3
   },
   "file_extension": ".py",
   "mimetype": "text/x-python",
   "name": "python",
   "nbconvert_exporter": "python",
   "pygments_lexer": "ipython3",
   "version": "3.10.13"
  }
 },
 "nbformat": 4,
 "nbformat_minor": 5
}
